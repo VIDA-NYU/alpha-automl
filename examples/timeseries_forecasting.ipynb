{
 "cells": [
  {
   "cell_type": "markdown",
   "metadata": {},
   "source": [
    "## Solving Time Series Forecasting Tasks"
   ]
  },
  {
   "cell_type": "markdown",
   "metadata": {},
   "source": [
    "First, import the class `AutoMLTimeSeries`"
   ]
  },
  {
   "cell_type": "code",
   "execution_count": 1,
   "metadata": {},
   "outputs": [],
   "source": [
    "import numpy as np\n",
    "import pandas as pd\n",
    "from alpha_automl import AutoMLTimeSeries"
   ]
  },
  {
   "cell_type": "markdown",
   "metadata": {},
   "source": [
    "### Generating Pipelines for CSV Datasets"
   ]
  },
  {
   "cell_type": "markdown",
   "metadata": {},
   "source": [
    "In this example, we are generating pipelines for a CSV dataset. The [stock_market dataset](https://datasets.datadrivendiscovery.org/d3m/datasets/-/tree/master/seed_datasets_current/LL1_736_stock_market_MIN_METADATA) is used for this example."
   ]
  },
  {
   "cell_type": "code",
   "execution_count": 2,
   "metadata": {},
   "outputs": [],
   "source": [
    "output_path = 'tmp/'\n",
    "train_dataset = pd.read_csv('datasets/stock_market/train_data.csv')\n",
    "test_dataset = pd.read_csv('datasets/stock_market/test_data.csv')"
   ]
  },
  {
   "cell_type": "markdown",
   "metadata": {},
   "source": [
    "Filter out the stock we would like to predict and extract useful columns."
   ]
  },
  {
   "cell_type": "code",
   "execution_count": 3,
   "metadata": {},
   "outputs": [
    {
     "data": {
      "text/html": [
       "<div>\n",
       "<style scoped>\n",
       "    .dataframe tbody tr th:only-of-type {\n",
       "        vertical-align: middle;\n",
       "    }\n",
       "\n",
       "    .dataframe tbody tr th {\n",
       "        vertical-align: top;\n",
       "    }\n",
       "\n",
       "    .dataframe thead th {\n",
       "        text-align: right;\n",
       "    }\n",
       "</style>\n",
       "<table border=\"1\" class=\"dataframe\">\n",
       "  <thead>\n",
       "    <tr style=\"text-align: right;\">\n",
       "      <th></th>\n",
       "      <th>Date</th>\n",
       "      <th>Close</th>\n",
       "    </tr>\n",
       "  </thead>\n",
       "  <tbody>\n",
       "    <tr>\n",
       "      <th>0</th>\n",
       "      <td>1/4/1999</td>\n",
       "      <td>4.2088</td>\n",
       "    </tr>\n",
       "    <tr>\n",
       "      <th>1</th>\n",
       "      <td>1/5/1999</td>\n",
       "      <td>3.9310</td>\n",
       "    </tr>\n",
       "    <tr>\n",
       "      <th>2</th>\n",
       "      <td>1/6/1999</td>\n",
       "      <td>4.9621</td>\n",
       "    </tr>\n",
       "    <tr>\n",
       "      <th>3</th>\n",
       "      <td>1/7/1999</td>\n",
       "      <td>5.2273</td>\n",
       "    </tr>\n",
       "    <tr>\n",
       "      <th>4</th>\n",
       "      <td>1/8/1999</td>\n",
       "      <td>5.1305</td>\n",
       "    </tr>\n",
       "    <tr>\n",
       "      <th>...</th>\n",
       "      <td>...</td>\n",
       "      <td>...</td>\n",
       "    </tr>\n",
       "    <tr>\n",
       "      <th>3707</th>\n",
       "      <td>6/2/2016</td>\n",
       "      <td>24.2500</td>\n",
       "    </tr>\n",
       "    <tr>\n",
       "      <th>3708</th>\n",
       "      <td>6/3/2016</td>\n",
       "      <td>23.9800</td>\n",
       "    </tr>\n",
       "    <tr>\n",
       "      <th>3709</th>\n",
       "      <td>6/6/2016</td>\n",
       "      <td>23.9900</td>\n",
       "    </tr>\n",
       "    <tr>\n",
       "      <th>3710</th>\n",
       "      <td>6/7/2016</td>\n",
       "      <td>24.2800</td>\n",
       "    </tr>\n",
       "    <tr>\n",
       "      <th>3711</th>\n",
       "      <td>6/8/2016</td>\n",
       "      <td>24.2300</td>\n",
       "    </tr>\n",
       "  </tbody>\n",
       "</table>\n",
       "<p>3712 rows × 2 columns</p>\n",
       "</div>"
      ],
      "text/plain": [
       "          Date    Close\n",
       "0     1/4/1999   4.2088\n",
       "1     1/5/1999   3.9310\n",
       "2     1/6/1999   4.9621\n",
       "3     1/7/1999   5.2273\n",
       "4     1/8/1999   5.1305\n",
       "...        ...      ...\n",
       "3707  6/2/2016  24.2500\n",
       "3708  6/3/2016  23.9800\n",
       "3709  6/6/2016  23.9900\n",
       "3710  6/7/2016  24.2800\n",
       "3711  6/8/2016  24.2300\n",
       "\n",
       "[3712 rows x 2 columns]"
      ]
     },
     "execution_count": 3,
     "metadata": {},
     "output_type": "execute_result"
    }
   ],
   "source": [
    "stock_name = \"ebay\"\n",
    "train_data = train_dataset[train_dataset['Company'] == stock_name].reset_index(drop=True)\n",
    "test_data = test_dataset[test_dataset['Company'] == stock_name].reset_index(drop=True)\n",
    "\n",
    "X_train = train_data[[\"Date\", \"Close\"]]\n",
    "y_train = train_data[[\"Close\"]]\n",
    "X_test = test_data[[\"Date\", \"Close\"]]\n",
    "y_test = test_data[[\"Close\"]]\n",
    "\n",
    "X_train"
   ]
  },
  {
   "cell_type": "markdown",
   "metadata": {},
   "source": [
    "### Searching  Pipelines"
   ]
  },
  {
   "cell_type": "code",
   "execution_count": 4,
   "metadata": {
    "scrolled": true
   },
   "outputs": [
    {
     "name": "stdout",
     "output_type": "stream",
     "text": [
      "DEBUG:h5py._conv:Creating converter from 7 to 5\n",
      "DEBUG:h5py._conv:Creating converter from 5 to 7\n",
      "DEBUG:h5py._conv:Creating converter from 7 to 5\n",
      "DEBUG:h5py._conv:Creating converter from 5 to 7\n",
      "INFO:gluonts.mx.context:Using CPU\n",
      "INFO:lightning_fabric.utilities.seed:Global seed set to 1\n"
     ]
    },
    {
     "name": "stderr",
     "output_type": "stream",
     "text": [
      "2023-07-17 20:43:04.797659: I tensorflow/core/platform/cpu_feature_guard.cc:182] This TensorFlow binary is optimized to use available CPU instructions in performance-critical operations.\n",
      "To enable the following instructions: AVX2 FMA, in other operations, rebuild TensorFlow with the appropriate compiler flags.\n"
     ]
    },
    {
     "name": "stdout",
     "output_type": "stream",
     "text": [
      "DEBUG:tensorflow:Falling back to TensorFlow client; we recommended you install the Cloud TPU client directly with pip install cloud-tpu-client.\n"
     ]
    },
    {
     "name": "stderr",
     "output_type": "stream",
     "text": [
      "2023-07-17 20:43:05.851921: W tensorflow/compiler/tf2tensorrt/utils/py_utils.cc:38] TF-TRT Warning: Could not find TensorRT\n"
     ]
    },
    {
     "name": "stdout",
     "output_type": "stream",
     "text": [
      "DEBUG:fsspec.local:open file: /home/mjk/yfw215/alpha-automl/examples/lightning_logs/version_32/hparams.yaml\n"
     ]
    },
    {
     "data": {
      "application/vnd.jupyter.widget-view+json": {
       "model_id": "",
       "version_major": 2,
       "version_minor": 0
      },
      "text/plain": [
       "Sanity Checking: 0it [00:00, ?it/s]"
      ]
     },
     "metadata": {},
     "output_type": "display_data"
    },
    {
     "data": {
      "application/vnd.jupyter.widget-view+json": {
       "model_id": "bfa6e197a86947f6a4968a5aef7c6fab",
       "version_major": 2,
       "version_minor": 0
      },
      "text/plain": [
       "Training: 0it [00:00, ?it/s]"
      ]
     },
     "metadata": {},
     "output_type": "display_data"
    },
    {
     "name": "stdout",
     "output_type": "stream",
     "text": [
      "DEBUG:fsspec.local:open file: /home/mjk/yfw215/alpha-automl/examples/lightning_logs/version_33/hparams.yaml\n"
     ]
    },
    {
     "data": {
      "application/vnd.jupyter.widget-view+json": {
       "model_id": "fde3a16bef834d2f98abd4c4987a3900",
       "version_major": 2,
       "version_minor": 0
      },
      "text/plain": [
       "Predicting: 0it [00:00, ?it/s]"
      ]
     },
     "metadata": {},
     "output_type": "display_data"
    },
    {
     "name": "stdout",
     "output_type": "stream",
     "text": [
      "INFO:alpha_automl.builtin_primitives.time_series_forecasting:Estimated differencing term: 0\n",
      "Performing stepwise search to minimize aic\n",
      "DEBUG:h5py._conv:Creating converter from 7 to 5\n",
      "DEBUG:h5py._conv:Creating converter from 5 to 7\n",
      "DEBUG:h5py._conv:Creating converter from 7 to 5\n",
      "DEBUG:h5py._conv:Creating converter from 5 to 7\n",
      " ARIMA(2,0,2)(0,0,0)[0]             : AIC=inf, Time=0.91 sec\n",
      " ARIMA(0,0,0)(0,0,0)[0]             : AIC=12851.608, Time=0.04 sec\n",
      " ARIMA(1,0,0)(0,0,0)[0]             : AIC=10679.016, Time=0.04 sec\n",
      " ARIMA(0,0,1)(0,0,0)[0]             : AIC=11904.385, Time=0.14 sec\n",
      " ARIMA(2,0,0)(0,0,0)[0]             : AIC=10343.795, Time=0.07 sec\n",
      "INFO:gluonts.mx.context:Using CPU\n",
      " ARIMA(3,0,0)(0,0,0)[0]             : AIC=10172.739, Time=0.22 sec\n",
      " ARIMA(4,0,0)(0,0,0)[0]             : AIC=10093.223, Time=0.16 sec\n",
      " ARIMA(5,0,0)(0,0,0)[0]             : AIC=inf, Time=0.52 sec\n",
      " ARIMA(4,0,1)(0,0,0)[0]             : AIC=inf, Time=1.20 sec\n",
      "INFO:alpha_automl.automl_api:Found pipeline, time=0:00:11, scoring...\n",
      "INFO:lightning_fabric.utilities.seed:Global seed set to 1\n"
     ]
    },
    {
     "name": "stderr",
     "output_type": "stream",
     "text": [
      "2023-07-17 20:43:13.415891: I tensorflow/core/platform/cpu_feature_guard.cc:182] This TensorFlow binary is optimized to use available CPU instructions in performance-critical operations.\n",
      "To enable the following instructions: AVX2 FMA, in other operations, rebuild TensorFlow with the appropriate compiler flags.\n"
     ]
    },
    {
     "name": "stdout",
     "output_type": "stream",
     "text": [
      " ARIMA(3,0,1)(0,0,0)[0]             : AIC=inf, Time=1.22 sec\n",
      "DEBUG:tensorflow:Falling back to TensorFlow client; we recommended you install the Cloud TPU client directly with pip install cloud-tpu-client.\n"
     ]
    },
    {
     "name": "stderr",
     "output_type": "stream",
     "text": [
      "2023-07-17 20:43:15.048283: W tensorflow/compiler/tf2tensorrt/utils/py_utils.cc:38] TF-TRT Warning: Could not find TensorRT\n"
     ]
    },
    {
     "name": "stdout",
     "output_type": "stream",
     "text": [
      " ARIMA(5,0,1)(0,0,0)[0]             : AIC=inf, Time=1.74 sec\n",
      " ARIMA(4,0,0)(0,0,0)[0] intercept   : AIC=9756.105, Time=0.28 sec\n",
      "DEBUG:fsspec.local:open file: /home/mjk/yfw215/alpha-automl/examples/lightning_logs/version_34/hparams.yaml\n"
     ]
    },
    {
     "data": {
      "application/vnd.jupyter.widget-view+json": {
       "model_id": "",
       "version_major": 2,
       "version_minor": 0
      },
      "text/plain": [
       "Sanity Checking: 0it [00:00, ?it/s]"
      ]
     },
     "metadata": {},
     "output_type": "display_data"
    },
    {
     "data": {
      "application/vnd.jupyter.widget-view+json": {
       "model_id": "ee2100f6cd8b43e78a540024194ce3f3",
       "version_major": 2,
       "version_minor": 0
      },
      "text/plain": [
       "Training: 0it [00:00, ?it/s]"
      ]
     },
     "metadata": {},
     "output_type": "display_data"
    },
    {
     "name": "stdout",
     "output_type": "stream",
     "text": [
      " ARIMA(3,0,0)(0,0,0)[0] intercept   : AIC=9754.537, Time=0.44 sec\n",
      " ARIMA(2,0,0)(0,0,0)[0] intercept   : AIC=9752.613, Time=0.21 sec\n",
      " ARIMA(1,0,0)(0,0,0)[0] intercept   : AIC=9751.424, Time=0.10 sec\n",
      " ARIMA(0,0,0)(0,0,0)[0] intercept   : AIC=9749.576, Time=0.04 sec\n",
      " ARIMA(0,0,1)(0,0,0)[0] intercept   : AIC=9751.416, Time=0.20 sec\n",
      " ARIMA(1,0,1)(0,0,0)[0] intercept   : AIC=9753.411, Time=0.20 sec\n",
      "\n",
      "Best model:  ARIMA(0,0,0)(0,0,0)[0] intercept\n",
      "Total fit time: 7.894 seconds\n",
      "INFO:alpha_automl.builtin_primitives.time_series_forecasting:Making predictions for ARIMA model order: (0, 0, 0)\n"
     ]
    },
    {
     "name": "stderr",
     "output_type": "stream",
     "text": [
      "/home/mjk/yfw215/time_series/lib/python3.10/site-packages/statsmodels/tsa/base/tsa_model.py:836: ValueWarning: No supported index is available. Prediction results will be given with an integer index beginning at `start`.\n",
      "  return get_prediction_index(\n"
     ]
    },
    {
     "name": "stdout",
     "output_type": "stream",
     "text": [
      "INFO:gluonts.trainer:Start model training\n",
      "INFO:gluonts.trainer:Epoch[0] Learning rate is 0.001\n"
     ]
    },
    {
     "name": "stderr",
     "output_type": "stream",
     "text": [
      "  0%|                                                                                          | 0/50 [00:00<?, ?it/s]"
     ]
    },
    {
     "name": "stdout",
     "output_type": "stream",
     "text": [
      "INFO:gluonts.trainer:Number of parameters in DeepARTrainingNetwork: 25884\n",
      "DEBUG:fsspec.local:open file: /home/mjk/yfw215/alpha-automl/examples/lightning_logs/version_35/hparams.yaml\n"
     ]
    },
    {
     "data": {
      "application/vnd.jupyter.widget-view+json": {
       "model_id": "649a2a349491426cb0f800e9671c33c2",
       "version_major": 2,
       "version_minor": 0
      },
      "text/plain": [
       "Predicting: 0it [00:00, ?it/s]"
      ]
     },
     "metadata": {},
     "output_type": "display_data"
    },
    {
     "name": "stdout",
     "output_type": "stream",
     "text": [
      "INFO:lightning_fabric.utilities.seed:Global seed set to 1\n",
      "DEBUG:fsspec.local:open file: /home/mjk/yfw215/alpha-automl/examples/lightning_logs/version_36/hparams.yaml\n"
     ]
    },
    {
     "data": {
      "application/vnd.jupyter.widget-view+json": {
       "model_id": "",
       "version_major": 2,
       "version_minor": 0
      },
      "text/plain": [
       "Sanity Checking: 0it [00:00, ?it/s]"
      ]
     },
     "metadata": {},
     "output_type": "display_data"
    },
    {
     "data": {
      "application/vnd.jupyter.widget-view+json": {
       "model_id": "747634be5af94cffa25f68c80a25319b",
       "version_major": 2,
       "version_minor": 0
      },
      "text/plain": [
       "Training: 0it [00:00, ?it/s]"
      ]
     },
     "metadata": {},
     "output_type": "display_data"
    },
    {
     "name": "stderr",
     "output_type": "stream",
     "text": [
      "100%|█████████████████████████████████████████████████| 50/50 [00:05<00:00,  8.88it/s, epoch=1/5, avg_epoch_loss=3.59]\n"
     ]
    },
    {
     "name": "stdout",
     "output_type": "stream",
     "text": [
      "INFO:gluonts.trainer:Epoch[0] Elapsed time 5.646 seconds\n",
      "INFO:gluonts.trainer:Epoch[0] Evaluation metric 'epoch_loss'=3.586218\n",
      "INFO:gluonts.trainer:Epoch[1] Learning rate is 0.001\n"
     ]
    },
    {
     "name": "stderr",
     "output_type": "stream",
     "text": [
      "100%|█████████████████████████████████████████████████| 50/50 [00:06<00:00,  8.26it/s, epoch=2/5, avg_epoch_loss=3.35]\n"
     ]
    },
    {
     "name": "stdout",
     "output_type": "stream",
     "text": [
      "INFO:gluonts.trainer:Epoch[1] Elapsed time 6.063 seconds\n",
      "INFO:gluonts.trainer:Epoch[1] Evaluation metric 'epoch_loss'=3.350388\n",
      "INFO:gluonts.trainer:Epoch[2] Learning rate is 0.001\n"
     ]
    },
    {
     "name": "stderr",
     "output_type": "stream",
     "text": [
      "  0%|                                                                                          | 0/50 [00:00<?, ?it/s]"
     ]
    },
    {
     "name": "stdout",
     "output_type": "stream",
     "text": [
      "DEBUG:fsspec.local:open file: /home/mjk/yfw215/alpha-automl/examples/lightning_logs/version_37/hparams.yaml\n"
     ]
    },
    {
     "data": {
      "application/vnd.jupyter.widget-view+json": {
       "model_id": "d93b905c6bcd407989ff02f299d794a2",
       "version_major": 2,
       "version_minor": 0
      },
      "text/plain": [
       "Predicting: 0it [00:00, ?it/s]"
      ]
     },
     "metadata": {},
     "output_type": "display_data"
    },
    {
     "name": "stdout",
     "output_type": "stream",
     "text": [
      "INFO:lightning_fabric.utilities.seed:Global seed set to 1\n",
      "DEBUG:fsspec.local:open file: /home/mjk/yfw215/alpha-automl/examples/lightning_logs/version_38/hparams.yaml\n"
     ]
    },
    {
     "data": {
      "application/vnd.jupyter.widget-view+json": {
       "model_id": "",
       "version_major": 2,
       "version_minor": 0
      },
      "text/plain": [
       "Sanity Checking: 0it [00:00, ?it/s]"
      ]
     },
     "metadata": {},
     "output_type": "display_data"
    },
    {
     "data": {
      "application/vnd.jupyter.widget-view+json": {
       "model_id": "90ab953e2ad64a1bad9e4cb071bc46d3",
       "version_major": 2,
       "version_minor": 0
      },
      "text/plain": [
       "Training: 0it [00:00, ?it/s]"
      ]
     },
     "metadata": {},
     "output_type": "display_data"
    },
    {
     "name": "stderr",
     "output_type": "stream",
     "text": [
      "100%|██████████████████████████████████████████████████| 50/50 [00:05<00:00,  8.69it/s, epoch=3/5, avg_epoch_loss=3.3]\n"
     ]
    },
    {
     "name": "stdout",
     "output_type": "stream",
     "text": [
      "INFO:gluonts.trainer:Epoch[2] Elapsed time 5.764 seconds\n",
      "INFO:gluonts.trainer:Epoch[2] Evaluation metric 'epoch_loss'=3.304204\n",
      "INFO:gluonts.trainer:Epoch[3] Learning rate is 0.001\n"
     ]
    },
    {
     "name": "stderr",
     "output_type": "stream",
     "text": [
      "  0%|                                                                                          | 0/50 [00:00<?, ?it/s]"
     ]
    },
    {
     "name": "stdout",
     "output_type": "stream",
     "text": [
      "DEBUG:fsspec.local:open file: /home/mjk/yfw215/alpha-automl/examples/lightning_logs/version_39/hparams.yaml\n"
     ]
    },
    {
     "data": {
      "application/vnd.jupyter.widget-view+json": {
       "model_id": "56645bc54fa34d56a41ebfaea505004a",
       "version_major": 2,
       "version_minor": 0
      },
      "text/plain": [
       "Predicting: 0it [00:00, ?it/s]"
      ]
     },
     "metadata": {},
     "output_type": "display_data"
    },
    {
     "name": "stdout",
     "output_type": "stream",
     "text": [
      "INFO:alpha_automl.automl_api:Scored pipeline, score=1.8417488546486631\n",
      "INFO:alpha_automl.automl_api:Found pipeline, time=0:00:34, scoring...\n",
      "INFO:alpha_automl.builtin_primitives.time_series_forecasting:Estimated differencing term: 1\n",
      "Performing stepwise search to minimize aic\n",
      " ARIMA(2,1,2)(0,0,0)[0] intercept   : AIC=2988.080, Time=1.89 sec\n",
      " ARIMA(0,1,0)(0,0,0)[0] intercept   : AIC=2994.920, Time=0.31 sec\n",
      " ARIMA(1,1,0)(0,0,0)[0] intercept   : AIC=2986.406, Time=0.25 sec\n",
      " ARIMA(0,1,1)(0,0,0)[0] intercept   : AIC=2985.674, Time=0.39 sec\n",
      " ARIMA(0,1,0)(0,0,0)[0]             : AIC=2993.751, Time=0.16 sec\n"
     ]
    },
    {
     "name": "stderr",
     "output_type": "stream",
     "text": [
      "100%|█████████████████████████████████████████████████| 50/50 [00:04<00:00, 10.03it/s, epoch=4/5, avg_epoch_loss=3.27]\n"
     ]
    },
    {
     "name": "stdout",
     "output_type": "stream",
     "text": [
      "INFO:gluonts.trainer:Epoch[3] Elapsed time 4.999 seconds\n",
      "INFO:gluonts.trainer:Epoch[3] Evaluation metric 'epoch_loss'=3.268679\n",
      "INFO:gluonts.trainer:Epoch[4] Learning rate is 0.001\n"
     ]
    },
    {
     "name": "stderr",
     "output_type": "stream",
     "text": [
      "  0%|                                                                                          | 0/50 [00:00<?, ?it/s]"
     ]
    },
    {
     "name": "stdout",
     "output_type": "stream",
     "text": [
      " ARIMA(1,1,1)(0,0,0)[0] intercept   : AIC=2984.321, Time=0.63 sec\n",
      " ARIMA(2,1,1)(0,0,0)[0] intercept   : AIC=2986.081, Time=0.72 sec\n",
      " ARIMA(1,1,2)(0,0,0)[0] intercept   : AIC=2986.080, Time=1.79 sec\n",
      " ARIMA(0,1,2)(0,0,0)[0] intercept   : AIC=2984.156, Time=1.42 sec\n"
     ]
    },
    {
     "name": "stderr",
     "output_type": "stream",
     "text": [
      "100%|█████████████████████████████████████████████████| 50/50 [00:04<00:00, 10.72it/s, epoch=5/5, avg_epoch_loss=3.24]"
     ]
    },
    {
     "name": "stdout",
     "output_type": "stream",
     "text": [
      "INFO:root:Loading averaged parameters.\n"
     ]
    },
    {
     "name": "stderr",
     "output_type": "stream",
     "text": [
      "\n"
     ]
    },
    {
     "name": "stdout",
     "output_type": "stream",
     "text": [
      "INFO:gluonts.trainer:Epoch[4] Elapsed time 4.670 seconds\n",
      "INFO:gluonts.trainer:Epoch[4] Evaluation metric 'epoch_loss'=3.243720\n",
      "INFO:root:Computing averaged parameters.\n",
      "INFO:gluonts.trainer:End model training\n",
      "INFO:lightning_fabric.utilities.seed:Global seed set to 1\n",
      "DEBUG:fsspec.local:open file: /home/mjk/yfw215/alpha-automl/examples/lightning_logs/version_40/hparams.yaml\n",
      " ARIMA(0,1,3)(0,0,0)[0] intercept   : AIC=2986.049, Time=0.81 sec\n"
     ]
    },
    {
     "data": {
      "application/vnd.jupyter.widget-view+json": {
       "model_id": "",
       "version_major": 2,
       "version_minor": 0
      },
      "text/plain": [
       "Sanity Checking: 0it [00:00, ?it/s]"
      ]
     },
     "metadata": {},
     "output_type": "display_data"
    },
    {
     "data": {
      "application/vnd.jupyter.widget-view+json": {
       "model_id": "72865f860d234aad9d3868baf8d95a21",
       "version_major": 2,
       "version_minor": 0
      },
      "text/plain": [
       "Training: 0it [00:00, ?it/s]"
      ]
     },
     "metadata": {},
     "output_type": "display_data"
    },
    {
     "name": "stdout",
     "output_type": "stream",
     "text": [
      " ARIMA(1,1,3)(0,0,0)[0] intercept   : AIC=2985.391, Time=3.00 sec\n",
      " ARIMA(0,1,2)(0,0,0)[0]             : AIC=2983.150, Time=0.35 sec\n",
      " ARIMA(0,1,1)(0,0,0)[0]             : AIC=2984.611, Time=0.22 sec\n",
      " ARIMA(1,1,2)(0,0,0)[0]             : AIC=2985.084, Time=0.64 sec\n",
      " ARIMA(0,1,3)(0,0,0)[0]             : AIC=2985.054, Time=0.42 sec\n",
      " ARIMA(1,1,1)(0,0,0)[0]             : AIC=2983.335, Time=0.86 sec\n",
      "DEBUG:fsspec.local:open file: /home/mjk/yfw215/alpha-automl/examples/lightning_logs/version_41/hparams.yaml\n"
     ]
    },
    {
     "data": {
      "application/vnd.jupyter.widget-view+json": {
       "model_id": "6f5598a0c3bf440a8a2ed2d8e612896f",
       "version_major": 2,
       "version_minor": 0
      },
      "text/plain": [
       "Predicting: 0it [00:00, ?it/s]"
      ]
     },
     "metadata": {},
     "output_type": "display_data"
    },
    {
     "name": "stdout",
     "output_type": "stream",
     "text": [
      " ARIMA(1,1,3)(0,0,0)[0]             : AIC=2984.403, Time=1.10 sec\n",
      "\n",
      "Best model:  ARIMA(0,1,2)(0,0,0)[0]          \n",
      "Total fit time: 14.992 seconds\n",
      "INFO:alpha_automl.builtin_primitives.time_series_forecasting:Making predictions for ARIMA model order: (0, 1, 2)\n",
      "INFO:alpha_automl.builtin_primitives.time_series_forecasting:Estimated differencing term: 1\n",
      "Performing stepwise search to minimize aic\n",
      " ARIMA(2,1,2)(0,0,0)[0] intercept   : AIC=3014.117, Time=1.79 sec\n",
      " ARIMA(0,1,0)(0,0,0)[0] intercept   : AIC=3022.274, Time=0.33 sec\n",
      " ARIMA(1,1,0)(0,0,0)[0] intercept   : AIC=3012.814, Time=0.25 sec\n",
      " ARIMA(0,1,1)(0,0,0)[0] intercept   : AIC=3011.986, Time=0.34 sec\n",
      " ARIMA(0,1,0)(0,0,0)[0]             : AIC=3021.109, Time=0.11 sec\n",
      " ARIMA(1,1,1)(0,0,0)[0] intercept   : AIC=3010.337, Time=0.36 sec\n",
      " ARIMA(2,1,1)(0,0,0)[0] intercept   : AIC=3012.103, Time=0.51 sec\n",
      " ARIMA(1,1,2)(0,0,0)[0] intercept   : AIC=3012.099, Time=1.47 sec\n",
      " ARIMA(0,1,2)(0,0,0)[0] intercept   : AIC=3010.200, Time=0.89 sec\n",
      " ARIMA(0,1,3)(0,0,0)[0] intercept   : AIC=3012.066, Time=0.62 sec\n",
      " ARIMA(1,1,3)(0,0,0)[0] intercept   : AIC=3011.487, Time=2.16 sec\n",
      " ARIMA(0,1,2)(0,0,0)[0]             : AIC=3009.208, Time=0.23 sec\n",
      " ARIMA(0,1,1)(0,0,0)[0]             : AIC=3010.933, Time=0.14 sec\n",
      " ARIMA(1,1,2)(0,0,0)[0]             : AIC=3011.119, Time=0.77 sec\n",
      " ARIMA(0,1,3)(0,0,0)[0]             : AIC=3011.086, Time=0.30 sec\n",
      " ARIMA(1,1,1)(0,0,0)[0]             : AIC=3009.380, Time=0.19 sec\n",
      " ARIMA(1,1,3)(0,0,0)[0]             : AIC=3010.511, Time=0.92 sec\n",
      "\n",
      "Best model:  ARIMA(0,1,2)(0,0,0)[0]          \n",
      "Total fit time: 11.378 seconds\n",
      "INFO:alpha_automl.builtin_primitives.time_series_forecasting:Making predictions for ARIMA model order: (0, 1, 2)\n",
      "INFO:alpha_automl.builtin_primitives.time_series_forecasting:Estimated differencing term: 1\n",
      "Performing stepwise search to minimize aic\n",
      " ARIMA(2,1,2)(0,0,0)[0] intercept   : AIC=3033.115, Time=2.41 sec\n",
      " ARIMA(0,1,0)(0,0,0)[0] intercept   : AIC=3041.548, Time=0.27 sec\n",
      " ARIMA(1,1,0)(0,0,0)[0] intercept   : AIC=3032.081, Time=0.32 sec\n",
      " ARIMA(0,1,1)(0,0,0)[0] intercept   : AIC=3031.236, Time=0.46 sec\n",
      " ARIMA(0,1,0)(0,0,0)[0]             : AIC=3040.357, Time=0.17 sec\n",
      " ARIMA(1,1,1)(0,0,0)[0] intercept   : AIC=3029.296, Time=0.58 sec\n",
      " ARIMA(2,1,1)(0,0,0)[0] intercept   : AIC=3031.137, Time=0.48 sec\n",
      " ARIMA(1,1,2)(0,0,0)[0] intercept   : AIC=3031.121, Time=1.83 sec\n",
      " ARIMA(0,1,2)(0,0,0)[0] intercept   : AIC=3029.248, Time=1.07 sec\n",
      " ARIMA(0,1,3)(0,0,0)[0] intercept   : AIC=3031.104, Time=0.77 sec\n",
      " ARIMA(1,1,3)(0,0,0)[0] intercept   : AIC=3030.724, Time=3.13 sec\n",
      " ARIMA(0,1,2)(0,0,0)[0]             : AIC=3028.227, Time=0.26 sec\n",
      " ARIMA(0,1,1)(0,0,0)[0]             : AIC=3030.154, Time=0.19 sec\n",
      " ARIMA(1,1,2)(0,0,0)[0]             : AIC=3030.115, Time=0.48 sec\n",
      " ARIMA(0,1,3)(0,0,0)[0]             : AIC=3030.095, Time=0.33 sec\n",
      " ARIMA(1,1,1)(0,0,0)[0]             : AIC=3028.313, Time=0.23 sec\n",
      " ARIMA(1,1,3)(0,0,0)[0]             : AIC=3029.719, Time=1.10 sec\n",
      "\n",
      "Best model:  ARIMA(0,1,2)(0,0,0)[0]          \n",
      "Total fit time: 14.085 seconds\n",
      "INFO:alpha_automl.builtin_primitives.time_series_forecasting:Making predictions for ARIMA model order: (0, 1, 2)\n",
      "INFO:alpha_automl.automl_api:Scored pipeline, score=0.1915359182681811\n",
      "INFO:alpha_automl.automl_api:Found pipeline, time=0:01:15, scoring...\n",
      "INFO:gluonts.trainer:Start model training\n",
      "INFO:gluonts.trainer:Epoch[0] Learning rate is 0.001\n"
     ]
    },
    {
     "name": "stderr",
     "output_type": "stream",
     "text": [
      "  0%|                                                                                          | 0/50 [00:00<?, ?it/s]"
     ]
    },
    {
     "name": "stdout",
     "output_type": "stream",
     "text": [
      "INFO:gluonts.trainer:Number of parameters in DeepARTrainingNetwork: 25884\n"
     ]
    },
    {
     "name": "stderr",
     "output_type": "stream",
     "text": [
      "100%|█████████████████████████████████████████████████| 50/50 [00:05<00:00,  8.74it/s, epoch=1/5, avg_epoch_loss=2.27]"
     ]
    },
    {
     "name": "stdout",
     "output_type": "stream",
     "text": [
      "INFO:gluonts.trainer:Epoch[0] Elapsed time 5.723 seconds\n",
      "INFO:gluonts.trainer:Epoch[0] Evaluation metric 'epoch_loss'=2.273453\n",
      "INFO:gluonts.trainer:Epoch[1] Learning rate is 0.001\n"
     ]
    },
    {
     "name": "stderr",
     "output_type": "stream",
     "text": [
      "\n",
      "100%|█████████████████████████████████████████████████| 50/50 [00:05<00:00,  9.60it/s, epoch=2/5, avg_epoch_loss=1.13]"
     ]
    },
    {
     "name": "stdout",
     "output_type": "stream",
     "text": [
      "INFO:gluonts.trainer:Epoch[1] Elapsed time 5.210 seconds\n",
      "INFO:gluonts.trainer:Epoch[1] Evaluation metric 'epoch_loss'=1.134107\n",
      "INFO:gluonts.trainer:Epoch[2] Learning rate is 0.001\n"
     ]
    },
    {
     "name": "stderr",
     "output_type": "stream",
     "text": [
      "\n",
      "100%|█████████████████████████████████████████████████| 50/50 [00:05<00:00,  8.76it/s, epoch=3/5, avg_epoch_loss=1.06]"
     ]
    },
    {
     "name": "stdout",
     "output_type": "stream",
     "text": [
      "INFO:gluonts.trainer:Epoch[2] Elapsed time 5.707 seconds\n",
      "INFO:gluonts.trainer:Epoch[2] Evaluation metric 'epoch_loss'=1.055313\n",
      "INFO:gluonts.trainer:Epoch[3] Learning rate is 0.001\n"
     ]
    },
    {
     "name": "stderr",
     "output_type": "stream",
     "text": [
      "\n",
      "100%|████████████████████████████████████████████████| 50/50 [00:05<00:00,  9.21it/s, epoch=4/5, avg_epoch_loss=0.931]"
     ]
    },
    {
     "name": "stdout",
     "output_type": "stream",
     "text": [
      "INFO:gluonts.trainer:Epoch[3] Elapsed time 5.434 seconds\n",
      "INFO:gluonts.trainer:Epoch[3] Evaluation metric 'epoch_loss'=0.930909\n",
      "INFO:gluonts.trainer:Epoch[4] Learning rate is 0.001\n"
     ]
    },
    {
     "name": "stderr",
     "output_type": "stream",
     "text": [
      "\n",
      "100%|████████████████████████████████████████████████| 50/50 [00:04<00:00, 10.12it/s, epoch=5/5, avg_epoch_loss=0.833]"
     ]
    },
    {
     "name": "stdout",
     "output_type": "stream",
     "text": [
      "INFO:gluonts.trainer:Epoch[4] Elapsed time 4.941 seconds\n",
      "INFO:gluonts.trainer:Epoch[4] Evaluation metric 'epoch_loss'=0.833180\n",
      "INFO:root:Computing averaged parameters.\n",
      "INFO:root:Loading averaged parameters.\n",
      "INFO:gluonts.trainer:End model training\n",
      "INFO:gluonts.trainer:Start model training\n",
      "INFO:gluonts.trainer:Epoch[0] Learning rate is 0.001\n"
     ]
    },
    {
     "name": "stderr",
     "output_type": "stream",
     "text": [
      "\n",
      "  0%|                                                                                          | 0/50 [00:00<?, ?it/s]"
     ]
    },
    {
     "name": "stdout",
     "output_type": "stream",
     "text": [
      "INFO:gluonts.trainer:Number of parameters in DeepARTrainingNetwork: 25884\n"
     ]
    },
    {
     "name": "stderr",
     "output_type": "stream",
     "text": [
      "100%|█████████████████████████████████████████████████| 50/50 [00:05<00:00,  9.90it/s, epoch=1/5, avg_epoch_loss=2.41]"
     ]
    },
    {
     "name": "stdout",
     "output_type": "stream",
     "text": [
      "INFO:gluonts.trainer:Epoch[0] Elapsed time 5.055 seconds\n",
      "INFO:gluonts.trainer:Epoch[0] Evaluation metric 'epoch_loss'=2.413074\n",
      "INFO:gluonts.trainer:Epoch[1] Learning rate is 0.001\n"
     ]
    },
    {
     "name": "stderr",
     "output_type": "stream",
     "text": [
      "\n",
      "100%|█████████████████████████████████████████████████| 50/50 [00:04<00:00, 10.11it/s, epoch=2/5, avg_epoch_loss=1.05]"
     ]
    },
    {
     "name": "stdout",
     "output_type": "stream",
     "text": [
      "INFO:gluonts.trainer:Epoch[1] Elapsed time 4.949 seconds\n",
      "INFO:gluonts.trainer:Epoch[1] Evaluation metric 'epoch_loss'=1.052129\n",
      "INFO:gluonts.trainer:Epoch[2] Learning rate is 0.001\n"
     ]
    },
    {
     "name": "stderr",
     "output_type": "stream",
     "text": [
      "\n",
      "100%|████████████████████████████████████████████████| 50/50 [00:04<00:00, 10.13it/s, epoch=3/5, avg_epoch_loss=0.908]"
     ]
    },
    {
     "name": "stdout",
     "output_type": "stream",
     "text": [
      "INFO:gluonts.trainer:Epoch[2] Elapsed time 4.937 seconds\n",
      "INFO:gluonts.trainer:Epoch[2] Evaluation metric 'epoch_loss'=0.907724\n",
      "INFO:gluonts.trainer:Epoch[3] Learning rate is 0.001\n"
     ]
    },
    {
     "name": "stderr",
     "output_type": "stream",
     "text": [
      "\n",
      "100%|████████████████████████████████████████████████| 50/50 [00:04<00:00, 10.40it/s, epoch=4/5, avg_epoch_loss=0.858]"
     ]
    },
    {
     "name": "stdout",
     "output_type": "stream",
     "text": [
      "INFO:gluonts.trainer:Epoch[3] Elapsed time 4.812 seconds\n",
      "INFO:gluonts.trainer:Epoch[3] Evaluation metric 'epoch_loss'=0.857916\n",
      "INFO:gluonts.trainer:Epoch[4] Learning rate is 0.001\n"
     ]
    },
    {
     "name": "stderr",
     "output_type": "stream",
     "text": [
      "\n",
      "100%|████████████████████████████████████████████████| 50/50 [00:04<00:00, 10.12it/s, epoch=5/5, avg_epoch_loss=0.782]"
     ]
    },
    {
     "name": "stdout",
     "output_type": "stream",
     "text": [
      "INFO:gluonts.trainer:Epoch[4] Elapsed time 4.942 seconds\n",
      "INFO:gluonts.trainer:Epoch[4] Evaluation metric 'epoch_loss'=0.782311\n",
      "INFO:root:Computing averaged parameters.\n",
      "INFO:root:Loading averaged parameters.\n",
      "INFO:gluonts.trainer:End model training\n",
      "INFO:gluonts.trainer:Start model training\n",
      "INFO:gluonts.trainer:Epoch[0] Learning rate is 0.001\n"
     ]
    },
    {
     "name": "stderr",
     "output_type": "stream",
     "text": [
      "\n",
      "  0%|                                                                                          | 0/50 [00:00<?, ?it/s]"
     ]
    },
    {
     "name": "stdout",
     "output_type": "stream",
     "text": [
      "INFO:gluonts.trainer:Number of parameters in DeepARTrainingNetwork: 25884\n"
     ]
    },
    {
     "name": "stderr",
     "output_type": "stream",
     "text": [
      "100%|█████████████████████████████████████████████████| 50/50 [00:05<00:00,  9.69it/s, epoch=1/5, avg_epoch_loss=2.15]"
     ]
    },
    {
     "name": "stdout",
     "output_type": "stream",
     "text": [
      "INFO:gluonts.trainer:Epoch[0] Elapsed time 5.163 seconds\n",
      "INFO:gluonts.trainer:Epoch[0] Evaluation metric 'epoch_loss'=2.147190\n",
      "INFO:gluonts.trainer:Epoch[1] Learning rate is 0.001\n"
     ]
    },
    {
     "name": "stderr",
     "output_type": "stream",
     "text": [
      "\n",
      "100%|█████████████████████████████████████████████████| 50/50 [00:04<00:00, 10.33it/s, epoch=2/5, avg_epoch_loss=1.17]"
     ]
    },
    {
     "name": "stdout",
     "output_type": "stream",
     "text": [
      "INFO:gluonts.trainer:Epoch[1] Elapsed time 4.842 seconds\n",
      "INFO:gluonts.trainer:Epoch[1] Evaluation metric 'epoch_loss'=1.166851\n",
      "INFO:gluonts.trainer:Epoch[2] Learning rate is 0.001\n"
     ]
    },
    {
     "name": "stderr",
     "output_type": "stream",
     "text": [
      "\n",
      "100%|█████████████████████████████████████████████████| 50/50 [00:05<00:00,  9.89it/s, epoch=3/5, avg_epoch_loss=1.02]"
     ]
    },
    {
     "name": "stdout",
     "output_type": "stream",
     "text": [
      "INFO:gluonts.trainer:Epoch[2] Elapsed time 5.060 seconds\n",
      "INFO:gluonts.trainer:Epoch[2] Evaluation metric 'epoch_loss'=1.024162\n",
      "INFO:gluonts.trainer:Epoch[3] Learning rate is 0.001\n"
     ]
    },
    {
     "name": "stderr",
     "output_type": "stream",
     "text": [
      "\n",
      "100%|████████████████████████████████████████████████| 50/50 [00:05<00:00,  9.50it/s, epoch=4/5, avg_epoch_loss=0.927]"
     ]
    },
    {
     "name": "stdout",
     "output_type": "stream",
     "text": [
      "INFO:gluonts.trainer:Epoch[3] Elapsed time 5.268 seconds\n",
      "INFO:gluonts.trainer:Epoch[3] Evaluation metric 'epoch_loss'=0.927346\n",
      "INFO:gluonts.trainer:Epoch[4] Learning rate is 0.001\n"
     ]
    },
    {
     "name": "stderr",
     "output_type": "stream",
     "text": [
      "\n",
      "100%|████████████████████████████████████████████████| 50/50 [00:05<00:00,  9.78it/s, epoch=5/5, avg_epoch_loss=0.777]"
     ]
    },
    {
     "name": "stdout",
     "output_type": "stream",
     "text": [
      "INFO:gluonts.trainer:Epoch[4] Elapsed time 5.117 seconds\n",
      "INFO:gluonts.trainer:Epoch[4] Evaluation metric 'epoch_loss'=0.776880\n",
      "INFO:root:Computing averaged parameters.\n",
      "INFO:root:Loading averaged parameters.\n",
      "INFO:gluonts.trainer:End model training\n",
      "INFO:alpha_automl.automl_api:Scored pipeline, score=2.8773987019881787e-13\n",
      "INFO:alpha_automl.automl_api:Found pipeline, time=0:02:33, scoring...\n",
      "INFO:lightning_fabric.utilities.seed:Global seed set to 1\n"
     ]
    },
    {
     "name": "stderr",
     "output_type": "stream",
     "text": [
      "\n"
     ]
    },
    {
     "name": "stdout",
     "output_type": "stream",
     "text": [
      "DEBUG:fsspec.local:open file: /home/mjk/yfw215/alpha-automl/examples/lightning_logs/version_42/hparams.yaml\n"
     ]
    },
    {
     "data": {
      "application/vnd.jupyter.widget-view+json": {
       "model_id": "72141ba5f6974bc2afbef2026d372ddb",
       "version_major": 2,
       "version_minor": 0
      },
      "text/plain": [
       "Sanity Checking: 0it [00:00, ?it/s]"
      ]
     },
     "metadata": {},
     "output_type": "display_data"
    },
    {
     "data": {
      "application/vnd.jupyter.widget-view+json": {
       "model_id": "2fb4fdc4ec0641b4b58806e9b38710dd",
       "version_major": 2,
       "version_minor": 0
      },
      "text/plain": [
       "Training: 0it [00:00, ?it/s]"
      ]
     },
     "metadata": {},
     "output_type": "display_data"
    },
    {
     "name": "stdout",
     "output_type": "stream",
     "text": [
      "DEBUG:fsspec.local:open file: /home/mjk/yfw215/alpha-automl/examples/lightning_logs/version_43/hparams.yaml\n"
     ]
    },
    {
     "data": {
      "application/vnd.jupyter.widget-view+json": {
       "model_id": "4939fa20bd3540a7acc3b04cad6a34e5",
       "version_major": 2,
       "version_minor": 0
      },
      "text/plain": [
       "Predicting: 0it [00:00, ?it/s]"
      ]
     },
     "metadata": {},
     "output_type": "display_data"
    },
    {
     "name": "stdout",
     "output_type": "stream",
     "text": [
      "INFO:lightning_fabric.utilities.seed:Global seed set to 1\n",
      "DEBUG:fsspec.local:open file: /home/mjk/yfw215/alpha-automl/examples/lightning_logs/version_44/hparams.yaml\n"
     ]
    },
    {
     "data": {
      "application/vnd.jupyter.widget-view+json": {
       "model_id": "9894eb731096440a8841f9c180637a8e",
       "version_major": 2,
       "version_minor": 0
      },
      "text/plain": [
       "Sanity Checking: 0it [00:00, ?it/s]"
      ]
     },
     "metadata": {},
     "output_type": "display_data"
    },
    {
     "data": {
      "application/vnd.jupyter.widget-view+json": {
       "model_id": "eb1cf52faa364502a6fa98225bfc7e7d",
       "version_major": 2,
       "version_minor": 0
      },
      "text/plain": [
       "Training: 0it [00:00, ?it/s]"
      ]
     },
     "metadata": {},
     "output_type": "display_data"
    },
    {
     "name": "stdout",
     "output_type": "stream",
     "text": [
      "DEBUG:fsspec.local:open file: /home/mjk/yfw215/alpha-automl/examples/lightning_logs/version_45/hparams.yaml\n"
     ]
    },
    {
     "data": {
      "application/vnd.jupyter.widget-view+json": {
       "model_id": "07ccfbec6fcf4260a5bc38de400d28ca",
       "version_major": 2,
       "version_minor": 0
      },
      "text/plain": [
       "Predicting: 0it [00:00, ?it/s]"
      ]
     },
     "metadata": {},
     "output_type": "display_data"
    },
    {
     "name": "stdout",
     "output_type": "stream",
     "text": [
      "INFO:lightning_fabric.utilities.seed:Global seed set to 1\n",
      "DEBUG:fsspec.local:open file: /home/mjk/yfw215/alpha-automl/examples/lightning_logs/version_46/hparams.yaml\n"
     ]
    },
    {
     "data": {
      "application/vnd.jupyter.widget-view+json": {
       "model_id": "529686632dcc4728a3c571a3b48ea8d1",
       "version_major": 2,
       "version_minor": 0
      },
      "text/plain": [
       "Sanity Checking: 0it [00:00, ?it/s]"
      ]
     },
     "metadata": {},
     "output_type": "display_data"
    },
    {
     "data": {
      "application/vnd.jupyter.widget-view+json": {
       "model_id": "d78cd92da28c4ba3ac70a5aeb5f151ed",
       "version_major": 2,
       "version_minor": 0
      },
      "text/plain": [
       "Training: 0it [00:00, ?it/s]"
      ]
     },
     "metadata": {},
     "output_type": "display_data"
    },
    {
     "name": "stdout",
     "output_type": "stream",
     "text": [
      "DEBUG:fsspec.local:open file: /home/mjk/yfw215/alpha-automl/examples/lightning_logs/version_47/hparams.yaml\n"
     ]
    },
    {
     "data": {
      "application/vnd.jupyter.widget-view+json": {
       "model_id": "98511f3d787341e7bbcf543e86154188",
       "version_major": 2,
       "version_minor": 0
      },
      "text/plain": [
       "Predicting: 0it [00:00, ?it/s]"
      ]
     },
     "metadata": {},
     "output_type": "display_data"
    },
    {
     "name": "stdout",
     "output_type": "stream",
     "text": [
      "INFO:alpha_automl.automl_api:Scored pipeline, score=33.23827475793155\n",
      "INFO:alpha_automl.automl_api:Found pipeline, time=0:03:17, scoring...\n",
      "INFO:alpha_automl.automl_api:Scored pipeline, score=278.70205879\n",
      "INFO:alpha_automl.automl_api:Found pipeline, time=0:03:17, scoring...\n",
      "INFO:alpha_automl.automl_api:Scored pipeline, score=111.94660047606054\n",
      "INFO:alpha_automl.automl_api:Found pipeline, time=0:03:17, scoring...\n",
      "INFO:alpha_automl.automl_api:Found pipeline, time=0:03:17, scoring...\n",
      "INFO:alpha_automl.automl_api:Scored pipeline, score=46.564223670636814\n",
      "INFO:alpha_automl.automl_api:Found pipeline, time=0:03:18, scoring...\n",
      "INFO:alpha_automl.automl_api:Scored pipeline, score=5.427991170131815\n",
      "INFO:alpha_automl.automl_api:Found pipeline, time=0:03:18, scoring...\n",
      "INFO:alpha_automl.automl_api:Scored pipeline, score=113.2881781099987\n",
      "INFO:alpha_automl.automl_api:Found pipeline, time=0:03:18, scoring...\n",
      "INFO:alpha_automl.automl_api:Scored pipeline, score=111.95096799916244\n",
      "INFO:alpha_automl.automl_api:Found pipeline, time=0:03:18, scoring...\n",
      "INFO:alpha_automl.automl_api:Scored pipeline, score=278.70205879\n",
      "INFO:alpha_automl.automl_api:Found pipeline, time=0:03:18, scoring...\n",
      "INFO:alpha_automl.automl_api:Scored pipeline, score=271.68363738157285\n",
      "INFO:alpha_automl.automl_api:Found pipeline, time=0:03:19, scoring...\n",
      "INFO:alpha_automl.automl_api:Scored pipeline, score=111.94660047573528\n",
      "INFO:alpha_automl.automl_api:Found pipeline, time=0:03:19, scoring...\n",
      "INFO:alpha_automl.automl_api:Found pipeline, time=0:03:19, scoring...\n",
      "INFO:alpha_automl.automl_api:Scored pipeline, score=0.3961614158946805\n",
      "INFO:alpha_automl.automl_api:Found pipeline, time=0:03:19, scoring...\n",
      "INFO:alpha_automl.automl_api:Scored pipeline, score=5.334463300240991\n",
      "INFO:alpha_automl.automl_api:Found pipeline, time=0:03:19, scoring...\n",
      "INFO:alpha_automl.automl_api:Scored pipeline, score=5.260034822958875\n",
      "INFO:alpha_automl.automl_api:Found pipeline, time=0:03:20, scoring...\n",
      "INFO:alpha_automl.automl_api:Scored pipeline, score=5.268991651951705\n",
      "INFO:alpha_automl.automl_api:Found pipeline, time=0:03:20, scoring...\n",
      "INFO:alpha_automl.automl_api:Scored pipeline, score=0.27045404702432935\n",
      "INFO:alpha_automl.automl_api:Found pipeline, time=0:03:21, scoring...\n",
      "INFO:alpha_automl.automl_api:Found pipeline, time=0:03:21, scoring...\n",
      "INFO:alpha_automl.automl_api:Scored pipeline, score=5.3710275135093575\n",
      "INFO:alpha_automl.automl_api:Found pipeline, time=0:03:22, scoring...\n",
      "INFO:alpha_automl.automl_api:Scored pipeline, score=109.38329585347522\n",
      "INFO:alpha_automl.automl_api:Found pipeline, time=0:03:23, scoring...\n",
      "INFO:alpha_automl.automl_api:Scored pipeline, score=0.27045404702432924\n",
      "INFO:alpha_automl.automl_api:Found pipeline, time=0:03:24, scoring...\n",
      "INFO:alpha_automl.automl_api:Scored pipeline, score=0.27045404702432935\n",
      "INFO:alpha_automl.automl_api:Found pipeline, time=0:03:25, scoring...\n",
      "INFO:alpha_automl.automl_api:Scored pipeline, score=0.2704670985301311\n",
      "INFO:alpha_automl.automl_api:Found pipeline, time=0:03:26, scoring...\n",
      "INFO:alpha_automl.automl_api:Scored pipeline, score=5.264170920161971\n",
      "INFO:alpha_automl.automl_api:Found pipeline, time=0:03:26, scoring...\n",
      "INFO:alpha_automl.automl_api:Scored pipeline, score=5.252330033202743\n",
      "INFO:alpha_automl.automl_api:Found pipeline, time=0:03:27, scoring...\n",
      "INFO:alpha_automl.automl_api:Scored pipeline, score=68.10012798634732\n",
      "INFO:alpha_automl.automl_api:Found pipeline, time=0:03:28, scoring...\n",
      "INFO:alpha_automl.automl_api:Scored pipeline, score=5.427661327057435\n",
      "INFO:alpha_automl.automl_api:Found pipeline, time=0:03:29, scoring...\n",
      "INFO:alpha_automl.automl_api:Scored pipeline, score=0.26505552232733975\n",
      "INFO:alpha_automl.automl_api:Found pipeline, time=0:03:30, scoring...\n",
      "INFO:alpha_automl.automl_api:Found pipeline, time=0:03:30, scoring...\n",
      "INFO:alpha_automl.automl_api:Scored pipeline, score=0.27045404702432924\n",
      "INFO:alpha_automl.automl_api:Found pipeline, time=0:03:31, scoring...\n",
      "INFO:alpha_automl.automl_api:Scored pipeline, score=0.2704670985301311\n",
      "INFO:alpha_automl.automl_api:Found pipeline, time=0:03:31, scoring...\n",
      "INFO:alpha_automl.automl_api:Scored pipeline, score=5.2612805796780435\n",
      "INFO:alpha_automl.automl_api:Found pipeline, time=0:03:32, scoring...\n",
      "INFO:alpha_automl.automl_api:Scored pipeline, score=113.29371364165213\n",
      "INFO:alpha_automl.automl_api:Found pipeline, time=0:03:33, scoring...\n",
      "INFO:alpha_automl.automl_api:Scored pipeline, score=112.89335867978558\n",
      "INFO:alpha_automl.automl_api:Found pipeline, time=0:03:33, scoring...\n",
      "INFO:alpha_automl.automl_api:Scored pipeline, score=0.26424772362050053\n",
      "INFO:alpha_automl.automl_api:Found pipeline, time=0:03:35, scoring...\n",
      "INFO:alpha_automl.automl_api:Scored pipeline, score=0.2814048411407293\n",
      "INFO:alpha_automl.automl_api:Found pipeline, time=0:03:36, scoring...\n",
      "INFO:alpha_automl.automl_api:Scored pipeline, score=5.252330033202761\n",
      "INFO:alpha_automl.automl_api:Found pipeline, time=0:03:37, scoring...\n",
      "INFO:alpha_automl.automl_api:Scored pipeline, score=2.3368936619321894\n",
      "INFO:alpha_automl.automl_api:Found pipeline, time=0:03:38, scoring...\n",
      "INFO:alpha_automl.automl_api:Found pipeline, time=0:03:38, scoring...\n",
      "INFO:alpha_automl.automl_api:Scored pipeline, score=0.7874538837206808\n",
      "INFO:alpha_automl.automl_api:Found pipeline, time=0:03:39, scoring...\n",
      "INFO:alpha_automl.automl_api:Scored pipeline, score=1.4489269021733602\n",
      "INFO:alpha_automl.automl_api:Found pipeline, time=0:03:43, scoring...\n",
      "INFO:alpha_automl.automl_api:Scored pipeline, score=5.111959430853232\n",
      "INFO:alpha_automl.automl_api:Found pipeline, time=0:03:46, scoring...\n",
      "INFO:alpha_automl.automl_api:Scored pipeline, score=96.99441114953028\n",
      "INFO:alpha_automl.automl_api:Found pipeline, time=0:03:46, scoring...\n",
      "INFO:alpha_automl.automl_api:Scored pipeline, score=1.1436873864690664\n",
      "INFO:alpha_automl.automl_api:Found pipeline, time=0:03:47, scoring...\n",
      "INFO:alpha_automl.automl_api:Scored pipeline, score=3.3502274166666637\n",
      "INFO:alpha_automl.automl_api:Found pipeline, time=0:03:48, scoring...\n",
      "INFO:alpha_automl.automl_api:Scored pipeline, score=0.5182873824508292\n",
      "INFO:alpha_automl.automl_api:Found pipeline, time=0:03:49, scoring...\n",
      "INFO:alpha_automl.automl_api:Scored pipeline, score=0.27516320472635786\n",
      "INFO:alpha_automl.automl_api:Found pipeline, time=0:03:50, scoring...\n",
      "INFO:alpha_automl.automl_api:Scored pipeline, score=0.2703429523922233\n",
      "INFO:alpha_automl.automl_api:Found pipeline, time=0:03:50, scoring...\n",
      "INFO:alpha_automl.automl_api:Scored pipeline, score=5.290009771599642\n",
      "INFO:alpha_automl.automl_api:Found pipeline, time=0:03:51, scoring...\n",
      "INFO:alpha_automl.automl_api:Scored pipeline, score=5.260034822958851\n",
      "INFO:alpha_automl.automl_api:Found pipeline, time=0:03:52, scoring...\n",
      "INFO:alpha_automl.automl_api:Scored pipeline, score=0.3988323541139302\n",
      "INFO:alpha_automl.automl_api:Found pipeline, time=0:03:53, scoring...\n",
      "INFO:alpha_automl.automl_api:Scored pipeline, score=5.604040961002372\n",
      "INFO:alpha_automl.automl_api:Found pipeline, time=0:03:53, scoring...\n",
      "INFO:alpha_automl.automl_api:Found pipeline, time=0:03:53, scoring...\n",
      "INFO:alpha_automl.automl_api:Scored pipeline, score=5.370511282525889\n",
      "INFO:alpha_automl.automl_api:Found pipeline, time=0:03:54, scoring...\n",
      "INFO:alpha_automl.automl_api:Scored pipeline, score=6.012431793492863\n",
      "INFO:alpha_automl.automl_api:Found pipeline, time=0:03:54, scoring...\n",
      "INFO:alpha_automl.automl_api:Scored pipeline, score=278.7020587899998\n",
      "INFO:alpha_automl.automl_api:Found pipeline, time=0:03:55, scoring...\n",
      "INFO:alpha_automl.automl_api:Found pipeline, time=0:03:55, scoring...\n",
      "INFO:alpha_automl.automl_api:Scored pipeline, score=111.947697403125\n",
      "INFO:alpha_automl.automl_api:Found pipeline, time=0:03:55, scoring...\n",
      "INFO:alpha_automl.automl_api:Scored pipeline, score=0.9430851833333332\n",
      "INFO:alpha_automl.automl_api:Found pipeline, time=0:03:55, scoring...\n",
      "INFO:alpha_automl.automl_api:Scored pipeline, score=113.28413367946378\n",
      "INFO:alpha_automl.automl_api:Found pipeline, time=0:03:55, scoring...\n",
      "INFO:alpha_automl.automl_api:Found pipeline, time=0:03:56, scoring...\n",
      "INFO:alpha_automl.automl_api:Scored pipeline, score=113.29371364165213\n",
      "INFO:alpha_automl.automl_api:Found pipeline, time=0:03:56, scoring...\n",
      "INFO:alpha_automl.automl_api:Scored pipeline, score=113.2747712387007\n",
      "INFO:alpha_automl.automl_api:Found pipeline, time=0:03:56, scoring...\n",
      "INFO:alpha_automl.automl_api:Found pipeline, time=0:03:56, scoring...\n",
      "INFO:alpha_automl.automl_api:Found pipeline, time=0:03:56, scoring...\n",
      "INFO:alpha_automl.automl_api:Scored pipeline, score=1.0197241363976124\n",
      "INFO:alpha_automl.automl_api:Found pipeline, time=0:03:57, scoring...\n",
      "INFO:alpha_automl.automl_api:Scored pipeline, score=0.7780834008238952\n",
      "INFO:alpha_automl.automl_api:Found pipeline, time=0:03:57, scoring...\n",
      "INFO:alpha_automl.automl_api:Scored pipeline, score=271.68363738157285\n",
      "INFO:alpha_automl.automl_api:Found pipeline, time=0:03:58, scoring...\n",
      "INFO:alpha_automl.automl_api:Found pipeline, time=0:03:58, scoring...\n",
      "INFO:alpha_automl.automl_api:Scored pipeline, score=1.0197241363976124\n",
      "INFO:alpha_automl.automl_api:Found pipeline, time=0:03:59, scoring...\n",
      "INFO:alpha_automl.automl_api:Scored pipeline, score=0.7780834008238952\n",
      "INFO:alpha_automl.automl_api:Found pipeline, time=0:03:59, scoring...\n",
      "INFO:alpha_automl.automl_api:Scored pipeline, score=278.70205879\n",
      "INFO:alpha_automl.automl_api:Found pipeline, time=0:03:59, scoring...\n",
      "INFO:alpha_automl.automl_api:Scored pipeline, score=278.70205879\n",
      "INFO:alpha_automl.automl_api:Found pipeline, time=0:03:59, scoring...\n",
      "INFO:alpha_automl.automl_api:Scored pipeline, score=0.26453450739553697\n",
      "INFO:alpha_automl.automl_api:Found pipeline, time=0:04:01, scoring...\n",
      "INFO:alpha_automl.automl_api:Scored pipeline, score=2.8564523849365457\n",
      "INFO:alpha_automl.automl_api:Found pipeline, time=0:04:02, scoring...\n",
      "INFO:alpha_automl.automl_api:Scored pipeline, score=81.78624809012314\n",
      "INFO:alpha_automl.automl_api:Found pipeline, time=0:04:03, scoring...\n",
      "INFO:alpha_automl.automl_api:Found pipeline, time=0:04:03, scoring...\n",
      "INFO:alpha_automl.automl_api:Scored pipeline, score=0.314067596683351\n",
      "INFO:alpha_automl.automl_api:Found pipeline, time=0:04:03, scoring...\n",
      "INFO:alpha_automl.automl_api:Found pipeline, time=0:04:03, scoring...\n",
      "INFO:alpha_automl.automl_api:Scored pipeline, score=137.87084601847536\n",
      "INFO:alpha_automl.automl_api:Found pipeline, time=0:04:05, scoring...\n",
      "INFO:alpha_automl.automl_api:Scored pipeline, score=271.68363738157285\n",
      "INFO:alpha_automl.automl_api:Found pipeline, time=0:04:05, scoring...\n",
      "INFO:alpha_automl.automl_api:Scored pipeline, score=113.81900811095022\n",
      "INFO:alpha_automl.automl_api:Found pipeline, time=0:04:05, scoring...\n",
      "INFO:alpha_automl.automl_api:Scored pipeline, score=113.29371364165213\n",
      "INFO:alpha_automl.automl_api:Found pipeline, time=0:04:05, scoring...\n",
      "INFO:alpha_automl.automl_api:Found pipeline, time=0:04:05, scoring...\n",
      "INFO:alpha_automl.automl_api:Found pipeline, time=0:04:06, scoring...\n",
      "INFO:alpha_automl.automl_api:Scored pipeline, score=126.17279248424336\n",
      "INFO:alpha_automl.automl_api:Found pipeline, time=0:04:06, scoring...\n",
      "INFO:alpha_automl.automl_api:Scored pipeline, score=299.3709232085632\n",
      "INFO:alpha_automl.automl_api:Found pipeline, time=0:04:08, scoring...\n",
      "INFO:alpha_automl.automl_api:Scored pipeline, score=111.94660047573525\n",
      "INFO:alpha_automl.automl_api:Found pipeline, time=0:04:08, scoring...\n",
      "INFO:alpha_automl.automl_api:Found pipeline, time=0:04:09, scoring...\n",
      "INFO:alpha_automl.automl_api:Found pipeline, time=0:04:09, scoring...\n",
      "INFO:alpha_automl.automl_api:Found pipeline, time=0:04:09, scoring...\n",
      "INFO:alpha_automl.automl_api:Found pipeline, time=0:04:09, scoring...\n",
      "INFO:alpha_automl.automl_api:Scored pipeline, score=169.31488356931712\n",
      "INFO:alpha_automl.automl_api:Found pipeline, time=0:04:09, scoring...\n",
      "INFO:alpha_automl.automl_api:Scored pipeline, score=129.2016274484375\n",
      "INFO:alpha_automl.automl_api:Found pipeline, time=0:04:11, scoring...\n",
      "INFO:alpha_automl.automl_api:Found pipeline, time=0:04:11, scoring...\n",
      "INFO:alpha_automl.automl_api:Found pipeline, time=0:04:11, scoring...\n",
      "INFO:alpha_automl.automl_api:Scored pipeline, score=121.95329537109376\n",
      "INFO:alpha_automl.automl_api:Found pipeline, time=0:04:15, scoring...\n",
      "INFO:alpha_automl.automl_api:Scored pipeline, score=111.98903741900735\n",
      "INFO:alpha_automl.automl_api:Found pipeline, time=0:04:15, scoring...\n",
      "INFO:alpha_automl.automl_api:Scored pipeline, score=207.5066261249333\n",
      "INFO:alpha_automl.automl_api:Found pipeline, time=0:04:15, scoring...\n",
      "INFO:alpha_automl.automl_api:Scored pipeline, score=113.29371364165213\n",
      "INFO:alpha_automl.automl_api:Found pipeline, time=0:04:15, scoring...\n",
      "INFO:alpha_automl.automl_api:Found pipeline, time=0:04:16, scoring...\n",
      "INFO:alpha_automl.automl_api:Found pipeline, time=0:04:18, scoring...\n",
      "INFO:alpha_automl.automl_api:Scored pipeline, score=103.15455454113145\n",
      "INFO:alpha_automl.automl_api:Found pipeline, time=0:04:18, scoring...\n",
      "INFO:alpha_automl.automl_api:Scored pipeline, score=252.1951451966669\n",
      "INFO:alpha_automl.automl_api:Found pipeline, time=0:04:18, scoring...\n",
      "INFO:alpha_automl.automl_api:Found pipeline, time=0:04:18, scoring...\n",
      "INFO:alpha_automl.automl_api:Found pipeline, time=0:04:18, scoring...\n",
      "INFO:alpha_automl.automl_api:Scored pipeline, score=122.30100757586308\n",
      "INFO:alpha_automl.automl_api:Found pipeline, time=0:04:19, scoring...\n",
      "INFO:alpha_automl.automl_api:Scored pipeline, score=116.62873125980008\n",
      "INFO:alpha_automl.automl_api:Found pipeline, time=0:04:19, scoring...\n",
      "INFO:alpha_automl.automl_api:Found pipeline, time=0:04:19, scoring...\n",
      "INFO:alpha_automl.automl_api:Found pipeline, time=0:04:19, scoring...\n",
      "INFO:alpha_automl.automl_api:Scored pipeline, score=113.29371364165213\n",
      "INFO:alpha_automl.automl_api:Found pipeline, time=0:04:19, scoring...\n",
      "INFO:alpha_automl.automl_api:Scored pipeline, score=113.2881781099987\n",
      "INFO:alpha_automl.automl_api:Found pipeline, time=0:04:19, scoring...\n",
      "INFO:alpha_automl.automl_api:Found pipeline, time=0:04:20, scoring...\n",
      "INFO:alpha_automl.automl_api:Found pipeline, time=0:04:20, scoring...\n",
      "INFO:alpha_automl.automl_api:Found pipeline, time=0:04:20, scoring...\n",
      "INFO:alpha_automl.automl_api:Scored pipeline, score=5.28116106007876\n",
      "INFO:alpha_automl.automl_api:Found pipeline, time=0:04:21, scoring...\n",
      "INFO:alpha_automl.automl_api:Scored pipeline, score=5.656429847034203\n",
      "INFO:alpha_automl.automl_api:Found pipeline, time=0:04:21, scoring...\n",
      "INFO:alpha_automl.automl_api:Found pipeline, time=0:04:21, scoring...\n",
      "INFO:alpha_automl.automl_api:Scored pipeline, score=0.3140475406276844\n",
      "INFO:alpha_automl.automl_api:Found pipeline, time=0:04:22, scoring...\n",
      "INFO:alpha_automl.automl_api:Found pipeline, time=0:04:22, scoring...\n",
      "INFO:alpha_automl.automl_api:Scored pipeline, score=5.290127905872797\n",
      "INFO:alpha_automl.automl_api:Found pipeline, time=0:04:23, scoring...\n",
      "INFO:alpha_automl.automl_api:Scored pipeline, score=0.3987135997337592\n",
      "INFO:alpha_automl.automl_api:Found pipeline, time=0:04:23, scoring...\n",
      "INFO:alpha_automl.automl_api:Scored pipeline, score=109.38329585347522\n",
      "INFO:alpha_automl.automl_api:Found pipeline, time=0:04:24, scoring...\n",
      "INFO:alpha_automl.automl_api:Scored pipeline, score=6.009666228483517\n",
      "INFO:alpha_automl.automl_api:Found pipeline, time=0:04:25, scoring...\n",
      "INFO:alpha_automl.automl_api:Scored pipeline, score=111.94696571626389\n",
      "INFO:alpha_automl.automl_api:Found pipeline, time=0:04:25, scoring...\n",
      "INFO:alpha_automl.automl_api:Scored pipeline, score=5.290127905872797\n",
      "INFO:alpha_automl.automl_api:Found pipeline, time=0:04:25, scoring...\n",
      "INFO:alpha_automl.automl_api:Scored pipeline, score=110.16049452756742\n",
      "INFO:alpha_automl.automl_api:Found pipeline, time=0:04:25, scoring...\n",
      "INFO:alpha_automl.automl_api:Found pipeline, time=0:04:25, scoring...\n",
      "INFO:alpha_automl.automl_api:Scored pipeline, score=111.9466004757353\n",
      "INFO:alpha_automl.automl_api:Found pipeline, time=0:04:26, scoring...\n",
      "INFO:alpha_automl.automl_api:Scored pipeline, score=278.7020587899998\n",
      "INFO:alpha_automl.automl_api:Found pipeline, time=0:04:26, scoring...\n",
      "INFO:alpha_automl.automl_api:Found pipeline, time=0:04:27, scoring...\n",
      "INFO:alpha_automl.automl_api:Found pipeline, time=0:04:27, scoring...\n",
      "INFO:alpha_automl.automl_api:Scored pipeline, score=1.034781216666666\n",
      "INFO:alpha_automl.automl_api:Found pipeline, time=0:04:27, scoring...\n",
      "INFO:alpha_automl.automl_api:Scored pipeline, score=0.8516179333333332\n",
      "INFO:alpha_automl.automl_api:Found pipeline, time=0:04:28, scoring...\n",
      "INFO:alpha_automl.automl_api:Scored pipeline, score=0.270454047024325\n",
      "INFO:alpha_automl.automl_api:Found pipeline, time=0:04:28, scoring...\n",
      "INFO:alpha_automl.automl_api:Scored pipeline, score=0.27045404702432924\n",
      "INFO:alpha_automl.automl_api:Found pipeline, time=0:04:29, scoring...\n",
      "INFO:alpha_automl.automl_api:Scored pipeline, score=137.8708460184767\n",
      "INFO:alpha_automl.automl_api:Found pipeline, time=0:04:31, scoring...\n",
      "INFO:alpha_automl.automl_api:Scored pipeline, score=44.82003547502046\n",
      "INFO:alpha_automl.automl_api:Found pipeline, time=0:04:31, scoring...\n",
      "INFO:alpha_automl.automl_api:Scored pipeline, score=5.26257742064247\n",
      "INFO:alpha_automl.automl_api:Found pipeline, time=0:04:32, scoring...\n",
      "INFO:alpha_automl.automl_api:Found pipeline, time=0:04:32, scoring...\n",
      "INFO:alpha_automl.automl_api:Found pipeline, time=0:04:33, scoring...\n",
      "INFO:alpha_automl.automl_api:Scored pipeline, score=0.2704670985301311\n",
      "INFO:alpha_automl.automl_api:Found pipeline, time=0:04:33, scoring...\n",
      "INFO:alpha_automl.automl_api:Scored pipeline, score=6.1483152921219535\n",
      "INFO:alpha_automl.automl_api:Found pipeline, time=0:04:36, scoring...\n",
      "INFO:alpha_automl.automl_api:Scored pipeline, score=5.261690472280981\n",
      "INFO:alpha_automl.automl_api:Found pipeline, time=0:04:36, scoring...\n",
      "INFO:alpha_automl.automl_api:Scored pipeline, score=0.27045404702432924\n",
      "INFO:alpha_automl.automl_api:Found pipeline, time=0:04:37, scoring...\n",
      "INFO:alpha_automl.automl_api:Scored pipeline, score=5.614901331571833\n",
      "INFO:alpha_automl.automl_api:Found pipeline, time=0:04:37, scoring...\n",
      "INFO:alpha_automl.automl_api:Scored pipeline, score=0.3644667230233365\n",
      "INFO:alpha_automl.automl_api:Found pipeline, time=0:04:37, scoring...\n",
      "INFO:alpha_automl.automl_api:Scored pipeline, score=3.3502274166666637\n",
      "INFO:alpha_automl.automl_api:Found pipeline, time=0:04:38, scoring...\n",
      "INFO:alpha_automl.automl_api:Scored pipeline, score=6.628822672889977\n",
      "INFO:alpha_automl.automl_api:Found pipeline, time=0:04:38, scoring...\n",
      "INFO:alpha_automl.automl_api:Scored pipeline, score=0.6094183546166643\n",
      "INFO:alpha_automl.automl_api:Found pipeline, time=0:04:41, scoring...\n",
      "INFO:alpha_automl.automl_api:Scored pipeline, score=271.68363738157285\n",
      "INFO:alpha_automl.automl_api:Found pipeline, time=0:04:41, scoring...\n",
      "INFO:alpha_automl.automl_api:Scored pipeline, score=0.2704670985301311\n",
      "INFO:alpha_automl.automl_api:Found pipeline, time=0:04:42, scoring...\n",
      "INFO:alpha_automl.automl_api:Scored pipeline, score=1.258594999926513\n",
      "INFO:alpha_automl.automl_api:Found pipeline, time=0:04:43, scoring...\n",
      "INFO:alpha_automl.automl_api:Scored pipeline, score=5.271534644258691\n",
      "INFO:alpha_automl.automl_api:Found pipeline, time=0:04:44, scoring...\n",
      "INFO:alpha_automl.automl_api:Found pipeline, time=0:04:44, scoring...\n",
      "INFO:alpha_automl.automl_api:Found pipeline, time=0:04:44, scoring...\n",
      "INFO:alpha_automl.automl_api:Scored pipeline, score=82.7872379411743\n",
      "INFO:alpha_automl.automl_api:Found 121 pipelines\n",
      "INFO:gluonts.trainer:Start model training\n",
      "INFO:gluonts.trainer:Epoch[0] Learning rate is 0.001\n"
     ]
    },
    {
     "name": "stderr",
     "output_type": "stream",
     "text": [
      "  0%|                                                                                          | 0/50 [00:00<?, ?it/s]"
     ]
    },
    {
     "name": "stdout",
     "output_type": "stream",
     "text": [
      "INFO:gluonts.trainer:Number of parameters in DeepARTrainingNetwork: 25884\n"
     ]
    },
    {
     "name": "stderr",
     "output_type": "stream",
     "text": [
      "100%|█████████████████████████████████████████████████| 50/50 [00:04<00:00, 11.50it/s, epoch=1/5, avg_epoch_loss=2.18]"
     ]
    },
    {
     "name": "stdout",
     "output_type": "stream",
     "text": [
      "INFO:gluonts.trainer:Epoch[0] Elapsed time 4.352 seconds\n",
      "INFO:gluonts.trainer:Epoch[0] Evaluation metric 'epoch_loss'=2.180687\n",
      "INFO:gluonts.trainer:Epoch[1] Learning rate is 0.001\n"
     ]
    },
    {
     "name": "stderr",
     "output_type": "stream",
     "text": [
      "\n",
      "100%|█████████████████████████████████████████████████| 50/50 [00:04<00:00, 11.25it/s, epoch=2/5, avg_epoch_loss=1.17]"
     ]
    },
    {
     "name": "stdout",
     "output_type": "stream",
     "text": [
      "INFO:gluonts.trainer:Epoch[1] Elapsed time 4.448 seconds\n",
      "INFO:gluonts.trainer:Epoch[1] Evaluation metric 'epoch_loss'=1.166323\n",
      "INFO:gluonts.trainer:Epoch[2] Learning rate is 0.001\n"
     ]
    },
    {
     "name": "stderr",
     "output_type": "stream",
     "text": [
      "\n",
      "100%|█████████████████████████████████████████████████| 50/50 [00:04<00:00, 11.11it/s, epoch=3/5, avg_epoch_loss=1.04]"
     ]
    },
    {
     "name": "stdout",
     "output_type": "stream",
     "text": [
      "INFO:gluonts.trainer:Epoch[2] Elapsed time 4.504 seconds\n",
      "INFO:gluonts.trainer:Epoch[2] Evaluation metric 'epoch_loss'=1.037135\n",
      "INFO:gluonts.trainer:Epoch[3] Learning rate is 0.001\n"
     ]
    },
    {
     "name": "stderr",
     "output_type": "stream",
     "text": [
      "\n",
      "100%|████████████████████████████████████████████████| 50/50 [00:04<00:00, 11.10it/s, epoch=4/5, avg_epoch_loss=0.921]"
     ]
    },
    {
     "name": "stdout",
     "output_type": "stream",
     "text": [
      "INFO:gluonts.trainer:Epoch[3] Elapsed time 4.507 seconds\n",
      "INFO:gluonts.trainer:Epoch[3] Evaluation metric 'epoch_loss'=0.921288\n",
      "INFO:gluonts.trainer:Epoch[4] Learning rate is 0.001\n"
     ]
    },
    {
     "name": "stderr",
     "output_type": "stream",
     "text": [
      "\n",
      "100%|████████████████████████████████████████████████| 50/50 [00:04<00:00, 11.40it/s, epoch=5/5, avg_epoch_loss=0.778]"
     ]
    },
    {
     "name": "stdout",
     "output_type": "stream",
     "text": [
      "INFO:gluonts.trainer:Epoch[4] Elapsed time 4.386 seconds\n",
      "INFO:gluonts.trainer:Epoch[4] Evaluation metric 'epoch_loss'=0.778420\n",
      "INFO:root:Computing averaged parameters.\n",
      "INFO:root:Loading averaged parameters.\n",
      "INFO:gluonts.trainer:End model training\n"
     ]
    },
    {
     "name": "stderr",
     "output_type": "stream",
     "text": [
      "\n"
     ]
    }
   ],
   "source": [
    "automl = AutoMLTimeSeries(output_path, time_bound=10, verbose=False, \n",
    "                          date_column=\"Date\", target_column=\"Close\",\n",
    "                          split_strategy_kwargs={'n_splits': 3, 'test_size': 20})\n",
    "automl.fit(X_train, y_train)"
   ]
  },
  {
   "cell_type": "markdown",
   "metadata": {},
   "source": [
    "### Exploring Pipelines"
   ]
  },
  {
   "cell_type": "markdown",
   "metadata": {},
   "source": [
    "After the pipeline search is complete, we can display the leaderboard:"
   ]
  },
  {
   "cell_type": "code",
   "execution_count": 5,
   "metadata": {},
   "outputs": [
    {
     "data": {
      "text/html": [
       "<style type=\"text/css\">\n",
       "</style>\n",
       "<table id=\"T_1ce52\">\n",
       "  <thead>\n",
       "    <tr>\n",
       "      <th id=\"T_1ce52_level0_col0\" class=\"col_heading level0 col0\" >ranking</th>\n",
       "      <th id=\"T_1ce52_level0_col1\" class=\"col_heading level0 col1\" >pipeline</th>\n",
       "      <th id=\"T_1ce52_level0_col2\" class=\"col_heading level0 col2\" >mean_squared_error</th>\n",
       "    </tr>\n",
       "  </thead>\n",
       "  <tbody>\n",
       "    <tr>\n",
       "      <td id=\"T_1ce52_row0_col0\" class=\"data row0 col0\" >1</td>\n",
       "      <td id=\"T_1ce52_row0_col1\" class=\"data row0 col1\" >DeeparEstimator</td>\n",
       "      <td id=\"T_1ce52_row0_col2\" class=\"data row0 col2\" >0.000</td>\n",
       "    </tr>\n",
       "    <tr>\n",
       "      <td id=\"T_1ce52_row1_col0\" class=\"data row1 col0\" >2</td>\n",
       "      <td id=\"T_1ce52_row1_col1\" class=\"data row1 col1\" >ArimaEstimator</td>\n",
       "      <td id=\"T_1ce52_row1_col2\" class=\"data row1 col2\" >0.192</td>\n",
       "    </tr>\n",
       "    <tr>\n",
       "      <td id=\"T_1ce52_row2_col0\" class=\"data row2 col0\" >3</td>\n",
       "      <td id=\"T_1ce52_row2_col1\" class=\"data row2 col1\" >ColumnTransformer, CyclicalFeature, MaxAbsScaler, GenericUnivariateSelect, SVR</td>\n",
       "      <td id=\"T_1ce52_row2_col2\" class=\"data row2 col2\" >0.264</td>\n",
       "    </tr>\n",
       "    <tr>\n",
       "      <td id=\"T_1ce52_row3_col0\" class=\"data row3 col0\" >4</td>\n",
       "      <td id=\"T_1ce52_row3_col1\" class=\"data row3 col1\" >ColumnTransformer, Datetime64ExpandEncoder, MaxAbsScaler, GenericUnivariateSelect, SVR</td>\n",
       "      <td id=\"T_1ce52_row3_col2\" class=\"data row3 col2\" >0.265</td>\n",
       "    </tr>\n",
       "    <tr>\n",
       "      <td id=\"T_1ce52_row4_col0\" class=\"data row4 col0\" >5</td>\n",
       "      <td id=\"T_1ce52_row4_col1\" class=\"data row4 col1\" >ColumnTransformer, CyclicalFeature, MaxAbsScaler, GenericUnivariateSelect, RandomForestRegressor</td>\n",
       "      <td id=\"T_1ce52_row4_col2\" class=\"data row4 col2\" >0.265</td>\n",
       "    </tr>\n",
       "    <tr>\n",
       "      <td id=\"T_1ce52_row5_col0\" class=\"data row5 col0\" >6</td>\n",
       "      <td id=\"T_1ce52_row5_col1\" class=\"data row5 col1\" >ColumnTransformer, CyclicalFeature, MaxAbsScaler, GenericUnivariateSelect, LGBMRegressor</td>\n",
       "      <td id=\"T_1ce52_row5_col2\" class=\"data row5 col2\" >0.270</td>\n",
       "    </tr>\n",
       "    <tr>\n",
       "      <td id=\"T_1ce52_row6_col0\" class=\"data row6 col0\" >7</td>\n",
       "      <td id=\"T_1ce52_row6_col1\" class=\"data row6 col1\" >ColumnTransformer, CyclicalFeature, MaxAbsScaler, SelectPercentile, DecisionTreeRegressor</td>\n",
       "      <td id=\"T_1ce52_row6_col2\" class=\"data row6 col2\" >0.270</td>\n",
       "    </tr>\n",
       "    <tr>\n",
       "      <td id=\"T_1ce52_row7_col0\" class=\"data row7 col0\" >8</td>\n",
       "      <td id=\"T_1ce52_row7_col1\" class=\"data row7 col1\" >ColumnTransformer, CyclicalFeature, MaxAbsScaler, GenericUnivariateSelect, DecisionTreeRegressor</td>\n",
       "      <td id=\"T_1ce52_row7_col2\" class=\"data row7 col2\" >0.270</td>\n",
       "    </tr>\n",
       "    <tr>\n",
       "      <td id=\"T_1ce52_row8_col0\" class=\"data row8 col0\" >9</td>\n",
       "      <td id=\"T_1ce52_row8_col1\" class=\"data row8 col1\" >ColumnTransformer, Datetime64ExpandEncoder, MaxAbsScaler, GenericUnivariateSelect, DecisionTreeRegressor</td>\n",
       "      <td id=\"T_1ce52_row8_col2\" class=\"data row8 col2\" >0.270</td>\n",
       "    </tr>\n",
       "    <tr>\n",
       "      <td id=\"T_1ce52_row9_col0\" class=\"data row9 col0\" >10</td>\n",
       "      <td id=\"T_1ce52_row9_col1\" class=\"data row9 col1\" >ColumnTransformer, Datetime64ExpandEncoder, MaxAbsScaler, SelectPercentile, DecisionTreeRegressor</td>\n",
       "      <td id=\"T_1ce52_row9_col2\" class=\"data row9 col2\" >0.270</td>\n",
       "    </tr>\n",
       "    <tr>\n",
       "      <td id=\"T_1ce52_row10_col0\" class=\"data row10 col0\" >11</td>\n",
       "      <td id=\"T_1ce52_row10_col1\" class=\"data row10 col1\" >ColumnTransformer, CyclicalFeature, RobustScaler, GenericUnivariateSelect, DecisionTreeRegressor</td>\n",
       "      <td id=\"T_1ce52_row10_col2\" class=\"data row10 col2\" >0.270</td>\n",
       "    </tr>\n",
       "    <tr>\n",
       "      <td id=\"T_1ce52_row11_col0\" class=\"data row11 col0\" >12</td>\n",
       "      <td id=\"T_1ce52_row11_col1\" class=\"data row11 col1\" >ColumnTransformer, CyclicalFeature, MaxAbsScaler, GenericUnivariateSelect, ExtraTreesRegressor</td>\n",
       "      <td id=\"T_1ce52_row11_col2\" class=\"data row11 col2\" >0.270</td>\n",
       "    </tr>\n",
       "    <tr>\n",
       "      <td id=\"T_1ce52_row12_col0\" class=\"data row12 col0\" >13</td>\n",
       "      <td id=\"T_1ce52_row12_col1\" class=\"data row12 col1\" >ColumnTransformer, Datetime64ExpandEncoder, MaxAbsScaler, GenericUnivariateSelect, ExtraTreesRegressor</td>\n",
       "      <td id=\"T_1ce52_row12_col2\" class=\"data row12 col2\" >0.270</td>\n",
       "    </tr>\n",
       "    <tr>\n",
       "      <td id=\"T_1ce52_row13_col0\" class=\"data row13 col0\" >14</td>\n",
       "      <td id=\"T_1ce52_row13_col1\" class=\"data row13 col1\" >ColumnTransformer, CyclicalFeature, MaxAbsScaler, GenericUnivariateSelect, XGBRegressor</td>\n",
       "      <td id=\"T_1ce52_row13_col2\" class=\"data row13 col2\" >0.270</td>\n",
       "    </tr>\n",
       "    <tr>\n",
       "      <td id=\"T_1ce52_row14_col0\" class=\"data row14 col0\" >15</td>\n",
       "      <td id=\"T_1ce52_row14_col1\" class=\"data row14 col1\" >ColumnTransformer, Datetime64ExpandEncoder, MaxAbsScaler, GenericUnivariateSelect, XGBRegressor</td>\n",
       "      <td id=\"T_1ce52_row14_col2\" class=\"data row14 col2\" >0.270</td>\n",
       "    </tr>\n",
       "    <tr>\n",
       "      <td id=\"T_1ce52_row15_col0\" class=\"data row15 col0\" >16</td>\n",
       "      <td id=\"T_1ce52_row15_col1\" class=\"data row15 col1\" >ColumnTransformer, Datetime64ExpandEncoder, MaxAbsScaler, SelectPercentile, XGBRegressor</td>\n",
       "      <td id=\"T_1ce52_row15_col2\" class=\"data row15 col2\" >0.270</td>\n",
       "    </tr>\n",
       "    <tr>\n",
       "      <td id=\"T_1ce52_row16_col0\" class=\"data row16 col0\" >17</td>\n",
       "      <td id=\"T_1ce52_row16_col1\" class=\"data row16 col1\" >ColumnTransformer, CyclicalFeature, MaxAbsScaler, SelectPercentile, XGBRegressor</td>\n",
       "      <td id=\"T_1ce52_row16_col2\" class=\"data row16 col2\" >0.270</td>\n",
       "    </tr>\n",
       "    <tr>\n",
       "      <td id=\"T_1ce52_row17_col0\" class=\"data row17 col0\" >18</td>\n",
       "      <td id=\"T_1ce52_row17_col1\" class=\"data row17 col1\" >ColumnTransformer, CyclicalFeature, MaxAbsScaler, GenericUnivariateSelect, GradientBoostingRegressor</td>\n",
       "      <td id=\"T_1ce52_row17_col2\" class=\"data row17 col2\" >0.275</td>\n",
       "    </tr>\n",
       "    <tr>\n",
       "      <td id=\"T_1ce52_row18_col0\" class=\"data row18 col0\" >19</td>\n",
       "      <td id=\"T_1ce52_row18_col1\" class=\"data row18 col1\" >ColumnTransformer, Datetime64ExpandEncoder, MaxAbsScaler, GenericUnivariateSelect, RandomForestRegressor</td>\n",
       "      <td id=\"T_1ce52_row18_col2\" class=\"data row18 col2\" >0.281</td>\n",
       "    </tr>\n",
       "    <tr>\n",
       "      <td id=\"T_1ce52_row19_col0\" class=\"data row19 col0\" >20</td>\n",
       "      <td id=\"T_1ce52_row19_col1\" class=\"data row19 col1\" >ColumnTransformer, CyclicalFeature, RobustScaler, SelectKBest, Ridge</td>\n",
       "      <td id=\"T_1ce52_row19_col2\" class=\"data row19 col2\" >0.314</td>\n",
       "    </tr>\n",
       "    <tr>\n",
       "      <td id=\"T_1ce52_row20_col0\" class=\"data row20 col0\" >21</td>\n",
       "      <td id=\"T_1ce52_row20_col1\" class=\"data row20 col1\" >ColumnTransformer, CyclicalFeature, RobustScaler, Ridge</td>\n",
       "      <td id=\"T_1ce52_row20_col2\" class=\"data row20 col2\" >0.314</td>\n",
       "    </tr>\n",
       "    <tr>\n",
       "      <td id=\"T_1ce52_row21_col0\" class=\"data row21 col0\" >22</td>\n",
       "      <td id=\"T_1ce52_row21_col1\" class=\"data row21 col1\" >ColumnTransformer, CyclicalFeature, StandardScaler, Ridge</td>\n",
       "      <td id=\"T_1ce52_row21_col2\" class=\"data row21 col2\" >0.364</td>\n",
       "    </tr>\n",
       "    <tr>\n",
       "      <td id=\"T_1ce52_row22_col0\" class=\"data row22 col0\" >23</td>\n",
       "      <td id=\"T_1ce52_row22_col1\" class=\"data row22 col1\" >ColumnTransformer, CyclicalFeature, MaxAbsScaler, LinearRegression</td>\n",
       "      <td id=\"T_1ce52_row22_col2\" class=\"data row22 col2\" >0.396</td>\n",
       "    </tr>\n",
       "    <tr>\n",
       "      <td id=\"T_1ce52_row23_col0\" class=\"data row23 col0\" >24</td>\n",
       "      <td id=\"T_1ce52_row23_col1\" class=\"data row23 col1\" >ColumnTransformer, CyclicalFeature, RobustScaler, SelectPercentile, Ridge</td>\n",
       "      <td id=\"T_1ce52_row23_col2\" class=\"data row23 col2\" >0.399</td>\n",
       "    </tr>\n",
       "    <tr>\n",
       "      <td id=\"T_1ce52_row24_col0\" class=\"data row24 col0\" >25</td>\n",
       "      <td id=\"T_1ce52_row24_col1\" class=\"data row24 col1\" >ColumnTransformer, CyclicalFeature, MaxAbsScaler, ARDRegression</td>\n",
       "      <td id=\"T_1ce52_row24_col2\" class=\"data row24 col2\" >0.399</td>\n",
       "    </tr>\n",
       "    <tr>\n",
       "      <td id=\"T_1ce52_row25_col0\" class=\"data row25 col0\" >26</td>\n",
       "      <td id=\"T_1ce52_row25_col1\" class=\"data row25 col1\" >ColumnTransformer, CyclicalFeature, MaxAbsScaler, GenericUnivariateSelect, LinearSVR</td>\n",
       "      <td id=\"T_1ce52_row25_col2\" class=\"data row25 col2\" >0.518</td>\n",
       "    </tr>\n",
       "    <tr>\n",
       "      <td id=\"T_1ce52_row26_col0\" class=\"data row26 col0\" >27</td>\n",
       "      <td id=\"T_1ce52_row26_col1\" class=\"data row26 col1\" >ColumnTransformer, CyclicalFeature, MaxAbsScaler, ExtraTreesRegressor</td>\n",
       "      <td id=\"T_1ce52_row26_col2\" class=\"data row26 col2\" >0.609</td>\n",
       "    </tr>\n",
       "    <tr>\n",
       "      <td id=\"T_1ce52_row27_col0\" class=\"data row27 col0\" >28</td>\n",
       "      <td id=\"T_1ce52_row27_col1\" class=\"data row27 col1\" >ColumnTransformer, Datetime64ExpandEncoder, MaxAbsScaler, XGBRegressor</td>\n",
       "      <td id=\"T_1ce52_row27_col2\" class=\"data row27 col2\" >0.778</td>\n",
       "    </tr>\n",
       "    <tr>\n",
       "      <td id=\"T_1ce52_row28_col0\" class=\"data row28 col0\" >29</td>\n",
       "      <td id=\"T_1ce52_row28_col1\" class=\"data row28 col1\" >ColumnTransformer, Datetime64ExpandEncoder, XGBRegressor</td>\n",
       "      <td id=\"T_1ce52_row28_col2\" class=\"data row28 col2\" >0.778</td>\n",
       "    </tr>\n",
       "    <tr>\n",
       "      <td id=\"T_1ce52_row29_col0\" class=\"data row29 col0\" >30</td>\n",
       "      <td id=\"T_1ce52_row29_col1\" class=\"data row29 col1\" >ColumnTransformer, CyclicalFeature, MaxAbsScaler, GenericUnivariateSelect, PassiveAggressiveRegressor</td>\n",
       "      <td id=\"T_1ce52_row29_col2\" class=\"data row29 col2\" >0.787</td>\n",
       "    </tr>\n",
       "    <tr>\n",
       "      <td id=\"T_1ce52_row30_col0\" class=\"data row30 col0\" >31</td>\n",
       "      <td id=\"T_1ce52_row30_col1\" class=\"data row30 col1\" >ColumnTransformer, CyclicalFeature, MaxAbsScaler, SelectKBest, DecisionTreeRegressor</td>\n",
       "      <td id=\"T_1ce52_row30_col2\" class=\"data row30 col2\" >0.852</td>\n",
       "    </tr>\n",
       "    <tr>\n",
       "      <td id=\"T_1ce52_row31_col0\" class=\"data row31 col0\" >32</td>\n",
       "      <td id=\"T_1ce52_row31_col1\" class=\"data row31 col1\" >ColumnTransformer, CyclicalFeature, MaxAbsScaler, DecisionTreeRegressor</td>\n",
       "      <td id=\"T_1ce52_row31_col2\" class=\"data row31 col2\" >0.943</td>\n",
       "    </tr>\n",
       "    <tr>\n",
       "      <td id=\"T_1ce52_row32_col0\" class=\"data row32 col0\" >33</td>\n",
       "      <td id=\"T_1ce52_row32_col1\" class=\"data row32 col1\" >ColumnTransformer, CyclicalFeature, MaxAbsScaler, XGBRegressor</td>\n",
       "      <td id=\"T_1ce52_row32_col2\" class=\"data row32 col2\" >1.020</td>\n",
       "    </tr>\n",
       "    <tr>\n",
       "      <td id=\"T_1ce52_row33_col0\" class=\"data row33 col0\" >34</td>\n",
       "      <td id=\"T_1ce52_row33_col1\" class=\"data row33 col1\" >ColumnTransformer, CyclicalFeature, XGBRegressor</td>\n",
       "      <td id=\"T_1ce52_row33_col2\" class=\"data row33 col2\" >1.020</td>\n",
       "    </tr>\n",
       "    <tr>\n",
       "      <td id=\"T_1ce52_row34_col0\" class=\"data row34 col0\" >35</td>\n",
       "      <td id=\"T_1ce52_row34_col1\" class=\"data row34 col1\" >ColumnTransformer, Datetime64ExpandEncoder, MaxAbsScaler, DecisionTreeRegressor</td>\n",
       "      <td id=\"T_1ce52_row34_col2\" class=\"data row34 col2\" >1.035</td>\n",
       "    </tr>\n",
       "    <tr>\n",
       "      <td id=\"T_1ce52_row35_col0\" class=\"data row35 col0\" >36</td>\n",
       "      <td id=\"T_1ce52_row35_col1\" class=\"data row35 col1\" >ColumnTransformer, CyclicalFeature, MaxAbsScaler, GenericUnivariateSelect, RANSACRegressor</td>\n",
       "      <td id=\"T_1ce52_row35_col2\" class=\"data row35 col2\" >1.144</td>\n",
       "    </tr>\n",
       "    <tr>\n",
       "      <td id=\"T_1ce52_row36_col0\" class=\"data row36 col0\" >37</td>\n",
       "      <td id=\"T_1ce52_row36_col1\" class=\"data row36 col1\" >ColumnTransformer, CyclicalFeature, MaxAbsScaler, SelectKBest, XGBRegressor</td>\n",
       "      <td id=\"T_1ce52_row36_col2\" class=\"data row36 col2\" >1.259</td>\n",
       "    </tr>\n",
       "    <tr>\n",
       "      <td id=\"T_1ce52_row37_col0\" class=\"data row37 col0\" >38</td>\n",
       "      <td id=\"T_1ce52_row37_col1\" class=\"data row37 col1\" >ColumnTransformer, CyclicalFeature, MaxAbsScaler, GenericUnivariateSelect, GaussianProcessRegressor</td>\n",
       "      <td id=\"T_1ce52_row37_col2\" class=\"data row37 col2\" >1.449</td>\n",
       "    </tr>\n",
       "    <tr>\n",
       "      <td id=\"T_1ce52_row38_col0\" class=\"data row38 col0\" >39</td>\n",
       "      <td id=\"T_1ce52_row38_col1\" class=\"data row38 col1\" >NHITSEstimator</td>\n",
       "      <td id=\"T_1ce52_row38_col2\" class=\"data row38 col2\" >1.842</td>\n",
       "    </tr>\n",
       "    <tr>\n",
       "      <td id=\"T_1ce52_row39_col0\" class=\"data row39 col0\" >40</td>\n",
       "      <td id=\"T_1ce52_row39_col1\" class=\"data row39 col1\" >ColumnTransformer, CyclicalFeature, MaxAbsScaler, GenericUnivariateSelect, HuberRegressor</td>\n",
       "      <td id=\"T_1ce52_row39_col2\" class=\"data row39 col2\" >2.337</td>\n",
       "    </tr>\n",
       "    <tr>\n",
       "      <td id=\"T_1ce52_row40_col0\" class=\"data row40 col0\" >41</td>\n",
       "      <td id=\"T_1ce52_row40_col1\" class=\"data row40 col1\" >ColumnTransformer, Datetime64ExpandEncoder, MaxAbsScaler, GenericUnivariateSelect, HuberRegressor</td>\n",
       "      <td id=\"T_1ce52_row40_col2\" class=\"data row40 col2\" >2.856</td>\n",
       "    </tr>\n",
       "    <tr>\n",
       "      <td id=\"T_1ce52_row41_col0\" class=\"data row41 col0\" >42</td>\n",
       "      <td id=\"T_1ce52_row41_col1\" class=\"data row41 col1\" >ColumnTransformer, CyclicalFeature, MaxAbsScaler, GenericUnivariateSelect, KNeighborsRegressor</td>\n",
       "      <td id=\"T_1ce52_row41_col2\" class=\"data row41 col2\" >3.350</td>\n",
       "    </tr>\n",
       "    <tr>\n",
       "      <td id=\"T_1ce52_row42_col0\" class=\"data row42 col0\" >43</td>\n",
       "      <td id=\"T_1ce52_row42_col1\" class=\"data row42 col1\" >ColumnTransformer, Datetime64ExpandEncoder, MaxAbsScaler, GenericUnivariateSelect, KNeighborsRegressor</td>\n",
       "      <td id=\"T_1ce52_row42_col2\" class=\"data row42 col2\" >3.350</td>\n",
       "    </tr>\n",
       "    <tr>\n",
       "      <td id=\"T_1ce52_row43_col0\" class=\"data row43 col0\" >44</td>\n",
       "      <td id=\"T_1ce52_row43_col1\" class=\"data row43 col1\" >ColumnTransformer, CyclicalFeature, MaxAbsScaler, GenericUnivariateSelect, TheilSenRegressor</td>\n",
       "      <td id=\"T_1ce52_row43_col2\" class=\"data row43 col2\" >5.112</td>\n",
       "    </tr>\n",
       "    <tr>\n",
       "      <td id=\"T_1ce52_row44_col0\" class=\"data row44 col0\" >45</td>\n",
       "      <td id=\"T_1ce52_row44_col1\" class=\"data row44 col1\" >ColumnTransformer, CyclicalFeature, MaxAbsScaler, GenericUnivariateSelect, LinearRegression</td>\n",
       "      <td id=\"T_1ce52_row44_col2\" class=\"data row44 col2\" >5.252</td>\n",
       "    </tr>\n",
       "    <tr>\n",
       "      <td id=\"T_1ce52_row45_col0\" class=\"data row45 col0\" >46</td>\n",
       "      <td id=\"T_1ce52_row45_col1\" class=\"data row45 col1\" >ColumnTransformer, CyclicalFeature, MaxAbsScaler, GenericUnivariateSelect, Lars</td>\n",
       "      <td id=\"T_1ce52_row45_col2\" class=\"data row45 col2\" >5.252</td>\n",
       "    </tr>\n",
       "    <tr>\n",
       "      <td id=\"T_1ce52_row46_col0\" class=\"data row46 col0\" >47</td>\n",
       "      <td id=\"T_1ce52_row46_col1\" class=\"data row46 col1\" >ColumnTransformer, CyclicalFeature, MaxAbsScaler, GenericUnivariateSelect, BayesianRidge</td>\n",
       "      <td id=\"T_1ce52_row46_col2\" class=\"data row46 col2\" >5.260</td>\n",
       "    </tr>\n",
       "    <tr>\n",
       "      <td id=\"T_1ce52_row47_col0\" class=\"data row47 col0\" >48</td>\n",
       "      <td id=\"T_1ce52_row47_col1\" class=\"data row47 col1\" >ColumnTransformer, CyclicalFeature, MaxAbsScaler, GenericUnivariateSelect, ARDRegression</td>\n",
       "      <td id=\"T_1ce52_row47_col2\" class=\"data row47 col2\" >5.260</td>\n",
       "    </tr>\n",
       "    <tr>\n",
       "      <td id=\"T_1ce52_row48_col0\" class=\"data row48 col0\" >49</td>\n",
       "      <td id=\"T_1ce52_row48_col1\" class=\"data row48 col1\" >ColumnTransformer, Datetime64ExpandEncoder, MaxAbsScaler, GenericUnivariateSelect, LinearRegression</td>\n",
       "      <td id=\"T_1ce52_row48_col2\" class=\"data row48 col2\" >5.261</td>\n",
       "    </tr>\n",
       "    <tr>\n",
       "      <td id=\"T_1ce52_row49_col0\" class=\"data row49 col0\" >50</td>\n",
       "      <td id=\"T_1ce52_row49_col1\" class=\"data row49 col1\" >ColumnTransformer, Datetime64ExpandEncoder, GenericUnivariateSelect, Ridge</td>\n",
       "      <td id=\"T_1ce52_row49_col2\" class=\"data row49 col2\" >5.262</td>\n",
       "    </tr>\n",
       "    <tr>\n",
       "      <td id=\"T_1ce52_row50_col0\" class=\"data row50 col0\" >51</td>\n",
       "      <td id=\"T_1ce52_row50_col1\" class=\"data row50 col1\" >ColumnTransformer, CyclicalFeature, StandardScaler, GenericUnivariateSelect, Ridge</td>\n",
       "      <td id=\"T_1ce52_row50_col2\" class=\"data row50 col2\" >5.263</td>\n",
       "    </tr>\n",
       "    <tr>\n",
       "      <td id=\"T_1ce52_row51_col0\" class=\"data row51 col0\" >52</td>\n",
       "      <td id=\"T_1ce52_row51_col1\" class=\"data row51 col1\" >ColumnTransformer, CyclicalFeature, MaxAbsScaler, GenericUnivariateSelect, RidgeCV</td>\n",
       "      <td id=\"T_1ce52_row51_col2\" class=\"data row51 col2\" >5.264</td>\n",
       "    </tr>\n",
       "    <tr>\n",
       "      <td id=\"T_1ce52_row52_col0\" class=\"data row52 col0\" >53</td>\n",
       "      <td id=\"T_1ce52_row52_col1\" class=\"data row52 col1\" >ColumnTransformer, Datetime64ExpandEncoder, MaxAbsScaler, GenericUnivariateSelect, ARDRegression</td>\n",
       "      <td id=\"T_1ce52_row52_col2\" class=\"data row52 col2\" >5.269</td>\n",
       "    </tr>\n",
       "    <tr>\n",
       "      <td id=\"T_1ce52_row53_col0\" class=\"data row53 col0\" >54</td>\n",
       "      <td id=\"T_1ce52_row53_col1\" class=\"data row53 col1\" >ColumnTransformer, Datetime64ExpandEncoder, StandardScaler, GenericUnivariateSelect, Ridge</td>\n",
       "      <td id=\"T_1ce52_row53_col2\" class=\"data row53 col2\" >5.272</td>\n",
       "    </tr>\n",
       "    <tr>\n",
       "      <td id=\"T_1ce52_row54_col0\" class=\"data row54 col0\" >55</td>\n",
       "      <td id=\"T_1ce52_row54_col1\" class=\"data row54 col1\" >ColumnTransformer, CyclicalFeature, RobustScaler, GenericUnivariateSelect, Ridge</td>\n",
       "      <td id=\"T_1ce52_row54_col2\" class=\"data row54 col2\" >5.281</td>\n",
       "    </tr>\n",
       "    <tr>\n",
       "      <td id=\"T_1ce52_row55_col0\" class=\"data row55 col0\" >56</td>\n",
       "      <td id=\"T_1ce52_row55_col1\" class=\"data row55 col1\" >ColumnTransformer, CyclicalFeature, MaxAbsScaler, GenericUnivariateSelect, LassoCV</td>\n",
       "      <td id=\"T_1ce52_row55_col2\" class=\"data row55 col2\" >5.290</td>\n",
       "    </tr>\n",
       "    <tr>\n",
       "      <td id=\"T_1ce52_row56_col0\" class=\"data row56 col0\" >57</td>\n",
       "      <td id=\"T_1ce52_row56_col1\" class=\"data row56 col1\" >ColumnTransformer, Datetime64ExpandEncoder, RobustScaler, GenericUnivariateSelect, Ridge</td>\n",
       "      <td id=\"T_1ce52_row56_col2\" class=\"data row56 col2\" >5.290</td>\n",
       "    </tr>\n",
       "    <tr>\n",
       "      <td id=\"T_1ce52_row57_col0\" class=\"data row57 col0\" >58</td>\n",
       "      <td id=\"T_1ce52_row57_col1\" class=\"data row57 col1\" >ColumnTransformer, Datetime64ExpandEncoder, RobustScaler, SelectPercentile, Ridge</td>\n",
       "      <td id=\"T_1ce52_row57_col2\" class=\"data row57 col2\" >5.290</td>\n",
       "    </tr>\n",
       "    <tr>\n",
       "      <td id=\"T_1ce52_row58_col0\" class=\"data row58 col0\" >59</td>\n",
       "      <td id=\"T_1ce52_row58_col1\" class=\"data row58 col1\" >ColumnTransformer, Datetime64ExpandEncoder, MaxAbsScaler, LinearRegression</td>\n",
       "      <td id=\"T_1ce52_row58_col2\" class=\"data row58 col2\" >5.334</td>\n",
       "    </tr>\n",
       "    <tr>\n",
       "      <td id=\"T_1ce52_row59_col0\" class=\"data row59 col0\" >60</td>\n",
       "      <td id=\"T_1ce52_row59_col1\" class=\"data row59 col1\" >ColumnTransformer, CyclicalFeature, MaxAbsScaler, SelectPercentile, Ridge</td>\n",
       "      <td id=\"T_1ce52_row59_col2\" class=\"data row59 col2\" >5.371</td>\n",
       "    </tr>\n",
       "    <tr>\n",
       "      <td id=\"T_1ce52_row60_col0\" class=\"data row60 col0\" >61</td>\n",
       "      <td id=\"T_1ce52_row60_col1\" class=\"data row60 col1\" >ColumnTransformer, CyclicalFeature, MaxAbsScaler, GenericUnivariateSelect, Ridge</td>\n",
       "      <td id=\"T_1ce52_row60_col2\" class=\"data row60 col2\" >5.371</td>\n",
       "    </tr>\n",
       "    <tr>\n",
       "      <td id=\"T_1ce52_row61_col0\" class=\"data row61 col0\" >62</td>\n",
       "      <td id=\"T_1ce52_row61_col1\" class=\"data row61 col1\" >ColumnTransformer, CyclicalFeature, MaxAbsScaler, GenericUnivariateSelect, SGDRegressor</td>\n",
       "      <td id=\"T_1ce52_row61_col2\" class=\"data row61 col2\" >5.428</td>\n",
       "    </tr>\n",
       "    <tr>\n",
       "      <td id=\"T_1ce52_row62_col0\" class=\"data row62 col0\" >63</td>\n",
       "      <td id=\"T_1ce52_row62_col1\" class=\"data row62 col1\" >ColumnTransformer, Datetime64ExpandEncoder, Ridge</td>\n",
       "      <td id=\"T_1ce52_row62_col2\" class=\"data row62 col2\" >5.428</td>\n",
       "    </tr>\n",
       "    <tr>\n",
       "      <td id=\"T_1ce52_row63_col0\" class=\"data row63 col0\" >64</td>\n",
       "      <td id=\"T_1ce52_row63_col1\" class=\"data row63 col1\" >ColumnTransformer, Datetime64ExpandEncoder, MaxAbsScaler, ARDRegression</td>\n",
       "      <td id=\"T_1ce52_row63_col2\" class=\"data row63 col2\" >5.604</td>\n",
       "    </tr>\n",
       "    <tr>\n",
       "      <td id=\"T_1ce52_row64_col0\" class=\"data row64 col0\" >65</td>\n",
       "      <td id=\"T_1ce52_row64_col1\" class=\"data row64 col1\" >ColumnTransformer, Datetime64ExpandEncoder, StandardScaler, Ridge</td>\n",
       "      <td id=\"T_1ce52_row64_col2\" class=\"data row64 col2\" >5.615</td>\n",
       "    </tr>\n",
       "    <tr>\n",
       "      <td id=\"T_1ce52_row65_col0\" class=\"data row65 col0\" >66</td>\n",
       "      <td id=\"T_1ce52_row65_col1\" class=\"data row65 col1\" >ColumnTransformer, Datetime64ExpandEncoder, RobustScaler, Ridge</td>\n",
       "      <td id=\"T_1ce52_row65_col2\" class=\"data row65 col2\" >5.656</td>\n",
       "    </tr>\n",
       "    <tr>\n",
       "      <td id=\"T_1ce52_row66_col0\" class=\"data row66 col0\" >67</td>\n",
       "      <td id=\"T_1ce52_row66_col1\" class=\"data row66 col1\" >ColumnTransformer, CyclicalFeature, MaxAbsScaler, SelectKBest, Ridge</td>\n",
       "      <td id=\"T_1ce52_row66_col2\" class=\"data row66 col2\" >6.010</td>\n",
       "    </tr>\n",
       "    <tr>\n",
       "      <td id=\"T_1ce52_row67_col0\" class=\"data row67 col0\" >68</td>\n",
       "      <td id=\"T_1ce52_row67_col1\" class=\"data row67 col1\" >ColumnTransformer, CyclicalFeature, MaxAbsScaler, Ridge</td>\n",
       "      <td id=\"T_1ce52_row67_col2\" class=\"data row67 col2\" >6.012</td>\n",
       "    </tr>\n",
       "    <tr>\n",
       "      <td id=\"T_1ce52_row68_col0\" class=\"data row68 col0\" >69</td>\n",
       "      <td id=\"T_1ce52_row68_col1\" class=\"data row68 col1\" >ColumnTransformer, CyclicalFeature, MaxAbsScaler, SVR</td>\n",
       "      <td id=\"T_1ce52_row68_col2\" class=\"data row68 col2\" >6.148</td>\n",
       "    </tr>\n",
       "    <tr>\n",
       "      <td id=\"T_1ce52_row69_col0\" class=\"data row69 col0\" >70</td>\n",
       "      <td id=\"T_1ce52_row69_col1\" class=\"data row69 col1\" >ColumnTransformer, CyclicalFeature, MaxAbsScaler, SGDRegressor</td>\n",
       "      <td id=\"T_1ce52_row69_col2\" class=\"data row69 col2\" >6.629</td>\n",
       "    </tr>\n",
       "    <tr>\n",
       "      <td id=\"T_1ce52_row70_col0\" class=\"data row70 col0\" >71</td>\n",
       "      <td id=\"T_1ce52_row70_col1\" class=\"data row70 col1\" >NBEATSEstimator</td>\n",
       "      <td id=\"T_1ce52_row70_col2\" class=\"data row70 col2\" >33.238</td>\n",
       "    </tr>\n",
       "    <tr>\n",
       "      <td id=\"T_1ce52_row71_col0\" class=\"data row71 col0\" >72</td>\n",
       "      <td id=\"T_1ce52_row71_col1\" class=\"data row71 col1\" >ColumnTransformer, CyclicalFeature, GenericUnivariateSelect, Ridge</td>\n",
       "      <td id=\"T_1ce52_row71_col2\" class=\"data row71 col2\" >44.820</td>\n",
       "    </tr>\n",
       "    <tr>\n",
       "      <td id=\"T_1ce52_row72_col0\" class=\"data row72 col0\" >73</td>\n",
       "      <td id=\"T_1ce52_row72_col1\" class=\"data row72 col1\" >ColumnTransformer, CyclicalFeature, Ridge</td>\n",
       "      <td id=\"T_1ce52_row72_col2\" class=\"data row72 col2\" >46.564</td>\n",
       "    </tr>\n",
       "    <tr>\n",
       "      <td id=\"T_1ce52_row73_col0\" class=\"data row73 col0\" >74</td>\n",
       "      <td id=\"T_1ce52_row73_col1\" class=\"data row73 col1\" >ColumnTransformer, CyclicalFeature, MaxAbsScaler, GenericUnivariateSelect, Lasso</td>\n",
       "      <td id=\"T_1ce52_row73_col2\" class=\"data row73 col2\" >68.100</td>\n",
       "    </tr>\n",
       "    <tr>\n",
       "      <td id=\"T_1ce52_row74_col0\" class=\"data row74 col0\" >75</td>\n",
       "      <td id=\"T_1ce52_row74_col1\" class=\"data row74 col1\" >ColumnTransformer, Datetime64ExpandEncoder, MaxAbsScaler, GenericUnivariateSelect, PassiveAggressiveRegressor</td>\n",
       "      <td id=\"T_1ce52_row74_col2\" class=\"data row74 col2\" >81.786</td>\n",
       "    </tr>\n",
       "    <tr>\n",
       "      <td id=\"T_1ce52_row75_col0\" class=\"data row75 col0\" >76</td>\n",
       "      <td id=\"T_1ce52_row75_col1\" class=\"data row75 col1\" >ColumnTransformer, Datetime64ExpandEncoder, MaxAbsScaler, GenericUnivariateSelect, RidgeCV</td>\n",
       "      <td id=\"T_1ce52_row75_col2\" class=\"data row75 col2\" >82.787</td>\n",
       "    </tr>\n",
       "    <tr>\n",
       "      <td id=\"T_1ce52_row76_col0\" class=\"data row76 col0\" >77</td>\n",
       "      <td id=\"T_1ce52_row76_col1\" class=\"data row76 col1\" >ColumnTransformer, CyclicalFeature, MaxAbsScaler, GenericUnivariateSelect, ElasticNet</td>\n",
       "      <td id=\"T_1ce52_row76_col2\" class=\"data row76 col2\" >96.994</td>\n",
       "    </tr>\n",
       "    <tr>\n",
       "      <td id=\"T_1ce52_row77_col0\" class=\"data row77 col0\" >78</td>\n",
       "      <td id=\"T_1ce52_row77_col1\" class=\"data row77 col1\" >ColumnTransformer, OrdinalEncoder, MaxAbsScaler, RANSACRegressor</td>\n",
       "      <td id=\"T_1ce52_row77_col2\" class=\"data row77 col2\" >103.155</td>\n",
       "    </tr>\n",
       "    <tr>\n",
       "      <td id=\"T_1ce52_row78_col0\" class=\"data row78 col0\" >79</td>\n",
       "      <td id=\"T_1ce52_row78_col1\" class=\"data row78 col1\" >ColumnTransformer, Datetime64ExpandEncoder, MaxAbsScaler, GenericUnivariateSelect, Ridge</td>\n",
       "      <td id=\"T_1ce52_row78_col2\" class=\"data row78 col2\" >109.383</td>\n",
       "    </tr>\n",
       "    <tr>\n",
       "      <td id=\"T_1ce52_row79_col0\" class=\"data row79 col0\" >80</td>\n",
       "      <td id=\"T_1ce52_row79_col1\" class=\"data row79 col1\" >ColumnTransformer, Datetime64ExpandEncoder, MaxAbsScaler, SelectPercentile, Ridge</td>\n",
       "      <td id=\"T_1ce52_row79_col2\" class=\"data row79 col2\" >109.383</td>\n",
       "    </tr>\n",
       "    <tr>\n",
       "      <td id=\"T_1ce52_row80_col0\" class=\"data row80 col0\" >81</td>\n",
       "      <td id=\"T_1ce52_row80_col1\" class=\"data row80 col1\" >ColumnTransformer, Datetime64ExpandEncoder, MaxAbsScaler, Ridge</td>\n",
       "      <td id=\"T_1ce52_row80_col2\" class=\"data row80 col2\" >110.160</td>\n",
       "    </tr>\n",
       "    <tr>\n",
       "      <td id=\"T_1ce52_row81_col0\" class=\"data row81 col0\" >82</td>\n",
       "      <td id=\"T_1ce52_row81_col1\" class=\"data row81 col1\" >ColumnTransformer, OrdinalEncoder, MaxAbsScaler, Lars</td>\n",
       "      <td id=\"T_1ce52_row81_col2\" class=\"data row81 col2\" >111.947</td>\n",
       "    </tr>\n",
       "    <tr>\n",
       "      <td id=\"T_1ce52_row82_col0\" class=\"data row82 col0\" >83</td>\n",
       "      <td id=\"T_1ce52_row82_col1\" class=\"data row82 col1\" >ColumnTransformer, OrdinalEncoder, MaxAbsScaler, LinearRegression</td>\n",
       "      <td id=\"T_1ce52_row82_col2\" class=\"data row82 col2\" >111.947</td>\n",
       "    </tr>\n",
       "    <tr>\n",
       "      <td id=\"T_1ce52_row83_col0\" class=\"data row83 col0\" >84</td>\n",
       "      <td id=\"T_1ce52_row83_col1\" class=\"data row83 col1\" >ColumnTransformer, OrdinalEncoder, RobustScaler, LinearRegression</td>\n",
       "      <td id=\"T_1ce52_row83_col2\" class=\"data row83 col2\" >111.947</td>\n",
       "    </tr>\n",
       "    <tr>\n",
       "      <td id=\"T_1ce52_row84_col0\" class=\"data row84 col0\" >85</td>\n",
       "      <td id=\"T_1ce52_row84_col1\" class=\"data row84 col1\" >ColumnTransformer, OrdinalEncoder, Ridge</td>\n",
       "      <td id=\"T_1ce52_row84_col2\" class=\"data row84 col2\" >111.947</td>\n",
       "    </tr>\n",
       "    <tr>\n",
       "      <td id=\"T_1ce52_row85_col0\" class=\"data row85 col0\" >86</td>\n",
       "      <td id=\"T_1ce52_row85_col1\" class=\"data row85 col1\" >ColumnTransformer, OrdinalEncoder, StandardScaler, Ridge</td>\n",
       "      <td id=\"T_1ce52_row85_col2\" class=\"data row85 col2\" >111.947</td>\n",
       "    </tr>\n",
       "    <tr>\n",
       "      <td id=\"T_1ce52_row86_col0\" class=\"data row86 col0\" >87</td>\n",
       "      <td id=\"T_1ce52_row86_col1\" class=\"data row86 col1\" >ColumnTransformer, OrdinalEncoder, RobustScaler, Ridge</td>\n",
       "      <td id=\"T_1ce52_row86_col2\" class=\"data row86 col2\" >111.948</td>\n",
       "    </tr>\n",
       "    <tr>\n",
       "      <td id=\"T_1ce52_row87_col0\" class=\"data row87 col0\" >88</td>\n",
       "      <td id=\"T_1ce52_row87_col1\" class=\"data row87 col1\" >ColumnTransformer, OrdinalEncoder, MaxAbsScaler, Ridge</td>\n",
       "      <td id=\"T_1ce52_row87_col2\" class=\"data row87 col2\" >111.951</td>\n",
       "    </tr>\n",
       "    <tr>\n",
       "      <td id=\"T_1ce52_row88_col0\" class=\"data row88 col0\" >89</td>\n",
       "      <td id=\"T_1ce52_row88_col1\" class=\"data row88 col1\" >ColumnTransformer, OrdinalEncoder, MaxAbsScaler, RidgeCV</td>\n",
       "      <td id=\"T_1ce52_row88_col2\" class=\"data row88 col2\" >111.989</td>\n",
       "    </tr>\n",
       "    <tr>\n",
       "      <td id=\"T_1ce52_row89_col0\" class=\"data row89 col0\" >90</td>\n",
       "      <td id=\"T_1ce52_row89_col1\" class=\"data row89 col1\" >ColumnTransformer, Datetime64ExpandEncoder, MaxAbsScaler, GenericUnivariateSelect, SGDRegressor</td>\n",
       "      <td id=\"T_1ce52_row89_col2\" class=\"data row89 col2\" >112.893</td>\n",
       "    </tr>\n",
       "    <tr>\n",
       "      <td id=\"T_1ce52_row90_col0\" class=\"data row90 col0\" >91</td>\n",
       "      <td id=\"T_1ce52_row90_col1\" class=\"data row90 col1\" >ColumnTransformer, OrdinalEncoder, StandardScaler, ARDRegression</td>\n",
       "      <td id=\"T_1ce52_row90_col2\" class=\"data row90 col2\" >113.275</td>\n",
       "    </tr>\n",
       "    <tr>\n",
       "      <td id=\"T_1ce52_row91_col0\" class=\"data row91 col0\" >92</td>\n",
       "      <td id=\"T_1ce52_row91_col1\" class=\"data row91 col1\" >ColumnTransformer, OrdinalEncoder, RobustScaler, ARDRegression</td>\n",
       "      <td id=\"T_1ce52_row91_col2\" class=\"data row91 col2\" >113.284</td>\n",
       "    </tr>\n",
       "    <tr>\n",
       "      <td id=\"T_1ce52_row92_col0\" class=\"data row92 col0\" >93</td>\n",
       "      <td id=\"T_1ce52_row92_col1\" class=\"data row92 col1\" >ColumnTransformer, OrdinalEncoder, MaxAbsScaler, ARDRegression</td>\n",
       "      <td id=\"T_1ce52_row92_col2\" class=\"data row92 col2\" >113.288</td>\n",
       "    </tr>\n",
       "    <tr>\n",
       "      <td id=\"T_1ce52_row93_col0\" class=\"data row93 col0\" >94</td>\n",
       "      <td id=\"T_1ce52_row93_col1\" class=\"data row93 col1\" >ColumnTransformer, OrdinalEncoder, MaxAbsScaler, BayesianRidge</td>\n",
       "      <td id=\"T_1ce52_row93_col2\" class=\"data row93 col2\" >113.288</td>\n",
       "    </tr>\n",
       "    <tr>\n",
       "      <td id=\"T_1ce52_row94_col0\" class=\"data row94 col0\" >95</td>\n",
       "      <td id=\"T_1ce52_row94_col1\" class=\"data row94 col1\" >ColumnTransformer, Datetime64ExpandEncoder, MaxAbsScaler, GenericUnivariateSelect, Lasso</td>\n",
       "      <td id=\"T_1ce52_row94_col2\" class=\"data row94 col2\" >113.294</td>\n",
       "    </tr>\n",
       "    <tr>\n",
       "      <td id=\"T_1ce52_row95_col0\" class=\"data row95 col0\" >96</td>\n",
       "      <td id=\"T_1ce52_row95_col1\" class=\"data row95 col1\" >ColumnTransformer, OrdinalEncoder, ARDRegression</td>\n",
       "      <td id=\"T_1ce52_row95_col2\" class=\"data row95 col2\" >113.294</td>\n",
       "    </tr>\n",
       "    <tr>\n",
       "      <td id=\"T_1ce52_row96_col0\" class=\"data row96 col0\" >97</td>\n",
       "      <td id=\"T_1ce52_row96_col1\" class=\"data row96 col1\" >ColumnTransformer, OrdinalEncoder, MaxAbsScaler, Lasso</td>\n",
       "      <td id=\"T_1ce52_row96_col2\" class=\"data row96 col2\" >113.294</td>\n",
       "    </tr>\n",
       "    <tr>\n",
       "      <td id=\"T_1ce52_row97_col0\" class=\"data row97 col0\" >98</td>\n",
       "      <td id=\"T_1ce52_row97_col1\" class=\"data row97 col1\" >ColumnTransformer, OrdinalEncoder, MaxAbsScaler, ElasticNet</td>\n",
       "      <td id=\"T_1ce52_row97_col2\" class=\"data row97 col2\" >113.294</td>\n",
       "    </tr>\n",
       "    <tr>\n",
       "      <td id=\"T_1ce52_row98_col0\" class=\"data row98 col0\" >99</td>\n",
       "      <td id=\"T_1ce52_row98_col1\" class=\"data row98 col1\" >ColumnTransformer, OrdinalEncoder, MaxAbsScaler, LassoCV</td>\n",
       "      <td id=\"T_1ce52_row98_col2\" class=\"data row98 col2\" >113.294</td>\n",
       "    </tr>\n",
       "    <tr>\n",
       "      <td id=\"T_1ce52_row99_col0\" class=\"data row99 col0\" >100</td>\n",
       "      <td id=\"T_1ce52_row99_col1\" class=\"data row99 col1\" >ColumnTransformer, OrdinalEncoder, MaxAbsScaler, SGDRegressor</td>\n",
       "      <td id=\"T_1ce52_row99_col2\" class=\"data row99 col2\" >113.819</td>\n",
       "    </tr>\n",
       "    <tr>\n",
       "      <td id=\"T_1ce52_row100_col0\" class=\"data row100 col0\" >101</td>\n",
       "      <td id=\"T_1ce52_row100_col1\" class=\"data row100 col1\" >ColumnTransformer, OrdinalEncoder, MaxAbsScaler, LinearSVR</td>\n",
       "      <td id=\"T_1ce52_row100_col2\" class=\"data row100 col2\" >116.629</td>\n",
       "    </tr>\n",
       "    <tr>\n",
       "      <td id=\"T_1ce52_row101_col0\" class=\"data row101 col0\" >102</td>\n",
       "      <td id=\"T_1ce52_row101_col1\" class=\"data row101 col1\" >ColumnTransformer, OrdinalEncoder, MaxAbsScaler, GaussianProcessRegressor</td>\n",
       "      <td id=\"T_1ce52_row101_col2\" class=\"data row101 col2\" >121.953</td>\n",
       "    </tr>\n",
       "    <tr>\n",
       "      <td id=\"T_1ce52_row102_col0\" class=\"data row102 col0\" >103</td>\n",
       "      <td id=\"T_1ce52_row102_col1\" class=\"data row102 col1\" >ColumnTransformer, OrdinalEncoder, MaxAbsScaler, LGBMRegressor</td>\n",
       "      <td id=\"T_1ce52_row102_col2\" class=\"data row102 col2\" >122.301</td>\n",
       "    </tr>\n",
       "    <tr>\n",
       "      <td id=\"T_1ce52_row103_col0\" class=\"data row103 col0\" >104</td>\n",
       "      <td id=\"T_1ce52_row103_col1\" class=\"data row103 col1\" >ColumnTransformer, OrdinalEncoder, MaxAbsScaler, HuberRegressor</td>\n",
       "      <td id=\"T_1ce52_row103_col2\" class=\"data row103 col2\" >126.173</td>\n",
       "    </tr>\n",
       "    <tr>\n",
       "      <td id=\"T_1ce52_row104_col0\" class=\"data row104 col0\" >105</td>\n",
       "      <td id=\"T_1ce52_row104_col1\" class=\"data row104 col1\" >ColumnTransformer, OrdinalEncoder, MaxAbsScaler, TheilSenRegressor</td>\n",
       "      <td id=\"T_1ce52_row104_col2\" class=\"data row104 col2\" >129.202</td>\n",
       "    </tr>\n",
       "    <tr>\n",
       "      <td id=\"T_1ce52_row105_col0\" class=\"data row105 col0\" >106</td>\n",
       "      <td id=\"T_1ce52_row105_col1\" class=\"data row105 col1\" >ColumnTransformer, OrdinalEncoder, MaxAbsScaler, SVR</td>\n",
       "      <td id=\"T_1ce52_row105_col2\" class=\"data row105 col2\" >137.871</td>\n",
       "    </tr>\n",
       "    <tr>\n",
       "      <td id=\"T_1ce52_row106_col0\" class=\"data row106 col0\" >107</td>\n",
       "      <td id=\"T_1ce52_row106_col1\" class=\"data row106 col1\" >ColumnTransformer, OrdinalEncoder, RobustScaler, SVR</td>\n",
       "      <td id=\"T_1ce52_row106_col2\" class=\"data row106 col2\" >137.871</td>\n",
       "    </tr>\n",
       "    <tr>\n",
       "      <td id=\"T_1ce52_row107_col0\" class=\"data row107 col0\" >108</td>\n",
       "      <td id=\"T_1ce52_row107_col1\" class=\"data row107 col1\" >ColumnTransformer, OrdinalEncoder, MaxAbsScaler, PassiveAggressiveRegressor</td>\n",
       "      <td id=\"T_1ce52_row107_col2\" class=\"data row107 col2\" >169.315</td>\n",
       "    </tr>\n",
       "    <tr>\n",
       "      <td id=\"T_1ce52_row108_col0\" class=\"data row108 col0\" >109</td>\n",
       "      <td id=\"T_1ce52_row108_col1\" class=\"data row108 col1\" >ColumnTransformer, OrdinalEncoder, MaxAbsScaler, KNeighborsRegressor</td>\n",
       "      <td id=\"T_1ce52_row108_col2\" class=\"data row108 col2\" >207.507</td>\n",
       "    </tr>\n",
       "    <tr>\n",
       "      <td id=\"T_1ce52_row109_col0\" class=\"data row109 col0\" >110</td>\n",
       "      <td id=\"T_1ce52_row109_col1\" class=\"data row109 col1\" >ColumnTransformer, OrdinalEncoder, MaxAbsScaler, GradientBoostingRegressor</td>\n",
       "      <td id=\"T_1ce52_row109_col2\" class=\"data row109 col2\" >252.195</td>\n",
       "    </tr>\n",
       "    <tr>\n",
       "      <td id=\"T_1ce52_row110_col0\" class=\"data row110 col0\" >111</td>\n",
       "      <td id=\"T_1ce52_row110_col1\" class=\"data row110 col1\" >ColumnTransformer, OrdinalEncoder, MaxAbsScaler, XGBRegressor</td>\n",
       "      <td id=\"T_1ce52_row110_col2\" class=\"data row110 col2\" >271.684</td>\n",
       "    </tr>\n",
       "    <tr>\n",
       "      <td id=\"T_1ce52_row111_col0\" class=\"data row111 col0\" >112</td>\n",
       "      <td id=\"T_1ce52_row111_col1\" class=\"data row111 col1\" >ColumnTransformer, OrdinalEncoder, XGBRegressor</td>\n",
       "      <td id=\"T_1ce52_row111_col2\" class=\"data row111 col2\" >271.684</td>\n",
       "    </tr>\n",
       "    <tr>\n",
       "      <td id=\"T_1ce52_row112_col0\" class=\"data row112 col0\" >113</td>\n",
       "      <td id=\"T_1ce52_row112_col1\" class=\"data row112 col1\" >ColumnTransformer, OrdinalEncoder, RobustScaler, XGBRegressor</td>\n",
       "      <td id=\"T_1ce52_row112_col2\" class=\"data row112 col2\" >271.684</td>\n",
       "    </tr>\n",
       "    <tr>\n",
       "      <td id=\"T_1ce52_row113_col0\" class=\"data row113 col0\" >114</td>\n",
       "      <td id=\"T_1ce52_row113_col1\" class=\"data row113 col1\" >ColumnTransformer, OrdinalEncoder, StandardScaler, XGBRegressor</td>\n",
       "      <td id=\"T_1ce52_row113_col2\" class=\"data row113 col2\" >271.684</td>\n",
       "    </tr>\n",
       "    <tr>\n",
       "      <td id=\"T_1ce52_row114_col0\" class=\"data row114 col0\" >115</td>\n",
       "      <td id=\"T_1ce52_row114_col1\" class=\"data row114 col1\" >ColumnTransformer, OrdinalEncoder, MaxAbsScaler, ExtraTreesRegressor</td>\n",
       "      <td id=\"T_1ce52_row114_col2\" class=\"data row114 col2\" >278.702</td>\n",
       "    </tr>\n",
       "    <tr>\n",
       "      <td id=\"T_1ce52_row115_col0\" class=\"data row115 col0\" >116</td>\n",
       "      <td id=\"T_1ce52_row115_col1\" class=\"data row115 col1\" >ColumnTransformer, OrdinalEncoder, RobustScaler, ExtraTreesRegressor</td>\n",
       "      <td id=\"T_1ce52_row115_col2\" class=\"data row115 col2\" >278.702</td>\n",
       "    </tr>\n",
       "    <tr>\n",
       "      <td id=\"T_1ce52_row116_col0\" class=\"data row116 col0\" >117</td>\n",
       "      <td id=\"T_1ce52_row116_col1\" class=\"data row116 col1\" >ColumnTransformer, OrdinalEncoder, RobustScaler, DecisionTreeRegressor</td>\n",
       "      <td id=\"T_1ce52_row116_col2\" class=\"data row116 col2\" >278.702</td>\n",
       "    </tr>\n",
       "    <tr>\n",
       "      <td id=\"T_1ce52_row117_col0\" class=\"data row117 col0\" >118</td>\n",
       "      <td id=\"T_1ce52_row117_col1\" class=\"data row117 col1\" >ColumnTransformer, OrdinalEncoder, MaxAbsScaler, DecisionTreeRegressor</td>\n",
       "      <td id=\"T_1ce52_row117_col2\" class=\"data row117 col2\" >278.702</td>\n",
       "    </tr>\n",
       "    <tr>\n",
       "      <td id=\"T_1ce52_row118_col0\" class=\"data row118 col0\" >119</td>\n",
       "      <td id=\"T_1ce52_row118_col1\" class=\"data row118 col1\" >ColumnTransformer, OrdinalEncoder, DecisionTreeRegressor</td>\n",
       "      <td id=\"T_1ce52_row118_col2\" class=\"data row118 col2\" >278.702</td>\n",
       "    </tr>\n",
       "    <tr>\n",
       "      <td id=\"T_1ce52_row119_col0\" class=\"data row119 col0\" >120</td>\n",
       "      <td id=\"T_1ce52_row119_col1\" class=\"data row119 col1\" >ColumnTransformer, OrdinalEncoder, StandardScaler, DecisionTreeRegressor</td>\n",
       "      <td id=\"T_1ce52_row119_col2\" class=\"data row119 col2\" >278.702</td>\n",
       "    </tr>\n",
       "    <tr>\n",
       "      <td id=\"T_1ce52_row120_col0\" class=\"data row120 col0\" >121</td>\n",
       "      <td id=\"T_1ce52_row120_col1\" class=\"data row120 col1\" >ColumnTransformer, OrdinalEncoder, MaxAbsScaler, RandomForestRegressor</td>\n",
       "      <td id=\"T_1ce52_row120_col2\" class=\"data row120 col2\" >299.371</td>\n",
       "    </tr>\n",
       "  </tbody>\n",
       "</table>\n"
      ],
      "text/plain": [
       "<pandas.io.formats.style.Styler at 0x7f6820de9bd0>"
      ]
     },
     "execution_count": 5,
     "metadata": {},
     "output_type": "execute_result"
    }
   ],
   "source": [
    "automl.plot_leaderboard()"
   ]
  },
  {
   "cell_type": "markdown",
   "metadata": {},
   "source": [
    "In order to explore the produced pipelines, we can use [PipelineProfiler](https://github.com/VIDA-NYU/PipelineVis). PipelineProfiler is a visualization that enables users to compare and explore the pipelines generated by the AlphaAutoML system.\n",
    "\n",
    "After the pipeline search process is completed, we can use PipelineProfiler with:"
   ]
  },
  {
   "cell_type": "code",
   "execution_count": null,
   "metadata": {},
   "outputs": [],
   "source": [
    "automl.plot_comparison_pipelines()"
   ]
  },
  {
   "cell_type": "markdown",
   "metadata": {},
   "source": [
    "For more information about how to use PipelineProfiler, click [here](https://towardsdatascience.com/exploring-auto-sklearn-models-with-pipelineprofiler-5b2c54136044). There is also a video demo available [here](https://www.youtube.com/watch?v=2WSYoaxLLJ8)."
   ]
  },
  {
   "cell_type": "markdown",
   "metadata": {},
   "source": [
    "### Testing Pipelines"
   ]
  },
  {
   "cell_type": "markdown",
   "metadata": {},
   "source": [
    "Pipeline predictions are accessed with:"
   ]
  },
  {
   "cell_type": "code",
   "execution_count": 6,
   "metadata": {
    "scrolled": true
   },
   "outputs": [
    {
     "data": {
      "text/plain": [
       "array([[24.33 ],\n",
       "       [24.065],\n",
       "       [23.89 ],\n",
       "       [23.88 ],\n",
       "       [23.96 ],\n",
       "       [23.85 ],\n",
       "       [23.79 ],\n",
       "       [24.57 ],\n",
       "       [24.7  ],\n",
       "       [24.36 ],\n",
       "       [24.85 ],\n",
       "       [23.13 ],\n",
       "       [22.72 ],\n",
       "       [22.99 ],\n",
       "       [23.31 ],\n",
       "       [23.41 ],\n",
       "       [23.78 ],\n",
       "       [23.76 ],\n",
       "       [23.83 ],\n",
       "       [23.93 ],\n",
       "       [24.61 ],\n",
       "       [24.86 ],\n",
       "       [25.13 ],\n",
       "       [25.12 ],\n",
       "       [26.09 ],\n",
       "       [26.34 ],\n",
       "       [26.49 ],\n",
       "       [26.5  ],\n",
       "       [26.99 ],\n",
       "       [29.93 ],\n",
       "       [30.49 ],\n",
       "       [30.68 ],\n",
       "       [31.4  ],\n",
       "       [31.31 ],\n",
       "       [31.17 ],\n",
       "       [31.16 ],\n",
       "       [31.25 ],\n",
       "       [30.79 ],\n",
       "       [30.95 ],\n",
       "       [31.06 ],\n",
       "       [31.39 ],\n",
       "       [31.15 ],\n",
       "       [31.11 ],\n",
       "       [31.12 ],\n",
       "       [31.2  ],\n",
       "       [30.89 ],\n",
       "       [31.05 ],\n",
       "       [30.83 ],\n",
       "       [30.61 ],\n",
       "       [30.52 ],\n",
       "       [30.63 ],\n",
       "       [30.62 ],\n",
       "       [30.67 ],\n",
       "       [31.25 ],\n",
       "       [31.34 ],\n",
       "       [31.31 ],\n",
       "       [31.4  ],\n",
       "       [31.77 ],\n",
       "       [32.16 ],\n",
       "       [32.13 ],\n",
       "       [32.28 ],\n",
       "       [32.41 ],\n",
       "       [32.52 ],\n",
       "       [32.7  ],\n",
       "       [31.89 ],\n",
       "       [32.49 ],\n",
       "       [31.91 ],\n",
       "       [31.8  ],\n",
       "       [31.98 ],\n",
       "       [31.77 ],\n",
       "       [31.57 ],\n",
       "       [31.36 ],\n",
       "       [31.97 ],\n",
       "       [32.28 ],\n",
       "       [32.08 ],\n",
       "       [31.67 ],\n",
       "       [31.94 ],\n",
       "       [31.85 ],\n",
       "       [32.3  ],\n",
       "       [32.9  ],\n",
       "       [32.55 ],\n",
       "       [32.56 ],\n",
       "       [32.15 ],\n",
       "       [32.13 ],\n",
       "       [31.62 ],\n",
       "       [31.95 ],\n",
       "       [31.46 ],\n",
       "       [31.5  ],\n",
       "       [31.51 ],\n",
       "       [31.89 ],\n",
       "       [31.81 ],\n",
       "       [31.64 ],\n",
       "       [32.52 ],\n",
       "       [29.02 ],\n",
       "       [29.06 ],\n",
       "       [29.22 ],\n",
       "       [29.05 ],\n",
       "       [28.82 ],\n",
       "       [28.81 ],\n",
       "       [28.6  ],\n",
       "       [28.51 ],\n",
       "       [28.57 ],\n",
       "       [30.01 ],\n",
       "       [29.84 ],\n",
       "       [29.76 ],\n",
       "       [30.01 ],\n",
       "       [31.05 ],\n",
       "       [30.75 ],\n",
       "       [30.25 ],\n",
       "       [30.41 ],\n",
       "       [30.35 ],\n",
       "       [30.29 ],\n",
       "       [30.29 ],\n",
       "       [30.39 ],\n",
       "       [30.72 ],\n",
       "       [30.64 ],\n",
       "       [30.27 ],\n",
       "       [29.99 ],\n",
       "       [30.21 ],\n",
       "       [31.74 ],\n",
       "       [32.51 ],\n",
       "       [32.17 ],\n",
       "       [31.83 ],\n",
       "       [32.18 ],\n",
       "       [31.97 ],\n",
       "       [32.07 ],\n",
       "       [32.03 ],\n",
       "       [32.43 ],\n",
       "       [33.25 ],\n",
       "       [33.12 ],\n",
       "       [33.63 ],\n",
       "       [33.79 ],\n",
       "       [33.63 ],\n",
       "       [34.01 ],\n",
       "       [33.55 ],\n",
       "       [33.76 ],\n",
       "       [33.92 ],\n",
       "       [33.82 ],\n",
       "       [33.6  ],\n",
       "       [34.06 ],\n",
       "       [34.28 ],\n",
       "       [33.9  ],\n",
       "       [34.275],\n",
       "       [33.91 ],\n",
       "       [33.74 ],\n",
       "       [33.64 ],\n",
       "       [33.47 ],\n",
       "       [33.32 ],\n",
       "       [33.18 ],\n",
       "       [33.13 ],\n",
       "       [32.81 ],\n",
       "       [32.86 ],\n",
       "       [32.89 ],\n",
       "       [33.1  ],\n",
       "       [33.7  ],\n",
       "       [33.81 ],\n",
       "       [33.19 ],\n",
       "       [33.53 ],\n",
       "       [33.52 ],\n",
       "       [33.4  ],\n",
       "       [33.43 ],\n",
       "       [33.53 ],\n",
       "       [33.65 ],\n",
       "       [33.7  ],\n",
       "       [33.57 ],\n",
       "       [33.76 ],\n",
       "       [34.14 ],\n",
       "       [33.81 ],\n",
       "       [34.16 ],\n",
       "       [33.91 ],\n",
       "       [34.06 ],\n",
       "       [33.99 ],\n",
       "       [34.27 ],\n",
       "       [34.33 ],\n",
       "       [34.44 ],\n",
       "       [34.02 ],\n",
       "       [33.855],\n",
       "       [32.53 ],\n",
       "       [32.18 ],\n",
       "       [32.05 ],\n",
       "       [32.81 ],\n",
       "       [33.01 ],\n",
       "       [33.06 ],\n",
       "       [33.41 ],\n",
       "       [33.31 ],\n",
       "       [33.51 ],\n",
       "       [33.26 ],\n",
       "       [33.51 ],\n",
       "       [33.5  ],\n",
       "       [33.24 ],\n",
       "       [33.72 ],\n",
       "       [33.88 ],\n",
       "       [34.12 ],\n",
       "       [34.07 ],\n",
       "       [34.18 ],\n",
       "       [34.81 ],\n",
       "       [33.58 ],\n",
       "       [33.73 ],\n",
       "       [33.83 ],\n",
       "       [33.86 ],\n",
       "       [34.61 ],\n",
       "       [34.82 ],\n",
       "       [35.22 ],\n",
       "       [34.9  ],\n",
       "       [34.62 ],\n",
       "       [34.3  ],\n",
       "       [34.79 ],\n",
       "       [35.32 ],\n",
       "       [35.55 ],\n",
       "       [35.47 ],\n",
       "       [35.77 ],\n",
       "       [36.14 ],\n",
       "       [34.94 ],\n",
       "       [34.15 ],\n",
       "       [34.46 ],\n",
       "       [34.5  ],\n",
       "       [34.09 ],\n",
       "       [33.96 ],\n",
       "       [34.9  ],\n",
       "       [34.93 ],\n",
       "       [34.96 ],\n",
       "       [35.12 ],\n",
       "       [35.57 ],\n",
       "       [35.09 ],\n",
       "       [34.91 ],\n",
       "       [35.31 ],\n",
       "       [34.51 ],\n",
       "       [34.92 ],\n",
       "       [34.6  ],\n",
       "       [34.72 ],\n",
       "       [34.03 ],\n",
       "       [34.23 ],\n",
       "       [35.04 ],\n",
       "       [35.19 ],\n",
       "       [36.03 ],\n",
       "       [36.5  ],\n",
       "       [37.08 ],\n",
       "       [37.05 ],\n",
       "       [36.81 ],\n",
       "       [37.08 ],\n",
       "       [37.18 ],\n",
       "       [36.61 ],\n",
       "       [36.38 ],\n",
       "       [36.32 ],\n",
       "       [37.04 ],\n",
       "       [36.17 ],\n",
       "       [35.94 ],\n",
       "       [35.73 ],\n",
       "       [35.91 ],\n",
       "       [35.9  ],\n",
       "       [35.71 ],\n",
       "       [35.62 ],\n",
       "       [36.11 ],\n",
       "       [36.36 ],\n",
       "       [36.08 ],\n",
       "       [34.99 ],\n",
       "       [35.05 ],\n",
       "       [35.2  ],\n",
       "       [35.25 ],\n",
       "       [35.36 ],\n",
       "       [34.85 ],\n",
       "       [34.78 ],\n",
       "       [34.24 ],\n",
       "       [34.81 ],\n",
       "       [34.89 ],\n",
       "       [34.88 ],\n",
       "       [34.68 ],\n",
       "       [34.81 ],\n",
       "       [35.2  ],\n",
       "       [35.69 ],\n",
       "       [36.13 ],\n",
       "       [36.35 ],\n",
       "       [36.09 ],\n",
       "       [36.76 ],\n",
       "       [38.01 ],\n",
       "       [37.79 ],\n",
       "       [38.09 ],\n",
       "       [38.18 ],\n",
       "       [38.27 ],\n",
       "       [38.31 ],\n",
       "       [38.4  ],\n",
       "       [38.39 ],\n",
       "       [38.59 ],\n",
       "       [38.54 ],\n",
       "       [38.25 ],\n",
       "       [38.29 ],\n",
       "       [37.78 ],\n",
       "       [37.85 ],\n",
       "       [38.05 ],\n",
       "       [37.73 ],\n",
       "       [38.46 ]], dtype=float32)"
      ]
     },
     "execution_count": 6,
     "metadata": {},
     "output_type": "execute_result"
    }
   ],
   "source": [
    "y_pred = automl.predict(X_test)\n",
    "y_pred"
   ]
  },
  {
   "cell_type": "markdown",
   "metadata": {},
   "source": [
    "The pipeline can be evaluated against a held out dataset with the function call:"
   ]
  },
  {
   "cell_type": "code",
   "execution_count": 7,
   "metadata": {},
   "outputs": [
    {
     "name": "stdout",
     "output_type": "stream",
     "text": [
      "INFO:alpha_automl.automl_api:Metric: mean_squared_error, Score: 9.007185459125963e-13\n"
     ]
    },
    {
     "data": {
      "text/plain": [
       "{'metric': 'mean_squared_error', 'score': 9.007185459125963e-13}"
      ]
     },
     "execution_count": 7,
     "metadata": {},
     "output_type": "execute_result"
    }
   ],
   "source": [
    "automl.score(X_test, y_test)"
   ]
  }
 ],
 "metadata": {
  "kernelspec": {
   "display_name": "Python 3 (ipykernel)",
   "language": "python",
   "name": "python3"
  },
  "language_info": {
   "codemirror_mode": {
    "name": "ipython",
    "version": 3
   },
   "file_extension": ".py",
   "mimetype": "text/x-python",
   "name": "python",
   "nbconvert_exporter": "python",
   "pygments_lexer": "ipython3",
   "version": "3.8.16"
  }
 },
 "nbformat": 4,
 "nbformat_minor": 4
}
