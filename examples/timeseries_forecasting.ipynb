{
 "cells": [
  {
   "cell_type": "markdown",
   "metadata": {},
   "source": [
    "## Solving Time Series Forecasting Tasks"
   ]
  },
  {
   "cell_type": "markdown",
   "metadata": {},
   "source": [
    "First, import the class `AutoMLTimeSeries`"
   ]
  },
  {
   "cell_type": "code",
   "execution_count": 1,
   "metadata": {},
   "outputs": [],
   "source": [
    "import numpy as np\n",
    "import pandas as pd\n",
    "from alpha_automl import AutoMLTimeSeries"
   ]
  },
  {
   "cell_type": "markdown",
   "metadata": {},
   "source": [
    "### Generating Pipelines for CSV Datasets"
   ]
  },
  {
   "cell_type": "markdown",
   "metadata": {},
   "source": [
    "In this example, we are generating pipelines for a CSV dataset. The [stock_market dataset](https://datasets.datadrivendiscovery.org/d3m/datasets/-/tree/master/seed_datasets_current/LL1_736_stock_market_MIN_METADATA) is used for this example."
   ]
  },
  {
   "cell_type": "code",
   "execution_count": 2,
   "metadata": {},
   "outputs": [],
   "source": [
    "\n",
    "train_dataset = pd.read_csv('datasets/stock_market/train_data.csv')\n",
    "test_dataset = pd.read_csv('datasets/stock_market/test_data.csv')"
   ]
  },
  {
   "cell_type": "code",
   "execution_count": 3,
   "metadata": {},
   "outputs": [
    {
     "data": {
      "text/html": [
       "<div>\n",
       "<style scoped>\n",
       "    .dataframe tbody tr th:only-of-type {\n",
       "        vertical-align: middle;\n",
       "    }\n",
       "\n",
       "    .dataframe tbody tr th {\n",
       "        vertical-align: top;\n",
       "    }\n",
       "\n",
       "    .dataframe thead th {\n",
       "        text-align: right;\n",
       "    }\n",
       "</style>\n",
       "<table border=\"1\" class=\"dataframe\">\n",
       "  <thead>\n",
       "    <tr style=\"text-align: right;\">\n",
       "      <th></th>\n",
       "      <th>Date</th>\n",
       "      <th>Close</th>\n",
       "    </tr>\n",
       "  </thead>\n",
       "  <tbody>\n",
       "    <tr>\n",
       "      <th>0</th>\n",
       "      <td>1/4/99</td>\n",
       "      <td>4.2088</td>\n",
       "    </tr>\n",
       "    <tr>\n",
       "      <th>1</th>\n",
       "      <td>1/5/99</td>\n",
       "      <td>3.9310</td>\n",
       "    </tr>\n",
       "    <tr>\n",
       "      <th>2</th>\n",
       "      <td>1/6/99</td>\n",
       "      <td>4.9621</td>\n",
       "    </tr>\n",
       "    <tr>\n",
       "      <th>3</th>\n",
       "      <td>1/7/99</td>\n",
       "      <td>5.2273</td>\n",
       "    </tr>\n",
       "    <tr>\n",
       "      <th>4</th>\n",
       "      <td>1/8/99</td>\n",
       "      <td>5.1305</td>\n",
       "    </tr>\n",
       "    <tr>\n",
       "      <th>...</th>\n",
       "      <td>...</td>\n",
       "      <td>...</td>\n",
       "    </tr>\n",
       "    <tr>\n",
       "      <th>3707</th>\n",
       "      <td>6/2/16</td>\n",
       "      <td>24.2500</td>\n",
       "    </tr>\n",
       "    <tr>\n",
       "      <th>3708</th>\n",
       "      <td>6/3/16</td>\n",
       "      <td>23.9800</td>\n",
       "    </tr>\n",
       "    <tr>\n",
       "      <th>3709</th>\n",
       "      <td>6/6/16</td>\n",
       "      <td>23.9900</td>\n",
       "    </tr>\n",
       "    <tr>\n",
       "      <th>3710</th>\n",
       "      <td>6/7/16</td>\n",
       "      <td>24.2800</td>\n",
       "    </tr>\n",
       "    <tr>\n",
       "      <th>3711</th>\n",
       "      <td>6/8/16</td>\n",
       "      <td>24.2300</td>\n",
       "    </tr>\n",
       "  </tbody>\n",
       "</table>\n",
       "<p>3712 rows × 2 columns</p>\n",
       "</div>"
      ],
      "text/plain": [
       "        Date    Close\n",
       "0     1/4/99   4.2088\n",
       "1     1/5/99   3.9310\n",
       "2     1/6/99   4.9621\n",
       "3     1/7/99   5.2273\n",
       "4     1/8/99   5.1305\n",
       "...      ...      ...\n",
       "3707  6/2/16  24.2500\n",
       "3708  6/3/16  23.9800\n",
       "3709  6/6/16  23.9900\n",
       "3710  6/7/16  24.2800\n",
       "3711  6/8/16  24.2300\n",
       "\n",
       "[3712 rows x 2 columns]"
      ]
     },
     "execution_count": 3,
     "metadata": {},
     "output_type": "execute_result"
    }
   ],
   "source": [
    "target_column = 'Close'\n",
    "X_train = train_dataset\n",
    "X_train"
   ]
  },
  {
   "cell_type": "code",
   "execution_count": 4,
   "metadata": {},
   "outputs": [
    {
     "data": {
      "text/html": [
       "<div>\n",
       "<style scoped>\n",
       "    .dataframe tbody tr th:only-of-type {\n",
       "        vertical-align: middle;\n",
       "    }\n",
       "\n",
       "    .dataframe tbody tr th {\n",
       "        vertical-align: top;\n",
       "    }\n",
       "\n",
       "    .dataframe thead th {\n",
       "        text-align: right;\n",
       "    }\n",
       "</style>\n",
       "<table border=\"1\" class=\"dataframe\">\n",
       "  <thead>\n",
       "    <tr style=\"text-align: right;\">\n",
       "      <th></th>\n",
       "      <th>Close</th>\n",
       "    </tr>\n",
       "  </thead>\n",
       "  <tbody>\n",
       "    <tr>\n",
       "      <th>0</th>\n",
       "      <td>4.2088</td>\n",
       "    </tr>\n",
       "    <tr>\n",
       "      <th>1</th>\n",
       "      <td>3.9310</td>\n",
       "    </tr>\n",
       "    <tr>\n",
       "      <th>2</th>\n",
       "      <td>4.9621</td>\n",
       "    </tr>\n",
       "    <tr>\n",
       "      <th>3</th>\n",
       "      <td>5.2273</td>\n",
       "    </tr>\n",
       "    <tr>\n",
       "      <th>4</th>\n",
       "      <td>5.1305</td>\n",
       "    </tr>\n",
       "    <tr>\n",
       "      <th>...</th>\n",
       "      <td>...</td>\n",
       "    </tr>\n",
       "    <tr>\n",
       "      <th>3707</th>\n",
       "      <td>24.2500</td>\n",
       "    </tr>\n",
       "    <tr>\n",
       "      <th>3708</th>\n",
       "      <td>23.9800</td>\n",
       "    </tr>\n",
       "    <tr>\n",
       "      <th>3709</th>\n",
       "      <td>23.9900</td>\n",
       "    </tr>\n",
       "    <tr>\n",
       "      <th>3710</th>\n",
       "      <td>24.2800</td>\n",
       "    </tr>\n",
       "    <tr>\n",
       "      <th>3711</th>\n",
       "      <td>24.2300</td>\n",
       "    </tr>\n",
       "  </tbody>\n",
       "</table>\n",
       "<p>3712 rows × 1 columns</p>\n",
       "</div>"
      ],
      "text/plain": [
       "        Close\n",
       "0      4.2088\n",
       "1      3.9310\n",
       "2      4.9621\n",
       "3      5.2273\n",
       "4      5.1305\n",
       "...       ...\n",
       "3707  24.2500\n",
       "3708  23.9800\n",
       "3709  23.9900\n",
       "3710  24.2800\n",
       "3711  24.2300\n",
       "\n",
       "[3712 rows x 1 columns]"
      ]
     },
     "execution_count": 4,
     "metadata": {},
     "output_type": "execute_result"
    }
   ],
   "source": [
    "y_train = train_dataset[[target_column]]\n",
    "y_train"
   ]
  },
  {
   "cell_type": "markdown",
   "metadata": {},
   "source": [
    "### Searching  Pipelines"
   ]
  },
  {
   "cell_type": "code",
   "execution_count": 5,
   "metadata": {
    "scrolled": true
   },
   "outputs": [
    {
     "name": "stdout",
     "output_type": "stream",
     "text": [
      "INFO:gluonts.mx.context:Using CPU\n",
      "INFO:lightning_fabric.utilities.seed:Global seed set to 1\n",
      "DEBUG:fsspec.local:open file: /Users/rlopez/D3M/alpha-automl/examples/lightning_logs/version_24/hparams.yaml\n",
      "Epoch 9: 100%|██████████| 1/1 [00:00<00:00,  1.94it/s, v_num=24, train_loss_step=0.492, train_loss_epoch=0.492]\n",
      "DEBUG:fsspec.local:open file: /Users/rlopez/D3M/alpha-automl/examples/lightning_logs/version_25/hparams.yaml\n",
      "Predicting DataLoader 0: 100%|██████████| 1/1 [00:00<00:00, 214.92it/s]\n",
      "INFO:alpha_automl.builtin_primitives.time_series_forecasting:Estimated differencing term: 0\n",
      "INFO:gluonts.mx.context:Using CPU\n",
      "INFO:alpha_automl.automl_api:Found pipeline, time=0:00:15, scoring...\n",
      "INFO:lightning_fabric.utilities.seed:Global seed set to 1\n",
      "DEBUG:fsspec.local:open file: /Users/rlopez/D3M/alpha-automl/examples/lightning_logs/version_26/hparams.yaml\n"
     ]
    },
    {
     "data": {
      "application/vnd.jupyter.widget-view+json": {
       "model_id": "",
       "version_major": 2,
       "version_minor": 0
      },
      "text/plain": [
       "Sanity Checking: 0it [00:00, ?it/s]"
      ]
     },
     "metadata": {},
     "output_type": "display_data"
    },
    {
     "data": {
      "application/vnd.jupyter.widget-view+json": {
       "model_id": "2beb6a6f12614338aa76af3e94d57290",
       "version_major": 2,
       "version_minor": 0
      },
      "text/plain": [
       "Training: 0it [00:00, ?it/s]"
      ]
     },
     "metadata": {},
     "output_type": "display_data"
    },
    {
     "name": "stdout",
     "output_type": "stream",
     "text": [
      "DEBUG:fsspec.local:open file: /Users/rlopez/D3M/alpha-automl/examples/lightning_logs/version_27/hparams.yaml\n"
     ]
    },
    {
     "data": {
      "application/vnd.jupyter.widget-view+json": {
       "model_id": "b3721ffe5eaf4b3a9779c35a7d628324",
       "version_major": 2,
       "version_minor": 0
      },
      "text/plain": [
       "Predicting: 0it [00:00, ?it/s]"
      ]
     },
     "metadata": {},
     "output_type": "display_data"
    },
    {
     "name": "stdout",
     "output_type": "stream",
     "text": [
      "INFO:lightning_fabric.utilities.seed:Global seed set to 1\n",
      "DEBUG:fsspec.local:open file: /Users/rlopez/D3M/alpha-automl/examples/lightning_logs/version_28/hparams.yaml\n",
      "Performing stepwise search to minimize aic\n",
      " ARIMA(2,0,2)(0,0,0)[0]             : AIC=inf, Time=1.33 sec\n",
      " ARIMA(0,0,0)(0,0,0)[0]             : AIC=12851.608, Time=0.02 sec\n",
      " ARIMA(1,0,0)(0,0,0)[0]             : AIC=10679.016, Time=0.03 sec\n",
      " ARIMA(0,0,1)(0,0,0)[0]             : AIC=11904.385, Time=0.07 sec\n",
      " ARIMA(2,0,0)(0,0,0)[0]             : AIC=10343.795, Time=0.05 sec\n",
      " ARIMA(3,0,0)(0,0,0)[0]             : AIC=10172.739, Time=0.08 sec\n",
      " ARIMA(4,0,0)(0,0,0)[0]             : AIC=10093.223, Time=0.16 sec\n",
      " ARIMA(5,0,0)(0,0,0)[0]             : AIC=inf, Time=0.22 sec\n",
      " ARIMA(4,0,1)(0,0,0)[0]             : AIC=inf, Time=1.56 sec\n",
      " ARIMA(3,0,1)(0,0,0)[0]             : AIC=inf, Time=1.23 sec\n",
      " ARIMA(5,0,1)(0,0,0)[0]             : AIC=inf, Time=1.19 sec\n",
      " ARIMA(4,0,0)(0,0,0)[0] intercept   : AIC=9756.105, Time=0.25 sec\n",
      " ARIMA(3,0,0)(0,0,0)[0] intercept   : AIC=9754.537, Time=0.29 sec\n",
      " ARIMA(2,0,0)(0,0,0)[0] intercept   : AIC=9752.613, Time=0.10 sec\n",
      " ARIMA(1,0,0)(0,0,0)[0] intercept   : AIC=9751.424, Time=0.05 sec\n",
      " ARIMA(0,0,0)(0,0,0)[0] intercept   : AIC=9749.576, Time=0.03 sec\n",
      " ARIMA(0,0,1)(0,0,0)[0] intercept   : AIC=9751.416, Time=0.12 sec\n",
      " ARIMA(1,0,1)(0,0,0)[0] intercept   : AIC=9753.411, Time=0.13 sec\n",
      "\n",
      "Best model:  ARIMA(0,0,0)(0,0,0)[0] intercept\n",
      "Total fit time: 6.908 seconds\n",
      "INFO:alpha_automl.builtin_primitives.time_series_forecasting:Making predictions for ARIMA model order: (0, 0, 0)\n"
     ]
    },
    {
     "data": {
      "application/vnd.jupyter.widget-view+json": {
       "model_id": "",
       "version_major": 2,
       "version_minor": 0
      },
      "text/plain": [
       "Sanity Checking: 0it [00:00, ?it/s]"
      ]
     },
     "metadata": {},
     "output_type": "display_data"
    },
    {
     "data": {
      "application/vnd.jupyter.widget-view+json": {
       "model_id": "6c5fd38c76754a60b6848cf1a802a0b2",
       "version_major": 2,
       "version_minor": 0
      },
      "text/plain": [
       "Training: 0it [00:00, ?it/s]"
      ]
     },
     "metadata": {},
     "output_type": "display_data"
    },
    {
     "name": "stdout",
     "output_type": "stream",
     "text": [
      "INFO:gluonts.trainer:Start model training\n",
      "INFO:gluonts.trainer:Epoch[0] Learning rate is 0.001\n",
      "INFO:gluonts.trainer:Number of parameters in DeepARTrainingNetwork: 25884\n"
     ]
    },
    {
     "name": "stderr",
     "output_type": "stream",
     "text": [
      "/Users/rlopez/opt/anaconda3/envs/alphaautoml/lib/python3.8/site-packages/statsmodels/tsa/base/tsa_model.py:834: ValueWarning: No supported index is available. Prediction results will be given with an integer index beginning at `start`.\n",
      "  return get_prediction_index(\n",
      "100%|██████████| 50/50 [00:02<00:00, 19.32it/s, epoch=1/5, avg_epoch_loss=3.59]\n",
      "  0%|          | 0/50 [00:00<?, ?it/s]"
     ]
    },
    {
     "name": "stdout",
     "output_type": "stream",
     "text": [
      "INFO:gluonts.trainer:Epoch[0] Elapsed time 2.589 seconds\n",
      "INFO:gluonts.trainer:Epoch[0] Evaluation metric 'epoch_loss'=3.586218\n",
      "INFO:gluonts.trainer:Epoch[1] Learning rate is 0.001\n",
      "DEBUG:fsspec.local:open file: /Users/rlopez/D3M/alpha-automl/examples/lightning_logs/version_29/hparams.yaml\n"
     ]
    },
    {
     "data": {
      "application/vnd.jupyter.widget-view+json": {
       "model_id": "a9a488f28a8841eab7f0df85a510b530",
       "version_major": 2,
       "version_minor": 0
      },
      "text/plain": [
       "Predicting: 0it [00:00, ?it/s]"
      ]
     },
     "metadata": {},
     "output_type": "display_data"
    },
    {
     "name": "stdout",
     "output_type": "stream",
     "text": [
      "INFO:lightning_fabric.utilities.seed:Global seed set to 1\n",
      "DEBUG:fsspec.local:open file: /Users/rlopez/D3M/alpha-automl/examples/lightning_logs/version_30/hparams.yaml\n"
     ]
    },
    {
     "data": {
      "application/vnd.jupyter.widget-view+json": {
       "model_id": "",
       "version_major": 2,
       "version_minor": 0
      },
      "text/plain": [
       "Sanity Checking: 0it [00:00, ?it/s]"
      ]
     },
     "metadata": {},
     "output_type": "display_data"
    },
    {
     "name": "stdout",
     "output_type": "stream",
     "text": [
      "INFO:gluonts.trainer:Epoch[1] Elapsed time 2.450 seconds\n",
      "INFO:gluonts.trainer:Epoch[1] Evaluation metric 'epoch_loss'=3.350388\n",
      "INFO:gluonts.trainer:Epoch[2] Learning rate is 0.001\n"
     ]
    },
    {
     "name": "stderr",
     "output_type": "stream",
     "text": [
      "\r",
      "100%|██████████| 50/50 [00:02<00:00, 20.41it/s, epoch=2/5, avg_epoch_loss=3.35]\n",
      "\r",
      "  0%|          | 0/50 [00:00<?, ?it/s]"
     ]
    },
    {
     "data": {
      "application/vnd.jupyter.widget-view+json": {
       "model_id": "7781799619b649ecae9e0eb17d36ef1d",
       "version_major": 2,
       "version_minor": 0
      },
      "text/plain": [
       "Training: 0it [00:00, ?it/s]"
      ]
     },
     "metadata": {},
     "output_type": "display_data"
    },
    {
     "name": "stderr",
     "output_type": "stream",
     "text": [
      "\r",
      "100%|██████████| 50/50 [00:02<00:00, 20.67it/s, epoch=3/5, avg_epoch_loss=3.3]\n",
      "\r",
      "  0%|          | 0/50 [00:00<?, ?it/s]"
     ]
    },
    {
     "name": "stdout",
     "output_type": "stream",
     "text": [
      "INFO:gluonts.trainer:Epoch[2] Elapsed time 2.419 seconds\n",
      "INFO:gluonts.trainer:Epoch[2] Evaluation metric 'epoch_loss'=3.304204\n",
      "INFO:gluonts.trainer:Epoch[3] Learning rate is 0.001\n"
     ]
    },
    {
     "name": "stderr",
     "output_type": "stream",
     "text": [
      "\r",
      "100%|██████████| 50/50 [00:02<00:00, 20.26it/s, epoch=4/5, avg_epoch_loss=3.27]\n",
      "\r",
      "  0%|          | 0/50 [00:00<?, ?it/s]"
     ]
    },
    {
     "name": "stdout",
     "output_type": "stream",
     "text": [
      "INFO:gluonts.trainer:Epoch[3] Elapsed time 2.468 seconds\n",
      "INFO:gluonts.trainer:Epoch[3] Evaluation metric 'epoch_loss'=3.268679\n",
      "INFO:gluonts.trainer:Epoch[4] Learning rate is 0.001\n",
      "DEBUG:fsspec.local:open file: /Users/rlopez/D3M/alpha-automl/examples/lightning_logs/version_31/hparams.yaml\n"
     ]
    },
    {
     "data": {
      "application/vnd.jupyter.widget-view+json": {
       "model_id": "3b5fc13c49b24dcc91f89960e7afcf41",
       "version_major": 2,
       "version_minor": 0
      },
      "text/plain": [
       "Predicting: 0it [00:00, ?it/s]"
      ]
     },
     "metadata": {},
     "output_type": "display_data"
    },
    {
     "name": "stdout",
     "output_type": "stream",
     "text": [
      "INFO:lightning_fabric.utilities.seed:Global seed set to 1\n",
      "DEBUG:fsspec.local:open file: /Users/rlopez/D3M/alpha-automl/examples/lightning_logs/version_32/hparams.yaml\n"
     ]
    },
    {
     "data": {
      "application/vnd.jupyter.widget-view+json": {
       "model_id": "",
       "version_major": 2,
       "version_minor": 0
      },
      "text/plain": [
       "Sanity Checking: 0it [00:00, ?it/s]"
      ]
     },
     "metadata": {},
     "output_type": "display_data"
    },
    {
     "data": {
      "application/vnd.jupyter.widget-view+json": {
       "model_id": "59c30de3f1574309a032b50beb0dd6f0",
       "version_major": 2,
       "version_minor": 0
      },
      "text/plain": [
       "Training: 0it [00:00, ?it/s]"
      ]
     },
     "metadata": {},
     "output_type": "display_data"
    },
    {
     "name": "stderr",
     "output_type": "stream",
     "text": [
      "\r",
      "100%|██████████| 50/50 [00:02<00:00, 20.51it/s, epoch=5/5, avg_epoch_loss=3.24]"
     ]
    },
    {
     "name": "stdout",
     "output_type": "stream",
     "text": [
      "INFO:gluonts.trainer:Epoch[4] Elapsed time 2.438 seconds\n",
      "INFO:gluonts.trainer:Epoch[4] Evaluation metric 'epoch_loss'=3.243720\n",
      "INFO:root:Computing averaged parameters.\n",
      "INFO:root:Loading averaged parameters.\n",
      "INFO:gluonts.trainer:End model training\n",
      "INFO:lightning_fabric.utilities.seed:Global seed set to 1\n",
      "DEBUG:fsspec.local:open file: /Users/rlopez/D3M/alpha-automl/examples/lightning_logs/version_33/hparams.yaml\n",
      "Epoch 0:   0%|          | 0/1 [00:00<?, ?it/s]                               "
     ]
    },
    {
     "name": "stderr",
     "output_type": "stream",
     "text": [
      "\n"
     ]
    },
    {
     "name": "stdout",
     "output_type": "stream",
     "text": [
      "Epoch 7:   0%|          | 0/1 [00:00<?, ?it/s, v_num=33, train_loss_step=0.936, train_loss_epoch=0.936]        DEBUG:fsspec.local:open file: /Users/rlopez/D3M/alpha-automl/examples/lightning_logs/version_34/hparams.yaml\n"
     ]
    },
    {
     "data": {
      "application/vnd.jupyter.widget-view+json": {
       "model_id": "92299e4b2c394a40908fc22e8a4daff8",
       "version_major": 2,
       "version_minor": 0
      },
      "text/plain": [
       "Predicting: 0it [00:00, ?it/s]"
      ]
     },
     "metadata": {},
     "output_type": "display_data"
    },
    {
     "name": "stdout",
     "output_type": "stream",
     "text": [
      "INFO:lightning_fabric.utilities.seed:Global seed set to 1\n",
      "DEBUG:fsspec.local:open file: /Users/rlopez/D3M/alpha-automl/examples/lightning_logs/version_35/hparams.yaml\n"
     ]
    },
    {
     "data": {
      "application/vnd.jupyter.widget-view+json": {
       "model_id": "",
       "version_major": 2,
       "version_minor": 0
      },
      "text/plain": [
       "Sanity Checking: 0it [00:00, ?it/s]"
      ]
     },
     "metadata": {},
     "output_type": "display_data"
    },
    {
     "data": {
      "application/vnd.jupyter.widget-view+json": {
       "model_id": "9054a9ef44f04efea52f10f875df4ece",
       "version_major": 2,
       "version_minor": 0
      },
      "text/plain": [
       "Training: 0it [00:00, ?it/s]"
      ]
     },
     "metadata": {},
     "output_type": "display_data"
    },
    {
     "name": "stdout",
     "output_type": "stream",
     "text": [
      "Epoch 9: 100%|██████████| 1/1 [00:01<00:00,  1.04s/it, v_num=33, train_loss_step=1.030, train_loss_epoch=1.030]\n",
      "DEBUG:fsspec.local:open file: /Users/rlopez/D3M/alpha-automl/examples/lightning_logs/version_36/hparams.yaml\n",
      "Predicting DataLoader 0: 100%|██████████| 1/1 [00:00<00:00, 126.57it/s]DEBUG:fsspec.local:open file: /Users/rlopez/D3M/alpha-automl/examples/lightning_logs/version_37/hparams.yaml\n"
     ]
    },
    {
     "data": {
      "application/vnd.jupyter.widget-view+json": {
       "model_id": "c8f31b2850ba4aeba41592c4229c949b",
       "version_major": 2,
       "version_minor": 0
      },
      "text/plain": [
       "Predicting: 0it [00:00, ?it/s]"
      ]
     },
     "metadata": {},
     "output_type": "display_data"
    },
    {
     "name": "stdout",
     "output_type": "stream",
     "text": [
      "INFO:alpha_automl.automl_api:Scored pipeline, score=125.55697620725763\n",
      "INFO:alpha_automl.automl_api:Found pipeline, time=0:00:51, scoring...\n",
      "INFO:alpha_automl.builtin_primitives.time_series_forecasting:Estimated differencing term: 1\n",
      "Performing stepwise search to minimize aic\n",
      " ARIMA(2,1,2)(0,0,0)[0] intercept   : AIC=741.748, Time=0.60 sec\n",
      " ARIMA(0,1,0)(0,0,0)[0] intercept   : AIC=745.695, Time=0.12 sec\n",
      " ARIMA(1,1,0)(0,0,0)[0] intercept   : AIC=741.269, Time=0.07 sec\n",
      " ARIMA(0,1,1)(0,0,0)[0] intercept   : AIC=740.349, Time=0.27 sec\n",
      " ARIMA(0,1,0)(0,0,0)[0]             : AIC=743.729, Time=0.03 sec\n",
      " ARIMA(1,1,1)(0,0,0)[0] intercept   : AIC=740.777, Time=0.17 sec\n",
      " ARIMA(0,1,2)(0,0,0)[0] intercept   : AIC=740.384, Time=0.09 sec\n",
      " ARIMA(1,1,2)(0,0,0)[0] intercept   : AIC=742.301, Time=0.28 sec\n",
      " ARIMA(0,1,1)(0,0,0)[0]             : AIC=738.392, Time=0.03 sec\n",
      " ARIMA(1,1,1)(0,0,0)[0]             : AIC=738.826, Time=0.06 sec\n",
      " ARIMA(0,1,2)(0,0,0)[0]             : AIC=738.431, Time=0.05 sec\n",
      " ARIMA(1,1,0)(0,0,0)[0]             : AIC=739.311, Time=0.03 sec\n",
      " ARIMA(1,1,2)(0,0,0)[0]             : AIC=740.348, Time=0.11 sec\n",
      "\n",
      "Best model:  ARIMA(0,1,1)(0,0,0)[0]          \n",
      "Total fit time: 1.925 seconds\n",
      "INFO:alpha_automl.builtin_primitives.time_series_forecasting:Making predictions for ARIMA model order: (0, 1, 1)\n",
      "INFO:alpha_automl.builtin_primitives.time_series_forecasting:Estimated differencing term: 1\n",
      "Performing stepwise search to minimize aic\n",
      " ARIMA(2,1,2)(0,0,0)[0] intercept   : AIC=962.102, Time=0.95 sec\n",
      " ARIMA(0,1,0)(0,0,0)[0] intercept   : AIC=967.481, Time=0.11 sec\n",
      " ARIMA(1,1,0)(0,0,0)[0] intercept   : AIC=961.375, Time=0.10 sec\n",
      " ARIMA(0,1,1)(0,0,0)[0] intercept   : AIC=960.575, Time=0.12 sec\n",
      " ARIMA(0,1,0)(0,0,0)[0]             : AIC=966.807, Time=0.05 sec\n",
      " ARIMA(1,1,1)(0,0,0)[0] intercept   : AIC=960.791, Time=0.35 sec\n",
      " ARIMA(0,1,2)(0,0,0)[0] intercept   : AIC=960.475, Time=0.18 sec\n",
      " ARIMA(1,1,2)(0,0,0)[0] intercept   : AIC=962.404, Time=0.36 sec\n",
      " ARIMA(0,1,3)(0,0,0)[0] intercept   : AIC=962.398, Time=0.23 sec\n",
      " ARIMA(1,1,3)(0,0,0)[0] intercept   : AIC=964.396, Time=0.30 sec\n",
      " ARIMA(0,1,2)(0,0,0)[0]             : AIC=960.231, Time=0.08 sec\n",
      " ARIMA(0,1,1)(0,0,0)[0]             : AIC=960.192, Time=0.05 sec\n",
      " ARIMA(1,1,1)(0,0,0)[0]             : AIC=960.600, Time=0.11 sec\n",
      " ARIMA(1,1,0)(0,0,0)[0]             : AIC=960.944, Time=0.07 sec\n",
      " ARIMA(1,1,2)(0,0,0)[0]             : AIC=962.140, Time=0.28 sec\n",
      "\n",
      "Best model:  ARIMA(0,1,1)(0,0,0)[0]          \n",
      "Total fit time: 3.346 seconds\n",
      "INFO:alpha_automl.builtin_primitives.time_series_forecasting:Making predictions for ARIMA model order: (0, 1, 1)\n",
      "INFO:alpha_automl.builtin_primitives.time_series_forecasting:Estimated differencing term: 1\n",
      "Performing stepwise search to minimize aic\n",
      " ARIMA(2,1,2)(0,0,0)[0] intercept   : AIC=1647.368, Time=1.50 sec\n",
      " ARIMA(0,1,0)(0,0,0)[0] intercept   : AIC=1652.048, Time=0.19 sec\n",
      " ARIMA(1,1,0)(0,0,0)[0] intercept   : AIC=1648.550, Time=0.11 sec\n",
      " ARIMA(0,1,1)(0,0,0)[0] intercept   : AIC=1648.210, Time=0.17 sec\n",
      " ARIMA(0,1,0)(0,0,0)[0]             : AIC=1650.400, Time=0.08 sec\n",
      " ARIMA(1,1,2)(0,0,0)[0] intercept   : AIC=1652.209, Time=0.33 sec\n",
      " ARIMA(2,1,1)(0,0,0)[0] intercept   : AIC=1650.532, Time=0.53 sec\n",
      " ARIMA(3,1,2)(0,0,0)[0] intercept   : AIC=inf, Time=1.36 sec\n",
      " ARIMA(2,1,3)(0,0,0)[0] intercept   : AIC=1649.354, Time=1.47 sec\n",
      " ARIMA(1,1,1)(0,0,0)[0] intercept   : AIC=1649.484, Time=0.21 sec\n",
      " ARIMA(1,1,3)(0,0,0)[0] intercept   : AIC=1652.296, Time=0.81 sec\n",
      " ARIMA(3,1,1)(0,0,0)[0] intercept   : AIC=1652.111, Time=0.70 sec\n",
      " ARIMA(3,1,3)(0,0,0)[0] intercept   : AIC=1650.342, Time=2.14 sec\n",
      " ARIMA(2,1,2)(0,0,0)[0]             : AIC=1645.754, Time=0.53 sec\n",
      " ARIMA(1,1,2)(0,0,0)[0]             : AIC=1650.609, Time=0.14 sec\n",
      " ARIMA(2,1,1)(0,0,0)[0]             : AIC=1648.950, Time=0.30 sec\n",
      " ARIMA(3,1,2)(0,0,0)[0]             : AIC=inf, Time=0.96 sec\n",
      " ARIMA(2,1,3)(0,0,0)[0]             : AIC=1647.765, Time=0.30 sec\n",
      " ARIMA(1,1,1)(0,0,0)[0]             : AIC=1647.900, Time=0.07 sec\n",
      " ARIMA(1,1,3)(0,0,0)[0]             : AIC=1650.698, Time=0.33 sec\n",
      " ARIMA(3,1,1)(0,0,0)[0]             : AIC=1650.514, Time=0.37 sec\n",
      " ARIMA(3,1,3)(0,0,0)[0]             : AIC=1648.653, Time=1.06 sec\n",
      "\n",
      "Best model:  ARIMA(2,1,2)(0,0,0)[0]          \n",
      "Total fit time: 13.679 seconds\n",
      "INFO:alpha_automl.builtin_primitives.time_series_forecasting:Making predictions for ARIMA model order: (2, 1, 2)\n",
      "INFO:alpha_automl.builtin_primitives.time_series_forecasting:Estimated differencing term: 1\n",
      "Performing stepwise search to minimize aic\n",
      " ARIMA(2,1,2)(0,0,0)[0] intercept   : AIC=1857.538, Time=1.15 sec\n",
      " ARIMA(0,1,0)(0,0,0)[0] intercept   : AIC=1867.443, Time=0.19 sec\n",
      " ARIMA(1,1,0)(0,0,0)[0] intercept   : AIC=1858.838, Time=0.13 sec\n",
      " ARIMA(0,1,1)(0,0,0)[0] intercept   : AIC=1858.271, Time=0.19 sec\n",
      " ARIMA(0,1,0)(0,0,0)[0]             : AIC=1865.512, Time=0.09 sec\n",
      " ARIMA(1,1,2)(0,0,0)[0] intercept   : AIC=1860.646, Time=0.74 sec\n",
      " ARIMA(2,1,1)(0,0,0)[0] intercept   : AIC=1860.253, Time=1.07 sec\n",
      " ARIMA(3,1,2)(0,0,0)[0] intercept   : AIC=1857.837, Time=1.57 sec\n",
      " ARIMA(2,1,3)(0,0,0)[0] intercept   : AIC=1858.035, Time=1.87 sec\n",
      " ARIMA(1,1,1)(0,0,0)[0] intercept   : AIC=1859.668, Time=0.45 sec\n",
      " ARIMA(1,1,3)(0,0,0)[0] intercept   : AIC=1861.416, Time=1.26 sec\n",
      " ARIMA(3,1,1)(0,0,0)[0] intercept   : AIC=1861.190, Time=0.96 sec\n",
      " ARIMA(3,1,3)(0,0,0)[0] intercept   : AIC=1860.027, Time=2.69 sec\n",
      " ARIMA(2,1,2)(0,0,0)[0]             : AIC=1855.615, Time=0.84 sec\n",
      " ARIMA(1,1,2)(0,0,0)[0]             : AIC=1858.728, Time=0.42 sec\n",
      " ARIMA(2,1,1)(0,0,0)[0]             : AIC=1858.336, Time=0.60 sec\n",
      " ARIMA(3,1,2)(0,0,0)[0]             : AIC=1855.917, Time=0.56 sec\n",
      " ARIMA(2,1,3)(0,0,0)[0]             : AIC=1855.879, Time=1.56 sec\n",
      " ARIMA(1,1,1)(0,0,0)[0]             : AIC=1857.749, Time=0.21 sec\n",
      " ARIMA(1,1,3)(0,0,0)[0]             : AIC=1859.495, Time=0.50 sec\n",
      " ARIMA(3,1,1)(0,0,0)[0]             : AIC=1859.269, Time=0.35 sec\n",
      " ARIMA(3,1,3)(0,0,0)[0]             : AIC=1858.106, Time=1.23 sec\n",
      "\n",
      "Best model:  ARIMA(2,1,2)(0,0,0)[0]          \n",
      "Total fit time: 18.661 seconds\n",
      "INFO:alpha_automl.builtin_primitives.time_series_forecasting:Making predictions for ARIMA model order: (2, 1, 2)\n",
      "INFO:alpha_automl.builtin_primitives.time_series_forecasting:Estimated differencing term: 1\n",
      "Performing stepwise search to minimize aic\n",
      " ARIMA(2,1,2)(0,0,0)[0] intercept   : AIC=2279.509, Time=0.53 sec\n",
      " ARIMA(0,1,0)(0,0,0)[0] intercept   : AIC=2285.027, Time=0.29 sec\n",
      " ARIMA(1,1,0)(0,0,0)[0] intercept   : AIC=2275.406, Time=0.17 sec\n",
      " ARIMA(0,1,1)(0,0,0)[0] intercept   : AIC=2274.848, Time=0.31 sec\n",
      " ARIMA(0,1,0)(0,0,0)[0]             : AIC=2283.921, Time=0.10 sec\n",
      " ARIMA(1,1,1)(0,0,0)[0] intercept   : AIC=2275.541, Time=1.18 sec\n",
      " ARIMA(0,1,2)(0,0,0)[0] intercept   : AIC=2275.490, Time=0.37 sec\n",
      " ARIMA(1,1,2)(0,0,0)[0] intercept   : AIC=2278.260, Time=1.28 sec\n",
      " ARIMA(0,1,1)(0,0,0)[0]             : AIC=2273.874, Time=0.10 sec\n",
      " ARIMA(1,1,1)(0,0,0)[0]             : AIC=2274.619, Time=0.31 sec\n",
      " ARIMA(0,1,2)(0,0,0)[0]             : AIC=2274.557, Time=0.34 sec\n",
      " ARIMA(1,1,0)(0,0,0)[0]             : AIC=2274.418, Time=0.15 sec\n",
      " ARIMA(1,1,2)(0,0,0)[0]             : AIC=2277.278, Time=0.47 sec\n",
      "\n",
      "Best model:  ARIMA(0,1,1)(0,0,0)[0]          \n",
      "Total fit time: 5.592 seconds\n",
      "INFO:alpha_automl.builtin_primitives.time_series_forecasting:Making predictions for ARIMA model order: (0, 1, 1)\n",
      "INFO:alpha_automl.automl_api:Scored pipeline, score=31.928108622887947\n",
      "INFO:alpha_automl.automl_api:Found pipeline, time=0:01:34, scoring...\n",
      "INFO:gluonts.trainer:Start model training\n",
      "INFO:gluonts.trainer:Epoch[0] Learning rate is 0.001\n"
     ]
    },
    {
     "name": "stderr",
     "output_type": "stream",
     "text": [
      "\r",
      "  0%|                                                                                                                                                                                                                | 0/50 [00:00<?, ?it/s]"
     ]
    },
    {
     "name": "stdout",
     "output_type": "stream",
     "text": [
      "INFO:gluonts.trainer:Number of parameters in DeepARTrainingNetwork: 25884\n"
     ]
    },
    {
     "name": "stderr",
     "output_type": "stream",
     "text": [
      "\r",
      "100%|███████████████████████████████████████████████████████████████████████████████████████████████████████████████████████████████████████████████████████████████████████| 50/50 [00:02<00:00, 20.27it/s, epoch=1/5, avg_epoch_loss=1.93]"
     ]
    },
    {
     "name": "stdout",
     "output_type": "stream",
     "text": [
      "INFO:gluonts.trainer:Epoch[0] Elapsed time 2.469 seconds\n",
      "INFO:gluonts.trainer:Epoch[0] Evaluation metric 'epoch_loss'=1.929836\n",
      "INFO:gluonts.trainer:Epoch[1] Learning rate is 0.001\n"
     ]
    },
    {
     "name": "stderr",
     "output_type": "stream",
     "text": [
      "\n",
      "100%|███████████████████████████████████████████████████████████████████████████████████████████████████████████████████████████████████████████████████████████████████████| 50/50 [00:02<00:00, 22.84it/s, epoch=2/5, avg_epoch_loss=1.06]"
     ]
    },
    {
     "name": "stdout",
     "output_type": "stream",
     "text": [
      "INFO:gluonts.trainer:Epoch[1] Elapsed time 2.193 seconds\n",
      "INFO:gluonts.trainer:Epoch[1] Evaluation metric 'epoch_loss'=1.060621\n",
      "INFO:gluonts.trainer:Epoch[2] Learning rate is 0.001\n"
     ]
    },
    {
     "name": "stderr",
     "output_type": "stream",
     "text": [
      "\n",
      "100%|██████████████████████████████████████████████████████████████████████████████████████████████████████████████████████████████████████████████████████████████████████| 50/50 [00:02<00:00, 20.86it/s, epoch=3/5, avg_epoch_loss=0.849]"
     ]
    },
    {
     "name": "stdout",
     "output_type": "stream",
     "text": [
      "INFO:gluonts.trainer:Epoch[2] Elapsed time 2.400 seconds\n",
      "INFO:gluonts.trainer:Epoch[2] Evaluation metric 'epoch_loss'=0.848530\n",
      "INFO:gluonts.trainer:Epoch[3] Learning rate is 0.001\n"
     ]
    },
    {
     "name": "stderr",
     "output_type": "stream",
     "text": [
      "\n",
      "100%|██████████████████████████████████████████████████████████████████████████████████████████████████████████████████████████████████████████████████████████████████████| 50/50 [00:02<00:00, 19.76it/s, epoch=4/5, avg_epoch_loss=0.712]"
     ]
    },
    {
     "name": "stdout",
     "output_type": "stream",
     "text": [
      "INFO:gluonts.trainer:Epoch[3] Elapsed time 2.533 seconds\n",
      "INFO:gluonts.trainer:Epoch[3] Evaluation metric 'epoch_loss'=0.712499\n",
      "INFO:gluonts.trainer:Epoch[4] Learning rate is 0.001\n"
     ]
    },
    {
     "name": "stderr",
     "output_type": "stream",
     "text": [
      "\n",
      "100%|██████████████████████████████████████████████████████████████████████████████████████████████████████████████████████████████████████████████████████████████████████| 50/50 [00:02<00:00, 23.06it/s, epoch=5/5, avg_epoch_loss=0.627]"
     ]
    },
    {
     "name": "stdout",
     "output_type": "stream",
     "text": [
      "INFO:gluonts.trainer:Epoch[4] Elapsed time 2.171 seconds\n",
      "INFO:gluonts.trainer:Epoch[4] Evaluation metric 'epoch_loss'=0.627027\n",
      "INFO:root:Computing averaged parameters.\n",
      "INFO:root:Loading averaged parameters.\n",
      "INFO:gluonts.trainer:End model training\n"
     ]
    },
    {
     "name": "stderr",
     "output_type": "stream",
     "text": [
      "\n"
     ]
    },
    {
     "name": "stdout",
     "output_type": "stream",
     "text": [
      "INFO:gluonts.trainer:Start model training\n",
      "INFO:gluonts.trainer:Epoch[0] Learning rate is 0.001\n"
     ]
    },
    {
     "name": "stderr",
     "output_type": "stream",
     "text": [
      "\r",
      "  0%|                                                                                                                                                                                                                | 0/50 [00:00<?, ?it/s]"
     ]
    },
    {
     "name": "stdout",
     "output_type": "stream",
     "text": [
      "INFO:gluonts.trainer:Number of parameters in DeepARTrainingNetwork: 25884\n"
     ]
    },
    {
     "name": "stderr",
     "output_type": "stream",
     "text": [
      "\r",
      "100%|███████████████████████████████████████████████████████████████████████████████████████████████████████████████████████████████████████████████████████████████████████| 50/50 [00:02<00:00, 18.20it/s, epoch=1/5, avg_epoch_loss=2.04]"
     ]
    },
    {
     "name": "stdout",
     "output_type": "stream",
     "text": [
      "INFO:gluonts.trainer:Epoch[0] Elapsed time 2.749 seconds\n",
      "INFO:gluonts.trainer:Epoch[0] Evaluation metric 'epoch_loss'=2.037876\n",
      "INFO:gluonts.trainer:Epoch[1] Learning rate is 0.001\n"
     ]
    },
    {
     "name": "stderr",
     "output_type": "stream",
     "text": [
      "\n",
      "100%|███████████████████████████████████████████████████████████████████████████████████████████████████████████████████████████████████████████████████████████████████████| 50/50 [00:02<00:00, 19.52it/s, epoch=2/5, avg_epoch_loss=0.85]"
     ]
    },
    {
     "name": "stdout",
     "output_type": "stream",
     "text": [
      "INFO:gluonts.trainer:Epoch[1] Elapsed time 2.564 seconds\n",
      "INFO:gluonts.trainer:Epoch[1] Evaluation metric 'epoch_loss'=0.849886\n",
      "INFO:gluonts.trainer:Epoch[2] Learning rate is 0.001\n"
     ]
    },
    {
     "name": "stderr",
     "output_type": "stream",
     "text": [
      "\n",
      "100%|██████████████████████████████████████████████████████████████████████████████████████████████████████████████████████████████████████████████████████████████████████| 50/50 [00:02<00:00, 20.89it/s, epoch=3/5, avg_epoch_loss=0.713]"
     ]
    },
    {
     "name": "stdout",
     "output_type": "stream",
     "text": [
      "INFO:gluonts.trainer:Epoch[2] Elapsed time 2.398 seconds\n",
      "INFO:gluonts.trainer:Epoch[2] Evaluation metric 'epoch_loss'=0.712854\n",
      "INFO:gluonts.trainer:Epoch[3] Learning rate is 0.001\n"
     ]
    },
    {
     "name": "stderr",
     "output_type": "stream",
     "text": [
      "\n",
      "100%|███████████████████████████████████████████████████████████████████████████████████████████████████████████████████████████████████████████████████████████████████████| 50/50 [00:02<00:00, 20.08it/s, epoch=4/5, avg_epoch_loss=0.66]"
     ]
    },
    {
     "name": "stdout",
     "output_type": "stream",
     "text": [
      "INFO:gluonts.trainer:Epoch[3] Elapsed time 2.493 seconds\n",
      "INFO:gluonts.trainer:Epoch[3] Evaluation metric 'epoch_loss'=0.659940\n",
      "INFO:gluonts.trainer:Epoch[4] Learning rate is 0.001\n"
     ]
    },
    {
     "name": "stderr",
     "output_type": "stream",
     "text": [
      "\n",
      "100%|██████████████████████████████████████████████████████████████████████████████████████████████████████████████████████████████████████████████████████████████████████| 50/50 [00:02<00:00, 19.27it/s, epoch=5/5, avg_epoch_loss=0.564]"
     ]
    },
    {
     "name": "stdout",
     "output_type": "stream",
     "text": [
      "INFO:gluonts.trainer:Epoch[4] Elapsed time 2.598 seconds\n",
      "INFO:gluonts.trainer:Epoch[4] Evaluation metric 'epoch_loss'=0.563911\n",
      "INFO:root:Computing averaged parameters.\n",
      "INFO:root:Loading averaged parameters.\n",
      "INFO:gluonts.trainer:End model training\n"
     ]
    },
    {
     "name": "stderr",
     "output_type": "stream",
     "text": [
      "\n"
     ]
    },
    {
     "name": "stdout",
     "output_type": "stream",
     "text": [
      "INFO:gluonts.trainer:Start model training\n",
      "INFO:gluonts.trainer:Epoch[0] Learning rate is 0.001\n"
     ]
    },
    {
     "name": "stderr",
     "output_type": "stream",
     "text": [
      "\r",
      "  0%|                                                                                                                                                                                                                | 0/50 [00:00<?, ?it/s]"
     ]
    },
    {
     "name": "stdout",
     "output_type": "stream",
     "text": [
      "INFO:gluonts.trainer:Number of parameters in DeepARTrainingNetwork: 25884\n"
     ]
    },
    {
     "name": "stderr",
     "output_type": "stream",
     "text": [
      "\r",
      "100%|███████████████████████████████████████████████████████████████████████████████████████████████████████████████████████████████████████████████████████████████████████| 50/50 [00:02<00:00, 17.93it/s, epoch=1/5, avg_epoch_loss=1.98]"
     ]
    },
    {
     "name": "stdout",
     "output_type": "stream",
     "text": [
      "INFO:gluonts.trainer:Epoch[0] Elapsed time 2.791 seconds\n",
      "INFO:gluonts.trainer:Epoch[0] Evaluation metric 'epoch_loss'=1.981321\n",
      "INFO:gluonts.trainer:Epoch[1] Learning rate is 0.001\n"
     ]
    },
    {
     "name": "stderr",
     "output_type": "stream",
     "text": [
      "\n",
      "100%|███████████████████████████████████████████████████████████████████████████████████████████████████████████████████████████████████████████████████████████████████████| 50/50 [00:02<00:00, 19.58it/s, epoch=2/5, avg_epoch_loss=1.06]"
     ]
    },
    {
     "name": "stdout",
     "output_type": "stream",
     "text": [
      "INFO:gluonts.trainer:Epoch[1] Elapsed time 2.557 seconds\n",
      "INFO:gluonts.trainer:Epoch[1] Evaluation metric 'epoch_loss'=1.064195\n",
      "INFO:gluonts.trainer:Epoch[2] Learning rate is 0.001\n"
     ]
    },
    {
     "name": "stderr",
     "output_type": "stream",
     "text": [
      "\n",
      "100%|██████████████████████████████████████████████████████████████████████████████████████████████████████████████████████████████████████████████████████████████████████| 50/50 [00:02<00:00, 18.28it/s, epoch=3/5, avg_epoch_loss=0.917]"
     ]
    },
    {
     "name": "stdout",
     "output_type": "stream",
     "text": [
      "INFO:gluonts.trainer:Epoch[2] Elapsed time 2.738 seconds\n",
      "INFO:gluonts.trainer:Epoch[2] Evaluation metric 'epoch_loss'=0.916761\n",
      "INFO:gluonts.trainer:Epoch[3] Learning rate is 0.001\n"
     ]
    },
    {
     "name": "stderr",
     "output_type": "stream",
     "text": [
      "\n",
      "100%|██████████████████████████████████████████████████████████████████████████████████████████████████████████████████████████████████████████████████████████████████████| 50/50 [00:02<00:00, 20.49it/s, epoch=4/5, avg_epoch_loss=0.814]"
     ]
    },
    {
     "name": "stdout",
     "output_type": "stream",
     "text": [
      "INFO:gluonts.trainer:Epoch[3] Elapsed time 2.444 seconds\n",
      "INFO:gluonts.trainer:Epoch[3] Evaluation metric 'epoch_loss'=0.814490\n",
      "INFO:gluonts.trainer:Epoch[4] Learning rate is 0.001\n"
     ]
    },
    {
     "name": "stderr",
     "output_type": "stream",
     "text": [
      "\n",
      "100%|██████████████████████████████████████████████████████████████████████████████████████████████████████████████████████████████████████████████████████████████████████| 50/50 [00:02<00:00, 19.25it/s, epoch=5/5, avg_epoch_loss=0.735]"
     ]
    },
    {
     "name": "stdout",
     "output_type": "stream",
     "text": [
      "INFO:gluonts.trainer:Epoch[4] Elapsed time 2.600 seconds\n",
      "INFO:gluonts.trainer:Epoch[4] Evaluation metric 'epoch_loss'=0.734954\n",
      "INFO:root:Computing averaged parameters.\n",
      "INFO:root:Loading averaged parameters.\n",
      "INFO:gluonts.trainer:End model training\n"
     ]
    },
    {
     "name": "stderr",
     "output_type": "stream",
     "text": [
      "\n"
     ]
    },
    {
     "name": "stdout",
     "output_type": "stream",
     "text": [
      "INFO:gluonts.trainer:Start model training\n",
      "INFO:gluonts.trainer:Epoch[0] Learning rate is 0.001\n"
     ]
    },
    {
     "name": "stderr",
     "output_type": "stream",
     "text": [
      "\r",
      "  0%|                                                                                                                                                                                                                | 0/50 [00:00<?, ?it/s]"
     ]
    },
    {
     "name": "stdout",
     "output_type": "stream",
     "text": [
      "INFO:gluonts.trainer:Number of parameters in DeepARTrainingNetwork: 25884\n"
     ]
    },
    {
     "name": "stderr",
     "output_type": "stream",
     "text": [
      "\r",
      "100%|███████████████████████████████████████████████████████████████████████████████████████████████████████████████████████████████████████████████████████████████████████| 50/50 [00:02<00:00, 18.45it/s, epoch=1/5, avg_epoch_loss=2.09]"
     ]
    },
    {
     "name": "stdout",
     "output_type": "stream",
     "text": [
      "INFO:gluonts.trainer:Epoch[0] Elapsed time 2.712 seconds\n",
      "INFO:gluonts.trainer:Epoch[0] Evaluation metric 'epoch_loss'=2.090047\n",
      "INFO:gluonts.trainer:Epoch[1] Learning rate is 0.001\n"
     ]
    },
    {
     "name": "stderr",
     "output_type": "stream",
     "text": [
      "\n",
      "100%|███████████████████████████████████████████████████████████████████████████████████████████████████████████████████████████████████████████████████████████████████████| 50/50 [00:02<00:00, 19.28it/s, epoch=2/5, avg_epoch_loss=1.08]"
     ]
    },
    {
     "name": "stdout",
     "output_type": "stream",
     "text": [
      "INFO:gluonts.trainer:Epoch[1] Elapsed time 2.597 seconds\n",
      "INFO:gluonts.trainer:Epoch[1] Evaluation metric 'epoch_loss'=1.077873\n",
      "INFO:gluonts.trainer:Epoch[2] Learning rate is 0.001\n"
     ]
    },
    {
     "name": "stderr",
     "output_type": "stream",
     "text": [
      "\n",
      "100%|██████████████████████████████████████████████████████████████████████████████████████████████████████████████████████████████████████████████████████████████████████| 50/50 [00:03<00:00, 16.20it/s, epoch=3/5, avg_epoch_loss=0.961]"
     ]
    },
    {
     "name": "stdout",
     "output_type": "stream",
     "text": [
      "INFO:gluonts.trainer:Epoch[2] Elapsed time 3.089 seconds\n",
      "INFO:gluonts.trainer:Epoch[2] Evaluation metric 'epoch_loss'=0.960918\n",
      "INFO:gluonts.trainer:Epoch[3] Learning rate is 0.001\n"
     ]
    },
    {
     "name": "stderr",
     "output_type": "stream",
     "text": [
      "\n",
      "100%|██████████████████████████████████████████████████████████████████████████████████████████████████████████████████████████████████████████████████████████████████████| 50/50 [00:03<00:00, 14.55it/s, epoch=4/5, avg_epoch_loss=0.809]"
     ]
    },
    {
     "name": "stdout",
     "output_type": "stream",
     "text": [
      "INFO:gluonts.trainer:Epoch[3] Elapsed time 3.439 seconds\n",
      "INFO:gluonts.trainer:Epoch[3] Evaluation metric 'epoch_loss'=0.808855\n",
      "INFO:gluonts.trainer:Epoch[4] Learning rate is 0.001\n"
     ]
    },
    {
     "name": "stderr",
     "output_type": "stream",
     "text": [
      "\n",
      "100%|██████████████████████████████████████████████████████████████████████████████████████████████████████████████████████████████████████████████████████████████████████| 50/50 [00:03<00:00, 15.97it/s, epoch=5/5, avg_epoch_loss=0.714]"
     ]
    },
    {
     "name": "stdout",
     "output_type": "stream",
     "text": [
      "INFO:gluonts.trainer:Epoch[4] Elapsed time 3.134 seconds\n",
      "INFO:gluonts.trainer:Epoch[4] Evaluation metric 'epoch_loss'=0.714112\n",
      "INFO:root:Computing averaged parameters.\n",
      "INFO:root:Loading averaged parameters.\n",
      "INFO:gluonts.trainer:End model training\n"
     ]
    },
    {
     "name": "stderr",
     "output_type": "stream",
     "text": [
      "\n"
     ]
    },
    {
     "name": "stdout",
     "output_type": "stream",
     "text": [
      "INFO:gluonts.trainer:Start model training\n",
      "INFO:gluonts.trainer:Epoch[0] Learning rate is 0.001\n"
     ]
    },
    {
     "name": "stderr",
     "output_type": "stream",
     "text": [
      "\r",
      "  0%|                                                                                                                                                                                                                | 0/50 [00:00<?, ?it/s]"
     ]
    },
    {
     "name": "stdout",
     "output_type": "stream",
     "text": [
      "INFO:gluonts.trainer:Number of parameters in DeepARTrainingNetwork: 25884\n"
     ]
    },
    {
     "name": "stderr",
     "output_type": "stream",
     "text": [
      "\r",
      "100%|███████████████████████████████████████████████████████████████████████████████████████████████████████████████████████████████████████████████████████████████████████| 50/50 [00:03<00:00, 14.55it/s, epoch=1/5, avg_epoch_loss=1.82]"
     ]
    },
    {
     "name": "stdout",
     "output_type": "stream",
     "text": [
      "INFO:gluonts.trainer:Epoch[0] Elapsed time 3.442 seconds\n",
      "INFO:gluonts.trainer:Epoch[0] Evaluation metric 'epoch_loss'=1.823372\n",
      "INFO:gluonts.trainer:Epoch[1] Learning rate is 0.001\n"
     ]
    },
    {
     "name": "stderr",
     "output_type": "stream",
     "text": [
      "\n",
      "100%|███████████████████████████████████████████████████████████████████████████████████████████████████████████████████████████████████████████████████████████████████████| 50/50 [00:02<00:00, 17.40it/s, epoch=2/5, avg_epoch_loss=1.05]"
     ]
    },
    {
     "name": "stdout",
     "output_type": "stream",
     "text": [
      "INFO:gluonts.trainer:Epoch[1] Elapsed time 2.877 seconds\n",
      "INFO:gluonts.trainer:Epoch[1] Evaluation metric 'epoch_loss'=1.053371\n",
      "INFO:gluonts.trainer:Epoch[2] Learning rate is 0.001\n"
     ]
    },
    {
     "name": "stderr",
     "output_type": "stream",
     "text": [
      "\n",
      "100%|██████████████████████████████████████████████████████████████████████████████████████████████████████████████████████████████████████████████████████████████████████| 50/50 [00:03<00:00, 15.80it/s, epoch=3/5, avg_epoch_loss=0.865]"
     ]
    },
    {
     "name": "stdout",
     "output_type": "stream",
     "text": [
      "INFO:gluonts.trainer:Epoch[2] Elapsed time 3.168 seconds\n",
      "INFO:gluonts.trainer:Epoch[2] Evaluation metric 'epoch_loss'=0.864518\n",
      "INFO:gluonts.trainer:Epoch[3] Learning rate is 0.001\n"
     ]
    },
    {
     "name": "stderr",
     "output_type": "stream",
     "text": [
      "\n",
      "100%|██████████████████████████████████████████████████████████████████████████████████████████████████████████████████████████████████████████████████████████████████████| 50/50 [00:03<00:00, 16.40it/s, epoch=4/5, avg_epoch_loss=0.806]"
     ]
    },
    {
     "name": "stdout",
     "output_type": "stream",
     "text": [
      "INFO:gluonts.trainer:Epoch[3] Elapsed time 3.052 seconds\n",
      "INFO:gluonts.trainer:Epoch[3] Evaluation metric 'epoch_loss'=0.806337\n",
      "INFO:gluonts.trainer:Epoch[4] Learning rate is 0.001\n"
     ]
    },
    {
     "name": "stderr",
     "output_type": "stream",
     "text": [
      "\n",
      "100%|██████████████████████████████████████████████████████████████████████████████████████████████████████████████████████████████████████████████████████████████████████| 50/50 [00:03<00:00, 16.57it/s, epoch=5/5, avg_epoch_loss=0.658]"
     ]
    },
    {
     "name": "stdout",
     "output_type": "stream",
     "text": [
      "INFO:gluonts.trainer:Epoch[4] Elapsed time 3.020 seconds\n",
      "INFO:gluonts.trainer:Epoch[4] Evaluation metric 'epoch_loss'=0.658467\n",
      "INFO:root:Computing averaged parameters.\n",
      "INFO:root:Loading averaged parameters.\n",
      "INFO:gluonts.trainer:End model training\n",
      "INFO:alpha_automl.automl_api:Scored pipeline, score=1.5516677124105097e-13\n",
      "INFO:alpha_automl.automl_api:Found pipeline, time=0:02:44, scoring...\n",
      "INFO:lightning_fabric.utilities.seed:Global seed set to 1\n"
     ]
    },
    {
     "name": "stderr",
     "output_type": "stream",
     "text": [
      "\n"
     ]
    },
    {
     "name": "stdout",
     "output_type": "stream",
     "text": [
      "DEBUG:fsspec.local:open file: /Users/rlopez/D3M/alpha-automl/examples/lightning_logs/version_38/hparams.yaml\n"
     ]
    },
    {
     "data": {
      "application/vnd.jupyter.widget-view+json": {
       "model_id": "",
       "version_major": 2,
       "version_minor": 0
      },
      "text/plain": [
       "Sanity Checking: 0it [00:00, ?it/s]"
      ]
     },
     "metadata": {},
     "output_type": "display_data"
    },
    {
     "data": {
      "application/vnd.jupyter.widget-view+json": {
       "model_id": "a3ed1f5a2505479aa7ce77d8aaf9fd50",
       "version_major": 2,
       "version_minor": 0
      },
      "text/plain": [
       "Training: 0it [00:00, ?it/s]"
      ]
     },
     "metadata": {},
     "output_type": "display_data"
    },
    {
     "name": "stdout",
     "output_type": "stream",
     "text": [
      "DEBUG:fsspec.local:open file: /Users/rlopez/D3M/alpha-automl/examples/lightning_logs/version_39/hparams.yaml\n"
     ]
    },
    {
     "data": {
      "application/vnd.jupyter.widget-view+json": {
       "model_id": "f0c69cef92b24e0aaa8aa4bcba81f4af",
       "version_major": 2,
       "version_minor": 0
      },
      "text/plain": [
       "Predicting: 0it [00:00, ?it/s]"
      ]
     },
     "metadata": {},
     "output_type": "display_data"
    },
    {
     "name": "stdout",
     "output_type": "stream",
     "text": [
      "INFO:lightning_fabric.utilities.seed:Global seed set to 1\n",
      "DEBUG:fsspec.local:open file: /Users/rlopez/D3M/alpha-automl/examples/lightning_logs/version_40/hparams.yaml\n"
     ]
    },
    {
     "data": {
      "application/vnd.jupyter.widget-view+json": {
       "model_id": "",
       "version_major": 2,
       "version_minor": 0
      },
      "text/plain": [
       "Sanity Checking: 0it [00:00, ?it/s]"
      ]
     },
     "metadata": {},
     "output_type": "display_data"
    },
    {
     "data": {
      "application/vnd.jupyter.widget-view+json": {
       "model_id": "fd5d97a69c4b4184aacdec5eebd61adf",
       "version_major": 2,
       "version_minor": 0
      },
      "text/plain": [
       "Training: 0it [00:00, ?it/s]"
      ]
     },
     "metadata": {},
     "output_type": "display_data"
    },
    {
     "name": "stdout",
     "output_type": "stream",
     "text": [
      "DEBUG:fsspec.local:open file: /Users/rlopez/D3M/alpha-automl/examples/lightning_logs/version_41/hparams.yaml\n"
     ]
    },
    {
     "data": {
      "application/vnd.jupyter.widget-view+json": {
       "model_id": "206b0e9183d64a15b7f025e07aa7bcd0",
       "version_major": 2,
       "version_minor": 0
      },
      "text/plain": [
       "Predicting: 0it [00:00, ?it/s]"
      ]
     },
     "metadata": {},
     "output_type": "display_data"
    },
    {
     "name": "stdout",
     "output_type": "stream",
     "text": [
      "INFO:lightning_fabric.utilities.seed:Global seed set to 1\n",
      "DEBUG:fsspec.local:open file: /Users/rlopez/D3M/alpha-automl/examples/lightning_logs/version_42/hparams.yaml\n"
     ]
    },
    {
     "data": {
      "application/vnd.jupyter.widget-view+json": {
       "model_id": "",
       "version_major": 2,
       "version_minor": 0
      },
      "text/plain": [
       "Sanity Checking: 0it [00:00, ?it/s]"
      ]
     },
     "metadata": {},
     "output_type": "display_data"
    },
    {
     "data": {
      "application/vnd.jupyter.widget-view+json": {
       "model_id": "dcae7a0d6c594c2f9814270e67933551",
       "version_major": 2,
       "version_minor": 0
      },
      "text/plain": [
       "Training: 0it [00:00, ?it/s]"
      ]
     },
     "metadata": {},
     "output_type": "display_data"
    },
    {
     "name": "stdout",
     "output_type": "stream",
     "text": [
      "DEBUG:fsspec.local:open file: /Users/rlopez/D3M/alpha-automl/examples/lightning_logs/version_43/hparams.yaml\n"
     ]
    },
    {
     "data": {
      "application/vnd.jupyter.widget-view+json": {
       "model_id": "e962995f27da49edb9261017ea64a7b9",
       "version_major": 2,
       "version_minor": 0
      },
      "text/plain": [
       "Predicting: 0it [00:00, ?it/s]"
      ]
     },
     "metadata": {},
     "output_type": "display_data"
    },
    {
     "name": "stdout",
     "output_type": "stream",
     "text": [
      "INFO:lightning_fabric.utilities.seed:Global seed set to 1\n",
      "DEBUG:fsspec.local:open file: /Users/rlopez/D3M/alpha-automl/examples/lightning_logs/version_44/hparams.yaml\n"
     ]
    },
    {
     "data": {
      "application/vnd.jupyter.widget-view+json": {
       "model_id": "",
       "version_major": 2,
       "version_minor": 0
      },
      "text/plain": [
       "Sanity Checking: 0it [00:00, ?it/s]"
      ]
     },
     "metadata": {},
     "output_type": "display_data"
    },
    {
     "data": {
      "application/vnd.jupyter.widget-view+json": {
       "model_id": "e374e2cd1f674e0eabcd88a70e73d469",
       "version_major": 2,
       "version_minor": 0
      },
      "text/plain": [
       "Training: 0it [00:00, ?it/s]"
      ]
     },
     "metadata": {},
     "output_type": "display_data"
    },
    {
     "name": "stdout",
     "output_type": "stream",
     "text": [
      "DEBUG:fsspec.local:open file: /Users/rlopez/D3M/alpha-automl/examples/lightning_logs/version_45/hparams.yaml\n"
     ]
    },
    {
     "data": {
      "application/vnd.jupyter.widget-view+json": {
       "model_id": "029756fe424b433a8fa08cb7a2825cd4",
       "version_major": 2,
       "version_minor": 0
      },
      "text/plain": [
       "Predicting: 0it [00:00, ?it/s]"
      ]
     },
     "metadata": {},
     "output_type": "display_data"
    },
    {
     "name": "stdout",
     "output_type": "stream",
     "text": [
      "INFO:lightning_fabric.utilities.seed:Global seed set to 1\n",
      "DEBUG:fsspec.local:open file: /Users/rlopez/D3M/alpha-automl/examples/lightning_logs/version_46/hparams.yaml\n"
     ]
    },
    {
     "data": {
      "application/vnd.jupyter.widget-view+json": {
       "model_id": "",
       "version_major": 2,
       "version_minor": 0
      },
      "text/plain": [
       "Sanity Checking: 0it [00:00, ?it/s]"
      ]
     },
     "metadata": {},
     "output_type": "display_data"
    },
    {
     "data": {
      "application/vnd.jupyter.widget-view+json": {
       "model_id": "13f0199ed996434ba864d55320426561",
       "version_major": 2,
       "version_minor": 0
      },
      "text/plain": [
       "Training: 0it [00:00, ?it/s]"
      ]
     },
     "metadata": {},
     "output_type": "display_data"
    },
    {
     "name": "stdout",
     "output_type": "stream",
     "text": [
      "DEBUG:fsspec.local:open file: /Users/rlopez/D3M/alpha-automl/examples/lightning_logs/version_47/hparams.yaml\n"
     ]
    },
    {
     "data": {
      "application/vnd.jupyter.widget-view+json": {
       "model_id": "62c106a2f14e448bbb1e83aa2c56aa19",
       "version_major": 2,
       "version_minor": 0
      },
      "text/plain": [
       "Predicting: 0it [00:00, ?it/s]"
      ]
     },
     "metadata": {},
     "output_type": "display_data"
    },
    {
     "name": "stdout",
     "output_type": "stream",
     "text": [
      "INFO:alpha_automl.automl_api:Scored pipeline, score=91.71111163526298\n",
      "INFO:alpha_automl.automl_api:Found pipeline, time=0:03:56, scoring...\n",
      "INFO:alpha_automl.automl_api:Scored pipeline, score=93.46384163746278\n",
      "INFO:alpha_automl.automl_api:Found pipeline, time=0:03:57, scoring...\n",
      "INFO:alpha_automl.automl_api:Scored pipeline, score=61.22744917199267\n",
      "INFO:alpha_automl.automl_api:Found pipeline, time=0:03:57, scoring...\n",
      "INFO:alpha_automl.automl_api:Scored pipeline, score=59.00211213130986\n",
      "INFO:alpha_automl.automl_api:Found pipeline, time=0:03:58, scoring...\n",
      "INFO:alpha_automl.automl_api:Scored pipeline, score=48.25026766118166\n",
      "INFO:alpha_automl.automl_api:Found pipeline, time=0:03:59, scoring...\n",
      "INFO:alpha_automl.automl_api:Scored pipeline, score=46.491680199829545\n",
      "INFO:alpha_automl.automl_api:Found pipeline, time=0:04:00, scoring...\n",
      "INFO:alpha_automl.automl_api:Scored pipeline, score=61.254642231536494\n",
      "INFO:alpha_automl.automl_api:Found pipeline, time=0:04:00, scoring...\n",
      "INFO:alpha_automl.automl_api:Scored pipeline, score=61.193425383698965\n",
      "INFO:alpha_automl.automl_api:Found pipeline, time=0:04:00, scoring...\n",
      "INFO:alpha_automl.automl_api:Scored pipeline, score=93.46384163746278\n",
      "INFO:alpha_automl.automl_api:Found pipeline, time=0:04:00, scoring...\n",
      "INFO:alpha_automl.automl_api:Scored pipeline, score=93.64916601166398\n",
      "INFO:alpha_automl.automl_api:Found pipeline, time=0:04:01, scoring...\n",
      "INFO:alpha_automl.automl_api:Scored pipeline, score=61.22744920931011\n",
      "INFO:alpha_automl.automl_api:Found pipeline, time=0:04:01, scoring...\n",
      "INFO:alpha_automl.automl_api:Scored pipeline, score=58.96166937653218\n",
      "INFO:alpha_automl.automl_api:Found pipeline, time=0:04:02, scoring...\n",
      "INFO:alpha_automl.automl_api:Scored pipeline, score=196.3773747011569\n",
      "INFO:alpha_automl.automl_api:Found pipeline, time=0:04:03, scoring...\n",
      "INFO:alpha_automl.automl_api:Scored pipeline, score=47.0200436778693\n",
      "INFO:alpha_automl.automl_api:Found pipeline, time=0:04:04, scoring...\n",
      "INFO:alpha_automl.automl_api:Found pipeline, time=0:04:04, scoring...\n",
      "INFO:alpha_automl.automl_api:Scored pipeline, score=40.02038308057634\n",
      "INFO:alpha_automl.automl_api:Found pipeline, time=0:04:05, scoring...\n",
      "INFO:alpha_automl.automl_api:Found pipeline, time=0:04:05, scoring...\n",
      "INFO:alpha_automl.automl_api:Scored pipeline, score=59.00211213130986\n",
      "INFO:alpha_automl.automl_api:Found pipeline, time=0:04:06, scoring...\n",
      "INFO:alpha_automl.automl_api:Found pipeline, time=0:04:06, scoring...\n",
      "INFO:alpha_automl.automl_api:Scored pipeline, score=57.96429128217958\n",
      "INFO:alpha_automl.automl_api:Found pipeline, time=0:04:08, scoring...\n",
      "INFO:alpha_automl.automl_api:Found pipeline, time=0:04:08, scoring...\n",
      "INFO:alpha_automl.automl_api:Scored pipeline, score=26.288680263476028\n",
      "INFO:alpha_automl.automl_api:Found pipeline, time=0:04:09, scoring...\n",
      "INFO:alpha_automl.automl_api:Found pipeline, time=0:04:10, scoring...\n",
      "INFO:alpha_automl.automl_api:Found pipeline, time=0:04:10, scoring...\n",
      "INFO:alpha_automl.automl_api:Found pipeline, time=0:04:10, scoring...\n",
      "INFO:alpha_automl.automl_api:Found pipeline, time=0:04:10, scoring...\n",
      "INFO:alpha_automl.automl_api:Found pipeline, time=0:04:10, scoring...\n",
      "INFO:alpha_automl.automl_api:Found pipeline, time=0:04:10, scoring...\n",
      "INFO:alpha_automl.automl_api:Scored pipeline, score=58.63912864551789\n",
      "INFO:alpha_automl.automl_api:Found pipeline, time=0:04:11, scoring...\n",
      "INFO:alpha_automl.automl_api:Scored pipeline, score=26.28792006583339\n",
      "INFO:alpha_automl.automl_api:Found pipeline, time=0:04:13, scoring...\n",
      "INFO:alpha_automl.automl_api:Scored pipeline, score=26.243943816377424\n",
      "INFO:alpha_automl.automl_api:Found pipeline, time=0:04:14, scoring...\n",
      "INFO:alpha_automl.automl_api:Scored pipeline, score=40.00831025820319\n",
      "INFO:alpha_automl.automl_api:Found pipeline, time=0:04:16, scoring...\n",
      "INFO:alpha_automl.automl_api:Scored pipeline, score=58.40795832300332\n",
      "INFO:alpha_automl.automl_api:Found pipeline, time=0:04:17, scoring...\n",
      "INFO:alpha_automl.automl_api:Scored pipeline, score=58.91177913803317\n",
      "INFO:alpha_automl.automl_api:Found pipeline, time=0:04:18, scoring...\n",
      "INFO:alpha_automl.automl_api:Found pipeline, time=0:04:18, scoring...\n",
      "INFO:alpha_automl.automl_api:Scored pipeline, score=26.130875452051413\n",
      "INFO:alpha_automl.automl_api:Found pipeline, time=0:04:20, scoring...\n",
      "INFO:alpha_automl.automl_api:Found pipeline, time=0:04:20, scoring...\n",
      "INFO:alpha_automl.automl_api:Found pipeline, time=0:04:20, scoring...\n",
      "INFO:alpha_automl.automl_api:Scored pipeline, score=58.93608875986024\n",
      "INFO:alpha_automl.automl_api:Found pipeline, time=0:04:21, scoring...\n",
      "INFO:alpha_automl.automl_api:Found pipeline, time=0:04:22, scoring...\n",
      "INFO:alpha_automl.automl_api:Found pipeline, time=0:04:22, scoring...\n",
      "INFO:alpha_automl.automl_api:Found pipeline, time=0:04:22, scoring...\n",
      "INFO:alpha_automl.automl_api:Found pipeline, time=0:04:22, scoring...\n",
      "INFO:alpha_automl.automl_api:Found pipeline, time=0:04:22, scoring...\n",
      "INFO:alpha_automl.automl_api:Found pipeline, time=0:04:22, scoring...\n",
      "INFO:alpha_automl.automl_api:Found pipeline, time=0:04:22, scoring...\n",
      "INFO:alpha_automl.automl_api:Found pipeline, time=0:04:22, scoring...\n",
      "INFO:alpha_automl.automl_api:Found pipeline, time=0:04:22, scoring...\n",
      "INFO:alpha_automl.automl_api:Found pipeline, time=0:04:23, scoring...\n",
      "INFO:alpha_automl.automl_api:Found pipeline, time=0:04:23, scoring...\n",
      "INFO:alpha_automl.automl_api:Scored pipeline, score=151.8745732255783\n",
      "INFO:alpha_automl.automl_api:Found pipeline, time=0:04:24, scoring...\n",
      "INFO:alpha_automl.automl_api:Scored pipeline, score=46.01634334359731\n",
      "INFO:alpha_automl.automl_api:Found pipeline, time=0:04:25, scoring...\n",
      "INFO:alpha_automl.automl_api:Scored pipeline, score=58.987278336877054\n",
      "INFO:alpha_automl.automl_api:Found pipeline, time=0:04:26, scoring...\n",
      "INFO:alpha_automl.automl_api:Found pipeline, time=0:04:26, scoring...\n",
      "INFO:alpha_automl.automl_api:Scored pipeline, score=46.481586324600315\n",
      "INFO:alpha_automl.automl_api:Found pipeline, time=0:04:27, scoring...\n",
      "INFO:alpha_automl.automl_api:Scored pipeline, score=93.46384163746265\n",
      "INFO:alpha_automl.automl_api:Found pipeline, time=0:04:29, scoring...\n",
      "INFO:alpha_automl.automl_api:Scored pipeline, score=59.258274077517214\n",
      "INFO:alpha_automl.automl_api:Found pipeline, time=0:04:29, scoring...\n",
      "INFO:alpha_automl.automl_api:Scored pipeline, score=61.21884733955269\n",
      "INFO:alpha_automl.automl_api:Found pipeline, time=0:04:29, scoring...\n",
      "INFO:alpha_automl.automl_api:Scored pipeline, score=28.022905261310676\n",
      "INFO:alpha_automl.automl_api:Found pipeline, time=0:04:30, scoring...\n",
      "INFO:alpha_automl.automl_api:Scored pipeline, score=61.25313729208581\n",
      "INFO:alpha_automl.automl_api:Found pipeline, time=0:04:31, scoring...\n",
      "INFO:alpha_automl.automl_api:Scored pipeline, score=58.6012674670219\n",
      "INFO:alpha_automl.automl_api:Found pipeline, time=0:04:32, scoring...\n",
      "INFO:alpha_automl.automl_api:Scored pipeline, score=58.40795832300332\n",
      "INFO:alpha_automl.automl_api:Found pipeline, time=0:04:32, scoring...\n",
      "INFO:alpha_automl.automl_api:Scored pipeline, score=61.25105517705117\n",
      "INFO:alpha_automl.automl_api:Found pipeline, time=0:04:32, scoring...\n",
      "INFO:alpha_automl.automl_api:Scored pipeline, score=58.9138929296915\n",
      "INFO:alpha_automl.automl_api:Found pipeline, time=0:04:33, scoring...\n",
      "INFO:alpha_automl.automl_api:Scored pipeline, score=59.24670014938497\n",
      "INFO:alpha_automl.automl_api:Found pipeline, time=0:04:35, scoring...\n",
      "INFO:alpha_automl.automl_api:Scored pipeline, score=29.66028985070409\n",
      "INFO:alpha_automl.automl_api:Found pipeline, time=0:04:36, scoring...\n",
      "INFO:alpha_automl.automl_api:Scored pipeline, score=30.266128294091722\n",
      "INFO:alpha_automl.automl_api:Found pipeline, time=0:04:38, scoring...\n",
      "INFO:alpha_automl.automl_api:Scored pipeline, score=93.64916601166398\n",
      "INFO:alpha_automl.automl_api:Found pipeline, time=0:04:38, scoring...\n",
      "INFO:alpha_automl.automl_api:Scored pipeline, score=59.24670014938497\n",
      "INFO:alpha_automl.automl_api:Found pipeline, time=0:04:40, scoring...\n",
      "INFO:alpha_automl.automl_api:Scored pipeline, score=29.66028985070409\n",
      "INFO:alpha_automl.automl_api:Found pipeline, time=0:04:41, scoring...\n",
      "INFO:alpha_automl.automl_api:Scored pipeline, score=30.266444326021514\n",
      "INFO:alpha_automl.automl_api:Found pipeline, time=0:04:43, scoring...\n"
     ]
    },
    {
     "name": "stdout",
     "output_type": "stream",
     "text": [
      "INFO:alpha_automl.automl_api:Scored pipeline, score=93.46384163746278\n",
      "INFO:alpha_automl.automl_api:Found pipeline, time=0:04:43, scoring...\n",
      "INFO:alpha_automl.automl_api:Scored pipeline, score=93.46384163746278\n",
      "INFO:alpha_automl.automl_api:Found pipeline, time=0:04:43, scoring...\n",
      "INFO:alpha_automl.automl_api:Scored pipeline, score=22.221031981715537\n",
      "INFO:alpha_automl.automl_api:Found pipeline, time=0:04:46, scoring...\n",
      "INFO:alpha_automl.automl_api:Scored pipeline, score=37.953626329339315\n",
      "INFO:alpha_automl.automl_api:Found pipeline, time=0:04:47, scoring...\n",
      "INFO:alpha_automl.automl_api:Scored pipeline, score=73.2253168981337\n",
      "INFO:alpha_automl.automl_api:Found pipeline, time=0:04:48, scoring...\n",
      "INFO:alpha_automl.automl_api:Scored pipeline, score=59.00211213130986\n",
      "INFO:alpha_automl.automl_api:Found pipeline, time=0:04:49, scoring...\n",
      "INFO:alpha_automl.automl_api:Scored pipeline, score=171.7127638549805\n",
      "INFO:alpha_automl.automl_api:Found pipeline, time=0:04:50, scoring...\n",
      "INFO:alpha_automl.automl_api:Scored pipeline, score=59.258274077517214\n",
      "INFO:alpha_automl.automl_api:Found pipeline, time=0:04:51, scoring...\n",
      "INFO:alpha_automl.automl_api:Scored pipeline, score=67.79485255212832\n",
      "INFO:alpha_automl.automl_api:Found pipeline, time=0:04:52, scoring...\n",
      "INFO:alpha_automl.automl_api:Scored pipeline, score=93.64916601166398\n",
      "INFO:alpha_automl.automl_api:Found pipeline, time=0:04:53, scoring...\n",
      "INFO:alpha_automl.automl_api:Scored pipeline, score=62.392763104958135\n",
      "INFO:alpha_automl.automl_api:Found pipeline, time=0:04:53, scoring...\n",
      "INFO:alpha_automl.automl_api:Scored pipeline, score=58.40795832300332\n",
      "INFO:alpha_automl.automl_api:Found pipeline, time=0:04:53, scoring...\n",
      "INFO:alpha_automl.automl_api:Scored pipeline, score=59.258274077517214\n",
      "INFO:alpha_automl.automl_api:Found pipeline, time=0:04:55, scoring...\n",
      "INFO:alpha_automl.automl_api:Scored pipeline, score=63.247839795747495\n",
      "INFO:alpha_automl.automl_api:Found pipeline, time=0:04:57, scoring...\n",
      "INFO:alpha_automl.automl_api:Scored pipeline, score=66.08003127783529\n",
      "INFO:alpha_automl.automl_api:Found pipeline, time=0:04:57, scoring...\n",
      "INFO:alpha_automl.automl_api:Scored pipeline, score=104.53079422182077\n",
      "INFO:alpha_automl.automl_api:Found pipeline, time=0:04:59, scoring...\n",
      "INFO:alpha_automl.automl_api:Scored pipeline, score=61.22744920931011\n",
      "INFO:alpha_automl.automl_api:Found pipeline, time=0:04:59, scoring...\n",
      "INFO:alpha_automl.automl_api:Scored pipeline, score=58.70022655584239\n",
      "INFO:alpha_automl.automl_api:Found pipeline, time=0:05:00, scoring...\n",
      "INFO:alpha_automl.automl_api:Scored pipeline, score=58.40795832300332\n",
      "INFO:alpha_automl.automl_api:Found pipeline, time=0:05:01, scoring...\n",
      "INFO:alpha_automl.automl_api:Scored pipeline, score=64.35344549119834\n",
      "INFO:alpha_automl.automl_api:Found pipeline, time=0:05:02, scoring...\n",
      "INFO:alpha_automl.automl_api:Scored pipeline, score=59.21677582561646\n",
      "INFO:alpha_automl.automl_api:Found pipeline, time=0:05:04, scoring...\n",
      "INFO:alpha_automl.automl_api:Scored pipeline, score=65.45429036592832\n",
      "INFO:alpha_automl.automl_api:Found pipeline, time=0:05:04, scoring...\n",
      "INFO:alpha_automl.automl_api:Scored pipeline, score=67.25867182657066\n",
      "INFO:alpha_automl.automl_api:Found pipeline, time=0:05:07, scoring...\n",
      "INFO:alpha_automl.automl_api:Scored pipeline, score=3914.805729259315\n",
      "INFO:alpha_automl.automl_api:Found pipeline, time=0:05:07, scoring...\n",
      "INFO:alpha_automl.automl_api:Scored pipeline, score=68.17787869499554\n",
      "INFO:alpha_automl.automl_api:Found pipeline, time=0:05:08, scoring...\n",
      "INFO:alpha_automl.automl_api:Scored pipeline, score=65.5223530858063\n",
      "INFO:alpha_automl.automl_api:Found pipeline, time=0:05:10, scoring...\n",
      "INFO:alpha_automl.automl_api:Scored pipeline, score=61.1451351802192\n",
      "INFO:alpha_automl.automl_api:Found pipeline, time=0:05:10, scoring...\n",
      "INFO:alpha_automl.automl_api:Scored pipeline, score=76.79680527663973\n",
      "INFO:alpha_automl.automl_api:Found pipeline, time=0:05:10, scoring...\n",
      "INFO:alpha_automl.automl_api:Scored pipeline, score=58.40795832300332\n",
      "INFO:alpha_automl.automl_api:Found pipeline, time=0:05:10, scoring...\n",
      "INFO:alpha_automl.automl_api:Scored pipeline, score=59.25967419724009\n",
      "INFO:alpha_automl.automl_api:Found pipeline, time=0:05:13, scoring...\n",
      "INFO:alpha_automl.automl_api:Scored pipeline, score=60.580109128343906\n",
      "INFO:alpha_automl.automl_api:Found pipeline, time=0:05:21, scoring...\n",
      "INFO:alpha_automl.automl_api:Scored pipeline, score=75.6694491471225\n",
      "INFO:alpha_automl.automl_api:Found pipeline, time=0:05:21, scoring...\n",
      "INFO:alpha_automl.automl_api:Scored pipeline, score=87.70502242822127\n",
      "INFO:alpha_automl.automl_api:Found pipeline, time=0:05:22, scoring...\n",
      "INFO:alpha_automl.automl_api:Scored pipeline, score=100.97977699964686\n",
      "INFO:alpha_automl.automl_api:Found pipeline, time=0:05:23, scoring...\n",
      "INFO:alpha_automl.automl_api:Scored pipeline, score=58.969314022834034\n",
      "INFO:alpha_automl.automl_api:Found pipeline, time=0:05:24, scoring...\n",
      "INFO:alpha_automl.automl_api:Scored pipeline, score=59.34732964483599\n",
      "INFO:alpha_automl.automl_api:Found pipeline, time=0:05:24, scoring...\n",
      "INFO:alpha_automl.automl_api:Scored pipeline, score=63.943599882629044\n",
      "INFO:alpha_automl.automl_api:Found pipeline, time=0:05:24, scoring...\n",
      "INFO:alpha_automl.automl_api:Scored pipeline, score=58.40795832300332\n",
      "INFO:alpha_automl.automl_api:Found pipeline, time=0:05:25, scoring...\n",
      "INFO:alpha_automl.automl_api:Scored pipeline, score=3.1007692043338735e+23\n",
      "INFO:alpha_automl.automl_api:Found pipeline, time=0:05:27, scoring...\n",
      "INFO:alpha_automl.automl_api:Scored pipeline, score=61.09281673575382\n",
      "INFO:alpha_automl.automl_api:Found pipeline, time=0:05:27, scoring...\n",
      "INFO:alpha_automl.automl_api:Scored pipeline, score=61.254642231536494\n",
      "INFO:alpha_automl.automl_api:Found pipeline, time=0:05:27, scoring...\n",
      "\n",
      "INFO:alpha_automl.automl_api:Scored pipeline, score=59.164717384425536\n",
      "INFO:alpha_automl.automl_api:Found pipeline, time=0:05:28, scoring...\n",
      "INFO:alpha_automl.automl_api:Scored pipeline, score=59.07107737005638\n",
      "INFO:alpha_automl.automl_api:Found pipeline, time=0:05:30, scoring...\n",
      "INFO:alpha_automl.automl_api:Scored pipeline, score=63.716645388484096\n",
      "INFO:alpha_automl.automl_api:Found pipeline, time=0:05:31, scoring...\n",
      "INFO:alpha_automl.automl_api:Scored pipeline, score=42.429526084237686\n",
      "INFO:alpha_automl.automl_api:Found pipeline, time=0:05:32, scoring...\n",
      "INFO:alpha_automl.automl_api:Scored pipeline, score=46.00084927555114\n",
      "INFO:alpha_automl.automl_api:Found pipeline, time=0:05:33, scoring...\n",
      "INFO:alpha_automl.automl_api:Scored pipeline, score=58.987278336877054\n",
      "INFO:alpha_automl.automl_api:Found pipeline, time=0:05:34, scoring...\n",
      "INFO:alpha_automl.automl_api:Scored pipeline, score=171.646504349518\n",
      "INFO:alpha_automl.automl_api:Found pipeline, time=0:05:36, scoring...\n",
      "INFO:alpha_automl.automl_api:Scored pipeline, score=58.63912864551789\n",
      "INFO:alpha_automl.automl_api:Found pipeline, time=0:05:37, scoring...\n",
      "INFO:alpha_automl.automl_api:Scored pipeline, score=39.98233091642205\n",
      "INFO:alpha_automl.automl_api:Found pipeline, time=0:05:38, scoring...\n",
      "INFO:alpha_automl.automl_api:Scored pipeline, score=134.73181081671916\n",
      "INFO:alpha_automl.automl_api:Found pipeline, time=0:05:40, scoring...\n",
      "INFO:alpha_automl.automl_api:Scored pipeline, score=57.96429128217958\n",
      "INFO:alpha_automl.automl_api:Found pipeline, time=0:05:41, scoring...\n",
      "INFO:alpha_automl.automl_api:Scored pipeline, score=46.497676467490656\n",
      "INFO:alpha_automl.automl_api:Found pipeline, time=0:05:42, scoring...\n",
      "INFO:alpha_automl.automl_api:Scored pipeline, score=61.22457553599857\n",
      "INFO:alpha_automl.automl_api:Found pipeline, time=0:05:42, scoring...\n",
      "INFO:alpha_automl.automl_api:Scored pipeline, score=39.98233091642205\n",
      "INFO:alpha_automl.automl_api:Found pipeline, time=0:05:44, scoring...\n",
      "INFO:alpha_automl.automl_api:Scored pipeline, score=58.11728048370755\n",
      "INFO:alpha_automl.automl_api:Found pipeline, time=0:05:44, scoring...\n",
      "INFO:alpha_automl.automl_api:Scored pipeline, score=59.00661069407979\n",
      "INFO:alpha_automl.automl_api:Found pipeline, time=0:05:45, scoring...\n",
      "INFO:alpha_automl.automl_api:Scored pipeline, score=61.22744920931011\n",
      "INFO:alpha_automl.automl_api:Found pipeline, time=0:05:45, scoring...\n",
      "INFO:alpha_automl.automl_api:Scored pipeline, score=93.46384163746265\n"
     ]
    },
    {
     "name": "stdout",
     "output_type": "stream",
     "text": [
      "INFO:alpha_automl.automl_api:Found pipeline, time=0:05:47, scoring...\n",
      "INFO:alpha_automl.automl_api:Scored pipeline, score=59.031652482127996\n",
      "INFO:alpha_automl.automl_api:Found pipeline, time=0:05:48, scoring...\n",
      "INFO:alpha_automl.automl_api:Scored pipeline, score=58.64231640899775\n",
      "INFO:alpha_automl.automl_api:Found pipeline, time=0:05:49, scoring...\n",
      "INFO:alpha_automl.automl_api:Scored pipeline, score=30.42436636320388\n",
      "INFO:alpha_automl.automl_api:Found pipeline, time=0:05:50, scoring...\n",
      "INFO:alpha_automl.automl_api:Scored pipeline, score=51.80852409095469\n",
      "INFO:alpha_automl.automl_api:Found pipeline, time=0:05:51, scoring...\n",
      "INFO:alpha_automl.automl_api:Found pipeline, time=0:05:51, scoring...\n",
      "INFO:alpha_automl.automl_api:Scored pipeline, score=26.28792006583339\n",
      "INFO:alpha_automl.automl_api:Found pipeline, time=0:05:53, scoring...\n",
      "INFO:alpha_automl.automl_api:Scored pipeline, score=67.79485255212812\n",
      "INFO:alpha_automl.automl_api:Found pipeline, time=0:05:54, scoring...\n",
      "INFO:alpha_automl.automl_api:Found pipeline, time=0:05:54, scoring...\n",
      "INFO:alpha_automl.automl_api:Scored pipeline, score=42.44549008163156\n",
      "INFO:alpha_automl.automl_api:Found pipeline, time=0:05:56, scoring...\n",
      "INFO:alpha_automl.automl_api:Scored pipeline, score=58.64228893966108\n",
      "INFO:alpha_automl.automl_api:Found pipeline, time=0:05:57, scoring...\n",
      "INFO:alpha_automl.automl_api:Scored pipeline, score=59.03154611798874\n",
      "INFO:alpha_automl.automl_api:Found pipeline, time=0:05:59, scoring...\n",
      "INFO:alpha_automl.automl_api:Scored pipeline, score=26.243943816377424\n",
      "INFO:alpha_automl.automl_api:Found pipeline, time=0:06:01, scoring...\n",
      "INFO:alpha_automl.automl_api:Scored pipeline, score=43.66264479494296\n",
      "INFO:alpha_automl.automl_api:Found pipeline, time=0:06:04, scoring...\n",
      "INFO:alpha_automl.automl_api:Scored pipeline, score=40.00573342995341\n",
      "INFO:alpha_automl.automl_api:Found pipeline, time=0:06:05, scoring...\n",
      "INFO:alpha_automl.automl_api:Scored pipeline, score=22.321877225618923\n",
      "INFO:alpha_automl.automl_api:Found pipeline, time=0:06:07, scoring...\n",
      "INFO:alpha_automl.automl_api:Scored pipeline, score=46.105848365986525\n",
      "INFO:alpha_automl.automl_api:Found pipeline, time=0:06:08, scoring...\n",
      "INFO:alpha_automl.automl_api:Scored pipeline, score=189.6044503739772\n",
      "INFO:alpha_automl.automl_api:Found pipeline, time=0:06:09, scoring...\n",
      "INFO:alpha_automl.automl_api:Scored pipeline, score=24.61923948044764\n",
      "INFO:alpha_automl.automl_api:Found pipeline, time=0:06:10, scoring...\n",
      "INFO:alpha_automl.automl_api:Scored pipeline, score=45.71407244550196\n",
      "INFO:alpha_automl.automl_api:Found pipeline, time=0:06:11, scoring...\n",
      "INFO:alpha_automl.automl_api:Scored pipeline, score=33.21288447535234\n",
      "INFO:alpha_automl.automl_api:Found pipeline, time=0:06:15, scoring...\n",
      "INFO:alpha_automl.automl_api:Scored pipeline, score=93.64916601166398\n",
      "INFO:alpha_automl.automl_api:Found pipeline, time=0:06:15, scoring...\n",
      "INFO:alpha_automl.automl_api:Found pipeline, time=0:06:15, scoring...\n",
      "INFO:alpha_automl.automl_api:Scored pipeline, score=29.548955226229815\n",
      "INFO:alpha_automl.automl_api:Found pipeline, time=0:06:17, scoring...\n",
      "INFO:alpha_automl.automl_api:Scored pipeline, score=39.997345462247\n",
      "INFO:alpha_automl.automl_api:Found pipeline, time=0:06:19, scoring...\n",
      "INFO:alpha_automl.automl_api:Scored pipeline, score=58.64302749619954\n",
      "INFO:alpha_automl.automl_api:Found pipeline, time=0:06:20, scoring...\n",
      "INFO:alpha_automl.automl_api:Scored pipeline, score=59.03454921766867\n",
      "INFO:alpha_automl.automl_api:Found pipeline, time=0:06:21, scoring...\n",
      "INFO:alpha_automl.automl_api:Scored pipeline, score=54.574950867125814\n",
      "INFO:alpha_automl.automl_api:Found 132 pipelines\n",
      "INFO:gluonts.trainer:Start model training\n",
      "INFO:gluonts.trainer:Epoch[0] Learning rate is 0.001\n"
     ]
    },
    {
     "name": "stderr",
     "output_type": "stream",
     "text": [
      "\r",
      "  0%|                                                                                                                                                                                                                | 0/50 [00:00<?, ?it/s]"
     ]
    },
    {
     "name": "stdout",
     "output_type": "stream",
     "text": [
      "INFO:gluonts.trainer:Number of parameters in DeepARTrainingNetwork: 25884\n"
     ]
    },
    {
     "name": "stderr",
     "output_type": "stream",
     "text": [
      "\r",
      "100%|██████████████████████████████████████████████████████████████████████████████████████████████████████████████████████████████████████████████████████████████████████████| 50/50 [00:03<00:00, 15.65it/s, epoch=1/5, avg_epoch_loss=2]"
     ]
    },
    {
     "name": "stdout",
     "output_type": "stream",
     "text": [
      "INFO:gluonts.trainer:Epoch[0] Elapsed time 3.197 seconds\n",
      "INFO:gluonts.trainer:Epoch[0] Evaluation metric 'epoch_loss'=2.000011\n",
      "INFO:gluonts.trainer:Epoch[1] Learning rate is 0.001\n"
     ]
    },
    {
     "name": "stderr",
     "output_type": "stream",
     "text": [
      "\n",
      "100%|███████████████████████████████████████████████████████████████████████████████████████████████████████████████████████████████████████████████████████████████████████| 50/50 [00:02<00:00, 17.48it/s, epoch=2/5, avg_epoch_loss=1.17]"
     ]
    },
    {
     "name": "stdout",
     "output_type": "stream",
     "text": [
      "INFO:gluonts.trainer:Epoch[1] Elapsed time 2.863 seconds\n",
      "INFO:gluonts.trainer:Epoch[1] Evaluation metric 'epoch_loss'=1.174064\n",
      "INFO:gluonts.trainer:Epoch[2] Learning rate is 0.001\n"
     ]
    },
    {
     "name": "stderr",
     "output_type": "stream",
     "text": [
      "\n",
      "100%|███████████████████████████████████████████████████████████████████████████████████████████████████████████████████████████████████████████████████████████████████████| 50/50 [00:03<00:00, 16.07it/s, epoch=3/5, avg_epoch_loss=1.03]"
     ]
    },
    {
     "name": "stdout",
     "output_type": "stream",
     "text": [
      "INFO:gluonts.trainer:Epoch[2] Elapsed time 3.114 seconds\n",
      "INFO:gluonts.trainer:Epoch[2] Evaluation metric 'epoch_loss'=1.025542\n",
      "INFO:gluonts.trainer:Epoch[3] Learning rate is 0.001\n"
     ]
    },
    {
     "name": "stderr",
     "output_type": "stream",
     "text": [
      "\n",
      "100%|██████████████████████████████████████████████████████████████████████████████████████████████████████████████████████████████████████████████████████████████████████| 50/50 [00:03<00:00, 16.21it/s, epoch=4/5, avg_epoch_loss=0.944]"
     ]
    },
    {
     "name": "stdout",
     "output_type": "stream",
     "text": [
      "INFO:gluonts.trainer:Epoch[3] Elapsed time 3.088 seconds\n",
      "INFO:gluonts.trainer:Epoch[3] Evaluation metric 'epoch_loss'=0.943541\n",
      "INFO:gluonts.trainer:Epoch[4] Learning rate is 0.001\n"
     ]
    },
    {
     "name": "stderr",
     "output_type": "stream",
     "text": [
      "\n",
      "100%|██████████████████████████████████████████████████████████████████████████████████████████████████████████████████████████████████████████████████████████████████████| 50/50 [00:03<00:00, 16.19it/s, epoch=5/5, avg_epoch_loss=0.845]"
     ]
    },
    {
     "name": "stdout",
     "output_type": "stream",
     "text": [
      "INFO:gluonts.trainer:Epoch[4] Elapsed time 3.092 seconds\n",
      "INFO:gluonts.trainer:Epoch[4] Evaluation metric 'epoch_loss'=0.845476\n",
      "INFO:root:Computing averaged parameters.\n",
      "INFO:root:Loading averaged parameters.\n",
      "INFO:gluonts.trainer:End model training\n"
     ]
    },
    {
     "name": "stderr",
     "output_type": "stream",
     "text": [
      "\n"
     ]
    }
   ],
   "source": [
    "automl = AutoMLTimeSeries(time_bound=10, date_column='Date', target_column=target_column)\n",
    "automl.fit(X_train, y_train)"
   ]
  },
  {
   "cell_type": "markdown",
   "metadata": {},
   "source": [
    "### Exploring Pipelines"
   ]
  },
  {
   "cell_type": "markdown",
   "metadata": {},
   "source": [
    "After the pipeline search is complete, we can display the leaderboard:"
   ]
  },
  {
   "cell_type": "code",
   "execution_count": 6,
   "metadata": {},
   "outputs": [
    {
     "data": {
      "text/html": [
       "<style type=\"text/css\">\n",
       "</style>\n",
       "<table id=\"T_4515e\">\n",
       "  <thead>\n",
       "    <tr>\n",
       "      <th id=\"T_4515e_level0_col0\" class=\"col_heading level0 col0\" >ranking</th>\n",
       "      <th id=\"T_4515e_level0_col1\" class=\"col_heading level0 col1\" >pipeline</th>\n",
       "      <th id=\"T_4515e_level0_col2\" class=\"col_heading level0 col2\" >mean_squared_error</th>\n",
       "    </tr>\n",
       "  </thead>\n",
       "  <tbody>\n",
       "    <tr>\n",
       "      <td id=\"T_4515e_row0_col0\" class=\"data row0 col0\" >1</td>\n",
       "      <td id=\"T_4515e_row0_col1\" class=\"data row0 col1\" >DeeparEstimator</td>\n",
       "      <td id=\"T_4515e_row0_col2\" class=\"data row0 col2\" >0.000</td>\n",
       "    </tr>\n",
       "    <tr>\n",
       "      <td id=\"T_4515e_row1_col0\" class=\"data row1 col0\" >2</td>\n",
       "      <td id=\"T_4515e_row1_col1\" class=\"data row1 col1\" >ColumnTransformer, Datetime64ExpandEncoder, MaxAbsScaler, GenericUnivariateSelect, SVR</td>\n",
       "      <td id=\"T_4515e_row1_col2\" class=\"data row1 col2\" >22.221</td>\n",
       "    </tr>\n",
       "    <tr>\n",
       "      <td id=\"T_4515e_row2_col0\" class=\"data row2 col0\" >3</td>\n",
       "      <td id=\"T_4515e_row2_col1\" class=\"data row2 col1\" >ColumnTransformer, CyclicalFeature, RobustScaler, GenericUnivariateSelect, DecisionTreeRegressor</td>\n",
       "      <td id=\"T_4515e_row2_col2\" class=\"data row2 col2\" >22.322</td>\n",
       "    </tr>\n",
       "    <tr>\n",
       "      <td id=\"T_4515e_row3_col0\" class=\"data row3 col0\" >4</td>\n",
       "      <td id=\"T_4515e_row3_col1\" class=\"data row3 col1\" >ColumnTransformer, Datetime64ExpandEncoder, MaxAbsScaler, GenericUnivariateSelect, KNeighborsRegressor</td>\n",
       "      <td id=\"T_4515e_row3_col2\" class=\"data row3 col2\" >24.619</td>\n",
       "    </tr>\n",
       "    <tr>\n",
       "      <td id=\"T_4515e_row4_col0\" class=\"data row4 col0\" >5</td>\n",
       "      <td id=\"T_4515e_row4_col1\" class=\"data row4 col1\" >ColumnTransformer, Datetime64ExpandEncoder, MaxAbsScaler, GenericUnivariateSelect, RandomForestRegressor</td>\n",
       "      <td id=\"T_4515e_row4_col2\" class=\"data row4 col2\" >26.131</td>\n",
       "    </tr>\n",
       "    <tr>\n",
       "      <td id=\"T_4515e_row5_col0\" class=\"data row5 col0\" >6</td>\n",
       "      <td id=\"T_4515e_row5_col1\" class=\"data row5 col1\" >ColumnTransformer, Datetime64ExpandEncoder, MaxAbsScaler, GenericUnivariateSelect, XGBRegressor</td>\n",
       "      <td id=\"T_4515e_row5_col2\" class=\"data row5 col2\" >26.244</td>\n",
       "    </tr>\n",
       "    <tr>\n",
       "      <td id=\"T_4515e_row6_col0\" class=\"data row6 col0\" >7</td>\n",
       "      <td id=\"T_4515e_row6_col1\" class=\"data row6 col1\" >ColumnTransformer, Datetime64ExpandEncoder, MaxAbsScaler, SelectPercentile, XGBRegressor</td>\n",
       "      <td id=\"T_4515e_row6_col2\" class=\"data row6 col2\" >26.244</td>\n",
       "    </tr>\n",
       "    <tr>\n",
       "      <td id=\"T_4515e_row7_col0\" class=\"data row7 col0\" >8</td>\n",
       "      <td id=\"T_4515e_row7_col1\" class=\"data row7 col1\" >ColumnTransformer, Datetime64ExpandEncoder, MaxAbsScaler, GenericUnivariateSelect, DecisionTreeRegressor</td>\n",
       "      <td id=\"T_4515e_row7_col2\" class=\"data row7 col2\" >26.288</td>\n",
       "    </tr>\n",
       "    <tr>\n",
       "      <td id=\"T_4515e_row8_col0\" class=\"data row8 col0\" >9</td>\n",
       "      <td id=\"T_4515e_row8_col1\" class=\"data row8 col1\" >ColumnTransformer, Datetime64ExpandEncoder, MaxAbsScaler, SelectPercentile, DecisionTreeRegressor</td>\n",
       "      <td id=\"T_4515e_row8_col2\" class=\"data row8 col2\" >26.288</td>\n",
       "    </tr>\n",
       "    <tr>\n",
       "      <td id=\"T_4515e_row9_col0\" class=\"data row9 col0\" >10</td>\n",
       "      <td id=\"T_4515e_row9_col1\" class=\"data row9 col1\" >ColumnTransformer, Datetime64ExpandEncoder, MaxAbsScaler, GenericUnivariateSelect, ExtraTreesRegressor</td>\n",
       "      <td id=\"T_4515e_row9_col2\" class=\"data row9 col2\" >26.289</td>\n",
       "    </tr>\n",
       "    <tr>\n",
       "      <td id=\"T_4515e_row10_col0\" class=\"data row10 col0\" >11</td>\n",
       "      <td id=\"T_4515e_row10_col1\" class=\"data row10 col1\" >ColumnTransformer, CyclicalFeature, MaxAbsScaler, DecisionTreeRegressor</td>\n",
       "      <td id=\"T_4515e_row10_col2\" class=\"data row10 col2\" >28.023</td>\n",
       "    </tr>\n",
       "    <tr>\n",
       "      <td id=\"T_4515e_row11_col0\" class=\"data row11 col0\" >12</td>\n",
       "      <td id=\"T_4515e_row11_col1\" class=\"data row11 col1\" >ColumnTransformer, CyclicalFeature, MaxAbsScaler, SelectKBest, XGBRegressor</td>\n",
       "      <td id=\"T_4515e_row11_col2\" class=\"data row11 col2\" >29.549</td>\n",
       "    </tr>\n",
       "    <tr>\n",
       "      <td id=\"T_4515e_row12_col0\" class=\"data row12 col0\" >13</td>\n",
       "      <td id=\"T_4515e_row12_col1\" class=\"data row12 col1\" >ColumnTransformer, CyclicalFeature, MaxAbsScaler, XGBRegressor</td>\n",
       "      <td id=\"T_4515e_row12_col2\" class=\"data row12 col2\" >29.660</td>\n",
       "    </tr>\n",
       "    <tr>\n",
       "      <td id=\"T_4515e_row13_col0\" class=\"data row13 col0\" >14</td>\n",
       "      <td id=\"T_4515e_row13_col1\" class=\"data row13 col1\" >ColumnTransformer, CyclicalFeature, XGBRegressor</td>\n",
       "      <td id=\"T_4515e_row13_col2\" class=\"data row13 col2\" >29.660</td>\n",
       "    </tr>\n",
       "    <tr>\n",
       "      <td id=\"T_4515e_row14_col0\" class=\"data row14 col0\" >15</td>\n",
       "      <td id=\"T_4515e_row14_col1\" class=\"data row14 col1\" >ColumnTransformer, Datetime64ExpandEncoder, MaxAbsScaler, XGBRegressor</td>\n",
       "      <td id=\"T_4515e_row14_col2\" class=\"data row14 col2\" >30.266</td>\n",
       "    </tr>\n",
       "    <tr>\n",
       "      <td id=\"T_4515e_row15_col0\" class=\"data row15 col0\" >16</td>\n",
       "      <td id=\"T_4515e_row15_col1\" class=\"data row15 col1\" >ColumnTransformer, Datetime64ExpandEncoder, XGBRegressor</td>\n",
       "      <td id=\"T_4515e_row15_col2\" class=\"data row15 col2\" >30.266</td>\n",
       "    </tr>\n",
       "    <tr>\n",
       "      <td id=\"T_4515e_row16_col0\" class=\"data row16 col0\" >17</td>\n",
       "      <td id=\"T_4515e_row16_col1\" class=\"data row16 col1\" >ColumnTransformer, Datetime64ExpandEncoder, MaxAbsScaler, DecisionTreeRegressor</td>\n",
       "      <td id=\"T_4515e_row16_col2\" class=\"data row16 col2\" >30.424</td>\n",
       "    </tr>\n",
       "    <tr>\n",
       "      <td id=\"T_4515e_row17_col0\" class=\"data row17 col0\" >18</td>\n",
       "      <td id=\"T_4515e_row17_col1\" class=\"data row17 col1\" >ArimaEstimator</td>\n",
       "      <td id=\"T_4515e_row17_col2\" class=\"data row17 col2\" >31.928</td>\n",
       "    </tr>\n",
       "    <tr>\n",
       "      <td id=\"T_4515e_row18_col0\" class=\"data row18 col0\" >19</td>\n",
       "      <td id=\"T_4515e_row18_col1\" class=\"data row18 col1\" >ColumnTransformer, CyclicalFeature, MaxAbsScaler, ExtraTreesRegressor</td>\n",
       "      <td id=\"T_4515e_row18_col2\" class=\"data row18 col2\" >33.213</td>\n",
       "    </tr>\n",
       "    <tr>\n",
       "      <td id=\"T_4515e_row19_col0\" class=\"data row19 col0\" >20</td>\n",
       "      <td id=\"T_4515e_row19_col1\" class=\"data row19 col1\" >ColumnTransformer, Datetime64ExpandEncoder, MaxAbsScaler, GenericUnivariateSelect, HuberRegressor</td>\n",
       "      <td id=\"T_4515e_row19_col2\" class=\"data row19 col2\" >37.954</td>\n",
       "    </tr>\n",
       "    <tr>\n",
       "      <td id=\"T_4515e_row20_col0\" class=\"data row20 col0\" >21</td>\n",
       "      <td id=\"T_4515e_row20_col1\" class=\"data row20 col1\" >ColumnTransformer, Datetime64ExpandEncoder, RobustScaler, GenericUnivariateSelect, Ridge</td>\n",
       "      <td id=\"T_4515e_row20_col2\" class=\"data row20 col2\" >39.982</td>\n",
       "    </tr>\n",
       "    <tr>\n",
       "      <td id=\"T_4515e_row21_col0\" class=\"data row21 col0\" >22</td>\n",
       "      <td id=\"T_4515e_row21_col1\" class=\"data row21 col1\" >ColumnTransformer, Datetime64ExpandEncoder, RobustScaler, SelectPercentile, Ridge</td>\n",
       "      <td id=\"T_4515e_row21_col2\" class=\"data row21 col2\" >39.982</td>\n",
       "    </tr>\n",
       "    <tr>\n",
       "      <td id=\"T_4515e_row22_col0\" class=\"data row22 col0\" >23</td>\n",
       "      <td id=\"T_4515e_row22_col1\" class=\"data row22 col1\" >ColumnTransformer, Datetime64ExpandEncoder, StandardScaler, GenericUnivariateSelect, Ridge</td>\n",
       "      <td id=\"T_4515e_row22_col2\" class=\"data row22 col2\" >39.997</td>\n",
       "    </tr>\n",
       "    <tr>\n",
       "      <td id=\"T_4515e_row23_col0\" class=\"data row23 col0\" >24</td>\n",
       "      <td id=\"T_4515e_row23_col1\" class=\"data row23 col1\" >ColumnTransformer, Datetime64ExpandEncoder, GenericUnivariateSelect, Ridge</td>\n",
       "      <td id=\"T_4515e_row23_col2\" class=\"data row23 col2\" >40.006</td>\n",
       "    </tr>\n",
       "    <tr>\n",
       "      <td id=\"T_4515e_row24_col0\" class=\"data row24 col0\" >25</td>\n",
       "      <td id=\"T_4515e_row24_col1\" class=\"data row24 col1\" >ColumnTransformer, Datetime64ExpandEncoder, MaxAbsScaler, GenericUnivariateSelect, LinearRegression</td>\n",
       "      <td id=\"T_4515e_row24_col2\" class=\"data row24 col2\" >40.008</td>\n",
       "    </tr>\n",
       "    <tr>\n",
       "      <td id=\"T_4515e_row25_col0\" class=\"data row25 col0\" >26</td>\n",
       "      <td id=\"T_4515e_row25_col1\" class=\"data row25 col1\" >ColumnTransformer, Datetime64ExpandEncoder, MaxAbsScaler, GenericUnivariateSelect, ARDRegression</td>\n",
       "      <td id=\"T_4515e_row25_col2\" class=\"data row25 col2\" >40.020</td>\n",
       "    </tr>\n",
       "    <tr>\n",
       "      <td id=\"T_4515e_row26_col0\" class=\"data row26 col0\" >27</td>\n",
       "      <td id=\"T_4515e_row26_col1\" class=\"data row26 col1\" >ColumnTransformer, CyclicalFeature, RobustScaler, GenericUnivariateSelect, Ridge</td>\n",
       "      <td id=\"T_4515e_row26_col2\" class=\"data row26 col2\" >42.430</td>\n",
       "    </tr>\n",
       "    <tr>\n",
       "      <td id=\"T_4515e_row27_col0\" class=\"data row27 col0\" >28</td>\n",
       "      <td id=\"T_4515e_row27_col1\" class=\"data row27 col1\" >ColumnTransformer, CyclicalFeature, StandardScaler, GenericUnivariateSelect, Ridge</td>\n",
       "      <td id=\"T_4515e_row27_col2\" class=\"data row27 col2\" >42.445</td>\n",
       "    </tr>\n",
       "    <tr>\n",
       "      <td id=\"T_4515e_row28_col0\" class=\"data row28 col0\" >29</td>\n",
       "      <td id=\"T_4515e_row28_col1\" class=\"data row28 col1\" >ColumnTransformer, CyclicalFeature, MaxAbsScaler, SVR</td>\n",
       "      <td id=\"T_4515e_row28_col2\" class=\"data row28 col2\" >43.663</td>\n",
       "    </tr>\n",
       "    <tr>\n",
       "      <td id=\"T_4515e_row29_col0\" class=\"data row29 col0\" >30</td>\n",
       "      <td id=\"T_4515e_row29_col1\" class=\"data row29 col1\" >ColumnTransformer, CyclicalFeature, MaxAbsScaler, SGDRegressor</td>\n",
       "      <td id=\"T_4515e_row29_col2\" class=\"data row29 col2\" >45.714</td>\n",
       "    </tr>\n",
       "    <tr>\n",
       "      <td id=\"T_4515e_row30_col0\" class=\"data row30 col0\" >31</td>\n",
       "      <td id=\"T_4515e_row30_col1\" class=\"data row30 col1\" >ColumnTransformer, Datetime64ExpandEncoder, RobustScaler, Ridge</td>\n",
       "      <td id=\"T_4515e_row30_col2\" class=\"data row30 col2\" >46.001</td>\n",
       "    </tr>\n",
       "    <tr>\n",
       "      <td id=\"T_4515e_row31_col0\" class=\"data row31 col0\" >32</td>\n",
       "      <td id=\"T_4515e_row31_col1\" class=\"data row31 col1\" >ColumnTransformer, Datetime64ExpandEncoder, MaxAbsScaler, ARDRegression</td>\n",
       "      <td id=\"T_4515e_row31_col2\" class=\"data row31 col2\" >46.016</td>\n",
       "    </tr>\n",
       "    <tr>\n",
       "      <td id=\"T_4515e_row32_col0\" class=\"data row32 col0\" >33</td>\n",
       "      <td id=\"T_4515e_row32_col1\" class=\"data row32 col1\" >ColumnTransformer, Datetime64ExpandEncoder, StandardScaler, Ridge</td>\n",
       "      <td id=\"T_4515e_row32_col2\" class=\"data row32 col2\" >46.106</td>\n",
       "    </tr>\n",
       "    <tr>\n",
       "      <td id=\"T_4515e_row33_col0\" class=\"data row33 col0\" >34</td>\n",
       "      <td id=\"T_4515e_row33_col1\" class=\"data row33 col1\" >ColumnTransformer, CyclicalFeature, MaxAbsScaler, Ridge</td>\n",
       "      <td id=\"T_4515e_row33_col2\" class=\"data row33 col2\" >46.482</td>\n",
       "    </tr>\n",
       "    <tr>\n",
       "      <td id=\"T_4515e_row34_col0\" class=\"data row34 col0\" >35</td>\n",
       "      <td id=\"T_4515e_row34_col1\" class=\"data row34 col1\" >ColumnTransformer, Datetime64ExpandEncoder, Ridge</td>\n",
       "      <td id=\"T_4515e_row34_col2\" class=\"data row34 col2\" >46.492</td>\n",
       "    </tr>\n",
       "    <tr>\n",
       "      <td id=\"T_4515e_row35_col0\" class=\"data row35 col0\" >36</td>\n",
       "      <td id=\"T_4515e_row35_col1\" class=\"data row35 col1\" >ColumnTransformer, CyclicalFeature, MaxAbsScaler, SelectKBest, Ridge</td>\n",
       "      <td id=\"T_4515e_row35_col2\" class=\"data row35 col2\" >46.498</td>\n",
       "    </tr>\n",
       "    <tr>\n",
       "      <td id=\"T_4515e_row36_col0\" class=\"data row36 col0\" >37</td>\n",
       "      <td id=\"T_4515e_row36_col1\" class=\"data row36 col1\" >ColumnTransformer, Datetime64ExpandEncoder, MaxAbsScaler, LinearRegression</td>\n",
       "      <td id=\"T_4515e_row36_col2\" class=\"data row36 col2\" >47.020</td>\n",
       "    </tr>\n",
       "    <tr>\n",
       "      <td id=\"T_4515e_row37_col0\" class=\"data row37 col0\" >38</td>\n",
       "      <td id=\"T_4515e_row37_col1\" class=\"data row37 col1\" >ColumnTransformer, CyclicalFeature, Ridge</td>\n",
       "      <td id=\"T_4515e_row37_col2\" class=\"data row37 col2\" >48.250</td>\n",
       "    </tr>\n",
       "    <tr>\n",
       "      <td id=\"T_4515e_row38_col0\" class=\"data row38 col0\" >39</td>\n",
       "      <td id=\"T_4515e_row38_col1\" class=\"data row38 col1\" >ColumnTransformer, CyclicalFeature, MaxAbsScaler, SelectKBest, DecisionTreeRegressor</td>\n",
       "      <td id=\"T_4515e_row38_col2\" class=\"data row38 col2\" >51.809</td>\n",
       "    </tr>\n",
       "    <tr>\n",
       "      <td id=\"T_4515e_row39_col0\" class=\"data row39 col0\" >40</td>\n",
       "      <td id=\"T_4515e_row39_col1\" class=\"data row39 col1\" >ColumnTransformer, Datetime64ExpandEncoder, MaxAbsScaler, GenericUnivariateSelect, RidgeCV</td>\n",
       "      <td id=\"T_4515e_row39_col2\" class=\"data row39 col2\" >54.575</td>\n",
       "    </tr>\n",
       "    <tr>\n",
       "      <td id=\"T_4515e_row40_col0\" class=\"data row40 col0\" >41</td>\n",
       "      <td id=\"T_4515e_row40_col1\" class=\"data row40 col1\" >ColumnTransformer, Datetime64ExpandEncoder, MaxAbsScaler, GenericUnivariateSelect, Ridge</td>\n",
       "      <td id=\"T_4515e_row40_col2\" class=\"data row40 col2\" >57.964</td>\n",
       "    </tr>\n",
       "    <tr>\n",
       "      <td id=\"T_4515e_row41_col0\" class=\"data row41 col0\" >42</td>\n",
       "      <td id=\"T_4515e_row41_col1\" class=\"data row41 col1\" >ColumnTransformer, Datetime64ExpandEncoder, MaxAbsScaler, SelectPercentile, Ridge</td>\n",
       "      <td id=\"T_4515e_row41_col2\" class=\"data row41 col2\" >57.964</td>\n",
       "    </tr>\n",
       "    <tr>\n",
       "      <td id=\"T_4515e_row42_col0\" class=\"data row42 col0\" >43</td>\n",
       "      <td id=\"T_4515e_row42_col1\" class=\"data row42 col1\" >ColumnTransformer, Datetime64ExpandEncoder, MaxAbsScaler, Ridge</td>\n",
       "      <td id=\"T_4515e_row42_col2\" class=\"data row42 col2\" >58.117</td>\n",
       "    </tr>\n",
       "    <tr>\n",
       "      <td id=\"T_4515e_row43_col0\" class=\"data row43 col0\" >44</td>\n",
       "      <td id=\"T_4515e_row43_col1\" class=\"data row43 col1\" >ColumnTransformer, Datetime64ExpandEncoder, MaxAbsScaler, GenericUnivariateSelect, Lasso</td>\n",
       "      <td id=\"T_4515e_row43_col2\" class=\"data row43 col2\" >58.408</td>\n",
       "    </tr>\n",
       "    <tr>\n",
       "      <td id=\"T_4515e_row44_col0\" class=\"data row44 col0\" >45</td>\n",
       "      <td id=\"T_4515e_row44_col1\" class=\"data row44 col1\" >ColumnTransformer, OrdinalEncoder, ARDRegression</td>\n",
       "      <td id=\"T_4515e_row44_col2\" class=\"data row44 col2\" >58.408</td>\n",
       "    </tr>\n",
       "    <tr>\n",
       "      <td id=\"T_4515e_row45_col0\" class=\"data row45 col0\" >46</td>\n",
       "      <td id=\"T_4515e_row45_col1\" class=\"data row45 col1\" >ColumnTransformer, OrdinalEncoder, MaxAbsScaler, Lasso</td>\n",
       "      <td id=\"T_4515e_row45_col2\" class=\"data row45 col2\" >58.408</td>\n",
       "    </tr>\n",
       "    <tr>\n",
       "      <td id=\"T_4515e_row46_col0\" class=\"data row46 col0\" >47</td>\n",
       "      <td id=\"T_4515e_row46_col1\" class=\"data row46 col1\" >ColumnTransformer, DummyEncoder, MaxAbsScaler, Lasso</td>\n",
       "      <td id=\"T_4515e_row46_col2\" class=\"data row46 col2\" >58.408</td>\n",
       "    </tr>\n",
       "    <tr>\n",
       "      <td id=\"T_4515e_row47_col0\" class=\"data row47 col0\" >48</td>\n",
       "      <td id=\"T_4515e_row47_col1\" class=\"data row47 col1\" >ColumnTransformer, OrdinalEncoder, MaxAbsScaler, ElasticNet</td>\n",
       "      <td id=\"T_4515e_row47_col2\" class=\"data row47 col2\" >58.408</td>\n",
       "    </tr>\n",
       "    <tr>\n",
       "      <td id=\"T_4515e_row48_col0\" class=\"data row48 col0\" >49</td>\n",
       "      <td id=\"T_4515e_row48_col1\" class=\"data row48 col1\" >ColumnTransformer, DummyEncoder, MaxAbsScaler, ElasticNet</td>\n",
       "      <td id=\"T_4515e_row48_col2\" class=\"data row48 col2\" >58.408</td>\n",
       "    </tr>\n",
       "    <tr>\n",
       "      <td id=\"T_4515e_row49_col0\" class=\"data row49 col0\" >50</td>\n",
       "      <td id=\"T_4515e_row49_col1\" class=\"data row49 col1\" >ColumnTransformer, DummyEncoder, MaxAbsScaler, SelectPercentile, ARDRegression</td>\n",
       "      <td id=\"T_4515e_row49_col2\" class=\"data row49 col2\" >58.601</td>\n",
       "    </tr>\n",
       "    <tr>\n",
       "      <td id=\"T_4515e_row50_col0\" class=\"data row50 col0\" >51</td>\n",
       "      <td id=\"T_4515e_row50_col1\" class=\"data row50 col1\" >ColumnTransformer, DummyEncoder, MaxAbsScaler, SelectPercentile, Ridge</td>\n",
       "      <td id=\"T_4515e_row50_col2\" class=\"data row50 col2\" >58.639</td>\n",
       "    </tr>\n",
       "    <tr>\n",
       "      <td id=\"T_4515e_row51_col0\" class=\"data row51 col0\" >52</td>\n",
       "      <td id=\"T_4515e_row51_col1\" class=\"data row51 col1\" >ColumnTransformer, DummyEncoder, RobustScaler, SelectPercentile, Ridge</td>\n",
       "      <td id=\"T_4515e_row51_col2\" class=\"data row51 col2\" >58.639</td>\n",
       "    </tr>\n",
       "    <tr>\n",
       "      <td id=\"T_4515e_row52_col0\" class=\"data row52 col0\" >53</td>\n",
       "      <td id=\"T_4515e_row52_col1\" class=\"data row52 col1\" >ColumnTransformer, DummyEncoder, MaxAbsScaler, SelectPercentile, XGBRegressor</td>\n",
       "      <td id=\"T_4515e_row52_col2\" class=\"data row52 col2\" >58.642</td>\n",
       "    </tr>\n",
       "    <tr>\n",
       "      <td id=\"T_4515e_row53_col0\" class=\"data row53 col0\" >54</td>\n",
       "      <td id=\"T_4515e_row53_col1\" class=\"data row53 col1\" >ColumnTransformer, DummyEncoder, MaxAbsScaler, SelectPercentile, DecisionTreeRegressor</td>\n",
       "      <td id=\"T_4515e_row53_col2\" class=\"data row53 col2\" >58.642</td>\n",
       "    </tr>\n",
       "    <tr>\n",
       "      <td id=\"T_4515e_row54_col0\" class=\"data row54 col0\" >55</td>\n",
       "      <td id=\"T_4515e_row54_col1\" class=\"data row54 col1\" >ColumnTransformer, DummyEncoder, MaxAbsScaler, SelectPercentile, LinearRegression</td>\n",
       "      <td id=\"T_4515e_row54_col2\" class=\"data row54 col2\" >58.643</td>\n",
       "    </tr>\n",
       "    <tr>\n",
       "      <td id=\"T_4515e_row55_col0\" class=\"data row55 col0\" >56</td>\n",
       "      <td id=\"T_4515e_row55_col1\" class=\"data row55 col1\" >ColumnTransformer, DummyEncoder, MaxAbsScaler, SGDRegressor</td>\n",
       "      <td id=\"T_4515e_row55_col2\" class=\"data row55 col2\" >58.700</td>\n",
       "    </tr>\n",
       "    <tr>\n",
       "      <td id=\"T_4515e_row56_col0\" class=\"data row56 col0\" >57</td>\n",
       "      <td id=\"T_4515e_row56_col1\" class=\"data row56 col1\" >ColumnTransformer, Datetime64ExpandEncoder, MaxAbsScaler, GenericUnivariateSelect, SGDRegressor</td>\n",
       "      <td id=\"T_4515e_row56_col2\" class=\"data row56 col2\" >58.912</td>\n",
       "    </tr>\n",
       "    <tr>\n",
       "      <td id=\"T_4515e_row57_col0\" class=\"data row57 col0\" >58</td>\n",
       "      <td id=\"T_4515e_row57_col1\" class=\"data row57 col1\" >ColumnTransformer, DummyEncoder, MaxAbsScaler, SelectKBest, ARDRegression</td>\n",
       "      <td id=\"T_4515e_row57_col2\" class=\"data row57 col2\" >58.914</td>\n",
       "    </tr>\n",
       "    <tr>\n",
       "      <td id=\"T_4515e_row58_col0\" class=\"data row58 col0\" >59</td>\n",
       "      <td id=\"T_4515e_row58_col1\" class=\"data row58 col1\" >ColumnTransformer, DummyEncoder, MaxAbsScaler, ARDRegression</td>\n",
       "      <td id=\"T_4515e_row58_col2\" class=\"data row58 col2\" >58.936</td>\n",
       "    </tr>\n",
       "    <tr>\n",
       "      <td id=\"T_4515e_row59_col0\" class=\"data row59 col0\" >60</td>\n",
       "      <td id=\"T_4515e_row59_col1\" class=\"data row59 col1\" >ColumnTransformer, DummyEncoder, MaxAbsScaler, LinearRegression</td>\n",
       "      <td id=\"T_4515e_row59_col2\" class=\"data row59 col2\" >58.962</td>\n",
       "    </tr>\n",
       "    <tr>\n",
       "      <td id=\"T_4515e_row60_col0\" class=\"data row60 col0\" >61</td>\n",
       "      <td id=\"T_4515e_row60_col1\" class=\"data row60 col1\" >ColumnTransformer, DummyEncoder, MaxAbsScaler, RidgeCV</td>\n",
       "      <td id=\"T_4515e_row60_col2\" class=\"data row60 col2\" >58.969</td>\n",
       "    </tr>\n",
       "    <tr>\n",
       "      <td id=\"T_4515e_row61_col0\" class=\"data row61 col0\" >62</td>\n",
       "      <td id=\"T_4515e_row61_col1\" class=\"data row61 col1\" >ColumnTransformer, DummyEncoder, MaxAbsScaler, SelectKBest, Ridge</td>\n",
       "      <td id=\"T_4515e_row61_col2\" class=\"data row61 col2\" >58.987</td>\n",
       "    </tr>\n",
       "    <tr>\n",
       "      <td id=\"T_4515e_row62_col0\" class=\"data row62 col0\" >63</td>\n",
       "      <td id=\"T_4515e_row62_col1\" class=\"data row62 col1\" >ColumnTransformer, DummyEncoder, RobustScaler, SelectKBest, Ridge</td>\n",
       "      <td id=\"T_4515e_row62_col2\" class=\"data row62 col2\" >58.987</td>\n",
       "    </tr>\n",
       "    <tr>\n",
       "      <td id=\"T_4515e_row63_col0\" class=\"data row63 col0\" >64</td>\n",
       "      <td id=\"T_4515e_row63_col1\" class=\"data row63 col1\" >ColumnTransformer, DummyEncoder, Ridge</td>\n",
       "      <td id=\"T_4515e_row63_col2\" class=\"data row63 col2\" >59.002</td>\n",
       "    </tr>\n",
       "    <tr>\n",
       "      <td id=\"T_4515e_row64_col0\" class=\"data row64 col0\" >65</td>\n",
       "      <td id=\"T_4515e_row64_col1\" class=\"data row64 col1\" >ColumnTransformer, DummyEncoder, MaxAbsScaler, Ridge</td>\n",
       "      <td id=\"T_4515e_row64_col2\" class=\"data row64 col2\" >59.002</td>\n",
       "    </tr>\n",
       "    <tr>\n",
       "      <td id=\"T_4515e_row65_col0\" class=\"data row65 col0\" >66</td>\n",
       "      <td id=\"T_4515e_row65_col1\" class=\"data row65 col1\" >ColumnTransformer, DummyEncoder, RobustScaler, Ridge</td>\n",
       "      <td id=\"T_4515e_row65_col2\" class=\"data row65 col2\" >59.002</td>\n",
       "    </tr>\n",
       "    <tr>\n",
       "      <td id=\"T_4515e_row66_col0\" class=\"data row66 col0\" >67</td>\n",
       "      <td id=\"T_4515e_row66_col1\" class=\"data row66 col1\" >ColumnTransformer, DummyEncoder, StandardScaler, Ridge</td>\n",
       "      <td id=\"T_4515e_row66_col2\" class=\"data row66 col2\" >59.007</td>\n",
       "    </tr>\n",
       "    <tr>\n",
       "      <td id=\"T_4515e_row67_col0\" class=\"data row67 col0\" >68</td>\n",
       "      <td id=\"T_4515e_row67_col1\" class=\"data row67 col1\" >ColumnTransformer, DummyEncoder, MaxAbsScaler, SelectKBest, XGBRegressor</td>\n",
       "      <td id=\"T_4515e_row67_col2\" class=\"data row67 col2\" >59.032</td>\n",
       "    </tr>\n",
       "    <tr>\n",
       "      <td id=\"T_4515e_row68_col0\" class=\"data row68 col0\" >69</td>\n",
       "      <td id=\"T_4515e_row68_col1\" class=\"data row68 col1\" >ColumnTransformer, DummyEncoder, MaxAbsScaler, SelectKBest, DecisionTreeRegressor</td>\n",
       "      <td id=\"T_4515e_row68_col2\" class=\"data row68 col2\" >59.032</td>\n",
       "    </tr>\n",
       "    <tr>\n",
       "      <td id=\"T_4515e_row69_col0\" class=\"data row69 col0\" >70</td>\n",
       "      <td id=\"T_4515e_row69_col1\" class=\"data row69 col1\" >ColumnTransformer, DummyEncoder, MaxAbsScaler, SelectKBest, LinearRegression</td>\n",
       "      <td id=\"T_4515e_row69_col2\" class=\"data row69 col2\" >59.035</td>\n",
       "    </tr>\n",
       "    <tr>\n",
       "      <td id=\"T_4515e_row70_col0\" class=\"data row70 col0\" >71</td>\n",
       "      <td id=\"T_4515e_row70_col1\" class=\"data row70 col1\" >ColumnTransformer, DummyEncoder, MaxAbsScaler, LGBMRegressor</td>\n",
       "      <td id=\"T_4515e_row70_col2\" class=\"data row70 col2\" >59.071</td>\n",
       "    </tr>\n",
       "    <tr>\n",
       "      <td id=\"T_4515e_row71_col0\" class=\"data row71 col0\" >72</td>\n",
       "      <td id=\"T_4515e_row71_col1\" class=\"data row71 col1\" >ColumnTransformer, DummyEncoder, MaxAbsScaler, GradientBoostingRegressor</td>\n",
       "      <td id=\"T_4515e_row71_col2\" class=\"data row71 col2\" >59.165</td>\n",
       "    </tr>\n",
       "    <tr>\n",
       "      <td id=\"T_4515e_row72_col0\" class=\"data row72 col0\" >73</td>\n",
       "      <td id=\"T_4515e_row72_col1\" class=\"data row72 col1\" >ColumnTransformer, DummyEncoder, MaxAbsScaler, RandomForestRegressor</td>\n",
       "      <td id=\"T_4515e_row72_col2\" class=\"data row72 col2\" >59.217</td>\n",
       "    </tr>\n",
       "    <tr>\n",
       "      <td id=\"T_4515e_row73_col0\" class=\"data row73 col0\" >74</td>\n",
       "      <td id=\"T_4515e_row73_col1\" class=\"data row73 col1\" >ColumnTransformer, DummyEncoder, MaxAbsScaler, XGBRegressor</td>\n",
       "      <td id=\"T_4515e_row73_col2\" class=\"data row73 col2\" >59.247</td>\n",
       "    </tr>\n",
       "    <tr>\n",
       "      <td id=\"T_4515e_row74_col0\" class=\"data row74 col0\" >75</td>\n",
       "      <td id=\"T_4515e_row74_col1\" class=\"data row74 col1\" >ColumnTransformer, DummyEncoder, XGBRegressor</td>\n",
       "      <td id=\"T_4515e_row74_col2\" class=\"data row74 col2\" >59.247</td>\n",
       "    </tr>\n",
       "    <tr>\n",
       "      <td id=\"T_4515e_row75_col0\" class=\"data row75 col0\" >76</td>\n",
       "      <td id=\"T_4515e_row75_col1\" class=\"data row75 col1\" >ColumnTransformer, DummyEncoder, MaxAbsScaler, DecisionTreeRegressor</td>\n",
       "      <td id=\"T_4515e_row75_col2\" class=\"data row75 col2\" >59.258</td>\n",
       "    </tr>\n",
       "    <tr>\n",
       "      <td id=\"T_4515e_row76_col0\" class=\"data row76 col0\" >77</td>\n",
       "      <td id=\"T_4515e_row76_col1\" class=\"data row76 col1\" >ColumnTransformer, DummyEncoder, RobustScaler, DecisionTreeRegressor</td>\n",
       "      <td id=\"T_4515e_row76_col2\" class=\"data row76 col2\" >59.258</td>\n",
       "    </tr>\n",
       "    <tr>\n",
       "      <td id=\"T_4515e_row77_col0\" class=\"data row77 col0\" >78</td>\n",
       "      <td id=\"T_4515e_row77_col1\" class=\"data row77 col1\" >ColumnTransformer, DummyEncoder, MaxAbsScaler, ExtraTreesRegressor</td>\n",
       "      <td id=\"T_4515e_row77_col2\" class=\"data row77 col2\" >59.258</td>\n",
       "    </tr>\n",
       "    <tr>\n",
       "      <td id=\"T_4515e_row78_col0\" class=\"data row78 col0\" >79</td>\n",
       "      <td id=\"T_4515e_row78_col1\" class=\"data row78 col1\" >ColumnTransformer, DummyEncoder, MaxAbsScaler, GaussianProcessRegressor</td>\n",
       "      <td id=\"T_4515e_row78_col2\" class=\"data row78 col2\" >59.260</td>\n",
       "    </tr>\n",
       "    <tr>\n",
       "      <td id=\"T_4515e_row79_col0\" class=\"data row79 col0\" >80</td>\n",
       "      <td id=\"T_4515e_row79_col1\" class=\"data row79 col1\" >ColumnTransformer, OrdinalEncoder, MaxAbsScaler, LGBMRegressor</td>\n",
       "      <td id=\"T_4515e_row79_col2\" class=\"data row79 col2\" >59.347</td>\n",
       "    </tr>\n",
       "    <tr>\n",
       "      <td id=\"T_4515e_row80_col0\" class=\"data row80 col0\" >81</td>\n",
       "      <td id=\"T_4515e_row80_col1\" class=\"data row80 col1\" >ColumnTransformer, DummyEncoder, MaxAbsScaler, TheilSenRegressor</td>\n",
       "      <td id=\"T_4515e_row80_col2\" class=\"data row80 col2\" >60.580</td>\n",
       "    </tr>\n",
       "    <tr>\n",
       "      <td id=\"T_4515e_row81_col0\" class=\"data row81 col0\" >82</td>\n",
       "      <td id=\"T_4515e_row81_col1\" class=\"data row81 col1\" >ColumnTransformer, OrdinalEncoder, MaxAbsScaler, LassoCV</td>\n",
       "      <td id=\"T_4515e_row81_col2\" class=\"data row81 col2\" >61.093</td>\n",
       "    </tr>\n",
       "    <tr>\n",
       "      <td id=\"T_4515e_row82_col0\" class=\"data row82 col0\" >83</td>\n",
       "      <td id=\"T_4515e_row82_col1\" class=\"data row82 col1\" >ColumnTransformer, OrdinalEncoder, MaxAbsScaler, RidgeCV</td>\n",
       "      <td id=\"T_4515e_row82_col2\" class=\"data row82 col2\" >61.145</td>\n",
       "    </tr>\n",
       "    <tr>\n",
       "      <td id=\"T_4515e_row83_col0\" class=\"data row83 col0\" >84</td>\n",
       "      <td id=\"T_4515e_row83_col1\" class=\"data row83 col1\" >ColumnTransformer, OrdinalEncoder, MaxAbsScaler, Ridge</td>\n",
       "      <td id=\"T_4515e_row83_col2\" class=\"data row83 col2\" >61.193</td>\n",
       "    </tr>\n",
       "    <tr>\n",
       "      <td id=\"T_4515e_row84_col0\" class=\"data row84 col0\" >85</td>\n",
       "      <td id=\"T_4515e_row84_col1\" class=\"data row84 col1\" >ColumnTransformer, OrdinalEncoder, RobustScaler, Ridge</td>\n",
       "      <td id=\"T_4515e_row84_col2\" class=\"data row84 col2\" >61.219</td>\n",
       "    </tr>\n",
       "    <tr>\n",
       "      <td id=\"T_4515e_row85_col0\" class=\"data row85 col0\" >86</td>\n",
       "      <td id=\"T_4515e_row85_col1\" class=\"data row85 col1\" >ColumnTransformer, OrdinalEncoder, StandardScaler, Ridge</td>\n",
       "      <td id=\"T_4515e_row85_col2\" class=\"data row85 col2\" >61.225</td>\n",
       "    </tr>\n",
       "    <tr>\n",
       "      <td id=\"T_4515e_row86_col0\" class=\"data row86 col0\" >87</td>\n",
       "      <td id=\"T_4515e_row86_col1\" class=\"data row86 col1\" >ColumnTransformer, OrdinalEncoder, Ridge</td>\n",
       "      <td id=\"T_4515e_row86_col2\" class=\"data row86 col2\" >61.227</td>\n",
       "    </tr>\n",
       "    <tr>\n",
       "      <td id=\"T_4515e_row87_col0\" class=\"data row87 col0\" >88</td>\n",
       "      <td id=\"T_4515e_row87_col1\" class=\"data row87 col1\" >ColumnTransformer, OrdinalEncoder, MaxAbsScaler, LinearRegression</td>\n",
       "      <td id=\"T_4515e_row87_col2\" class=\"data row87 col2\" >61.227</td>\n",
       "    </tr>\n",
       "    <tr>\n",
       "      <td id=\"T_4515e_row88_col0\" class=\"data row88 col0\" >89</td>\n",
       "      <td id=\"T_4515e_row88_col1\" class=\"data row88 col1\" >ColumnTransformer, OrdinalEncoder, MaxAbsScaler, Lars</td>\n",
       "      <td id=\"T_4515e_row88_col2\" class=\"data row88 col2\" >61.227</td>\n",
       "    </tr>\n",
       "    <tr>\n",
       "      <td id=\"T_4515e_row89_col0\" class=\"data row89 col0\" >90</td>\n",
       "      <td id=\"T_4515e_row89_col1\" class=\"data row89 col1\" >ColumnTransformer, OrdinalEncoder, RobustScaler, LinearRegression</td>\n",
       "      <td id=\"T_4515e_row89_col2\" class=\"data row89 col2\" >61.227</td>\n",
       "    </tr>\n",
       "    <tr>\n",
       "      <td id=\"T_4515e_row90_col0\" class=\"data row90 col0\" >91</td>\n",
       "      <td id=\"T_4515e_row90_col1\" class=\"data row90 col1\" >ColumnTransformer, OrdinalEncoder, StandardScaler, ARDRegression</td>\n",
       "      <td id=\"T_4515e_row90_col2\" class=\"data row90 col2\" >61.251</td>\n",
       "    </tr>\n",
       "    <tr>\n",
       "      <td id=\"T_4515e_row91_col0\" class=\"data row91 col0\" >92</td>\n",
       "      <td id=\"T_4515e_row91_col1\" class=\"data row91 col1\" >ColumnTransformer, OrdinalEncoder, RobustScaler, ARDRegression</td>\n",
       "      <td id=\"T_4515e_row91_col2\" class=\"data row91 col2\" >61.253</td>\n",
       "    </tr>\n",
       "    <tr>\n",
       "      <td id=\"T_4515e_row92_col0\" class=\"data row92 col0\" >93</td>\n",
       "      <td id=\"T_4515e_row92_col1\" class=\"data row92 col1\" >ColumnTransformer, OrdinalEncoder, MaxAbsScaler, ARDRegression</td>\n",
       "      <td id=\"T_4515e_row92_col2\" class=\"data row92 col2\" >61.255</td>\n",
       "    </tr>\n",
       "    <tr>\n",
       "      <td id=\"T_4515e_row93_col0\" class=\"data row93 col0\" >94</td>\n",
       "      <td id=\"T_4515e_row93_col1\" class=\"data row93 col1\" >ColumnTransformer, OrdinalEncoder, MaxAbsScaler, BayesianRidge</td>\n",
       "      <td id=\"T_4515e_row93_col2\" class=\"data row93 col2\" >61.255</td>\n",
       "    </tr>\n",
       "    <tr>\n",
       "      <td id=\"T_4515e_row94_col0\" class=\"data row94 col0\" >95</td>\n",
       "      <td id=\"T_4515e_row94_col1\" class=\"data row94 col1\" >ColumnTransformer, OrdinalEncoder, MaxAbsScaler, SGDRegressor</td>\n",
       "      <td id=\"T_4515e_row94_col2\" class=\"data row94 col2\" >62.393</td>\n",
       "    </tr>\n",
       "    <tr>\n",
       "      <td id=\"T_4515e_row95_col0\" class=\"data row95 col0\" >96</td>\n",
       "      <td id=\"T_4515e_row95_col1\" class=\"data row95 col1\" >ColumnTransformer, DummyEncoder, MaxAbsScaler, SVR</td>\n",
       "      <td id=\"T_4515e_row95_col2\" class=\"data row95 col2\" >63.248</td>\n",
       "    </tr>\n",
       "    <tr>\n",
       "      <td id=\"T_4515e_row96_col0\" class=\"data row96 col0\" >97</td>\n",
       "      <td id=\"T_4515e_row96_col1\" class=\"data row96 col1\" >ColumnTransformer, DummyEncoder, MaxAbsScaler, LinearSVR</td>\n",
       "      <td id=\"T_4515e_row96_col2\" class=\"data row96 col2\" >63.717</td>\n",
       "    </tr>\n",
       "    <tr>\n",
       "      <td id=\"T_4515e_row97_col0\" class=\"data row97 col0\" >98</td>\n",
       "      <td id=\"T_4515e_row97_col1\" class=\"data row97 col1\" >ColumnTransformer, OrdinalEncoder, MaxAbsScaler, LinearSVR</td>\n",
       "      <td id=\"T_4515e_row97_col2\" class=\"data row97 col2\" >63.944</td>\n",
       "    </tr>\n",
       "    <tr>\n",
       "      <td id=\"T_4515e_row98_col0\" class=\"data row98 col0\" >99</td>\n",
       "      <td id=\"T_4515e_row98_col1\" class=\"data row98 col1\" >ColumnTransformer, DummyEncoder, MaxAbsScaler, HuberRegressor</td>\n",
       "      <td id=\"T_4515e_row98_col2\" class=\"data row98 col2\" >64.353</td>\n",
       "    </tr>\n",
       "    <tr>\n",
       "      <td id=\"T_4515e_row99_col0\" class=\"data row99 col0\" >100</td>\n",
       "      <td id=\"T_4515e_row99_col1\" class=\"data row99 col1\" >ColumnTransformer, OrdinalEncoder, MaxAbsScaler, PassiveAggressiveRegressor</td>\n",
       "      <td id=\"T_4515e_row99_col2\" class=\"data row99 col2\" >65.454</td>\n",
       "    </tr>\n",
       "    <tr>\n",
       "      <td id=\"T_4515e_row100_col0\" class=\"data row100 col0\" >101</td>\n",
       "      <td id=\"T_4515e_row100_col1\" class=\"data row100 col1\" >ColumnTransformer, OrdinalEncoder, MaxAbsScaler, GaussianProcessRegressor</td>\n",
       "      <td id=\"T_4515e_row100_col2\" class=\"data row100 col2\" >65.522</td>\n",
       "    </tr>\n",
       "    <tr>\n",
       "      <td id=\"T_4515e_row101_col0\" class=\"data row101 col0\" >102</td>\n",
       "      <td id=\"T_4515e_row101_col1\" class=\"data row101 col1\" >ColumnTransformer, OrdinalEncoder, MaxAbsScaler, HuberRegressor</td>\n",
       "      <td id=\"T_4515e_row101_col2\" class=\"data row101 col2\" >66.080</td>\n",
       "    </tr>\n",
       "    <tr>\n",
       "      <td id=\"T_4515e_row102_col0\" class=\"data row102 col0\" >103</td>\n",
       "      <td id=\"T_4515e_row102_col1\" class=\"data row102 col1\" >ColumnTransformer, OrdinalEncoder, MaxAbsScaler, TheilSenRegressor</td>\n",
       "      <td id=\"T_4515e_row102_col2\" class=\"data row102 col2\" >67.259</td>\n",
       "    </tr>\n",
       "    <tr>\n",
       "      <td id=\"T_4515e_row103_col0\" class=\"data row103 col0\" >104</td>\n",
       "      <td id=\"T_4515e_row103_col1\" class=\"data row103 col1\" >ColumnTransformer, OrdinalEncoder, RobustScaler, SVR</td>\n",
       "      <td id=\"T_4515e_row103_col2\" class=\"data row103 col2\" >67.795</td>\n",
       "    </tr>\n",
       "    <tr>\n",
       "      <td id=\"T_4515e_row104_col0\" class=\"data row104 col0\" >105</td>\n",
       "      <td id=\"T_4515e_row104_col1\" class=\"data row104 col1\" >ColumnTransformer, OrdinalEncoder, MaxAbsScaler, SVR</td>\n",
       "      <td id=\"T_4515e_row104_col2\" class=\"data row104 col2\" >67.795</td>\n",
       "    </tr>\n",
       "    <tr>\n",
       "      <td id=\"T_4515e_row105_col0\" class=\"data row105 col0\" >106</td>\n",
       "      <td id=\"T_4515e_row105_col1\" class=\"data row105 col1\" >ColumnTransformer, DummyEncoder, MaxAbsScaler, PassiveAggressiveRegressor</td>\n",
       "      <td id=\"T_4515e_row105_col2\" class=\"data row105 col2\" >68.178</td>\n",
       "    </tr>\n",
       "    <tr>\n",
       "      <td id=\"T_4515e_row106_col0\" class=\"data row106 col0\" >107</td>\n",
       "      <td id=\"T_4515e_row106_col1\" class=\"data row106 col1\" >ColumnTransformer, Datetime64ExpandEncoder, MaxAbsScaler, GenericUnivariateSelect, PassiveAggressiveRegressor</td>\n",
       "      <td id=\"T_4515e_row106_col2\" class=\"data row106 col2\" >73.225</td>\n",
       "    </tr>\n",
       "    <tr>\n",
       "      <td id=\"T_4515e_row107_col0\" class=\"data row107 col0\" >108</td>\n",
       "      <td id=\"T_4515e_row107_col1\" class=\"data row107 col1\" >ColumnTransformer, OrdinalEncoder, MaxAbsScaler, RANSACRegressor</td>\n",
       "      <td id=\"T_4515e_row107_col2\" class=\"data row107 col2\" >75.669</td>\n",
       "    </tr>\n",
       "    <tr>\n",
       "      <td id=\"T_4515e_row108_col0\" class=\"data row108 col0\" >109</td>\n",
       "      <td id=\"T_4515e_row108_col1\" class=\"data row108 col1\" >ColumnTransformer, OrdinalEncoder, MaxAbsScaler, KNeighborsRegressor</td>\n",
       "      <td id=\"T_4515e_row108_col2\" class=\"data row108 col2\" >76.797</td>\n",
       "    </tr>\n",
       "    <tr>\n",
       "      <td id=\"T_4515e_row109_col0\" class=\"data row109 col0\" >110</td>\n",
       "      <td id=\"T_4515e_row109_col1\" class=\"data row109 col1\" >ColumnTransformer, OrdinalEncoder, MaxAbsScaler, GradientBoostingRegressor</td>\n",
       "      <td id=\"T_4515e_row109_col2\" class=\"data row109 col2\" >87.705</td>\n",
       "    </tr>\n",
       "    <tr>\n",
       "      <td id=\"T_4515e_row110_col0\" class=\"data row110 col0\" >111</td>\n",
       "      <td id=\"T_4515e_row110_col1\" class=\"data row110 col1\" >NBEATSEstimator</td>\n",
       "      <td id=\"T_4515e_row110_col2\" class=\"data row110 col2\" >91.711</td>\n",
       "    </tr>\n",
       "    <tr>\n",
       "      <td id=\"T_4515e_row111_col0\" class=\"data row111 col0\" >112</td>\n",
       "      <td id=\"T_4515e_row111_col1\" class=\"data row111 col1\" >ColumnTransformer, OrdinalEncoder, MaxAbsScaler, ExtraTreesRegressor</td>\n",
       "      <td id=\"T_4515e_row111_col2\" class=\"data row111 col2\" >93.464</td>\n",
       "    </tr>\n",
       "    <tr>\n",
       "      <td id=\"T_4515e_row112_col0\" class=\"data row112 col0\" >113</td>\n",
       "      <td id=\"T_4515e_row112_col1\" class=\"data row112 col1\" >ColumnTransformer, OrdinalEncoder, RobustScaler, ExtraTreesRegressor</td>\n",
       "      <td id=\"T_4515e_row112_col2\" class=\"data row112 col2\" >93.464</td>\n",
       "    </tr>\n",
       "    <tr>\n",
       "      <td id=\"T_4515e_row113_col0\" class=\"data row113 col0\" >114</td>\n",
       "      <td id=\"T_4515e_row113_col1\" class=\"data row113 col1\" >ColumnTransformer, OrdinalEncoder, RobustScaler, DecisionTreeRegressor</td>\n",
       "      <td id=\"T_4515e_row113_col2\" class=\"data row113 col2\" >93.464</td>\n",
       "    </tr>\n",
       "    <tr>\n",
       "      <td id=\"T_4515e_row114_col0\" class=\"data row114 col0\" >115</td>\n",
       "      <td id=\"T_4515e_row114_col1\" class=\"data row114 col1\" >ColumnTransformer, OrdinalEncoder, MaxAbsScaler, DecisionTreeRegressor</td>\n",
       "      <td id=\"T_4515e_row114_col2\" class=\"data row114 col2\" >93.464</td>\n",
       "    </tr>\n",
       "    <tr>\n",
       "      <td id=\"T_4515e_row115_col0\" class=\"data row115 col0\" >116</td>\n",
       "      <td id=\"T_4515e_row115_col1\" class=\"data row115 col1\" >ColumnTransformer, OrdinalEncoder, DecisionTreeRegressor</td>\n",
       "      <td id=\"T_4515e_row115_col2\" class=\"data row115 col2\" >93.464</td>\n",
       "    </tr>\n",
       "    <tr>\n",
       "      <td id=\"T_4515e_row116_col0\" class=\"data row116 col0\" >117</td>\n",
       "      <td id=\"T_4515e_row116_col1\" class=\"data row116 col1\" >ColumnTransformer, OrdinalEncoder, StandardScaler, DecisionTreeRegressor</td>\n",
       "      <td id=\"T_4515e_row116_col2\" class=\"data row116 col2\" >93.464</td>\n",
       "    </tr>\n",
       "    <tr>\n",
       "      <td id=\"T_4515e_row117_col0\" class=\"data row117 col0\" >118</td>\n",
       "      <td id=\"T_4515e_row117_col1\" class=\"data row117 col1\" >ColumnTransformer, OrdinalEncoder, MaxAbsScaler, XGBRegressor</td>\n",
       "      <td id=\"T_4515e_row117_col2\" class=\"data row117 col2\" >93.649</td>\n",
       "    </tr>\n",
       "    <tr>\n",
       "      <td id=\"T_4515e_row118_col0\" class=\"data row118 col0\" >119</td>\n",
       "      <td id=\"T_4515e_row118_col1\" class=\"data row118 col1\" >ColumnTransformer, OrdinalEncoder, XGBRegressor</td>\n",
       "      <td id=\"T_4515e_row118_col2\" class=\"data row118 col2\" >93.649</td>\n",
       "    </tr>\n",
       "    <tr>\n",
       "      <td id=\"T_4515e_row119_col0\" class=\"data row119 col0\" >120</td>\n",
       "      <td id=\"T_4515e_row119_col1\" class=\"data row119 col1\" >ColumnTransformer, OrdinalEncoder, RobustScaler, XGBRegressor</td>\n",
       "      <td id=\"T_4515e_row119_col2\" class=\"data row119 col2\" >93.649</td>\n",
       "    </tr>\n",
       "    <tr>\n",
       "      <td id=\"T_4515e_row120_col0\" class=\"data row120 col0\" >121</td>\n",
       "      <td id=\"T_4515e_row120_col1\" class=\"data row120 col1\" >ColumnTransformer, OrdinalEncoder, StandardScaler, XGBRegressor</td>\n",
       "      <td id=\"T_4515e_row120_col2\" class=\"data row120 col2\" >93.649</td>\n",
       "    </tr>\n",
       "    <tr>\n",
       "      <td id=\"T_4515e_row121_col0\" class=\"data row121 col0\" >122</td>\n",
       "      <td id=\"T_4515e_row121_col1\" class=\"data row121 col1\" >ColumnTransformer, DummyEncoder, MaxAbsScaler, KNeighborsRegressor</td>\n",
       "      <td id=\"T_4515e_row121_col2\" class=\"data row121 col2\" >100.980</td>\n",
       "    </tr>\n",
       "    <tr>\n",
       "      <td id=\"T_4515e_row122_col0\" class=\"data row122 col0\" >123</td>\n",
       "      <td id=\"T_4515e_row122_col1\" class=\"data row122 col1\" >ColumnTransformer, OrdinalEncoder, MaxAbsScaler, RandomForestRegressor</td>\n",
       "      <td id=\"T_4515e_row122_col2\" class=\"data row122 col2\" >104.531</td>\n",
       "    </tr>\n",
       "    <tr>\n",
       "      <td id=\"T_4515e_row123_col0\" class=\"data row123 col0\" >124</td>\n",
       "      <td id=\"T_4515e_row123_col1\" class=\"data row123 col1\" >NHITSEstimator</td>\n",
       "      <td id=\"T_4515e_row123_col2\" class=\"data row123 col2\" >125.557</td>\n",
       "    </tr>\n",
       "    <tr>\n",
       "      <td id=\"T_4515e_row124_col0\" class=\"data row124 col0\" >125</td>\n",
       "      <td id=\"T_4515e_row124_col1\" class=\"data row124 col1\" >ColumnTransformer, CyclicalFeature, RobustScaler, SelectPercentile, Ridge</td>\n",
       "      <td id=\"T_4515e_row124_col2\" class=\"data row124 col2\" >134.732</td>\n",
       "    </tr>\n",
       "    <tr>\n",
       "      <td id=\"T_4515e_row125_col0\" class=\"data row125 col0\" >126</td>\n",
       "      <td id=\"T_4515e_row125_col1\" class=\"data row125 col1\" >ColumnTransformer, CyclicalFeature, MaxAbsScaler, ARDRegression</td>\n",
       "      <td id=\"T_4515e_row125_col2\" class=\"data row125 col2\" >151.875</td>\n",
       "    </tr>\n",
       "    <tr>\n",
       "      <td id=\"T_4515e_row126_col0\" class=\"data row126 col0\" >127</td>\n",
       "      <td id=\"T_4515e_row126_col1\" class=\"data row126 col1\" >ColumnTransformer, CyclicalFeature, RobustScaler, SelectKBest, Ridge</td>\n",
       "      <td id=\"T_4515e_row126_col2\" class=\"data row126 col2\" >171.647</td>\n",
       "    </tr>\n",
       "    <tr>\n",
       "      <td id=\"T_4515e_row127_col0\" class=\"data row127 col0\" >128</td>\n",
       "      <td id=\"T_4515e_row127_col1\" class=\"data row127 col1\" >ColumnTransformer, CyclicalFeature, RobustScaler, Ridge</td>\n",
       "      <td id=\"T_4515e_row127_col2\" class=\"data row127 col2\" >171.713</td>\n",
       "    </tr>\n",
       "    <tr>\n",
       "      <td id=\"T_4515e_row128_col0\" class=\"data row128 col0\" >129</td>\n",
       "      <td id=\"T_4515e_row128_col1\" class=\"data row128 col1\" >ColumnTransformer, CyclicalFeature, StandardScaler, Ridge</td>\n",
       "      <td id=\"T_4515e_row128_col2\" class=\"data row128 col2\" >189.604</td>\n",
       "    </tr>\n",
       "    <tr>\n",
       "      <td id=\"T_4515e_row129_col0\" class=\"data row129 col0\" >130</td>\n",
       "      <td id=\"T_4515e_row129_col1\" class=\"data row129 col1\" >ColumnTransformer, CyclicalFeature, MaxAbsScaler, LinearRegression</td>\n",
       "      <td id=\"T_4515e_row129_col2\" class=\"data row129 col2\" >196.377</td>\n",
       "    </tr>\n",
       "    <tr>\n",
       "      <td id=\"T_4515e_row130_col0\" class=\"data row130 col0\" >131</td>\n",
       "      <td id=\"T_4515e_row130_col1\" class=\"data row130 col1\" >ColumnTransformer, DummyEncoder, MaxAbsScaler, Lars</td>\n",
       "      <td id=\"T_4515e_row130_col2\" class=\"data row130 col2\" >3914.806</td>\n",
       "    </tr>\n",
       "    <tr>\n",
       "      <td id=\"T_4515e_row131_col0\" class=\"data row131 col0\" >132</td>\n",
       "      <td id=\"T_4515e_row131_col1\" class=\"data row131 col1\" >ColumnTransformer, DummyEncoder, MaxAbsScaler, RANSACRegressor</td>\n",
       "      <td id=\"T_4515e_row131_col2\" class=\"data row131 col2\" >310076920433387352621056.000</td>\n",
       "    </tr>\n",
       "  </tbody>\n",
       "</table>\n"
      ],
      "text/plain": [
       "<pandas.io.formats.style.Styler at 0x7f88c1546e20>"
      ]
     },
     "execution_count": 6,
     "metadata": {},
     "output_type": "execute_result"
    }
   ],
   "source": [
    "automl.plot_leaderboard()"
   ]
  },
  {
   "cell_type": "markdown",
   "metadata": {},
   "source": [
    "In order to explore the produced pipelines, we can use [PipelineProfiler](https://github.com/VIDA-NYU/PipelineVis). PipelineProfiler is a visualization that enables users to compare and explore the pipelines generated by the AlphaAutoML system.\n",
    "\n",
    "After the pipeline search process is completed, we can use PipelineProfiler with:"
   ]
  },
  {
   "cell_type": "code",
   "execution_count": null,
   "metadata": {},
   "outputs": [],
   "source": [
    "automl.plot_comparison_pipelines()"
   ]
  },
  {
   "cell_type": "markdown",
   "metadata": {},
   "source": [
    "For more information about how to use PipelineProfiler, click [here](https://towardsdatascience.com/exploring-auto-sklearn-models-with-pipelineprofiler-5b2c54136044). There is also a video demo available [here](https://www.youtube.com/watch?v=2WSYoaxLLJ8)."
   ]
  },
  {
   "cell_type": "markdown",
   "metadata": {},
   "source": [
    "### Testing Pipelines"
   ]
  },
  {
   "cell_type": "code",
   "execution_count": 8,
   "metadata": {},
   "outputs": [
    {
     "data": {
      "text/html": [
       "<div>\n",
       "<style scoped>\n",
       "    .dataframe tbody tr th:only-of-type {\n",
       "        vertical-align: middle;\n",
       "    }\n",
       "\n",
       "    .dataframe tbody tr th {\n",
       "        vertical-align: top;\n",
       "    }\n",
       "\n",
       "    .dataframe thead th {\n",
       "        text-align: right;\n",
       "    }\n",
       "</style>\n",
       "<table border=\"1\" class=\"dataframe\">\n",
       "  <thead>\n",
       "    <tr style=\"text-align: right;\">\n",
       "      <th></th>\n",
       "      <th>Date</th>\n",
       "      <th>Close</th>\n",
       "    </tr>\n",
       "  </thead>\n",
       "  <tbody>\n",
       "    <tr>\n",
       "      <th>0</th>\n",
       "      <td>6/9/16</td>\n",
       "      <td>24.330</td>\n",
       "    </tr>\n",
       "    <tr>\n",
       "      <th>1</th>\n",
       "      <td>6/10/16</td>\n",
       "      <td>24.065</td>\n",
       "    </tr>\n",
       "    <tr>\n",
       "      <th>2</th>\n",
       "      <td>6/13/16</td>\n",
       "      <td>23.890</td>\n",
       "    </tr>\n",
       "    <tr>\n",
       "      <th>3</th>\n",
       "      <td>6/14/16</td>\n",
       "      <td>23.880</td>\n",
       "    </tr>\n",
       "    <tr>\n",
       "      <th>4</th>\n",
       "      <td>6/15/16</td>\n",
       "      <td>23.960</td>\n",
       "    </tr>\n",
       "    <tr>\n",
       "      <th>...</th>\n",
       "      <td>...</td>\n",
       "      <td>...</td>\n",
       "    </tr>\n",
       "    <tr>\n",
       "      <th>286</th>\n",
       "      <td>9/25/17</td>\n",
       "      <td>37.780</td>\n",
       "    </tr>\n",
       "    <tr>\n",
       "      <th>287</th>\n",
       "      <td>9/26/17</td>\n",
       "      <td>37.850</td>\n",
       "    </tr>\n",
       "    <tr>\n",
       "      <th>288</th>\n",
       "      <td>9/27/17</td>\n",
       "      <td>38.050</td>\n",
       "    </tr>\n",
       "    <tr>\n",
       "      <th>289</th>\n",
       "      <td>9/28/17</td>\n",
       "      <td>37.730</td>\n",
       "    </tr>\n",
       "    <tr>\n",
       "      <th>290</th>\n",
       "      <td>9/29/17</td>\n",
       "      <td>38.460</td>\n",
       "    </tr>\n",
       "  </tbody>\n",
       "</table>\n",
       "<p>291 rows × 2 columns</p>\n",
       "</div>"
      ],
      "text/plain": [
       "        Date   Close\n",
       "0     6/9/16  24.330\n",
       "1    6/10/16  24.065\n",
       "2    6/13/16  23.890\n",
       "3    6/14/16  23.880\n",
       "4    6/15/16  23.960\n",
       "..       ...     ...\n",
       "286  9/25/17  37.780\n",
       "287  9/26/17  37.850\n",
       "288  9/27/17  38.050\n",
       "289  9/28/17  37.730\n",
       "290  9/29/17  38.460\n",
       "\n",
       "[291 rows x 2 columns]"
      ]
     },
     "execution_count": 8,
     "metadata": {},
     "output_type": "execute_result"
    }
   ],
   "source": [
    "X_test = test_dataset\n",
    "X_test"
   ]
  },
  {
   "cell_type": "code",
   "execution_count": 9,
   "metadata": {},
   "outputs": [
    {
     "data": {
      "text/html": [
       "<div>\n",
       "<style scoped>\n",
       "    .dataframe tbody tr th:only-of-type {\n",
       "        vertical-align: middle;\n",
       "    }\n",
       "\n",
       "    .dataframe tbody tr th {\n",
       "        vertical-align: top;\n",
       "    }\n",
       "\n",
       "    .dataframe thead th {\n",
       "        text-align: right;\n",
       "    }\n",
       "</style>\n",
       "<table border=\"1\" class=\"dataframe\">\n",
       "  <thead>\n",
       "    <tr style=\"text-align: right;\">\n",
       "      <th></th>\n",
       "      <th>Close</th>\n",
       "    </tr>\n",
       "  </thead>\n",
       "  <tbody>\n",
       "    <tr>\n",
       "      <th>0</th>\n",
       "      <td>24.330</td>\n",
       "    </tr>\n",
       "    <tr>\n",
       "      <th>1</th>\n",
       "      <td>24.065</td>\n",
       "    </tr>\n",
       "    <tr>\n",
       "      <th>2</th>\n",
       "      <td>23.890</td>\n",
       "    </tr>\n",
       "    <tr>\n",
       "      <th>3</th>\n",
       "      <td>23.880</td>\n",
       "    </tr>\n",
       "    <tr>\n",
       "      <th>4</th>\n",
       "      <td>23.960</td>\n",
       "    </tr>\n",
       "    <tr>\n",
       "      <th>...</th>\n",
       "      <td>...</td>\n",
       "    </tr>\n",
       "    <tr>\n",
       "      <th>286</th>\n",
       "      <td>37.780</td>\n",
       "    </tr>\n",
       "    <tr>\n",
       "      <th>287</th>\n",
       "      <td>37.850</td>\n",
       "    </tr>\n",
       "    <tr>\n",
       "      <th>288</th>\n",
       "      <td>38.050</td>\n",
       "    </tr>\n",
       "    <tr>\n",
       "      <th>289</th>\n",
       "      <td>37.730</td>\n",
       "    </tr>\n",
       "    <tr>\n",
       "      <th>290</th>\n",
       "      <td>38.460</td>\n",
       "    </tr>\n",
       "  </tbody>\n",
       "</table>\n",
       "<p>291 rows × 1 columns</p>\n",
       "</div>"
      ],
      "text/plain": [
       "      Close\n",
       "0    24.330\n",
       "1    24.065\n",
       "2    23.890\n",
       "3    23.880\n",
       "4    23.960\n",
       "..      ...\n",
       "286  37.780\n",
       "287  37.850\n",
       "288  38.050\n",
       "289  37.730\n",
       "290  38.460\n",
       "\n",
       "[291 rows x 1 columns]"
      ]
     },
     "execution_count": 9,
     "metadata": {},
     "output_type": "execute_result"
    }
   ],
   "source": [
    "y_test = test_dataset[[target_column]]\n",
    "y_test"
   ]
  },
  {
   "cell_type": "markdown",
   "metadata": {},
   "source": [
    "Pipeline predictions are accessed with:"
   ]
  },
  {
   "cell_type": "code",
   "execution_count": 10,
   "metadata": {
    "scrolled": true
   },
   "outputs": [
    {
     "data": {
      "text/plain": [
       "array([[24.33 ],\n",
       "       [24.065],\n",
       "       [23.89 ],\n",
       "       [23.88 ],\n",
       "       [23.96 ],\n",
       "       [23.85 ],\n",
       "       [23.79 ],\n",
       "       [24.57 ],\n",
       "       [24.7  ],\n",
       "       [24.36 ],\n",
       "       [24.85 ],\n",
       "       [23.13 ],\n",
       "       [22.72 ],\n",
       "       [22.99 ],\n",
       "       [23.31 ],\n",
       "       [23.41 ],\n",
       "       [23.78 ],\n",
       "       [23.76 ],\n",
       "       [23.83 ],\n",
       "       [23.93 ],\n",
       "       [24.61 ],\n",
       "       [24.86 ],\n",
       "       [25.13 ],\n",
       "       [25.12 ],\n",
       "       [26.09 ],\n",
       "       [26.34 ],\n",
       "       [26.49 ],\n",
       "       [26.5  ],\n",
       "       [26.99 ],\n",
       "       [29.93 ],\n",
       "       [30.49 ],\n",
       "       [30.68 ],\n",
       "       [31.4  ],\n",
       "       [31.31 ],\n",
       "       [31.17 ],\n",
       "       [31.16 ],\n",
       "       [31.25 ],\n",
       "       [30.79 ],\n",
       "       [30.95 ],\n",
       "       [31.06 ],\n",
       "       [31.39 ],\n",
       "       [31.15 ],\n",
       "       [31.11 ],\n",
       "       [31.12 ],\n",
       "       [31.2  ],\n",
       "       [30.89 ],\n",
       "       [31.05 ],\n",
       "       [30.83 ],\n",
       "       [30.61 ],\n",
       "       [30.52 ],\n",
       "       [30.63 ],\n",
       "       [30.62 ],\n",
       "       [30.67 ],\n",
       "       [31.25 ],\n",
       "       [31.34 ],\n",
       "       [31.31 ],\n",
       "       [31.4  ],\n",
       "       [31.77 ],\n",
       "       [32.16 ],\n",
       "       [32.13 ],\n",
       "       [32.28 ],\n",
       "       [32.41 ],\n",
       "       [32.52 ],\n",
       "       [32.7  ],\n",
       "       [31.89 ],\n",
       "       [32.49 ],\n",
       "       [31.91 ],\n",
       "       [31.8  ],\n",
       "       [31.98 ],\n",
       "       [31.77 ],\n",
       "       [31.57 ],\n",
       "       [31.36 ],\n",
       "       [31.97 ],\n",
       "       [32.28 ],\n",
       "       [32.08 ],\n",
       "       [31.67 ],\n",
       "       [31.94 ],\n",
       "       [31.85 ],\n",
       "       [32.3  ],\n",
       "       [32.9  ],\n",
       "       [32.55 ],\n",
       "       [32.56 ],\n",
       "       [32.15 ],\n",
       "       [32.13 ],\n",
       "       [31.62 ],\n",
       "       [31.95 ],\n",
       "       [31.46 ],\n",
       "       [31.5  ],\n",
       "       [31.51 ],\n",
       "       [31.89 ],\n",
       "       [31.81 ],\n",
       "       [31.64 ],\n",
       "       [32.52 ],\n",
       "       [29.02 ],\n",
       "       [29.06 ],\n",
       "       [29.22 ],\n",
       "       [29.05 ],\n",
       "       [28.82 ],\n",
       "       [28.81 ],\n",
       "       [28.6  ],\n",
       "       [28.51 ],\n",
       "       [28.57 ],\n",
       "       [30.01 ],\n",
       "       [29.84 ],\n",
       "       [29.76 ],\n",
       "       [30.01 ],\n",
       "       [31.05 ],\n",
       "       [30.75 ],\n",
       "       [30.25 ],\n",
       "       [30.41 ],\n",
       "       [30.35 ],\n",
       "       [30.29 ],\n",
       "       [30.29 ],\n",
       "       [30.39 ],\n",
       "       [30.72 ],\n",
       "       [30.64 ],\n",
       "       [30.27 ],\n",
       "       [29.99 ],\n",
       "       [30.21 ],\n",
       "       [31.74 ],\n",
       "       [32.51 ],\n",
       "       [32.17 ],\n",
       "       [31.83 ],\n",
       "       [32.18 ],\n",
       "       [31.97 ],\n",
       "       [32.07 ],\n",
       "       [32.03 ],\n",
       "       [32.43 ],\n",
       "       [33.25 ],\n",
       "       [33.12 ],\n",
       "       [33.63 ],\n",
       "       [33.79 ],\n",
       "       [33.63 ],\n",
       "       [34.01 ],\n",
       "       [33.55 ],\n",
       "       [33.76 ],\n",
       "       [33.92 ],\n",
       "       [33.82 ],\n",
       "       [33.6  ],\n",
       "       [34.06 ],\n",
       "       [34.28 ],\n",
       "       [33.9  ],\n",
       "       [34.275],\n",
       "       [33.91 ],\n",
       "       [33.74 ],\n",
       "       [33.64 ],\n",
       "       [33.47 ],\n",
       "       [33.32 ],\n",
       "       [33.18 ],\n",
       "       [33.13 ],\n",
       "       [32.81 ],\n",
       "       [32.86 ],\n",
       "       [32.89 ],\n",
       "       [33.1  ],\n",
       "       [33.7  ],\n",
       "       [33.81 ],\n",
       "       [33.19 ],\n",
       "       [33.53 ],\n",
       "       [33.52 ],\n",
       "       [33.4  ],\n",
       "       [33.43 ],\n",
       "       [33.53 ],\n",
       "       [33.65 ],\n",
       "       [33.7  ],\n",
       "       [33.57 ],\n",
       "       [33.76 ],\n",
       "       [34.14 ],\n",
       "       [33.81 ],\n",
       "       [34.16 ],\n",
       "       [33.91 ],\n",
       "       [34.06 ],\n",
       "       [33.99 ],\n",
       "       [34.27 ],\n",
       "       [34.33 ],\n",
       "       [34.44 ],\n",
       "       [34.02 ],\n",
       "       [33.855],\n",
       "       [32.53 ],\n",
       "       [32.18 ],\n",
       "       [32.05 ],\n",
       "       [32.81 ],\n",
       "       [33.01 ],\n",
       "       [33.06 ],\n",
       "       [33.41 ],\n",
       "       [33.31 ],\n",
       "       [33.51 ],\n",
       "       [33.26 ],\n",
       "       [33.51 ],\n",
       "       [33.5  ],\n",
       "       [33.24 ],\n",
       "       [33.72 ],\n",
       "       [33.88 ],\n",
       "       [34.12 ],\n",
       "       [34.07 ],\n",
       "       [34.18 ],\n",
       "       [34.81 ],\n",
       "       [33.58 ],\n",
       "       [33.73 ],\n",
       "       [33.83 ],\n",
       "       [33.86 ],\n",
       "       [34.61 ],\n",
       "       [34.82 ],\n",
       "       [35.22 ],\n",
       "       [34.9  ],\n",
       "       [34.62 ],\n",
       "       [34.3  ],\n",
       "       [34.79 ],\n",
       "       [35.32 ],\n",
       "       [35.55 ],\n",
       "       [35.47 ],\n",
       "       [35.77 ],\n",
       "       [36.14 ],\n",
       "       [34.94 ],\n",
       "       [34.15 ],\n",
       "       [34.46 ],\n",
       "       [34.5  ],\n",
       "       [34.09 ],\n",
       "       [33.96 ],\n",
       "       [34.9  ],\n",
       "       [34.93 ],\n",
       "       [34.96 ],\n",
       "       [35.12 ],\n",
       "       [35.57 ],\n",
       "       [35.09 ],\n",
       "       [34.91 ],\n",
       "       [35.31 ],\n",
       "       [34.51 ],\n",
       "       [34.92 ],\n",
       "       [34.6  ],\n",
       "       [34.72 ],\n",
       "       [34.03 ],\n",
       "       [34.23 ],\n",
       "       [35.04 ],\n",
       "       [35.19 ],\n",
       "       [36.03 ],\n",
       "       [36.5  ],\n",
       "       [37.08 ],\n",
       "       [37.05 ],\n",
       "       [36.81 ],\n",
       "       [37.08 ],\n",
       "       [37.18 ],\n",
       "       [36.61 ],\n",
       "       [36.38 ],\n",
       "       [36.32 ],\n",
       "       [37.04 ],\n",
       "       [36.17 ],\n",
       "       [35.94 ],\n",
       "       [35.73 ],\n",
       "       [35.91 ],\n",
       "       [35.9  ],\n",
       "       [35.71 ],\n",
       "       [35.62 ],\n",
       "       [36.11 ],\n",
       "       [36.36 ],\n",
       "       [36.08 ],\n",
       "       [34.99 ],\n",
       "       [35.05 ],\n",
       "       [35.2  ],\n",
       "       [35.25 ],\n",
       "       [35.36 ],\n",
       "       [34.85 ],\n",
       "       [34.78 ],\n",
       "       [34.24 ],\n",
       "       [34.81 ],\n",
       "       [34.89 ],\n",
       "       [34.88 ],\n",
       "       [34.68 ],\n",
       "       [34.81 ],\n",
       "       [35.2  ],\n",
       "       [35.69 ],\n",
       "       [36.13 ],\n",
       "       [36.35 ],\n",
       "       [36.09 ],\n",
       "       [36.76 ],\n",
       "       [38.01 ],\n",
       "       [37.79 ],\n",
       "       [38.09 ],\n",
       "       [38.18 ],\n",
       "       [38.27 ],\n",
       "       [38.31 ],\n",
       "       [38.4  ],\n",
       "       [38.39 ],\n",
       "       [38.59 ],\n",
       "       [38.54 ],\n",
       "       [38.25 ],\n",
       "       [38.29 ],\n",
       "       [37.78 ],\n",
       "       [37.85 ],\n",
       "       [38.05 ],\n",
       "       [37.73 ],\n",
       "       [38.46 ]], dtype=float32)"
      ]
     },
     "execution_count": 10,
     "metadata": {},
     "output_type": "execute_result"
    }
   ],
   "source": [
    "y_pred = automl.predict(X_test)\n",
    "y_pred"
   ]
  },
  {
   "cell_type": "markdown",
   "metadata": {},
   "source": [
    "The pipeline can be evaluated against a held out dataset with the function call:"
   ]
  },
  {
   "cell_type": "code",
   "execution_count": 11,
   "metadata": {},
   "outputs": [
    {
     "name": "stdout",
     "output_type": "stream",
     "text": [
      "INFO:alpha_automl.automl_api:Metric: mean_squared_error, Score: 9.007185459125963e-13\n"
     ]
    },
    {
     "data": {
      "text/plain": [
       "{'metric': 'mean_squared_error', 'score': 9.007185459125963e-13}"
      ]
     },
     "execution_count": 11,
     "metadata": {},
     "output_type": "execute_result"
    }
   ],
   "source": [
    "automl.score(X_test, y_test)"
   ]
  }
 ],
 "metadata": {
  "kernelspec": {
   "display_name": "Python 3 (ipykernel)",
   "language": "python",
   "name": "python3"
  },
  "language_info": {
   "codemirror_mode": {
    "name": "ipython",
    "version": 3
   },
   "file_extension": ".py",
   "mimetype": "text/x-python",
   "name": "python",
   "nbconvert_exporter": "python",
   "pygments_lexer": "ipython3",
   "version": "3.8.16"
  }
 },
 "nbformat": 4,
 "nbformat_minor": 4
}
