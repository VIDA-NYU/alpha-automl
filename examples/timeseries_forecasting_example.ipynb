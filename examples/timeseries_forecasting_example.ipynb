{
 "cells": [
  {
   "cell_type": "markdown",
   "metadata": {},
   "source": [
    "## Solving Time Series Forecasting Tasks"
   ]
  },
  {
   "cell_type": "markdown",
   "metadata": {},
   "source": [
    "First, import the class `AutoMLTimeSeries`"
   ]
  },
  {
   "cell_type": "code",
   "execution_count": 1,
   "metadata": {},
   "outputs": [],
   "source": [
    "import numpy as np\n",
    "import pandas as pd\n",
    "from alpha_automl import AutoMLTimeSeries"
   ]
  },
  {
   "cell_type": "markdown",
   "metadata": {},
   "source": [
    "### Generating Pipelines for CSV Datasets"
   ]
  },
  {
   "cell_type": "markdown",
   "metadata": {},
   "source": [
    "In this example, we are generating pipelines for a CSV dataset. The [LL1_736_stock_market dataset](https://datasets.datadrivendiscovery.org/d3m/datasets/-/tree/master/seed_datasets_current/LL1[…]stock_market_MIN_METADATA/TRAIN/dataset_TRAIN/tables) is used for this example."
   ]
  },
  {
   "cell_type": "code",
   "execution_count": 2,
   "metadata": {},
   "outputs": [],
   "source": [
    "output_path = 'tmp/'\n",
    "train_dataset = pd.read_csv('datasets/time_series/train.csv')\n",
    "test_dataset = pd.read_csv('datasets/time_series/test.csv')"
   ]
  },
  {
   "cell_type": "markdown",
   "metadata": {},
   "source": [
    "Filter out the stock we would like to predict and extract useful columns."
   ]
  },
  {
   "cell_type": "code",
   "execution_count": 3,
   "metadata": {},
   "outputs": [
    {
     "data": {
      "text/html": [
       "<div>\n",
       "<style scoped>\n",
       "    .dataframe tbody tr th:only-of-type {\n",
       "        vertical-align: middle;\n",
       "    }\n",
       "\n",
       "    .dataframe tbody tr th {\n",
       "        vertical-align: top;\n",
       "    }\n",
       "\n",
       "    .dataframe thead th {\n",
       "        text-align: right;\n",
       "    }\n",
       "</style>\n",
       "<table border=\"1\" class=\"dataframe\">\n",
       "  <thead>\n",
       "    <tr style=\"text-align: right;\">\n",
       "      <th></th>\n",
       "      <th>Date</th>\n",
       "      <th>Close</th>\n",
       "    </tr>\n",
       "  </thead>\n",
       "  <tbody>\n",
       "    <tr>\n",
       "      <th>0</th>\n",
       "      <td>1/4/1999</td>\n",
       "      <td>4.2088</td>\n",
       "    </tr>\n",
       "    <tr>\n",
       "      <th>1</th>\n",
       "      <td>1/5/1999</td>\n",
       "      <td>3.9310</td>\n",
       "    </tr>\n",
       "    <tr>\n",
       "      <th>2</th>\n",
       "      <td>1/6/1999</td>\n",
       "      <td>4.9621</td>\n",
       "    </tr>\n",
       "    <tr>\n",
       "      <th>3</th>\n",
       "      <td>1/7/1999</td>\n",
       "      <td>5.2273</td>\n",
       "    </tr>\n",
       "    <tr>\n",
       "      <th>4</th>\n",
       "      <td>1/8/1999</td>\n",
       "      <td>5.1305</td>\n",
       "    </tr>\n",
       "    <tr>\n",
       "      <th>...</th>\n",
       "      <td>...</td>\n",
       "      <td>...</td>\n",
       "    </tr>\n",
       "    <tr>\n",
       "      <th>3707</th>\n",
       "      <td>6/2/2016</td>\n",
       "      <td>24.2500</td>\n",
       "    </tr>\n",
       "    <tr>\n",
       "      <th>3708</th>\n",
       "      <td>6/3/2016</td>\n",
       "      <td>23.9800</td>\n",
       "    </tr>\n",
       "    <tr>\n",
       "      <th>3709</th>\n",
       "      <td>6/6/2016</td>\n",
       "      <td>23.9900</td>\n",
       "    </tr>\n",
       "    <tr>\n",
       "      <th>3710</th>\n",
       "      <td>6/7/2016</td>\n",
       "      <td>24.2800</td>\n",
       "    </tr>\n",
       "    <tr>\n",
       "      <th>3711</th>\n",
       "      <td>6/8/2016</td>\n",
       "      <td>24.2300</td>\n",
       "    </tr>\n",
       "  </tbody>\n",
       "</table>\n",
       "<p>3712 rows × 2 columns</p>\n",
       "</div>"
      ],
      "text/plain": [
       "          Date    Close\n",
       "0     1/4/1999   4.2088\n",
       "1     1/5/1999   3.9310\n",
       "2     1/6/1999   4.9621\n",
       "3     1/7/1999   5.2273\n",
       "4     1/8/1999   5.1305\n",
       "...        ...      ...\n",
       "3707  6/2/2016  24.2500\n",
       "3708  6/3/2016  23.9800\n",
       "3709  6/6/2016  23.9900\n",
       "3710  6/7/2016  24.2800\n",
       "3711  6/8/2016  24.2300\n",
       "\n",
       "[3712 rows x 2 columns]"
      ]
     },
     "execution_count": 3,
     "metadata": {},
     "output_type": "execute_result"
    }
   ],
   "source": [
    "stock_name = \"ebay\"\n",
    "train_data = train_dataset[train_dataset['Company'] == stock_name].reset_index(drop=True)\n",
    "test_data = test_dataset[test_dataset['Company'] == stock_name].reset_index(drop=True)\n",
    "\n",
    "X_train = train_data[[\"Date\", \"Close\"]]\n",
    "y_train = train_data[[\"Close\"]]\n",
    "X_test = test_data[[\"Date\", \"Close\"]]\n",
    "y_test = test_data[[\"Close\"]]\n",
    "\n",
    "X_train"
   ]
  },
  {
   "cell_type": "markdown",
   "metadata": {},
   "source": [
    "### Searching  Pipelines"
   ]
  },
  {
   "cell_type": "code",
   "execution_count": 4,
   "metadata": {
    "scrolled": true
   },
   "outputs": [
    {
     "name": "stdout",
     "output_type": "stream",
     "text": [
      "INFO:gluonts.mx.context:Using CPU\n",
      "DEBUG:matplotlib:matplotlib data path: /ext3/miniconda3/lib/python3.10/site-packages/matplotlib/mpl-data\n",
      "DEBUG:matplotlib:CONFIGDIR=/home/yfw215/.config/matplotlib\n",
      "DEBUG:matplotlib:interactive is False\n",
      "DEBUG:matplotlib:platform is linux\n",
      "DEBUG:matplotlib:CACHEDIR=/home/yfw215/.cache/matplotlib\n",
      "DEBUG:matplotlib.font_manager:Using fontManager instance from /home/yfw215/.cache/matplotlib/fontlist-v330.json\n",
      "INFO:lightning_fabric.utilities.seed:[rank: 0] Global seed set to 1\n",
      "Epoch 9: 100%|██████████| 1/1 [00:00<00:00,  2.02it/s, v_num=3.41e+7, train_loss_step=0.486, train_loss_epoch=0.486]\n",
      "Predicting DataLoader 0: 100%|██████████| 1/1 [00:00<00:00, 68.87it/s]\n",
      "INFO:alpha_automl.builtin_primitives.time_series_forecasting:Estimated differencing term: 0\n",
      "Performing stepwise search to minimize aic\n",
      " ARIMA(2,0,2)(0,0,0)[0]             : AIC=inf, Time=0.89 sec\n",
      " ARIMA(0,0,0)(0,0,0)[0]             : AIC=12851.608, Time=0.01 sec\n",
      " ARIMA(1,0,0)(0,0,0)[0]             : AIC=10679.016, Time=0.03 sec\n",
      " ARIMA(0,0,1)(0,0,0)[0]             : AIC=11904.385, Time=0.11 sec\n",
      " ARIMA(2,0,0)(0,0,0)[0]             : AIC=10343.795, Time=0.06 sec\n",
      " ARIMA(3,0,0)(0,0,0)[0]             : AIC=10172.739, Time=0.15 sec\n",
      " ARIMA(4,0,0)(0,0,0)[0]             : AIC=10093.223, Time=0.23 sec\n",
      "INFO:gluonts.mx.context:Using CPU\n",
      " ARIMA(5,0,0)(0,0,0)[0]             : AIC=inf, Time=0.34 sec\n",
      " ARIMA(4,0,1)(0,0,0)[0]             : AIC=inf, Time=1.50 sec\n",
      "DEBUG:matplotlib:matplotlib data path: /ext3/miniconda3/lib/python3.10/site-packages/matplotlib/mpl-data\n",
      "DEBUG:matplotlib:CONFIGDIR=/home/yfw215/.config/matplotlib\n",
      "DEBUG:matplotlib:interactive is False\n",
      "DEBUG:matplotlib:platform is linux\n",
      "DEBUG:matplotlib:CACHEDIR=/home/yfw215/.cache/matplotlib\n",
      "DEBUG:matplotlib.font_manager:Using fontManager instance from /home/yfw215/.cache/matplotlib/fontlist-v330.json\n",
      "INFO:alpha_automl.automl_api:Found pipeline, time=0:00:13, scoring...\n",
      "INFO:lightning_fabric.utilities.seed:[rank: 0] Global seed set to 1\n",
      " ARIMA(3,0,1)(0,0,0)[0]             : AIC=inf, Time=1.27 sec\n",
      "Epoch 0:   0%|          | 0/1 [00:00<?, ?it/s]                               ARIMA(5,0,1)(0,0,0)[0]             : AIC=inf, Time=1.66 sec\n",
      " ARIMA(4,0,0)(0,0,0)[0] intercept   : AIC=9756.105, Time=0.29 sec\n",
      " ARIMA(3,0,0)(0,0,0)[0] intercept   : AIC=9754.537, Time=0.35 sec\n",
      " ARIMA(2,0,0)(0,0,0)[0] intercept   : AIC=9752.613, Time=0.12 sec\n",
      " ARIMA(1,0,0)(0,0,0)[0] intercept   : AIC=9751.424, Time=0.06 sec\n",
      " ARIMA(0,0,0)(0,0,0)[0] intercept   : AIC=9749.576, Time=0.02 sec\n",
      " ARIMA(0,0,1)(0,0,0)[0] intercept   : AIC=9751.416, Time=0.13 sec\n",
      " ARIMA(1,0,1)(0,0,0)[0] intercept   : AIC=9753.411, Time=0.17 sec\n",
      "\n",
      "Best model:  ARIMA(0,0,0)(0,0,0)[0] intercept\n",
      "Total fit time: 7.975 seconds\n",
      "INFO:alpha_automl.builtin_primitives.time_series_forecasting:Making predictions for ARIMA model order: (0, 0, 0)\n",
      "INFO:gluonts.trainer:Start model training\n",
      "INFO:gluonts.trainer:Epoch[0] Learning rate is 0.001\n"
     ]
    },
    {
     "name": "stderr",
     "output_type": "stream",
     "text": [
      "  0%|          | 0/50 [00:00<?, ?it/s]"
     ]
    },
    {
     "name": "stdout",
     "output_type": "stream",
     "text": [
      "Epoch 1:   0%|          | 0/1 [00:00<?, ?it/s, v_num=3.41e+7, train_loss_step=1.840, train_loss_epoch=1.840]        INFO:gluonts.trainer:Number of parameters in DeepARTrainingNetwork: 25884\n",
      "Epoch 3:   0%|          | 0/1 [00:00<?, ?it/s, v_num=3.41e+7, train_loss_step=2.150, train_loss_epoch=2.150]        "
     ]
    },
    {
     "name": "stderr",
     "output_type": "stream",
     "text": [
      "100%|██████████| 50/50 [00:05<00:00,  8.48it/s, epoch=1/5, avg_epoch_loss=3.59]\n"
     ]
    },
    {
     "name": "stdout",
     "output_type": "stream",
     "text": [
      "INFO:gluonts.trainer:Epoch[0] Elapsed time 5.936 seconds\n",
      "INFO:gluonts.trainer:Epoch[0] Evaluation metric 'epoch_loss'=3.586218\n",
      "INFO:gluonts.trainer:Epoch[1] Learning rate is 0.001\n"
     ]
    },
    {
     "name": "stderr",
     "output_type": "stream",
     "text": [
      "  0%|          | 0/50 [00:00<?, ?it/s]"
     ]
    },
    {
     "name": "stdout",
     "output_type": "stream",
     "text": [
      "Epoch 5:   0%|          | 0/1 [00:00<?, ?it/s, v_num=3.41e+7, train_loss_step=1.350, train_loss_epoch=1.350]        "
     ]
    },
    {
     "name": "stderr",
     "output_type": "stream",
     "text": [
      "100%|██████████| 50/50 [00:05<00:00,  8.57it/s, epoch=2/5, avg_epoch_loss=3.35]\n"
     ]
    },
    {
     "name": "stdout",
     "output_type": "stream",
     "text": [
      "INFO:gluonts.trainer:Epoch[1] Elapsed time 5.873 seconds\n",
      "INFO:gluonts.trainer:Epoch[1] Evaluation metric 'epoch_loss'=3.350388\n",
      "INFO:gluonts.trainer:Epoch[2] Learning rate is 0.001\n"
     ]
    },
    {
     "name": "stderr",
     "output_type": "stream",
     "text": [
      "  0%|          | 0/50 [00:00<?, ?it/s]"
     ]
    },
    {
     "name": "stdout",
     "output_type": "stream",
     "text": [
      "Epoch 7:   0%|          | 0/1 [00:00<?, ?it/s, v_num=3.41e+7, train_loss_step=1.000, train_loss_epoch=1.000]        "
     ]
    },
    {
     "name": "stderr",
     "output_type": "stream",
     "text": [
      "100%|██████████| 50/50 [00:05<00:00,  8.97it/s, epoch=3/5, avg_epoch_loss=3.3]\n"
     ]
    },
    {
     "name": "stdout",
     "output_type": "stream",
     "text": [
      "INFO:gluonts.trainer:Epoch[2] Elapsed time 5.617 seconds\n",
      "INFO:gluonts.trainer:Epoch[2] Evaluation metric 'epoch_loss'=3.304204\n",
      "INFO:gluonts.trainer:Epoch[3] Learning rate is 0.001\n"
     ]
    },
    {
     "name": "stderr",
     "output_type": "stream",
     "text": [
      "  0%|          | 0/50 [00:00<?, ?it/s]"
     ]
    },
    {
     "name": "stdout",
     "output_type": "stream",
     "text": [
      "Epoch 9:   0%|          | 0/1 [00:00<?, ?it/s, v_num=3.41e+7, train_loss_step=0.805, train_loss_epoch=0.805]        "
     ]
    },
    {
     "name": "stderr",
     "output_type": "stream",
     "text": [
      "100%|██████████| 50/50 [00:05<00:00,  8.94it/s, epoch=4/5, avg_epoch_loss=3.27]\n"
     ]
    },
    {
     "name": "stdout",
     "output_type": "stream",
     "text": [
      "INFO:gluonts.trainer:Epoch[3] Elapsed time 5.635 seconds\n",
      "INFO:gluonts.trainer:Epoch[3] Evaluation metric 'epoch_loss'=3.268679\n",
      "INFO:gluonts.trainer:Epoch[4] Learning rate is 0.001\n"
     ]
    },
    {
     "name": "stderr",
     "output_type": "stream",
     "text": [
      "  0%|          | 0/50 [00:00<?, ?it/s]"
     ]
    },
    {
     "name": "stdout",
     "output_type": "stream",
     "text": [
      "Epoch 9: 100%|██████████| 1/1 [00:02<00:00,  2.86s/it, v_num=3.41e+7, train_loss_step=0.868, train_loss_epoch=0.868]\n",
      "Predicting DataLoader 0: 100%|██████████| 1/1 [00:00<00:00, 68.76it/s]\n",
      "INFO:lightning_fabric.utilities.seed:[rank: 0] Global seed set to 1\n",
      "Epoch 0: 100%|██████████| 1/1 [00:02<00:00,  2.90s/it, v_num=3.41e+7, train_loss_step=1.860, train_loss_epoch=1.860]"
     ]
    },
    {
     "name": "stderr",
     "output_type": "stream",
     "text": [
      "100%|██████████| 50/50 [00:05<00:00,  8.99it/s, epoch=5/5, avg_epoch_loss=3.24]"
     ]
    },
    {
     "name": "stdout",
     "output_type": "stream",
     "text": [
      "Epoch 1:   0%|          | 0/1 [00:00<?, ?it/s, v_num=3.41e+7, train_loss_step=1.860, train_loss_epoch=1.860]        "
     ]
    },
    {
     "name": "stderr",
     "output_type": "stream",
     "text": [
      "\n"
     ]
    },
    {
     "name": "stdout",
     "output_type": "stream",
     "text": [
      "INFO:gluonts.trainer:Epoch[4] Elapsed time 5.613 seconds\n",
      "INFO:gluonts.trainer:Epoch[4] Evaluation metric 'epoch_loss'=3.243720\n",
      "INFO:root:Computing averaged parameters.\n",
      "INFO:root:Loading averaged parameters.\n",
      "INFO:gluonts.trainer:End model training\n",
      "INFO:lightning_fabric.utilities.seed:[rank: 0] Global seed set to 1\n",
      "Epoch 9:   0%|          | 0/1 [00:00<?, ?it/s, v_num=3.41e+7, train_loss_step=0.803, train_loss_epoch=0.803]        \n",
      "Predicting DataLoader 0: 100%|██████████| 1/1 [00:00<00:00, 19.39it/s]\n",
      "Epoch 9: 100%|██████████| 1/1 [00:01<00:00,  1.98s/it, v_num=3.41e+7, train_loss_step=0.819, train_loss_epoch=0.819]\n",
      "Predicting DataLoader 0: 100%|██████████| 1/1 [00:00<00:00, 66.31it/s]\n",
      "INFO:lightning_fabric.utilities.seed:[rank: 0] Global seed set to 1\n",
      "Epoch 9: 100%|██████████| 1/1 [00:02<00:00,  2.21s/it, v_num=3.41e+7, train_loss_step=0.816, train_loss_epoch=0.816]\n",
      "Predicting DataLoader 0: 100%|██████████| 1/1 [00:00<00:00, 35.90it/s]\n",
      "INFO:alpha_automl.automl_api:Scored pipeline, score=1.7300631176989552\n",
      "INFO:alpha_automl.automl_api:Found pipeline, time=0:01:25, scoring...\n",
      "INFO:alpha_automl.builtin_primitives.time_series_forecasting:Estimated differencing term: 1\n",
      "Performing stepwise search to minimize aic\n",
      " ARIMA(2,1,2)(0,0,0)[0] intercept   : AIC=2988.080, Time=1.66 sec\n",
      " ARIMA(0,1,0)(0,0,0)[0] intercept   : AIC=2994.920, Time=0.34 sec\n",
      " ARIMA(1,1,0)(0,0,0)[0] intercept   : AIC=2986.406, Time=0.27 sec\n",
      " ARIMA(0,1,1)(0,0,0)[0] intercept   : AIC=2985.674, Time=0.39 sec\n",
      " ARIMA(0,1,0)(0,0,0)[0]             : AIC=2993.751, Time=0.17 sec\n",
      " ARIMA(1,1,1)(0,0,0)[0] intercept   : AIC=2984.321, Time=0.53 sec\n",
      " ARIMA(2,1,1)(0,0,0)[0] intercept   : AIC=2986.081, Time=0.57 sec\n",
      " ARIMA(1,1,2)(0,0,0)[0] intercept   : AIC=2986.080, Time=1.55 sec\n",
      " ARIMA(0,1,2)(0,0,0)[0] intercept   : AIC=2984.156, Time=1.16 sec\n",
      " ARIMA(0,1,3)(0,0,0)[0] intercept   : AIC=2986.049, Time=0.73 sec\n",
      " ARIMA(1,1,3)(0,0,0)[0] intercept   : AIC=2985.391, Time=1.97 sec\n",
      " ARIMA(0,1,2)(0,0,0)[0]             : AIC=2983.150, Time=0.25 sec\n",
      " ARIMA(0,1,1)(0,0,0)[0]             : AIC=2984.611, Time=0.19 sec\n",
      " ARIMA(1,1,2)(0,0,0)[0]             : AIC=2985.084, Time=0.73 sec\n",
      " ARIMA(0,1,3)(0,0,0)[0]             : AIC=2985.054, Time=0.32 sec\n",
      " ARIMA(1,1,1)(0,0,0)[0]             : AIC=2983.335, Time=0.75 sec\n",
      " ARIMA(1,1,3)(0,0,0)[0]             : AIC=2984.403, Time=1.10 sec\n",
      "\n",
      "Best model:  ARIMA(0,1,2)(0,0,0)[0]          \n",
      "Total fit time: 12.681 seconds\n",
      "INFO:alpha_automl.builtin_primitives.time_series_forecasting:Making predictions for ARIMA model order: (0, 1, 2)\n",
      "INFO:alpha_automl.builtin_primitives.time_series_forecasting:Estimated differencing term: 1\n",
      "Performing stepwise search to minimize aic\n",
      " ARIMA(2,1,2)(0,0,0)[0] intercept   : AIC=3014.117, Time=1.57 sec\n",
      " ARIMA(0,1,0)(0,0,0)[0] intercept   : AIC=3022.274, Time=0.33 sec\n",
      " ARIMA(1,1,0)(0,0,0)[0] intercept   : AIC=3012.814, Time=0.31 sec\n",
      " ARIMA(0,1,1)(0,0,0)[0] intercept   : AIC=3011.986, Time=0.39 sec\n",
      " ARIMA(0,1,0)(0,0,0)[0]             : AIC=3021.109, Time=0.18 sec\n",
      " ARIMA(1,1,1)(0,0,0)[0] intercept   : AIC=3010.337, Time=0.39 sec\n",
      " ARIMA(2,1,1)(0,0,0)[0] intercept   : AIC=3012.103, Time=0.56 sec\n",
      " ARIMA(1,1,2)(0,0,0)[0] intercept   : AIC=3012.099, Time=1.55 sec\n",
      " ARIMA(0,1,2)(0,0,0)[0] intercept   : AIC=3010.200, Time=1.12 sec\n",
      " ARIMA(0,1,3)(0,0,0)[0] intercept   : AIC=3012.066, Time=0.67 sec\n",
      " ARIMA(1,1,3)(0,0,0)[0] intercept   : AIC=3011.487, Time=1.98 sec\n",
      " ARIMA(0,1,2)(0,0,0)[0]             : AIC=3009.208, Time=0.25 sec\n",
      " ARIMA(0,1,1)(0,0,0)[0]             : AIC=3010.933, Time=0.18 sec\n",
      " ARIMA(1,1,2)(0,0,0)[0]             : AIC=3011.119, Time=1.05 sec\n",
      " ARIMA(0,1,3)(0,0,0)[0]             : AIC=3011.086, Time=0.35 sec\n",
      " ARIMA(1,1,1)(0,0,0)[0]             : AIC=3009.380, Time=0.17 sec\n",
      " ARIMA(1,1,3)(0,0,0)[0]             : AIC=3010.511, Time=1.14 sec\n",
      "\n",
      "Best model:  ARIMA(0,1,2)(0,0,0)[0]          \n",
      "Total fit time: 12.185 seconds\n",
      "INFO:alpha_automl.builtin_primitives.time_series_forecasting:Making predictions for ARIMA model order: (0, 1, 2)\n",
      "INFO:alpha_automl.builtin_primitives.time_series_forecasting:Estimated differencing term: 1\n",
      "Performing stepwise search to minimize aic\n",
      " ARIMA(2,1,2)(0,0,0)[0] intercept   : AIC=3033.115, Time=2.44 sec\n",
      " ARIMA(0,1,0)(0,0,0)[0] intercept   : AIC=3041.548, Time=0.32 sec\n",
      " ARIMA(1,1,0)(0,0,0)[0] intercept   : AIC=3032.081, Time=0.35 sec\n",
      " ARIMA(0,1,1)(0,0,0)[0] intercept   : AIC=3031.236, Time=0.40 sec\n",
      " ARIMA(0,1,0)(0,0,0)[0]             : AIC=3040.357, Time=0.25 sec\n",
      " ARIMA(1,1,1)(0,0,0)[0] intercept   : AIC=3029.296, Time=0.51 sec\n",
      " ARIMA(2,1,1)(0,0,0)[0] intercept   : AIC=3031.137, Time=0.53 sec\n",
      " ARIMA(1,1,2)(0,0,0)[0] intercept   : AIC=3031.121, Time=1.42 sec\n",
      " ARIMA(0,1,2)(0,0,0)[0] intercept   : AIC=3029.248, Time=0.96 sec\n",
      " ARIMA(0,1,3)(0,0,0)[0] intercept   : AIC=3031.104, Time=0.74 sec\n",
      " ARIMA(1,1,3)(0,0,0)[0] intercept   : AIC=3030.724, Time=2.03 sec\n",
      " ARIMA(0,1,2)(0,0,0)[0]             : AIC=3028.227, Time=0.26 sec\n",
      " ARIMA(0,1,1)(0,0,0)[0]             : AIC=3030.154, Time=0.17 sec\n",
      " ARIMA(1,1,2)(0,0,0)[0]             : AIC=3030.115, Time=0.61 sec\n",
      " ARIMA(0,1,3)(0,0,0)[0]             : AIC=3030.095, Time=0.32 sec\n",
      " ARIMA(1,1,1)(0,0,0)[0]             : AIC=3028.313, Time=0.24 sec\n",
      " ARIMA(1,1,3)(0,0,0)[0]             : AIC=3029.719, Time=1.13 sec\n",
      "\n",
      "Best model:  ARIMA(0,1,2)(0,0,0)[0]          \n",
      "Total fit time: 12.687 seconds\n",
      "INFO:alpha_automl.builtin_primitives.time_series_forecasting:Making predictions for ARIMA model order: (0, 1, 2)\n",
      "INFO:alpha_automl.automl_api:Scored pipeline, score=0.1915359182688987\n",
      "INFO:alpha_automl.automl_api:Found pipeline, time=0:02:03, scoring...\n",
      "INFO:gluonts.trainer:Start model training\n",
      "INFO:gluonts.trainer:Epoch[0] Learning rate is 0.001\n"
     ]
    },
    {
     "name": "stderr",
     "output_type": "stream",
     "text": [
      "  0%|          | 0/50 [00:00<?, ?it/s]"
     ]
    },
    {
     "name": "stdout",
     "output_type": "stream",
     "text": [
      "INFO:gluonts.trainer:Number of parameters in DeepARTrainingNetwork: 25884\n"
     ]
    },
    {
     "name": "stderr",
     "output_type": "stream",
     "text": [
      "100%|██████████| 50/50 [00:08<00:00,  6.03it/s, epoch=1/5, avg_epoch_loss=2.27]"
     ]
    },
    {
     "name": "stdout",
     "output_type": "stream",
     "text": [
      "INFO:gluonts.trainer:Epoch[0] Elapsed time 8.314 seconds\n",
      "INFO:gluonts.trainer:Epoch[0] Evaluation metric 'epoch_loss'=2.273453\n",
      "INFO:gluonts.trainer:Epoch[1] Learning rate is 0.001\n"
     ]
    },
    {
     "name": "stderr",
     "output_type": "stream",
     "text": [
      "\n",
      "100%|██████████| 50/50 [00:07<00:00,  6.32it/s, epoch=2/5, avg_epoch_loss=1.13]"
     ]
    },
    {
     "name": "stdout",
     "output_type": "stream",
     "text": [
      "INFO:gluonts.trainer:Epoch[1] Elapsed time 7.909 seconds\n",
      "INFO:gluonts.trainer:Epoch[1] Evaluation metric 'epoch_loss'=1.134107\n",
      "INFO:gluonts.trainer:Epoch[2] Learning rate is 0.001\n"
     ]
    },
    {
     "name": "stderr",
     "output_type": "stream",
     "text": [
      "\n",
      "100%|██████████| 50/50 [00:07<00:00,  6.34it/s, epoch=3/5, avg_epoch_loss=1.06]"
     ]
    },
    {
     "name": "stdout",
     "output_type": "stream",
     "text": [
      "INFO:gluonts.trainer:Epoch[2] Elapsed time 7.895 seconds\n",
      "INFO:gluonts.trainer:Epoch[2] Evaluation metric 'epoch_loss'=1.055313\n",
      "INFO:gluonts.trainer:Epoch[3] Learning rate is 0.001\n"
     ]
    },
    {
     "name": "stderr",
     "output_type": "stream",
     "text": [
      "\n",
      "  0%|          | 0/50 [00:00<?, ?it/s]Exception ignored on calling ctypes callback function: <function _ThreadpoolInfo._find_modules_with_dl_iterate_phdr.<locals>.match_module_callback at 0x148e271bae60>\n",
      "Traceback (most recent call last):\n",
      "  File \"/ext3/miniconda3/lib/python3.10/site-packages/threadpoolctl.py\", line 400, in match_module_callback\n",
      "    self._make_module_from_path(filepath)\n",
      "  File \"/ext3/miniconda3/lib/python3.10/site-packages/threadpoolctl.py\", line 515, in _make_module_from_path\n",
      "    module = module_class(filepath, prefix, user_api, internal_api)\n",
      "  File \"/ext3/miniconda3/lib/python3.10/site-packages/threadpoolctl.py\", line 606, in __init__\n",
      "    self.version = self.get_version()\n",
      "  File \"/ext3/miniconda3/lib/python3.10/site-packages/threadpoolctl.py\", line 646, in get_version\n",
      "    config = get_config().split()\n",
      "AttributeError: 'NoneType' object has no attribute 'split'\n",
      "100%|██████████| 50/50 [00:07<00:00,  6.49it/s, epoch=4/5, avg_epoch_loss=0.931]"
     ]
    },
    {
     "name": "stdout",
     "output_type": "stream",
     "text": [
      "INFO:gluonts.trainer:Epoch[3] Elapsed time 7.702 seconds\n",
      "INFO:gluonts.trainer:Epoch[3] Evaluation metric 'epoch_loss'=0.930910\n",
      "INFO:gluonts.trainer:Epoch[4] Learning rate is 0.001\n"
     ]
    },
    {
     "name": "stderr",
     "output_type": "stream",
     "text": [
      "\n",
      "100%|██████████| 50/50 [00:07<00:00,  6.46it/s, epoch=5/5, avg_epoch_loss=0.833]"
     ]
    },
    {
     "name": "stdout",
     "output_type": "stream",
     "text": [
      "INFO:gluonts.trainer:Epoch[4] Elapsed time 7.742 seconds\n",
      "INFO:gluonts.trainer:Epoch[4] Evaluation metric 'epoch_loss'=0.833180\n",
      "INFO:root:Computing averaged parameters.\n",
      "INFO:root:Loading averaged parameters.\n",
      "INFO:gluonts.trainer:End model training\n",
      "INFO:gluonts.trainer:Start model training\n",
      "INFO:gluonts.trainer:Epoch[0] Learning rate is 0.001\n"
     ]
    },
    {
     "name": "stderr",
     "output_type": "stream",
     "text": [
      "\n",
      "  0%|          | 0/50 [00:00<?, ?it/s]"
     ]
    },
    {
     "name": "stdout",
     "output_type": "stream",
     "text": [
      "INFO:gluonts.trainer:Number of parameters in DeepARTrainingNetwork: 25884\n"
     ]
    },
    {
     "name": "stderr",
     "output_type": "stream",
     "text": [
      "100%|██████████| 50/50 [00:08<00:00,  6.16it/s, epoch=1/5, avg_epoch_loss=2.41]"
     ]
    },
    {
     "name": "stdout",
     "output_type": "stream",
     "text": [
      "INFO:gluonts.trainer:Epoch[0] Elapsed time 8.122 seconds\n",
      "INFO:gluonts.trainer:Epoch[0] Evaluation metric 'epoch_loss'=2.413074\n",
      "INFO:gluonts.trainer:Epoch[1] Learning rate is 0.001\n"
     ]
    },
    {
     "name": "stderr",
     "output_type": "stream",
     "text": [
      "\n",
      "100%|██████████| 50/50 [00:08<00:00,  6.24it/s, epoch=2/5, avg_epoch_loss=1.05]"
     ]
    },
    {
     "name": "stdout",
     "output_type": "stream",
     "text": [
      "INFO:gluonts.trainer:Epoch[1] Elapsed time 8.013 seconds\n",
      "INFO:gluonts.trainer:Epoch[1] Evaluation metric 'epoch_loss'=1.052129\n",
      "INFO:gluonts.trainer:Epoch[2] Learning rate is 0.001\n"
     ]
    },
    {
     "name": "stderr",
     "output_type": "stream",
     "text": [
      "\n",
      "100%|██████████| 50/50 [00:07<00:00,  6.26it/s, epoch=3/5, avg_epoch_loss=0.908]"
     ]
    },
    {
     "name": "stdout",
     "output_type": "stream",
     "text": [
      "INFO:gluonts.trainer:Epoch[2] Elapsed time 7.988 seconds\n",
      "INFO:gluonts.trainer:Epoch[2] Evaluation metric 'epoch_loss'=0.907724\n",
      "INFO:gluonts.trainer:Epoch[3] Learning rate is 0.001\n"
     ]
    },
    {
     "name": "stderr",
     "output_type": "stream",
     "text": [
      "\n",
      "100%|██████████| 50/50 [00:07<00:00,  6.43it/s, epoch=4/5, avg_epoch_loss=0.858]"
     ]
    },
    {
     "name": "stdout",
     "output_type": "stream",
     "text": [
      "INFO:gluonts.trainer:Epoch[3] Elapsed time 7.775 seconds\n",
      "INFO:gluonts.trainer:Epoch[3] Evaluation metric 'epoch_loss'=0.857916\n",
      "INFO:gluonts.trainer:Epoch[4] Learning rate is 0.001\n"
     ]
    },
    {
     "name": "stderr",
     "output_type": "stream",
     "text": [
      "\n",
      "100%|██████████| 50/50 [00:08<00:00,  6.16it/s, epoch=5/5, avg_epoch_loss=0.782]"
     ]
    },
    {
     "name": "stdout",
     "output_type": "stream",
     "text": [
      "INFO:gluonts.trainer:Epoch[4] Elapsed time 8.117 seconds\n",
      "INFO:gluonts.trainer:Epoch[4] Evaluation metric 'epoch_loss'=0.782305\n",
      "INFO:root:Computing averaged parameters.\n",
      "INFO:root:Loading averaged parameters.\n",
      "INFO:gluonts.trainer:End model training\n",
      "INFO:gluonts.trainer:Start model training\n",
      "INFO:gluonts.trainer:Epoch[0] Learning rate is 0.001\n"
     ]
    },
    {
     "name": "stderr",
     "output_type": "stream",
     "text": [
      "\n",
      "  0%|          | 0/50 [00:00<?, ?it/s]"
     ]
    },
    {
     "name": "stdout",
     "output_type": "stream",
     "text": [
      "INFO:gluonts.trainer:Number of parameters in DeepARTrainingNetwork: 25884\n"
     ]
    },
    {
     "name": "stderr",
     "output_type": "stream",
     "text": [
      "100%|██████████| 50/50 [00:08<00:00,  6.19it/s, epoch=1/5, avg_epoch_loss=2.15]"
     ]
    },
    {
     "name": "stdout",
     "output_type": "stream",
     "text": [
      "INFO:gluonts.trainer:Epoch[0] Elapsed time 8.089 seconds\n",
      "INFO:gluonts.trainer:Epoch[0] Evaluation metric 'epoch_loss'=2.147190\n",
      "INFO:gluonts.trainer:Epoch[1] Learning rate is 0.001\n"
     ]
    },
    {
     "name": "stderr",
     "output_type": "stream",
     "text": [
      "\n",
      "100%|██████████| 50/50 [00:08<00:00,  6.25it/s, epoch=2/5, avg_epoch_loss=1.17]"
     ]
    },
    {
     "name": "stdout",
     "output_type": "stream",
     "text": [
      "INFO:gluonts.trainer:Epoch[1] Elapsed time 8.004 seconds\n",
      "INFO:gluonts.trainer:Epoch[1] Evaluation metric 'epoch_loss'=1.166852\n",
      "INFO:gluonts.trainer:Epoch[2] Learning rate is 0.001\n"
     ]
    },
    {
     "name": "stderr",
     "output_type": "stream",
     "text": [
      "\n",
      "100%|██████████| 50/50 [00:08<00:00,  6.11it/s, epoch=3/5, avg_epoch_loss=1.02]"
     ]
    },
    {
     "name": "stdout",
     "output_type": "stream",
     "text": [
      "INFO:gluonts.trainer:Epoch[2] Elapsed time 8.188 seconds\n",
      "INFO:gluonts.trainer:Epoch[2] Evaluation metric 'epoch_loss'=1.024162\n",
      "INFO:gluonts.trainer:Epoch[3] Learning rate is 0.001\n"
     ]
    },
    {
     "name": "stderr",
     "output_type": "stream",
     "text": [
      "\n",
      "100%|██████████| 50/50 [00:07<00:00,  6.26it/s, epoch=4/5, avg_epoch_loss=0.927]"
     ]
    },
    {
     "name": "stdout",
     "output_type": "stream",
     "text": [
      "INFO:gluonts.trainer:Epoch[3] Elapsed time 7.985 seconds\n",
      "INFO:gluonts.trainer:Epoch[3] Evaluation metric 'epoch_loss'=0.927345\n",
      "INFO:gluonts.trainer:Epoch[4] Learning rate is 0.001\n"
     ]
    },
    {
     "name": "stderr",
     "output_type": "stream",
     "text": [
      "\n",
      "100%|██████████| 50/50 [00:07<00:00,  6.27it/s, epoch=5/5, avg_epoch_loss=0.777]"
     ]
    },
    {
     "name": "stdout",
     "output_type": "stream",
     "text": [
      "INFO:gluonts.trainer:Epoch[4] Elapsed time 7.980 seconds\n",
      "INFO:gluonts.trainer:Epoch[4] Evaluation metric 'epoch_loss'=0.776884\n",
      "INFO:root:Computing averaged parameters.\n",
      "INFO:root:Loading averaged parameters.\n",
      "INFO:gluonts.trainer:End model training\n",
      "INFO:alpha_automl.automl_api:Scored pipeline, score=2.8773987019881787e-13\n",
      "INFO:alpha_automl.automl_api:Found pipeline, time=0:04:03, scoring...\n",
      "INFO:lightning_fabric.utilities.seed:[rank: 0] Global seed set to 1\n"
     ]
    },
    {
     "name": "stderr",
     "output_type": "stream",
     "text": [
      "\n"
     ]
    },
    {
     "name": "stdout",
     "output_type": "stream",
     "text": [
      "Epoch 9: 100%|██████████| 1/1 [00:04<00:00,  4.54s/it, v_num=3.41e+7, train_loss_step=1.120, train_loss_epoch=1.120]\n",
      "Predicting DataLoader 0: 100%|██████████| 1/1 [00:00<00:00, 13.06it/s]\n",
      "INFO:lightning_fabric.utilities.seed:[rank: 0] Global seed set to 1\n",
      "Epoch 9: 100%|██████████| 1/1 [00:04<00:00,  4.64s/it, v_num=3.41e+7, train_loss_step=1.290, train_loss_epoch=1.290]\n",
      "Predicting DataLoader 0: 100%|██████████| 1/1 [00:00<00:00, 18.77it/s]\n",
      "INFO:lightning_fabric.utilities.seed:[rank: 0] Global seed set to 1\n",
      "Epoch 9: 100%|██████████| 1/1 [00:02<00:00,  2.42s/it, v_num=3.41e+7, train_loss_step=1.210, train_loss_epoch=1.210]\n",
      "Predicting DataLoader 0: 100%|██████████| 1/1 [00:00<00:00, 26.28it/s]\n",
      "INFO:alpha_automl.automl_api:Scored pipeline, score=33.41865672031425\n",
      "INFO:alpha_automl.automl_api:Found pipeline, time=0:06:15, scoring...\n",
      "INFO:alpha_automl.automl_api:Scored pipeline, score=0.00010179999999999514\n",
      "INFO:alpha_automl.automl_api:Found pipeline, time=0:06:15, scoring...\n",
      "INFO:alpha_automl.automl_api:Scored pipeline, score=5.297312139299401e-09\n",
      "INFO:alpha_automl.automl_api:Found pipeline, time=0:06:15, scoring...\n",
      "INFO:alpha_automl.automl_api:Found pipeline, time=0:06:15, scoring...\n",
      "INFO:alpha_automl.automl_api:Scored pipeline, score=4.132141756596558e-09\n",
      "INFO:alpha_automl.automl_api:Found pipeline, time=0:06:16, scoring...\n",
      "INFO:alpha_automl.automl_api:Scored pipeline, score=1.4100865013883134e-09\n",
      "INFO:alpha_automl.automl_api:Found pipeline, time=0:06:16, scoring...\n",
      "INFO:alpha_automl.automl_api:Scored pipeline, score=8.822620363991795e-28\n",
      "INFO:alpha_automl.automl_api:Found pipeline, time=0:06:16, scoring...\n",
      "INFO:alpha_automl.automl_api:Scored pipeline, score=0.003703893868297141\n",
      "INFO:alpha_automl.automl_api:Found pipeline, time=0:06:16, scoring...\n",
      "INFO:alpha_automl.automl_api:Scored pipeline, score=9.303333333333372e-05\n",
      "INFO:alpha_automl.automl_api:Found pipeline, time=0:06:16, scoring...\n",
      "INFO:alpha_automl.automl_api:Scored pipeline, score=0.0008175715403210253\n",
      "INFO:alpha_automl.automl_api:Found pipeline, time=0:06:16, scoring...\n",
      "INFO:alpha_automl.automl_api:Scored pipeline, score=9.045605046534269e-29\n",
      "INFO:alpha_automl.automl_api:Found pipeline, time=0:06:16, scoring...\n",
      "INFO:alpha_automl.automl_api:Found pipeline, time=0:06:16, scoring...\n",
      "INFO:alpha_automl.automl_api:Scored pipeline, score=5.658762226785391e-29\n",
      "INFO:alpha_automl.automl_api:Found pipeline, time=0:06:17, scoring...\n",
      "INFO:alpha_automl.automl_api:Scored pipeline, score=7.78342759818065e-29\n",
      "INFO:alpha_automl.automl_api:Found pipeline, time=0:06:17, scoring...\n",
      "INFO:alpha_automl.automl_api:Found pipeline, time=0:06:17, scoring...\n",
      "INFO:alpha_automl.automl_api:Found pipeline, time=0:06:17, scoring...\n",
      "INFO:alpha_automl.automl_api:Found pipeline, time=0:06:17, scoring...\n",
      "INFO:alpha_automl.automl_api:Scored pipeline, score=1.7443292336247015e-27\n",
      "INFO:alpha_automl.automl_api:Found pipeline, time=0:06:17, scoring...\n",
      "INFO:alpha_automl.automl_api:Scored pipeline, score=1.431309226433004e-27\n",
      "INFO:alpha_automl.automl_api:Found pipeline, time=0:06:17, scoring...\n",
      "INFO:alpha_automl.automl_api:Found pipeline, time=0:06:18, scoring...\n",
      "INFO:alpha_automl.automl_api:Scored pipeline, score=0.0009436870415506527\n",
      "INFO:alpha_automl.automl_api:Found pipeline, time=0:06:18, scoring...\n",
      "INFO:alpha_automl.automl_api:Scored pipeline, score=0.001060033340573125\n",
      "INFO:alpha_automl.automl_api:Found pipeline, time=0:06:18, scoring...\n",
      "INFO:alpha_automl.automl_api:Scored pipeline, score=3.464342333334002e-05\n",
      "INFO:alpha_automl.automl_api:Found pipeline, time=0:06:19, scoring...\n",
      "INFO:alpha_automl.automl_api:Found pipeline, time=0:06:19, scoring...\n",
      "INFO:alpha_automl.automl_api:Scored pipeline, score=4.913796833519264e-05\n",
      "INFO:alpha_automl.automl_api:Found pipeline, time=0:06:19, scoring...\n",
      "INFO:alpha_automl.automl_api:Scored pipeline, score=0.00045015\n",
      "INFO:alpha_automl.automl_api:Found pipeline, time=0:06:20, scoring...\n",
      "INFO:alpha_automl.automl_api:Scored pipeline, score=1.5205030994499927e-27\n",
      "INFO:alpha_automl.automl_api:Found pipeline, time=0:06:20, scoring...\n",
      "INFO:alpha_automl.automl_api:Found pipeline, time=0:06:20, scoring...\n",
      "INFO:alpha_automl.automl_api:Scored pipeline, score=3.3973609651518243e-28\n",
      "INFO:alpha_automl.automl_api:Found pipeline, time=0:06:20, scoring...\n",
      "INFO:alpha_automl.automl_api:Scored pipeline, score=1.5873985042127345e-27\n",
      "INFO:alpha_automl.automl_api:Found pipeline, time=0:06:20, scoring...\n",
      "INFO:alpha_automl.automl_api:Found pipeline, time=0:06:20, scoring...\n",
      "INFO:alpha_automl.automl_api:Found pipeline, time=0:06:20, scoring...\n",
      "INFO:alpha_automl.automl_api:Scored pipeline, score=8.301022373422514e-06\n",
      "INFO:alpha_automl.automl_api:Found pipeline, time=0:06:20, scoring...\n",
      "INFO:alpha_automl.automl_api:Scored pipeline, score=8.255000000000034e-05\n",
      "INFO:alpha_automl.automl_api:Found pipeline, time=0:06:20, scoring...\n",
      "INFO:alpha_automl.automl_api:Scored pipeline, score=6.268333333333105e-05\n",
      "INFO:alpha_automl.automl_api:Found pipeline, time=0:06:21, scoring...\n",
      "INFO:alpha_automl.automl_api:Found pipeline, time=0:06:21, scoring...\n",
      "INFO:alpha_automl.automl_api:Scored pipeline, score=0.000772454317129534\n",
      "INFO:alpha_automl.automl_api:Found pipeline, time=0:06:22, scoring...\n",
      "INFO:alpha_automl.automl_api:Scored pipeline, score=0.0005270638259865953\n",
      "INFO:alpha_automl.automl_api:Found pipeline, time=0:06:23, scoring...\n",
      "INFO:alpha_automl.automl_api:Scored pipeline, score=9.071293027615155e-07\n",
      "INFO:alpha_automl.automl_api:Found pipeline, time=0:06:23, scoring...\n",
      "INFO:alpha_automl.automl_api:Found pipeline, time=0:06:23, scoring...\n",
      "INFO:alpha_automl.automl_api:Scored pipeline, score=0.08647436897007428\n",
      "INFO:alpha_automl.automl_api:Found pipeline, time=0:06:24, scoring...\n",
      "INFO:alpha_automl.automl_api:Scored pipeline, score=0.0008175715403210253\n",
      "INFO:alpha_automl.automl_api:Found pipeline, time=0:06:24, scoring...\n",
      "INFO:alpha_automl.automl_api:Scored pipeline, score=0.01052535455610662\n",
      "INFO:alpha_automl.automl_api:Found pipeline, time=0:06:24, scoring...\n",
      "INFO:alpha_automl.automl_api:Scored pipeline, score=60.75906699477397\n",
      "INFO:alpha_automl.automl_api:Found pipeline, time=0:06:24, scoring...\n",
      "INFO:alpha_automl.automl_api:Found pipeline, time=0:06:25, scoring...\n",
      "INFO:alpha_automl.automl_api:Found pipeline, time=0:06:26, scoring...\n",
      "INFO:alpha_automl.automl_api:Scored pipeline, score=2.2554468953447483e-22\n",
      "INFO:alpha_automl.automl_api:Found pipeline, time=0:06:26, scoring...\n",
      "INFO:alpha_automl.automl_api:Scored pipeline, score=3.971849833333691e-05\n",
      "INFO:alpha_automl.automl_api:Found pipeline, time=0:06:28, scoring...\n",
      "INFO:alpha_automl.automl_api:Scored pipeline, score=1.7691520567756557e-28\n",
      "INFO:alpha_automl.automl_api:Found pipeline, time=0:06:28, scoring...\n",
      "INFO:alpha_automl.automl_api:Found pipeline, time=0:06:28, scoring...\n",
      "INFO:alpha_automl.automl_api:Found pipeline, time=0:06:28, scoring...\n",
      "INFO:alpha_automl.automl_api:Scored pipeline, score=0.002280755204452326\n",
      "INFO:alpha_automl.automl_api:Found pipeline, time=0:06:28, scoring...\n",
      "INFO:alpha_automl.automl_api:Scored pipeline, score=4.43865736004356e-29\n",
      "INFO:alpha_automl.automl_api:Found pipeline, time=0:06:30, scoring...\n",
      "INFO:alpha_automl.automl_api:Found pipeline, time=0:06:30, scoring...\n",
      "INFO:alpha_automl.automl_api:Found pipeline, time=0:06:31, scoring...\n",
      "INFO:alpha_automl.automl_api:Found pipeline, time=0:06:31, scoring...\n",
      "INFO:alpha_automl.automl_api:Scored pipeline, score=1.39149593630567e-11\n",
      "INFO:alpha_automl.automl_api:Found pipeline, time=0:06:35, scoring...\n",
      "INFO:alpha_automl.automl_api:Found pipeline, time=0:06:35, scoring...\n",
      "INFO:alpha_automl.automl_api:Scored pipeline, score=3.7424217856595536e-05\n",
      "INFO:alpha_automl.automl_api:Found pipeline, time=0:06:35, scoring...\n",
      "INFO:alpha_automl.automl_api:Scored pipeline, score=0.19040738533333426\n",
      "INFO:alpha_automl.automl_api:Found pipeline, time=0:06:35, scoring...\n",
      "INFO:alpha_automl.automl_api:Scored pipeline, score=101.2680674100721\n",
      "INFO:alpha_automl.automl_api:Found pipeline, time=0:06:35, scoring...\n",
      "INFO:alpha_automl.automl_api:Scored pipeline, score=9.045605046534269e-29\n",
      "INFO:alpha_automl.automl_api:Found pipeline, time=0:06:35, scoring...\n",
      "INFO:alpha_automl.automl_api:Scored pipeline, score=0.0043571002711287506\n",
      "INFO:alpha_automl.automl_api:Found pipeline, time=0:06:36, scoring...\n",
      "INFO:alpha_automl.automl_api:Found pipeline, time=0:06:38, scoring...\n",
      "INFO:alpha_automl.automl_api:Found pipeline, time=0:06:40, scoring...\n",
      "INFO:alpha_automl.automl_api:Scored pipeline, score=0.0009137011139623983\n",
      "INFO:alpha_automl.automl_api:Found pipeline, time=0:06:40, scoring...\n",
      "INFO:alpha_automl.automl_api:Scored pipeline, score=1.1295568876856672e-24\n",
      "INFO:alpha_automl.automl_api:Found pipeline, time=0:06:40, scoring...\n",
      "INFO:alpha_automl.automl_api:Found pipeline, time=0:06:40, scoring...\n",
      "INFO:alpha_automl.automl_api:Found pipeline, time=0:06:40, scoring...\n",
      "INFO:alpha_automl.automl_api:Found pipeline, time=0:06:40, scoring...\n",
      "INFO:alpha_automl.automl_api:Found pipeline, time=0:06:40, scoring...\n",
      "INFO:alpha_automl.automl_api:Scored pipeline, score=0.00011329371364164862\n",
      "INFO:alpha_automl.automl_api:Found pipeline, time=0:06:40, scoring...\n",
      "INFO:alpha_automl.automl_api:Scored pipeline, score=5.5443248048013304e-27\n",
      "INFO:alpha_automl.automl_api:Found pipeline, time=0:06:40, scoring...\n",
      "INFO:alpha_automl.automl_api:Found pipeline, time=0:06:40, scoring...\n",
      "INFO:alpha_automl.automl_api:Found pipeline, time=0:06:41, scoring...\n",
      "INFO:alpha_automl.automl_api:Found pipeline, time=0:06:41, scoring...\n",
      "INFO:alpha_automl.automl_api:Scored pipeline, score=1.340250591665196e-05\n",
      "INFO:alpha_automl.automl_api:Found pipeline, time=0:06:41, scoring...\n",
      "INFO:alpha_automl.automl_api:Found pipeline, time=0:06:41, scoring...\n",
      "INFO:alpha_automl.automl_api:Scored pipeline, score=1.2474731458642106e-05\n",
      "INFO:alpha_automl.automl_api:Found pipeline, time=0:06:42, scoring...\n",
      "INFO:alpha_automl.automl_api:Found pipeline, time=0:06:42, scoring...\n",
      "INFO:alpha_automl.automl_api:Scored pipeline, score=9.070979114514607e-07\n",
      "INFO:alpha_automl.automl_api:Found pipeline, time=0:06:42, scoring...\n",
      "INFO:alpha_automl.automl_api:Scored pipeline, score=0.0037386259913933548\n",
      "INFO:alpha_automl.automl_api:Found pipeline, time=0:06:42, scoring...\n",
      "INFO:alpha_automl.automl_api:Found pipeline, time=0:06:42, scoring...\n",
      "INFO:alpha_automl.automl_api:Scored pipeline, score=0.00017513333333333498\n",
      "INFO:alpha_automl.automl_api:Found pipeline, time=0:06:43, scoring...\n",
      "INFO:alpha_automl.automl_api:Found pipeline, time=0:06:43, scoring...\n",
      "INFO:alpha_automl.automl_api:Found pipeline, time=0:06:43, scoring...\n",
      "INFO:alpha_automl.automl_api:Found pipeline, time=0:06:43, scoring...\n",
      "INFO:alpha_automl.automl_api:Found pipeline, time=0:06:43, scoring...\n",
      "INFO:alpha_automl.automl_api:Scored pipeline, score=0.00026996666666666286\n",
      "INFO:alpha_automl.automl_api:Found pipeline, time=0:06:43, scoring...\n",
      "INFO:alpha_automl.automl_api:Found pipeline, time=0:06:44, scoring...\n",
      "INFO:alpha_automl.automl_api:Scored pipeline, score=0.043124040413884075\n",
      "INFO:alpha_automl.automl_api:Found pipeline, time=0:06:45, scoring...\n",
      "INFO:alpha_automl.automl_api:Scored pipeline, score=1.7039395552773853e-29\n",
      "INFO:alpha_automl.automl_api:Found pipeline, time=0:06:45, scoring...\n",
      "INFO:alpha_automl.automl_api:Found pipeline, time=0:06:45, scoring...\n",
      "INFO:alpha_automl.automl_api:Scored pipeline, score=5.8699999999996744e-05\n",
      "INFO:alpha_automl.automl_api:Found pipeline, time=0:06:46, scoring...\n",
      "INFO:alpha_automl.automl_api:Scored pipeline, score=0.00024591666666665693\n",
      "INFO:alpha_automl.automl_api:Found pipeline, time=0:06:46, scoring...\n",
      "INFO:alpha_automl.automl_api:Scored pipeline, score=0.027805411981188934\n",
      "INFO:alpha_automl.automl_api:Found pipeline, time=0:06:47, scoring...\n",
      "INFO:alpha_automl.automl_api:Scored pipeline, score=1.3186668333328869e-05\n",
      "INFO:alpha_automl.automl_api:Found pipeline, time=0:06:48, scoring...\n",
      "INFO:alpha_automl.automl_api:Scored pipeline, score=0.0038118078843448165\n",
      "INFO:alpha_automl.automl_api:Found pipeline, time=0:06:48, scoring...\n",
      "INFO:alpha_automl.automl_api:Found pipeline, time=0:06:48, scoring...\n",
      "INFO:alpha_automl.automl_api:Scored pipeline, score=0.0010605276167565466\n",
      "INFO:alpha_automl.automl_api:Found pipeline, time=0:06:48, scoring...\n",
      "INFO:alpha_automl.automl_api:Found pipeline, time=0:06:49, scoring...\n",
      "INFO:alpha_automl.automl_api:Found pipeline, time=0:06:49, scoring...\n",
      "INFO:alpha_automl.automl_api:Scored pipeline, score=6.694940602233156e-06\n",
      "INFO:alpha_automl.automl_api:Found pipeline, time=0:06:49, scoring...\n",
      "INFO:alpha_automl.automl_api:Scored pipeline, score=2.3559718483907407e-21\n",
      "INFO:alpha_automl.automl_api:Found pipeline, time=0:06:49, scoring...\n",
      "INFO:alpha_automl.automl_api:Scored pipeline, score=0.0002622833333333283\n",
      "INFO:alpha_automl.automl_api:Found pipeline, time=0:06:50, scoring...\n",
      "INFO:alpha_automl.automl_api:Scored pipeline, score=1.7590181883526516e-07\n",
      "INFO:alpha_automl.automl_api:Found pipeline, time=0:06:50, scoring...\n",
      "INFO:alpha_automl.automl_api:Scored pipeline, score=0.020123157405045937\n",
      "INFO:alpha_automl.automl_api:Found pipeline, time=0:06:51, scoring...\n",
      "INFO:alpha_automl.automl_api:Scored pipeline, score=2.2706213940600447e-06\n",
      "INFO:alpha_automl.automl_api:Found pipeline, time=0:06:51, scoring...\n",
      "INFO:alpha_automl.automl_api:Found pipeline, time=0:06:52, scoring...\n",
      "INFO:alpha_automl.automl_api:Scored pipeline, score=3.9711561273144325e-09\n",
      "INFO:alpha_automl.automl_api:Found pipeline, time=0:06:52, scoring...\n",
      "INFO:alpha_automl.automl_api:Scored pipeline, score=4.132019808749239e-09\n",
      "INFO:alpha_automl.automl_api:Found pipeline, time=0:06:53, scoring...\n",
      "INFO:alpha_automl.automl_api:Found pipeline, time=0:06:53, scoring...\n",
      "INFO:alpha_automl.automl_api:Scored pipeline, score=0.00032773367001364204\n",
      "INFO:alpha_automl.automl_api:Found 73 pipelines\n"
     ]
    }
   ],
   "source": [
    "automl = AutoMLTimeSeries(output_path, time_bound=10, verbose=False, \n",
    "                          date_column=\"Date\", target_column=\"Close\",\n",
    "                          split_strategy_kwargs={'n_splits': 3, 'test_size': 20})\n",
    "automl.fit(X_train, y_train)"
   ]
  },
  {
   "cell_type": "markdown",
   "metadata": {},
   "source": [
    "### Exploring Pipelines"
   ]
  },
  {
   "cell_type": "markdown",
   "metadata": {},
   "source": [
    "After the pipeline search is complete, we can display the leaderboard:"
   ]
  },
  {
   "cell_type": "code",
   "execution_count": 5,
   "metadata": {},
   "outputs": [
    {
     "data": {
      "text/html": [
       "<style type=\"text/css\">\n",
       "</style>\n",
       "<table id=\"T_c29b8\">\n",
       "  <thead>\n",
       "    <tr>\n",
       "      <th id=\"T_c29b8_level0_col0\" class=\"col_heading level0 col0\" >ranking</th>\n",
       "      <th id=\"T_c29b8_level0_col1\" class=\"col_heading level0 col1\" >pipeline</th>\n",
       "      <th id=\"T_c29b8_level0_col2\" class=\"col_heading level0 col2\" >mean_squared_error</th>\n",
       "    </tr>\n",
       "  </thead>\n",
       "  <tbody>\n",
       "    <tr>\n",
       "      <td id=\"T_c29b8_row0_col0\" class=\"data row0 col0\" >1</td>\n",
       "      <td id=\"T_c29b8_row0_col1\" class=\"data row0 col1\" >ColumnTransformer, OrdinalEncoder, RobustScaler, LinearRegression</td>\n",
       "      <td id=\"T_c29b8_row0_col2\" class=\"data row0 col2\" >0.000</td>\n",
       "    </tr>\n",
       "    <tr>\n",
       "      <td id=\"T_c29b8_row1_col0\" class=\"data row1 col0\" >2</td>\n",
       "      <td id=\"T_c29b8_row1_col1\" class=\"data row1 col1\" >ColumnTransformer, OrdinalEncoder, MaxAbsScaler, TheilSenRegressor</td>\n",
       "      <td id=\"T_c29b8_row1_col2\" class=\"data row1 col2\" >0.000</td>\n",
       "    </tr>\n",
       "    <tr>\n",
       "      <td id=\"T_c29b8_row2_col0\" class=\"data row2 col0\" >3</td>\n",
       "      <td id=\"T_c29b8_row2_col1\" class=\"data row2 col1\" >ColumnTransformer, CyclicalFeature, MaxAbsScaler, LinearRegression</td>\n",
       "      <td id=\"T_c29b8_row2_col2\" class=\"data row2 col2\" >0.000</td>\n",
       "    </tr>\n",
       "    <tr>\n",
       "      <td id=\"T_c29b8_row3_col0\" class=\"data row3 col0\" >4</td>\n",
       "      <td id=\"T_c29b8_row3_col1\" class=\"data row3 col1\" >ColumnTransformer, Datetime64ExpandEncoder, MaxAbsScaler, LinearRegression</td>\n",
       "      <td id=\"T_c29b8_row3_col2\" class=\"data row3 col2\" >0.000</td>\n",
       "    </tr>\n",
       "    <tr>\n",
       "      <td id=\"T_c29b8_row4_col0\" class=\"data row4 col0\" >5</td>\n",
       "      <td id=\"T_c29b8_row4_col1\" class=\"data row4 col1\" >ColumnTransformer, OrdinalEncoder, MaxAbsScaler, LinearRegression</td>\n",
       "      <td id=\"T_c29b8_row4_col2\" class=\"data row4 col2\" >0.000</td>\n",
       "    </tr>\n",
       "    <tr>\n",
       "      <td id=\"T_c29b8_row5_col0\" class=\"data row5 col0\" >6</td>\n",
       "      <td id=\"T_c29b8_row5_col1\" class=\"data row5 col1\" >ColumnTransformer, OrdinalEncoder, MaxAbsScaler, RANSACRegressor</td>\n",
       "      <td id=\"T_c29b8_row5_col2\" class=\"data row5 col2\" >0.000</td>\n",
       "    </tr>\n",
       "    <tr>\n",
       "      <td id=\"T_c29b8_row6_col0\" class=\"data row6 col0\" >7</td>\n",
       "      <td id=\"T_c29b8_row6_col1\" class=\"data row6 col1\" >ColumnTransformer, OrdinalEncoder, MaxAbsScaler, Lars</td>\n",
       "      <td id=\"T_c29b8_row6_col2\" class=\"data row6 col2\" >0.000</td>\n",
       "    </tr>\n",
       "    <tr>\n",
       "      <td id=\"T_c29b8_row7_col0\" class=\"data row7 col0\" >8</td>\n",
       "      <td id=\"T_c29b8_row7_col1\" class=\"data row7 col1\" >ColumnTransformer, OrdinalEncoder, ARDRegression</td>\n",
       "      <td id=\"T_c29b8_row7_col2\" class=\"data row7 col2\" >0.000</td>\n",
       "    </tr>\n",
       "    <tr>\n",
       "      <td id=\"T_c29b8_row8_col0\" class=\"data row8 col0\" >9</td>\n",
       "      <td id=\"T_c29b8_row8_col1\" class=\"data row8 col1\" >ColumnTransformer, OrdinalEncoder, MaxAbsScaler, ARDRegression</td>\n",
       "      <td id=\"T_c29b8_row8_col2\" class=\"data row8 col2\" >0.000</td>\n",
       "    </tr>\n",
       "    <tr>\n",
       "      <td id=\"T_c29b8_row9_col0\" class=\"data row9 col0\" >10</td>\n",
       "      <td id=\"T_c29b8_row9_col1\" class=\"data row9 col1\" >ColumnTransformer, Datetime64ExpandEncoder, MaxAbsScaler, ARDRegression</td>\n",
       "      <td id=\"T_c29b8_row9_col2\" class=\"data row9 col2\" >0.000</td>\n",
       "    </tr>\n",
       "    <tr>\n",
       "      <td id=\"T_c29b8_row10_col0\" class=\"data row10 col0\" >11</td>\n",
       "      <td id=\"T_c29b8_row10_col1\" class=\"data row10 col1\" >ColumnTransformer, OrdinalEncoder, RobustScaler, ARDRegression</td>\n",
       "      <td id=\"T_c29b8_row10_col2\" class=\"data row10 col2\" >0.000</td>\n",
       "    </tr>\n",
       "    <tr>\n",
       "      <td id=\"T_c29b8_row11_col0\" class=\"data row11 col0\" >12</td>\n",
       "      <td id=\"T_c29b8_row11_col1\" class=\"data row11 col1\" >ColumnTransformer, OrdinalEncoder, StandardScaler, ARDRegression</td>\n",
       "      <td id=\"T_c29b8_row11_col2\" class=\"data row11 col2\" >0.000</td>\n",
       "    </tr>\n",
       "    <tr>\n",
       "      <td id=\"T_c29b8_row12_col0\" class=\"data row12 col0\" >13</td>\n",
       "      <td id=\"T_c29b8_row12_col1\" class=\"data row12 col1\" >ColumnTransformer, CyclicalFeature, MaxAbsScaler, ARDRegression</td>\n",
       "      <td id=\"T_c29b8_row12_col2\" class=\"data row12 col2\" >0.000</td>\n",
       "    </tr>\n",
       "    <tr>\n",
       "      <td id=\"T_c29b8_row13_col0\" class=\"data row13 col0\" >14</td>\n",
       "      <td id=\"T_c29b8_row13_col1\" class=\"data row13 col1\" >ColumnTransformer, OrdinalEncoder, MaxAbsScaler, BayesianRidge</td>\n",
       "      <td id=\"T_c29b8_row13_col2\" class=\"data row13 col2\" >0.000</td>\n",
       "    </tr>\n",
       "    <tr>\n",
       "      <td id=\"T_c29b8_row14_col0\" class=\"data row14 col0\" >15</td>\n",
       "      <td id=\"T_c29b8_row14_col1\" class=\"data row14 col1\" >ColumnTransformer, OrdinalEncoder, MaxAbsScaler, LinearSVR</td>\n",
       "      <td id=\"T_c29b8_row14_col2\" class=\"data row14 col2\" >0.000</td>\n",
       "    </tr>\n",
       "    <tr>\n",
       "      <td id=\"T_c29b8_row15_col0\" class=\"data row15 col0\" >16</td>\n",
       "      <td id=\"T_c29b8_row15_col1\" class=\"data row15 col1\" >ColumnTransformer, OrdinalEncoder, MaxAbsScaler, HuberRegressor</td>\n",
       "      <td id=\"T_c29b8_row15_col2\" class=\"data row15 col2\" >0.000</td>\n",
       "    </tr>\n",
       "    <tr>\n",
       "      <td id=\"T_c29b8_row16_col0\" class=\"data row16 col0\" >17</td>\n",
       "      <td id=\"T_c29b8_row16_col1\" class=\"data row16 col1\" >ColumnTransformer, OrdinalEncoder, RobustScaler, HuberRegressor</td>\n",
       "      <td id=\"T_c29b8_row16_col2\" class=\"data row16 col2\" >0.000</td>\n",
       "    </tr>\n",
       "    <tr>\n",
       "      <td id=\"T_c29b8_row17_col0\" class=\"data row17 col0\" >18</td>\n",
       "      <td id=\"T_c29b8_row17_col1\" class=\"data row17 col1\" >DeeparEstimator</td>\n",
       "      <td id=\"T_c29b8_row17_col2\" class=\"data row17 col2\" >0.000</td>\n",
       "    </tr>\n",
       "    <tr>\n",
       "      <td id=\"T_c29b8_row18_col0\" class=\"data row18 col0\" >19</td>\n",
       "      <td id=\"T_c29b8_row18_col1\" class=\"data row18 col1\" >ColumnTransformer, OrdinalEncoder, MaxAbsScaler, GaussianProcessRegressor</td>\n",
       "      <td id=\"T_c29b8_row18_col2\" class=\"data row18 col2\" >0.000</td>\n",
       "    </tr>\n",
       "    <tr>\n",
       "      <td id=\"T_c29b8_row19_col0\" class=\"data row19 col0\" >20</td>\n",
       "      <td id=\"T_c29b8_row19_col1\" class=\"data row19 col1\" >ColumnTransformer, Datetime64ExpandEncoder, Ridge</td>\n",
       "      <td id=\"T_c29b8_row19_col2\" class=\"data row19 col2\" >0.000</td>\n",
       "    </tr>\n",
       "    <tr>\n",
       "      <td id=\"T_c29b8_row20_col0\" class=\"data row20 col0\" >21</td>\n",
       "      <td id=\"T_c29b8_row20_col1\" class=\"data row20 col1\" >ColumnTransformer, CyclicalFeature, SelectPercentile, Ridge</td>\n",
       "      <td id=\"T_c29b8_row20_col2\" class=\"data row20 col2\" >0.000</td>\n",
       "    </tr>\n",
       "    <tr>\n",
       "      <td id=\"T_c29b8_row21_col0\" class=\"data row21 col0\" >22</td>\n",
       "      <td id=\"T_c29b8_row21_col1\" class=\"data row21 col1\" >ColumnTransformer, CyclicalFeature, SelectKBest, Ridge</td>\n",
       "      <td id=\"T_c29b8_row21_col2\" class=\"data row21 col2\" >0.000</td>\n",
       "    </tr>\n",
       "    <tr>\n",
       "      <td id=\"T_c29b8_row22_col0\" class=\"data row22 col0\" >23</td>\n",
       "      <td id=\"T_c29b8_row22_col1\" class=\"data row22 col1\" >ColumnTransformer, CyclicalFeature, Ridge</td>\n",
       "      <td id=\"T_c29b8_row22_col2\" class=\"data row22 col2\" >0.000</td>\n",
       "    </tr>\n",
       "    <tr>\n",
       "      <td id=\"T_c29b8_row23_col0\" class=\"data row23 col0\" >24</td>\n",
       "      <td id=\"T_c29b8_row23_col1\" class=\"data row23 col1\" >ColumnTransformer, OrdinalEncoder, Ridge</td>\n",
       "      <td id=\"T_c29b8_row23_col2\" class=\"data row23 col2\" >0.000</td>\n",
       "    </tr>\n",
       "    <tr>\n",
       "      <td id=\"T_c29b8_row24_col0\" class=\"data row24 col0\" >25</td>\n",
       "      <td id=\"T_c29b8_row24_col1\" class=\"data row24 col1\" >ColumnTransformer, CyclicalFeature, StandardScaler, Ridge</td>\n",
       "      <td id=\"T_c29b8_row24_col2\" class=\"data row24 col2\" >0.000</td>\n",
       "    </tr>\n",
       "    <tr>\n",
       "      <td id=\"T_c29b8_row25_col0\" class=\"data row25 col0\" >26</td>\n",
       "      <td id=\"T_c29b8_row25_col1\" class=\"data row25 col1\" >ColumnTransformer, CyclicalFeature, RobustScaler, SelectKBest, Ridge</td>\n",
       "      <td id=\"T_c29b8_row25_col2\" class=\"data row25 col2\" >0.000</td>\n",
       "    </tr>\n",
       "    <tr>\n",
       "      <td id=\"T_c29b8_row26_col0\" class=\"data row26 col0\" >27</td>\n",
       "      <td id=\"T_c29b8_row26_col1\" class=\"data row26 col1\" >ColumnTransformer, CyclicalFeature, RobustScaler, Ridge</td>\n",
       "      <td id=\"T_c29b8_row26_col2\" class=\"data row26 col2\" >0.000</td>\n",
       "    </tr>\n",
       "    <tr>\n",
       "      <td id=\"T_c29b8_row27_col0\" class=\"data row27 col0\" >28</td>\n",
       "      <td id=\"T_c29b8_row27_col1\" class=\"data row27 col1\" >ColumnTransformer, Datetime64ExpandEncoder, StandardScaler, Ridge</td>\n",
       "      <td id=\"T_c29b8_row27_col2\" class=\"data row27 col2\" >0.000</td>\n",
       "    </tr>\n",
       "    <tr>\n",
       "      <td id=\"T_c29b8_row28_col0\" class=\"data row28 col0\" >29</td>\n",
       "      <td id=\"T_c29b8_row28_col1\" class=\"data row28 col1\" >ColumnTransformer, OrdinalEncoder, RobustScaler, SGDRegressor</td>\n",
       "      <td id=\"T_c29b8_row28_col2\" class=\"data row28 col2\" >0.000</td>\n",
       "    </tr>\n",
       "    <tr>\n",
       "      <td id=\"T_c29b8_row29_col0\" class=\"data row29 col0\" >30</td>\n",
       "      <td id=\"T_c29b8_row29_col1\" class=\"data row29 col1\" >ColumnTransformer, OrdinalEncoder, StandardScaler, Ridge</td>\n",
       "      <td id=\"T_c29b8_row29_col2\" class=\"data row29 col2\" >0.000</td>\n",
       "    </tr>\n",
       "    <tr>\n",
       "      <td id=\"T_c29b8_row30_col0\" class=\"data row30 col0\" >31</td>\n",
       "      <td id=\"T_c29b8_row30_col1\" class=\"data row30 col1\" >ColumnTransformer, CyclicalFeature, RobustScaler, SelectPercentile, Ridge</td>\n",
       "      <td id=\"T_c29b8_row30_col2\" class=\"data row30 col2\" >0.000</td>\n",
       "    </tr>\n",
       "    <tr>\n",
       "      <td id=\"T_c29b8_row31_col0\" class=\"data row31 col0\" >32</td>\n",
       "      <td id=\"T_c29b8_row31_col1\" class=\"data row31 col1\" >ColumnTransformer, OrdinalEncoder, RobustScaler, ExtraTreesRegressor</td>\n",
       "      <td id=\"T_c29b8_row31_col2\" class=\"data row31 col2\" >0.000</td>\n",
       "    </tr>\n",
       "    <tr>\n",
       "      <td id=\"T_c29b8_row32_col0\" class=\"data row32 col0\" >33</td>\n",
       "      <td id=\"T_c29b8_row32_col1\" class=\"data row32 col1\" >ColumnTransformer, Datetime64ExpandEncoder, RobustScaler, Ridge</td>\n",
       "      <td id=\"T_c29b8_row32_col2\" class=\"data row32 col2\" >0.000</td>\n",
       "    </tr>\n",
       "    <tr>\n",
       "      <td id=\"T_c29b8_row33_col0\" class=\"data row33 col0\" >34</td>\n",
       "      <td id=\"T_c29b8_row33_col1\" class=\"data row33 col1\" >ColumnTransformer, OrdinalEncoder, MaxAbsScaler, ExtraTreesRegressor</td>\n",
       "      <td id=\"T_c29b8_row33_col2\" class=\"data row33 col2\" >0.000</td>\n",
       "    </tr>\n",
       "    <tr>\n",
       "      <td id=\"T_c29b8_row34_col0\" class=\"data row34 col0\" >35</td>\n",
       "      <td id=\"T_c29b8_row34_col1\" class=\"data row34 col1\" >ColumnTransformer, OrdinalEncoder, MaxAbsScaler, RidgeCV</td>\n",
       "      <td id=\"T_c29b8_row34_col2\" class=\"data row34 col2\" >0.000</td>\n",
       "    </tr>\n",
       "    <tr>\n",
       "      <td id=\"T_c29b8_row35_col0\" class=\"data row35 col0\" >36</td>\n",
       "      <td id=\"T_c29b8_row35_col1\" class=\"data row35 col1\" >ColumnTransformer, OrdinalEncoder, MaxAbsScaler, RandomForestRegressor</td>\n",
       "      <td id=\"T_c29b8_row35_col2\" class=\"data row35 col2\" >0.000</td>\n",
       "    </tr>\n",
       "    <tr>\n",
       "      <td id=\"T_c29b8_row36_col0\" class=\"data row36 col0\" >37</td>\n",
       "      <td id=\"T_c29b8_row36_col1\" class=\"data row36 col1\" >ColumnTransformer, OrdinalEncoder, RobustScaler, Ridge</td>\n",
       "      <td id=\"T_c29b8_row36_col2\" class=\"data row36 col2\" >0.000</td>\n",
       "    </tr>\n",
       "    <tr>\n",
       "      <td id=\"T_c29b8_row37_col0\" class=\"data row37 col0\" >38</td>\n",
       "      <td id=\"T_c29b8_row37_col1\" class=\"data row37 col1\" >ColumnTransformer, CyclicalFeature, MaxAbsScaler, SelectPercentile, DecisionTreeRegressor</td>\n",
       "      <td id=\"T_c29b8_row37_col2\" class=\"data row37 col2\" >0.000</td>\n",
       "    </tr>\n",
       "    <tr>\n",
       "      <td id=\"T_c29b8_row38_col0\" class=\"data row38 col0\" >39</td>\n",
       "      <td id=\"T_c29b8_row38_col1\" class=\"data row38 col1\" >ColumnTransformer, OrdinalEncoder, StandardScaler, DecisionTreeRegressor</td>\n",
       "      <td id=\"T_c29b8_row38_col2\" class=\"data row38 col2\" >0.000</td>\n",
       "    </tr>\n",
       "    <tr>\n",
       "      <td id=\"T_c29b8_row39_col0\" class=\"data row39 col0\" >40</td>\n",
       "      <td id=\"T_c29b8_row39_col1\" class=\"data row39 col1\" >ColumnTransformer, OrdinalEncoder, DecisionTreeRegressor</td>\n",
       "      <td id=\"T_c29b8_row39_col2\" class=\"data row39 col2\" >0.000</td>\n",
       "    </tr>\n",
       "    <tr>\n",
       "      <td id=\"T_c29b8_row40_col0\" class=\"data row40 col0\" >41</td>\n",
       "      <td id=\"T_c29b8_row40_col1\" class=\"data row40 col1\" >ColumnTransformer, OrdinalEncoder, MaxAbsScaler, DecisionTreeRegressor</td>\n",
       "      <td id=\"T_c29b8_row40_col2\" class=\"data row40 col2\" >0.000</td>\n",
       "    </tr>\n",
       "    <tr>\n",
       "      <td id=\"T_c29b8_row41_col0\" class=\"data row41 col0\" >42</td>\n",
       "      <td id=\"T_c29b8_row41_col1\" class=\"data row41 col1\" >ColumnTransformer, OrdinalEncoder, RobustScaler, DecisionTreeRegressor</td>\n",
       "      <td id=\"T_c29b8_row41_col2\" class=\"data row41 col2\" >0.000</td>\n",
       "    </tr>\n",
       "    <tr>\n",
       "      <td id=\"T_c29b8_row42_col0\" class=\"data row42 col0\" >43</td>\n",
       "      <td id=\"T_c29b8_row42_col1\" class=\"data row42 col1\" >ColumnTransformer, OrdinalEncoder, MaxAbsScaler, LassoCV</td>\n",
       "      <td id=\"T_c29b8_row42_col2\" class=\"data row42 col2\" >0.000</td>\n",
       "    </tr>\n",
       "    <tr>\n",
       "      <td id=\"T_c29b8_row43_col0\" class=\"data row43 col0\" >44</td>\n",
       "      <td id=\"T_c29b8_row43_col1\" class=\"data row43 col1\" >ColumnTransformer, Datetime64ExpandEncoder, MaxAbsScaler, DecisionTreeRegressor</td>\n",
       "      <td id=\"T_c29b8_row43_col2\" class=\"data row43 col2\" >0.000</td>\n",
       "    </tr>\n",
       "    <tr>\n",
       "      <td id=\"T_c29b8_row44_col0\" class=\"data row44 col0\" >45</td>\n",
       "      <td id=\"T_c29b8_row44_col1\" class=\"data row44 col1\" >ColumnTransformer, CyclicalFeature, MaxAbsScaler, SelectKBest, DecisionTreeRegressor</td>\n",
       "      <td id=\"T_c29b8_row44_col2\" class=\"data row44 col2\" >0.000</td>\n",
       "    </tr>\n",
       "    <tr>\n",
       "      <td id=\"T_c29b8_row45_col0\" class=\"data row45 col0\" >46</td>\n",
       "      <td id=\"T_c29b8_row45_col1\" class=\"data row45 col1\" >ColumnTransformer, CyclicalFeature, RobustScaler, DecisionTreeRegressor</td>\n",
       "      <td id=\"T_c29b8_row45_col2\" class=\"data row45 col2\" >0.000</td>\n",
       "    </tr>\n",
       "    <tr>\n",
       "      <td id=\"T_c29b8_row46_col0\" class=\"data row46 col0\" >47</td>\n",
       "      <td id=\"T_c29b8_row46_col1\" class=\"data row46 col1\" >ColumnTransformer, Datetime64ExpandEncoder, RobustScaler, DecisionTreeRegressor</td>\n",
       "      <td id=\"T_c29b8_row46_col2\" class=\"data row46 col2\" >0.000</td>\n",
       "    </tr>\n",
       "    <tr>\n",
       "      <td id=\"T_c29b8_row47_col0\" class=\"data row47 col0\" >48</td>\n",
       "      <td id=\"T_c29b8_row47_col1\" class=\"data row47 col1\" >ColumnTransformer, CyclicalFeature, MaxAbsScaler, SelectPercentile, XGBRegressor</td>\n",
       "      <td id=\"T_c29b8_row47_col2\" class=\"data row47 col2\" >0.000</td>\n",
       "    </tr>\n",
       "    <tr>\n",
       "      <td id=\"T_c29b8_row48_col0\" class=\"data row48 col0\" >49</td>\n",
       "      <td id=\"T_c29b8_row48_col1\" class=\"data row48 col1\" >ColumnTransformer, CyclicalFeature, MaxAbsScaler, DecisionTreeRegressor</td>\n",
       "      <td id=\"T_c29b8_row48_col2\" class=\"data row48 col2\" >0.000</td>\n",
       "    </tr>\n",
       "    <tr>\n",
       "      <td id=\"T_c29b8_row49_col0\" class=\"data row49 col0\" >50</td>\n",
       "      <td id=\"T_c29b8_row49_col1\" class=\"data row49 col1\" >ColumnTransformer, Datetime64ExpandEncoder, MaxAbsScaler, XGBRegressor</td>\n",
       "      <td id=\"T_c29b8_row49_col2\" class=\"data row49 col2\" >0.001</td>\n",
       "    </tr>\n",
       "    <tr>\n",
       "      <td id=\"T_c29b8_row50_col0\" class=\"data row50 col0\" >51</td>\n",
       "      <td id=\"T_c29b8_row50_col1\" class=\"data row50 col1\" >ColumnTransformer, CyclicalFeature, MaxAbsScaler, XGBRegressor</td>\n",
       "      <td id=\"T_c29b8_row50_col2\" class=\"data row50 col2\" >0.001</td>\n",
       "    </tr>\n",
       "    <tr>\n",
       "      <td id=\"T_c29b8_row51_col0\" class=\"data row51 col0\" >52</td>\n",
       "      <td id=\"T_c29b8_row51_col1\" class=\"data row51 col1\" >ColumnTransformer, OrdinalEncoder, MaxAbsScaler, XGBRegressor</td>\n",
       "      <td id=\"T_c29b8_row51_col2\" class=\"data row51 col2\" >0.001</td>\n",
       "    </tr>\n",
       "    <tr>\n",
       "      <td id=\"T_c29b8_row52_col0\" class=\"data row52 col0\" >53</td>\n",
       "      <td id=\"T_c29b8_row52_col1\" class=\"data row52 col1\" >ColumnTransformer, OrdinalEncoder, RobustScaler, XGBRegressor</td>\n",
       "      <td id=\"T_c29b8_row52_col2\" class=\"data row52 col2\" >0.001</td>\n",
       "    </tr>\n",
       "    <tr>\n",
       "      <td id=\"T_c29b8_row53_col0\" class=\"data row53 col0\" >54</td>\n",
       "      <td id=\"T_c29b8_row53_col1\" class=\"data row53 col1\" >ColumnTransformer, OrdinalEncoder, MaxAbsScaler, LGBMRegressor</td>\n",
       "      <td id=\"T_c29b8_row53_col2\" class=\"data row53 col2\" >0.001</td>\n",
       "    </tr>\n",
       "    <tr>\n",
       "      <td id=\"T_c29b8_row54_col0\" class=\"data row54 col0\" >55</td>\n",
       "      <td id=\"T_c29b8_row54_col1\" class=\"data row54 col1\" >ColumnTransformer, CyclicalFeature, MaxAbsScaler, SelectPercentile, Ridge</td>\n",
       "      <td id=\"T_c29b8_row54_col2\" class=\"data row54 col2\" >0.001</td>\n",
       "    </tr>\n",
       "    <tr>\n",
       "      <td id=\"T_c29b8_row55_col0\" class=\"data row55 col0\" >56</td>\n",
       "      <td id=\"T_c29b8_row55_col1\" class=\"data row55 col1\" >ColumnTransformer, CyclicalFeature, MaxAbsScaler, Ridge</td>\n",
       "      <td id=\"T_c29b8_row55_col2\" class=\"data row55 col2\" >0.001</td>\n",
       "    </tr>\n",
       "    <tr>\n",
       "      <td id=\"T_c29b8_row56_col0\" class=\"data row56 col0\" >57</td>\n",
       "      <td id=\"T_c29b8_row56_col1\" class=\"data row56 col1\" >ColumnTransformer, CyclicalFeature, MaxAbsScaler, SelectKBest, Ridge</td>\n",
       "      <td id=\"T_c29b8_row56_col2\" class=\"data row56 col2\" >0.001</td>\n",
       "    </tr>\n",
       "    <tr>\n",
       "      <td id=\"T_c29b8_row57_col0\" class=\"data row57 col0\" >58</td>\n",
       "      <td id=\"T_c29b8_row57_col1\" class=\"data row57 col1\" >ColumnTransformer, OrdinalEncoder, MaxAbsScaler, PassiveAggressiveRegressor</td>\n",
       "      <td id=\"T_c29b8_row57_col2\" class=\"data row57 col2\" >0.002</td>\n",
       "    </tr>\n",
       "    <tr>\n",
       "      <td id=\"T_c29b8_row58_col0\" class=\"data row58 col0\" >59</td>\n",
       "      <td id=\"T_c29b8_row58_col1\" class=\"data row58 col1\" >ColumnTransformer, OrdinalEncoder, MaxAbsScaler, Ridge</td>\n",
       "      <td id=\"T_c29b8_row58_col2\" class=\"data row58 col2\" >0.004</td>\n",
       "    </tr>\n",
       "    <tr>\n",
       "      <td id=\"T_c29b8_row59_col0\" class=\"data row59 col0\" >60</td>\n",
       "      <td id=\"T_c29b8_row59_col1\" class=\"data row59 col1\" >ColumnTransformer, Datetime64ExpandEncoder, MaxAbsScaler, Ridge</td>\n",
       "      <td id=\"T_c29b8_row59_col2\" class=\"data row59 col2\" >0.004</td>\n",
       "    </tr>\n",
       "    <tr>\n",
       "      <td id=\"T_c29b8_row60_col0\" class=\"data row60 col0\" >61</td>\n",
       "      <td id=\"T_c29b8_row60_col1\" class=\"data row60 col1\" >ColumnTransformer, OrdinalEncoder, RobustScaler, PassiveAggressiveRegressor</td>\n",
       "      <td id=\"T_c29b8_row60_col2\" class=\"data row60 col2\" >0.004</td>\n",
       "    </tr>\n",
       "    <tr>\n",
       "      <td id=\"T_c29b8_row61_col0\" class=\"data row61 col0\" >62</td>\n",
       "      <td id=\"T_c29b8_row61_col1\" class=\"data row61 col1\" >ColumnTransformer, OrdinalEncoder, MaxAbsScaler, GradientBoostingRegressor</td>\n",
       "      <td id=\"T_c29b8_row61_col2\" class=\"data row61 col2\" >0.004</td>\n",
       "    </tr>\n",
       "    <tr>\n",
       "      <td id=\"T_c29b8_row62_col0\" class=\"data row62 col0\" >63</td>\n",
       "      <td id=\"T_c29b8_row62_col1\" class=\"data row62 col1\" >ColumnTransformer, OrdinalEncoder, MaxAbsScaler, SGDRegressor</td>\n",
       "      <td id=\"T_c29b8_row62_col2\" class=\"data row62 col2\" >0.011</td>\n",
       "    </tr>\n",
       "    <tr>\n",
       "      <td id=\"T_c29b8_row63_col0\" class=\"data row63 col0\" >64</td>\n",
       "      <td id=\"T_c29b8_row63_col1\" class=\"data row63 col1\" >ColumnTransformer, CyclicalFeature, MaxAbsScaler, SVR</td>\n",
       "      <td id=\"T_c29b8_row63_col2\" class=\"data row63 col2\" >0.020</td>\n",
       "    </tr>\n",
       "    <tr>\n",
       "      <td id=\"T_c29b8_row64_col0\" class=\"data row64 col0\" >65</td>\n",
       "      <td id=\"T_c29b8_row64_col1\" class=\"data row64 col1\" >ColumnTransformer, OrdinalEncoder, RobustScaler, SVR</td>\n",
       "      <td id=\"T_c29b8_row64_col2\" class=\"data row64 col2\" >0.028</td>\n",
       "    </tr>\n",
       "    <tr>\n",
       "      <td id=\"T_c29b8_row65_col0\" class=\"data row65 col0\" >66</td>\n",
       "      <td id=\"T_c29b8_row65_col1\" class=\"data row65 col1\" >ColumnTransformer, Datetime64ExpandEncoder, MaxAbsScaler, SVR</td>\n",
       "      <td id=\"T_c29b8_row65_col2\" class=\"data row65 col2\" >0.043</td>\n",
       "    </tr>\n",
       "    <tr>\n",
       "      <td id=\"T_c29b8_row66_col0\" class=\"data row66 col0\" >67</td>\n",
       "      <td id=\"T_c29b8_row66_col1\" class=\"data row66 col1\" >ColumnTransformer, OrdinalEncoder, MaxAbsScaler, SVR</td>\n",
       "      <td id=\"T_c29b8_row66_col2\" class=\"data row66 col2\" >0.086</td>\n",
       "    </tr>\n",
       "    <tr>\n",
       "      <td id=\"T_c29b8_row67_col0\" class=\"data row67 col0\" >68</td>\n",
       "      <td id=\"T_c29b8_row67_col1\" class=\"data row67 col1\" >ColumnTransformer, OrdinalEncoder, MaxAbsScaler, KNeighborsRegressor</td>\n",
       "      <td id=\"T_c29b8_row67_col2\" class=\"data row67 col2\" >0.190</td>\n",
       "    </tr>\n",
       "    <tr>\n",
       "      <td id=\"T_c29b8_row68_col0\" class=\"data row68 col0\" >69</td>\n",
       "      <td id=\"T_c29b8_row68_col1\" class=\"data row68 col1\" >ArimaEstimator</td>\n",
       "      <td id=\"T_c29b8_row68_col2\" class=\"data row68 col2\" >0.192</td>\n",
       "    </tr>\n",
       "    <tr>\n",
       "      <td id=\"T_c29b8_row69_col0\" class=\"data row69 col0\" >70</td>\n",
       "      <td id=\"T_c29b8_row69_col1\" class=\"data row69 col1\" >NHITSEstimator</td>\n",
       "      <td id=\"T_c29b8_row69_col2\" class=\"data row69 col2\" >1.730</td>\n",
       "    </tr>\n",
       "    <tr>\n",
       "      <td id=\"T_c29b8_row70_col0\" class=\"data row70 col0\" >71</td>\n",
       "      <td id=\"T_c29b8_row70_col1\" class=\"data row70 col1\" >NBEATSEstimator</td>\n",
       "      <td id=\"T_c29b8_row70_col2\" class=\"data row70 col2\" >33.419</td>\n",
       "    </tr>\n",
       "    <tr>\n",
       "      <td id=\"T_c29b8_row71_col0\" class=\"data row71 col0\" >72</td>\n",
       "      <td id=\"T_c29b8_row71_col1\" class=\"data row71 col1\" >ColumnTransformer, OrdinalEncoder, MaxAbsScaler, Lasso</td>\n",
       "      <td id=\"T_c29b8_row71_col2\" class=\"data row71 col2\" >60.759</td>\n",
       "    </tr>\n",
       "    <tr>\n",
       "      <td id=\"T_c29b8_row72_col0\" class=\"data row72 col0\" >73</td>\n",
       "      <td id=\"T_c29b8_row72_col1\" class=\"data row72 col1\" >ColumnTransformer, OrdinalEncoder, MaxAbsScaler, ElasticNet</td>\n",
       "      <td id=\"T_c29b8_row72_col2\" class=\"data row72 col2\" >101.268</td>\n",
       "    </tr>\n",
       "  </tbody>\n",
       "</table>\n"
      ],
      "text/plain": [
       "<pandas.io.formats.style.Styler at 0x148e4569ef80>"
      ]
     },
     "execution_count": 5,
     "metadata": {},
     "output_type": "execute_result"
    }
   ],
   "source": [
    "automl.plot_leaderboard()"
   ]
  },
  {
   "cell_type": "markdown",
   "metadata": {},
   "source": [
    "In order to explore the produced pipelines, we can use [PipelineProfiler](https://github.com/VIDA-NYU/PipelineVis). PipelineProfiler is a visualization that enables users to compare and explore the pipelines generated by the AlphaAutoML system.\n",
    "\n",
    "After the pipeline search process is completed, we can use PipelineProfiler with:"
   ]
  },
  {
   "cell_type": "code",
   "execution_count": null,
   "metadata": {},
   "outputs": [],
   "source": [
    "automl.plot_comparison_pipelines()"
   ]
  },
  {
   "cell_type": "markdown",
   "metadata": {},
   "source": [
    "For more information about how to use PipelineProfiler, click [here](https://towardsdatascience.com/exploring-auto-sklearn-models-with-pipelineprofiler-5b2c54136044). There is also a video demo available [here](https://www.youtube.com/watch?v=2WSYoaxLLJ8)."
   ]
  },
  {
   "cell_type": "markdown",
   "metadata": {},
   "source": [
    "### Testing Pipelines"
   ]
  },
  {
   "cell_type": "markdown",
   "metadata": {},
   "source": [
    "Pipeline predictions are accessed with:"
   ]
  },
  {
   "cell_type": "code",
   "execution_count": 6,
   "metadata": {
    "scrolled": true
   },
   "outputs": [
    {
     "data": {
      "text/plain": [
       "array([[24.33 ],\n",
       "       [24.065],\n",
       "       [23.89 ],\n",
       "       [23.88 ],\n",
       "       [23.96 ],\n",
       "       [23.85 ],\n",
       "       [23.79 ],\n",
       "       [24.57 ],\n",
       "       [24.7  ],\n",
       "       [24.36 ],\n",
       "       [24.85 ],\n",
       "       [23.13 ],\n",
       "       [22.72 ],\n",
       "       [22.99 ],\n",
       "       [23.31 ],\n",
       "       [23.41 ],\n",
       "       [23.78 ],\n",
       "       [23.76 ],\n",
       "       [23.83 ],\n",
       "       [23.93 ],\n",
       "       [24.61 ],\n",
       "       [24.86 ],\n",
       "       [25.13 ],\n",
       "       [25.12 ],\n",
       "       [26.09 ],\n",
       "       [26.34 ],\n",
       "       [26.49 ],\n",
       "       [26.5  ],\n",
       "       [26.99 ],\n",
       "       [29.93 ],\n",
       "       [30.49 ],\n",
       "       [30.68 ],\n",
       "       [31.4  ],\n",
       "       [31.31 ],\n",
       "       [31.17 ],\n",
       "       [31.16 ],\n",
       "       [31.25 ],\n",
       "       [30.79 ],\n",
       "       [30.95 ],\n",
       "       [31.06 ],\n",
       "       [31.39 ],\n",
       "       [31.15 ],\n",
       "       [31.11 ],\n",
       "       [31.12 ],\n",
       "       [31.2  ],\n",
       "       [30.89 ],\n",
       "       [31.05 ],\n",
       "       [30.83 ],\n",
       "       [30.61 ],\n",
       "       [30.52 ],\n",
       "       [30.63 ],\n",
       "       [30.62 ],\n",
       "       [30.67 ],\n",
       "       [31.25 ],\n",
       "       [31.34 ],\n",
       "       [31.31 ],\n",
       "       [31.4  ],\n",
       "       [31.77 ],\n",
       "       [32.16 ],\n",
       "       [32.13 ],\n",
       "       [32.28 ],\n",
       "       [32.41 ],\n",
       "       [32.52 ],\n",
       "       [32.7  ],\n",
       "       [31.89 ],\n",
       "       [32.49 ],\n",
       "       [31.91 ],\n",
       "       [31.8  ],\n",
       "       [31.98 ],\n",
       "       [31.77 ],\n",
       "       [31.57 ],\n",
       "       [31.36 ],\n",
       "       [31.97 ],\n",
       "       [32.28 ],\n",
       "       [32.08 ],\n",
       "       [31.67 ],\n",
       "       [31.94 ],\n",
       "       [31.85 ],\n",
       "       [32.3  ],\n",
       "       [32.9  ],\n",
       "       [32.55 ],\n",
       "       [32.56 ],\n",
       "       [32.15 ],\n",
       "       [32.13 ],\n",
       "       [31.62 ],\n",
       "       [31.95 ],\n",
       "       [31.46 ],\n",
       "       [31.5  ],\n",
       "       [31.51 ],\n",
       "       [31.89 ],\n",
       "       [31.81 ],\n",
       "       [31.64 ],\n",
       "       [32.52 ],\n",
       "       [29.02 ],\n",
       "       [29.06 ],\n",
       "       [29.22 ],\n",
       "       [29.05 ],\n",
       "       [28.82 ],\n",
       "       [28.81 ],\n",
       "       [28.6  ],\n",
       "       [28.51 ],\n",
       "       [28.57 ],\n",
       "       [30.01 ],\n",
       "       [29.84 ],\n",
       "       [29.76 ],\n",
       "       [30.01 ],\n",
       "       [31.05 ],\n",
       "       [30.75 ],\n",
       "       [30.25 ],\n",
       "       [30.41 ],\n",
       "       [30.35 ],\n",
       "       [30.29 ],\n",
       "       [30.29 ],\n",
       "       [30.39 ],\n",
       "       [30.72 ],\n",
       "       [30.64 ],\n",
       "       [30.27 ],\n",
       "       [29.99 ],\n",
       "       [30.21 ],\n",
       "       [31.74 ],\n",
       "       [32.51 ],\n",
       "       [32.17 ],\n",
       "       [31.83 ],\n",
       "       [32.18 ],\n",
       "       [31.97 ],\n",
       "       [32.07 ],\n",
       "       [32.03 ],\n",
       "       [32.43 ],\n",
       "       [33.25 ],\n",
       "       [33.12 ],\n",
       "       [33.63 ],\n",
       "       [33.79 ],\n",
       "       [33.63 ],\n",
       "       [34.01 ],\n",
       "       [33.55 ],\n",
       "       [33.76 ],\n",
       "       [33.92 ],\n",
       "       [33.82 ],\n",
       "       [33.6  ],\n",
       "       [34.06 ],\n",
       "       [34.28 ],\n",
       "       [33.9  ],\n",
       "       [34.275],\n",
       "       [33.91 ],\n",
       "       [33.74 ],\n",
       "       [33.64 ],\n",
       "       [33.47 ],\n",
       "       [33.32 ],\n",
       "       [33.18 ],\n",
       "       [33.13 ],\n",
       "       [32.81 ],\n",
       "       [32.86 ],\n",
       "       [32.89 ],\n",
       "       [33.1  ],\n",
       "       [33.7  ],\n",
       "       [33.81 ],\n",
       "       [33.19 ],\n",
       "       [33.53 ],\n",
       "       [33.52 ],\n",
       "       [33.4  ],\n",
       "       [33.43 ],\n",
       "       [33.53 ],\n",
       "       [33.65 ],\n",
       "       [33.7  ],\n",
       "       [33.57 ],\n",
       "       [33.76 ],\n",
       "       [34.14 ],\n",
       "       [33.81 ],\n",
       "       [34.16 ],\n",
       "       [33.91 ],\n",
       "       [34.06 ],\n",
       "       [33.99 ],\n",
       "       [34.27 ],\n",
       "       [34.33 ],\n",
       "       [34.44 ],\n",
       "       [34.02 ],\n",
       "       [33.855],\n",
       "       [32.53 ],\n",
       "       [32.18 ],\n",
       "       [32.05 ],\n",
       "       [32.81 ],\n",
       "       [33.01 ],\n",
       "       [33.06 ],\n",
       "       [33.41 ],\n",
       "       [33.31 ],\n",
       "       [33.51 ],\n",
       "       [33.26 ],\n",
       "       [33.51 ],\n",
       "       [33.5  ],\n",
       "       [33.24 ],\n",
       "       [33.72 ],\n",
       "       [33.88 ],\n",
       "       [34.12 ],\n",
       "       [34.07 ],\n",
       "       [34.18 ],\n",
       "       [34.81 ],\n",
       "       [33.58 ],\n",
       "       [33.73 ],\n",
       "       [33.83 ],\n",
       "       [33.86 ],\n",
       "       [34.61 ],\n",
       "       [34.82 ],\n",
       "       [35.22 ],\n",
       "       [34.9  ],\n",
       "       [34.62 ],\n",
       "       [34.3  ],\n",
       "       [34.79 ],\n",
       "       [35.32 ],\n",
       "       [35.55 ],\n",
       "       [35.47 ],\n",
       "       [35.77 ],\n",
       "       [36.14 ],\n",
       "       [34.94 ],\n",
       "       [34.15 ],\n",
       "       [34.46 ],\n",
       "       [34.5  ],\n",
       "       [34.09 ],\n",
       "       [33.96 ],\n",
       "       [34.9  ],\n",
       "       [34.93 ],\n",
       "       [34.96 ],\n",
       "       [35.12 ],\n",
       "       [35.57 ],\n",
       "       [35.09 ],\n",
       "       [34.91 ],\n",
       "       [35.31 ],\n",
       "       [34.51 ],\n",
       "       [34.92 ],\n",
       "       [34.6  ],\n",
       "       [34.72 ],\n",
       "       [34.03 ],\n",
       "       [34.23 ],\n",
       "       [35.04 ],\n",
       "       [35.19 ],\n",
       "       [36.03 ],\n",
       "       [36.5  ],\n",
       "       [37.08 ],\n",
       "       [37.05 ],\n",
       "       [36.81 ],\n",
       "       [37.08 ],\n",
       "       [37.18 ],\n",
       "       [36.61 ],\n",
       "       [36.38 ],\n",
       "       [36.32 ],\n",
       "       [37.04 ],\n",
       "       [36.17 ],\n",
       "       [35.94 ],\n",
       "       [35.73 ],\n",
       "       [35.91 ],\n",
       "       [35.9  ],\n",
       "       [35.71 ],\n",
       "       [35.62 ],\n",
       "       [36.11 ],\n",
       "       [36.36 ],\n",
       "       [36.08 ],\n",
       "       [34.99 ],\n",
       "       [35.05 ],\n",
       "       [35.2  ],\n",
       "       [35.25 ],\n",
       "       [35.36 ],\n",
       "       [34.85 ],\n",
       "       [34.78 ],\n",
       "       [34.24 ],\n",
       "       [34.81 ],\n",
       "       [34.89 ],\n",
       "       [34.88 ],\n",
       "       [34.68 ],\n",
       "       [34.81 ],\n",
       "       [35.2  ],\n",
       "       [35.69 ],\n",
       "       [36.13 ],\n",
       "       [36.35 ],\n",
       "       [36.09 ],\n",
       "       [36.76 ],\n",
       "       [38.01 ],\n",
       "       [37.79 ],\n",
       "       [38.09 ],\n",
       "       [38.18 ],\n",
       "       [38.27 ],\n",
       "       [38.31 ],\n",
       "       [38.4  ],\n",
       "       [38.39 ],\n",
       "       [38.59 ],\n",
       "       [38.54 ],\n",
       "       [38.25 ],\n",
       "       [38.29 ],\n",
       "       [37.78 ],\n",
       "       [37.85 ],\n",
       "       [38.05 ],\n",
       "       [37.73 ],\n",
       "       [38.46 ]])"
      ]
     },
     "execution_count": 6,
     "metadata": {},
     "output_type": "execute_result"
    }
   ],
   "source": [
    "y_pred = automl.predict(X_test)\n",
    "y_pred"
   ]
  },
  {
   "cell_type": "markdown",
   "metadata": {},
   "source": [
    "The pipeline can be evaluated against a held out dataset with the function call:"
   ]
  },
  {
   "cell_type": "code",
   "execution_count": 7,
   "metadata": {},
   "outputs": [
    {
     "name": "stdout",
     "output_type": "stream",
     "text": [
      "INFO:alpha_automl.automl_api:Metric: mean_squared_error, Score: 1.3176959065629877e-28\n"
     ]
    },
    {
     "data": {
      "text/plain": [
       "{'metric': 'mean_squared_error', 'score': 1.3176959065629877e-28}"
      ]
     },
     "execution_count": 7,
     "metadata": {},
     "output_type": "execute_result"
    }
   ],
   "source": [
    "automl.score(X_test, y_test)"
   ]
  },
  {
   "cell_type": "code",
   "execution_count": null,
   "metadata": {},
   "outputs": [],
   "source": []
  }
 ],
 "metadata": {
  "kernelspec": {
   "display_name": "my_env",
   "language": "python",
   "name": "my_env"
  },
  "language_info": {
   "codemirror_mode": {
    "name": "ipython",
    "version": 3
   },
   "file_extension": ".py",
   "mimetype": "text/x-python",
   "name": "python",
   "nbconvert_exporter": "python",
   "pygments_lexer": "ipython3",
   "version": "3.10.9"
  }
 },
 "nbformat": 4,
 "nbformat_minor": 4
}
