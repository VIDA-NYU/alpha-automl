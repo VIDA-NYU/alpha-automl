{
 "cells": [
  {
   "cell_type": "markdown",
   "metadata": {},
   "source": [
    "## Image Classification Pipeline Solving Selfie Classification Task"
   ]
  },
  {
   "cell_type": "markdown",
   "metadata": {},
   "source": [
    "First, import the class `AutoMLClassifier`\n",
    "\n",
    "In this example, we are generating pipelines for a CSV dataset. The selfie dataset is used for this example.\n",
    "Sample and devide the dataset using _train_test_split_.\n",
    "\n",
    "For this task, we use the Selfie Dataset, a customize dataset for recognizing selfie from various images.  \n",
    "The original image dataset is collected from [Selfie-Image-Detection-Dataset](https://www.kaggle.com/datasets/jigrubhatt/selfieimagedetectiondataset) from Kaggle.  \n",
    "You can download the dataset via the following [google drive link](https://drive.google.com/file/d/1y5d_3LT5jQ4RF7LAKmXjEFu041dH7-Uk/view?usp=drive_link)."
   ]
  },
  {
   "cell_type": "code",
   "execution_count": 1,
   "metadata": {},
   "outputs": [
    {
     "data": {
      "text/html": [
       "<div>\n",
       "<style scoped>\n",
       "    .dataframe tbody tr th:only-of-type {\n",
       "        vertical-align: middle;\n",
       "    }\n",
       "\n",
       "    .dataframe tbody tr th {\n",
       "        vertical-align: top;\n",
       "    }\n",
       "\n",
       "    .dataframe thead th {\n",
       "        text-align: right;\n",
       "    }\n",
       "</style>\n",
       "<table border=\"1\" class=\"dataframe\">\n",
       "  <thead>\n",
       "    <tr style=\"text-align: right;\">\n",
       "      <th></th>\n",
       "      <th>image</th>\n",
       "    </tr>\n",
       "  </thead>\n",
       "  <tbody>\n",
       "    <tr>\n",
       "      <th>1513</th>\n",
       "      <td>/home/yfw215/alpha-automl/examples/datasets/se...</td>\n",
       "    </tr>\n",
       "    <tr>\n",
       "      <th>5341</th>\n",
       "      <td>/home/yfw215/alpha-automl/examples/datasets/se...</td>\n",
       "    </tr>\n",
       "    <tr>\n",
       "      <th>1334</th>\n",
       "      <td>/home/yfw215/alpha-automl/examples/datasets/se...</td>\n",
       "    </tr>\n",
       "    <tr>\n",
       "      <th>3615</th>\n",
       "      <td>/home/yfw215/alpha-automl/examples/datasets/se...</td>\n",
       "    </tr>\n",
       "    <tr>\n",
       "      <th>3783</th>\n",
       "      <td>/home/yfw215/alpha-automl/examples/datasets/se...</td>\n",
       "    </tr>\n",
       "    <tr>\n",
       "      <th>...</th>\n",
       "      <td>...</td>\n",
       "    </tr>\n",
       "    <tr>\n",
       "      <th>6413</th>\n",
       "      <td>/home/yfw215/alpha-automl/examples/datasets/se...</td>\n",
       "    </tr>\n",
       "    <tr>\n",
       "      <th>7205</th>\n",
       "      <td>/home/yfw215/alpha-automl/examples/datasets/se...</td>\n",
       "    </tr>\n",
       "    <tr>\n",
       "      <th>4624</th>\n",
       "      <td>/home/yfw215/alpha-automl/examples/datasets/se...</td>\n",
       "    </tr>\n",
       "    <tr>\n",
       "      <th>3891</th>\n",
       "      <td>/home/yfw215/alpha-automl/examples/datasets/se...</td>\n",
       "    </tr>\n",
       "    <tr>\n",
       "      <th>532</th>\n",
       "      <td>/home/yfw215/alpha-automl/examples/datasets/se...</td>\n",
       "    </tr>\n",
       "  </tbody>\n",
       "</table>\n",
       "<p>800 rows × 1 columns</p>\n",
       "</div>"
      ],
      "text/plain": [
       "                                                  image\n",
       "1513  /home/yfw215/alpha-automl/examples/datasets/se...\n",
       "5341  /home/yfw215/alpha-automl/examples/datasets/se...\n",
       "1334  /home/yfw215/alpha-automl/examples/datasets/se...\n",
       "3615  /home/yfw215/alpha-automl/examples/datasets/se...\n",
       "3783  /home/yfw215/alpha-automl/examples/datasets/se...\n",
       "...                                                 ...\n",
       "6413  /home/yfw215/alpha-automl/examples/datasets/se...\n",
       "7205  /home/yfw215/alpha-automl/examples/datasets/se...\n",
       "4624  /home/yfw215/alpha-automl/examples/datasets/se...\n",
       "3891  /home/yfw215/alpha-automl/examples/datasets/se...\n",
       "532   /home/yfw215/alpha-automl/examples/datasets/se...\n",
       "\n",
       "[800 rows x 1 columns]"
      ]
     },
     "execution_count": 1,
     "metadata": {},
     "output_type": "execute_result"
    }
   ],
   "source": [
    "import os\n",
    "import numpy as np\n",
    "import pandas as pd\n",
    "from sklearn.model_selection import train_test_split\n",
    "\n",
    "from alpha_automl import AutoMLClassifier\n",
    "\n",
    "media_path = os.path.join(os.getcwd(), 'datasets/selfie/')\n",
    "dataset = pd.read_csv('datasets/selfie/learningData.csv').sample(1000)\n",
    "dataset[\"image\"] = dataset[\"image\"].apply(lambda x: os.path.join(media_path, x))\n",
    "X = dataset[[\"image\"]]\n",
    "y = dataset[[\"label\"]]\n",
    "X_train, X_test, y_train, y_test = train_test_split(\n",
    "    X, \n",
    "    y, \n",
    "    test_size=0.2, \n",
    "    shuffle=True,\n",
    "    random_state=42,\n",
    ")\n",
    "X_train"
   ]
  },
  {
   "cell_type": "code",
   "execution_count": 2,
   "metadata": {},
   "outputs": [
    {
     "data": {
      "text/plain": [
       "label\n",
       "0        406\n",
       "1        394\n",
       "dtype: int64"
      ]
     },
     "execution_count": 2,
     "metadata": {},
     "output_type": "execute_result"
    }
   ],
   "source": [
    "y_train.value_counts()"
   ]
  },
  {
   "cell_type": "markdown",
   "metadata": {},
   "source": [
    "### Adding New Primitives into AlphaAutoML's Search Space"
   ]
  },
  {
   "cell_type": "code",
   "execution_count": 3,
   "metadata": {},
   "outputs": [],
   "source": [
    "\n",
    "automl = AutoMLClassifier(time_bound=20)"
   ]
  },
  {
   "cell_type": "code",
   "execution_count": 4,
   "metadata": {},
   "outputs": [
    {
     "name": "stdout",
     "output_type": "stream",
     "text": [
      "DEBUG:h5py._conv:Creating converter from 7 to 5\n",
      "DEBUG:h5py._conv:Creating converter from 5 to 7\n",
      "DEBUG:h5py._conv:Creating converter from 7 to 5\n",
      "DEBUG:h5py._conv:Creating converter from 5 to 7\n",
      "INFO:gluonts.mx.context:Using CPU\n",
      "DEBUG:matplotlib:matplotlib data path: /ext3/miniconda3/lib/python3.10/site-packages/matplotlib/mpl-data\n",
      "DEBUG:matplotlib:CONFIGDIR=/home/yfw215/.config/matplotlib\n",
      "DEBUG:matplotlib:interactive is False\n",
      "DEBUG:matplotlib:platform is linux\n",
      "DEBUG:matplotlib:CACHEDIR=/home/yfw215/.cache/matplotlib\n",
      "DEBUG:matplotlib.font_manager:Using fontManager instance from /home/yfw215/.cache/matplotlib/fontlist-v330.json\n"
     ]
    }
   ],
   "source": [
    "from alpha_automl.wrapper_primitives.huggingface_image import HuggingfaceImageTransformer \n",
    "\n",
    "model_id = 'openai/clip-vit-base-patch32'\n",
    "my_clip_encoder = HuggingfaceImageTransformer(model_id=model_id)\n",
    "automl.add_primitives([(my_clip_encoder, 'IMAGE_ENCODER')])"
   ]
  },
  {
   "cell_type": "code",
   "execution_count": 5,
   "metadata": {
    "scrolled": true
   },
   "outputs": [
    {
     "name": "stdout",
     "output_type": "stream",
     "text": [
      "INFO:alpha_automl.automl_api:Found pipeline, time=0:00:07, scoring...\n",
      "INFO:alpha_automl.automl_api:Scored pipeline, score=0.635\n",
      "INFO:alpha_automl.automl_api:Found pipeline, time=0:00:14, scoring...\n",
      "INFO:alpha_automl.automl_api:Scored pipeline, score=0.51\n",
      "INFO:alpha_automl.automl_api:Found pipeline, time=0:00:21, scoring...\n",
      "INFO:alpha_automl.automl_api:Scored pipeline, score=0.635\n",
      "INFO:alpha_automl.automl_api:Found pipeline, time=0:00:29, scoring...\n",
      "INFO:alpha_automl.automl_api:Scored pipeline, score=0.51\n",
      "INFO:alpha_automl.automl_api:Found pipeline, time=0:00:36, scoring...\n",
      "INFO:alpha_automl.automl_api:Scored pipeline, score=0.49\n",
      "INFO:alpha_automl.automl_api:Found pipeline, time=0:00:44, scoring...\n",
      "INFO:alpha_automl.automl_api:Scored pipeline, score=0.595\n",
      "INFO:alpha_automl.automl_api:Found pipeline, time=0:03:05, scoring...\n",
      "INFO:alpha_automl.automl_api:Scored pipeline, score=0.88\n",
      "INFO:alpha_automl.automl_api:Found pipeline, time=0:03:12, scoring...\n",
      "INFO:alpha_automl.automl_api:Scored pipeline, score=0.63\n",
      "INFO:alpha_automl.automl_api:Found pipeline, time=0:03:21, scoring...\n",
      "INFO:alpha_automl.automl_api:Scored pipeline, score=0.71\n",
      "INFO:alpha_automl.automl_api:Found pipeline, time=0:05:43, scoring...\n",
      "INFO:alpha_automl.automl_api:Scored pipeline, score=0.905\n",
      "INFO:alpha_automl.automl_api:Found pipeline, time=0:05:51, scoring...\n",
      "INFO:alpha_automl.automl_api:Scored pipeline, score=0.595\n",
      "INFO:alpha_automl.automl_api:Found pipeline, time=0:08:13, scoring...\n",
      "INFO:alpha_automl.automl_api:Scored pipeline, score=0.88\n",
      "INFO:alpha_automl.automl_api:Found pipeline, time=0:08:22, scoring...\n",
      "INFO:alpha_automl.automl_api:Scored pipeline, score=0.555\n",
      "INFO:alpha_automl.automl_api:Found pipeline, time=0:08:32, scoring...\n",
      "INFO:alpha_automl.automl_api:Scored pipeline, score=0.695\n",
      "INFO:alpha_automl.automl_api:Found pipeline, time=0:08:40, scoring...\n",
      "INFO:alpha_automl.automl_api:Scored pipeline, score=0.59\n",
      "INFO:alpha_automl.automl_api:Found pipeline, time=0:08:48, scoring...\n",
      "INFO:alpha_automl.automl_api:Scored pipeline, score=0.62\n",
      "INFO:alpha_automl.automl_api:Found pipeline, time=0:08:56, scoring...\n",
      "INFO:alpha_automl.automl_api:Scored pipeline, score=0.695\n",
      "INFO:alpha_automl.automl_api:Found pipeline, time=0:09:04, scoring...\n",
      "INFO:alpha_automl.automl_api:Scored pipeline, score=0.7\n",
      "INFO:alpha_automl.automl_api:Found pipeline, time=0:09:13, scoring...\n",
      "INFO:alpha_automl.automl_api:Scored pipeline, score=0.755\n",
      "INFO:alpha_automl.automl_api:Found pipeline, time=0:09:21, scoring...\n",
      "INFO:alpha_automl.automl_api:Scored pipeline, score=0.785\n",
      "INFO:alpha_automl.automl_api:Found pipeline, time=0:11:44, scoring...\n",
      "INFO:alpha_automl.automl_api:Scored pipeline, score=0.93\n",
      "INFO:alpha_automl.automl_api:Found pipeline, time=0:11:52, scoring...\n",
      "INFO:alpha_automl.automl_api:Scored pipeline, score=0.775\n",
      "INFO:alpha_automl.automl_api:Found pipeline, time=0:12:00, scoring...\n",
      "INFO:alpha_automl.automl_api:Scored pipeline, score=0.51\n",
      "INFO:alpha_automl.automl_api:Found pipeline, time=0:12:09, scoring...\n",
      "INFO:alpha_automl.automl_api:Scored pipeline, score=0.595\n",
      "INFO:alpha_automl.automl_api:Found pipeline, time=0:12:17, scoring...\n",
      "INFO:alpha_automl.automl_api:Scored pipeline, score=0.59\n",
      "INFO:alpha_automl.automl_api:Found pipeline, time=0:12:25, scoring...\n",
      "INFO:alpha_automl.automl_api:Scored pipeline, score=0.72\n",
      "INFO:alpha_automl.automl_api:Found pipeline, time=0:14:47, scoring...\n",
      "INFO:alpha_automl.automl_api:Scored pipeline, score=0.945\n",
      "INFO:alpha_automl.automl_api:Found pipeline, time=0:17:08, scoring...\n",
      "INFO:alpha_automl.automl_api:Scored pipeline, score=0.88\n",
      "INFO:alpha_automl.automl_api:Found pipeline, time=0:17:16, scoring...\n",
      "INFO:alpha_automl.automl_api:Scored pipeline, score=0.63\n",
      "INFO:alpha_automl.automl_api:Found pipeline, time=0:19:37, scoring...\n",
      "INFO:alpha_automl.automl_api:Scored pipeline, score=0.97\n",
      "INFO:alpha_automl.automl_api:Found pipeline, time=0:19:44, scoring...\n",
      "INFO:alpha_automl.automl_api:Scored pipeline, score=0.635\n",
      "INFO:alpha_automl.automl_api:Found pipeline, time=0:19:53, scoring...\n",
      "INFO:alpha_automl.automl_api:Scored pipeline, score=0.635\n",
      "INFO:alpha_automl.automl_api:Found pipeline, time=0:20:01, scoring...\n",
      "INFO:alpha_automl.automl_api:Scored pipeline, score=0.63\n",
      "INFO:alpha_automl.automl_api:Found 33 pipelines\n"
     ]
    }
   ],
   "source": [
    "automl.fit(X_train, y_train)"
   ]
  },
  {
   "cell_type": "markdown",
   "metadata": {},
   "source": [
    "### Exploring Pipelines"
   ]
  },
  {
   "cell_type": "markdown",
   "metadata": {},
   "source": [
    "After the pipeline search is complete, we can display the leaderboard:"
   ]
  },
  {
   "cell_type": "code",
   "execution_count": 6,
   "metadata": {},
   "outputs": [
    {
     "data": {
      "text/html": [
       "<style type=\"text/css\">\n",
       "</style>\n",
       "<table id=\"T_65aea\">\n",
       "  <thead>\n",
       "    <tr>\n",
       "      <th id=\"T_65aea_level0_col0\" class=\"col_heading level0 col0\" >ranking</th>\n",
       "      <th id=\"T_65aea_level0_col1\" class=\"col_heading level0 col1\" >pipeline</th>\n",
       "      <th id=\"T_65aea_level0_col2\" class=\"col_heading level0 col2\" >accuracy_score</th>\n",
       "    </tr>\n",
       "  </thead>\n",
       "  <tbody>\n",
       "    <tr>\n",
       "      <td id=\"T_65aea_row0_col0\" class=\"data row0 col0\" >1</td>\n",
       "      <td id=\"T_65aea_row0_col1\" class=\"data row0 col1\" >ColumnTransformer, HuggingfaceCLIPTransformer, MaxAbsScaler, SelectPercentile, DecisionTreeClassifier</td>\n",
       "      <td id=\"T_65aea_row0_col2\" class=\"data row0 col2\" >0.970</td>\n",
       "    </tr>\n",
       "    <tr>\n",
       "      <td id=\"T_65aea_row1_col0\" class=\"data row1 col0\" >2</td>\n",
       "      <td id=\"T_65aea_row1_col1\" class=\"data row1 col1\" >ColumnTransformer, HuggingfaceCLIPTransformer, MaxAbsScaler, DecisionTreeClassifier</td>\n",
       "      <td id=\"T_65aea_row1_col2\" class=\"data row1 col2\" >0.945</td>\n",
       "    </tr>\n",
       "    <tr>\n",
       "      <td id=\"T_65aea_row2_col0\" class=\"data row2 col0\" >3</td>\n",
       "      <td id=\"T_65aea_row2_col1\" class=\"data row2 col1\" >ColumnTransformer, HuggingfaceCLIPTransformer, MaxAbsScaler, SelectKBest, DecisionTreeClassifier</td>\n",
       "      <td id=\"T_65aea_row2_col2\" class=\"data row2 col2\" >0.930</td>\n",
       "    </tr>\n",
       "    <tr>\n",
       "      <td id=\"T_65aea_row3_col0\" class=\"data row3 col0\" >4</td>\n",
       "      <td id=\"T_65aea_row3_col1\" class=\"data row3 col1\" >ColumnTransformer, HuggingfaceCLIPTransformer, MaxAbsScaler, GenericUnivariateSelect, LinearSVC</td>\n",
       "      <td id=\"T_65aea_row3_col2\" class=\"data row3 col2\" >0.905</td>\n",
       "    </tr>\n",
       "    <tr>\n",
       "      <td id=\"T_65aea_row4_col0\" class=\"data row4 col0\" >5</td>\n",
       "      <td id=\"T_65aea_row4_col1\" class=\"data row4 col1\" >ColumnTransformer, HuggingfaceCLIPTransformer, MaxAbsScaler, GenericUnivariateSelect, DecisionTreeClassifier</td>\n",
       "      <td id=\"T_65aea_row4_col2\" class=\"data row4 col2\" >0.880</td>\n",
       "    </tr>\n",
       "    <tr>\n",
       "      <td id=\"T_65aea_row5_col0\" class=\"data row5 col0\" >6</td>\n",
       "      <td id=\"T_65aea_row5_col1\" class=\"data row5 col1\" >ColumnTransformer, HuggingfaceCLIPTransformer, MaxAbsScaler, GenericUnivariateSelect, RandomForestClassifier</td>\n",
       "      <td id=\"T_65aea_row5_col2\" class=\"data row5 col2\" >0.880</td>\n",
       "    </tr>\n",
       "    <tr>\n",
       "      <td id=\"T_65aea_row6_col0\" class=\"data row6 col0\" >7</td>\n",
       "      <td id=\"T_65aea_row6_col1\" class=\"data row6 col1\" >ColumnTransformer, HuggingfaceCLIPTransformer, RobustScaler, GenericUnivariateSelect, DecisionTreeClassifier</td>\n",
       "      <td id=\"T_65aea_row6_col2\" class=\"data row6 col2\" >0.880</td>\n",
       "    </tr>\n",
       "    <tr>\n",
       "      <td id=\"T_65aea_row7_col0\" class=\"data row7 col0\" >8</td>\n",
       "      <td id=\"T_65aea_row7_col1\" class=\"data row7 col1\" >ColumnTransformer, HogTransformer, MaxAbsScaler, SelectKBest, RandomForestClassifier</td>\n",
       "      <td id=\"T_65aea_row7_col2\" class=\"data row7 col2\" >0.785</td>\n",
       "    </tr>\n",
       "    <tr>\n",
       "      <td id=\"T_65aea_row8_col0\" class=\"data row8 col0\" >9</td>\n",
       "      <td id=\"T_65aea_row8_col1\" class=\"data row8 col1\" >ColumnTransformer, HogTransformer, MaxAbsScaler, SelectKBest, ExtraTreesClassifier</td>\n",
       "      <td id=\"T_65aea_row8_col2\" class=\"data row8 col2\" >0.775</td>\n",
       "    </tr>\n",
       "    <tr>\n",
       "      <td id=\"T_65aea_row9_col0\" class=\"data row9 col0\" >10</td>\n",
       "      <td id=\"T_65aea_row9_col1\" class=\"data row9 col1\" >ColumnTransformer, HogTransformer, MaxAbsScaler, SelectKBest, LinearSVC</td>\n",
       "      <td id=\"T_65aea_row9_col2\" class=\"data row9 col2\" >0.755</td>\n",
       "    </tr>\n",
       "    <tr>\n",
       "      <td id=\"T_65aea_row10_col0\" class=\"data row10 col0\" >11</td>\n",
       "      <td id=\"T_65aea_row10_col1\" class=\"data row10 col1\" >ColumnTransformer, HogTransformer, MaxAbsScaler, SelectPercentile, DecisionTreeClassifier</td>\n",
       "      <td id=\"T_65aea_row10_col2\" class=\"data row10 col2\" >0.720</td>\n",
       "    </tr>\n",
       "    <tr>\n",
       "      <td id=\"T_65aea_row11_col0\" class=\"data row11 col0\" >12</td>\n",
       "      <td id=\"T_65aea_row11_col1\" class=\"data row11 col1\" >ColumnTransformer, HogTransformer, MaxAbsScaler, SelectKBest, DecisionTreeClassifier</td>\n",
       "      <td id=\"T_65aea_row11_col2\" class=\"data row11 col2\" >0.710</td>\n",
       "    </tr>\n",
       "    <tr>\n",
       "      <td id=\"T_65aea_row12_col0\" class=\"data row12 col0\" >13</td>\n",
       "      <td id=\"T_65aea_row12_col1\" class=\"data row12 col1\" >ColumnTransformer, HogTransformer, MaxAbsScaler, DecisionTreeClassifier</td>\n",
       "      <td id=\"T_65aea_row12_col2\" class=\"data row12 col2\" >0.700</td>\n",
       "    </tr>\n",
       "    <tr>\n",
       "      <td id=\"T_65aea_row13_col0\" class=\"data row13 col0\" >14</td>\n",
       "      <td id=\"T_65aea_row13_col1\" class=\"data row13 col1\" >ColumnTransformer, RGB2GrayTransformer, MaxAbsScaler, DecisionTreeClassifier</td>\n",
       "      <td id=\"T_65aea_row13_col2\" class=\"data row13 col2\" >0.695</td>\n",
       "    </tr>\n",
       "    <tr>\n",
       "      <td id=\"T_65aea_row14_col0\" class=\"data row14 col0\" >15</td>\n",
       "      <td id=\"T_65aea_row14_col1\" class=\"data row14 col1\" >ColumnTransformer, RGB2GrayTransformer, MaxAbsScaler, SelectPercentile, DecisionTreeClassifier</td>\n",
       "      <td id=\"T_65aea_row14_col2\" class=\"data row14 col2\" >0.695</td>\n",
       "    </tr>\n",
       "    <tr>\n",
       "      <td id=\"T_65aea_row15_col0\" class=\"data row15 col0\" >16</td>\n",
       "      <td id=\"T_65aea_row15_col1\" class=\"data row15 col1\" >ColumnTransformer, RGB2GrayTransformer, MaxAbsScaler, GenericUnivariateSelect, LinearDiscriminantAnalysis</td>\n",
       "      <td id=\"T_65aea_row15_col2\" class=\"data row15 col2\" >0.635</td>\n",
       "    </tr>\n",
       "    <tr>\n",
       "      <td id=\"T_65aea_row16_col0\" class=\"data row16 col0\" >17</td>\n",
       "      <td id=\"T_65aea_row16_col1\" class=\"data row16 col1\" >ColumnTransformer, RGB2GrayTransformer, MaxAbsScaler, GenericUnivariateSelect, LinearSVC</td>\n",
       "      <td id=\"T_65aea_row16_col2\" class=\"data row16 col2\" >0.635</td>\n",
       "    </tr>\n",
       "    <tr>\n",
       "      <td id=\"T_65aea_row17_col0\" class=\"data row17 col0\" >18</td>\n",
       "      <td id=\"T_65aea_row17_col1\" class=\"data row17 col1\" >ColumnTransformer, RGB2GrayTransformer, MaxAbsScaler, SelectKBest, LinearSVC</td>\n",
       "      <td id=\"T_65aea_row17_col2\" class=\"data row17 col2\" >0.635</td>\n",
       "    </tr>\n",
       "    <tr>\n",
       "      <td id=\"T_65aea_row18_col0\" class=\"data row18 col0\" >19</td>\n",
       "      <td id=\"T_65aea_row18_col1\" class=\"data row18 col1\" >ColumnTransformer, RGB2GrayTransformer, RobustScaler, GenericUnivariateSelect, LinearSVC</td>\n",
       "      <td id=\"T_65aea_row18_col2\" class=\"data row18 col2\" >0.635</td>\n",
       "    </tr>\n",
       "    <tr>\n",
       "      <td id=\"T_65aea_row19_col0\" class=\"data row19 col0\" >20</td>\n",
       "      <td id=\"T_65aea_row19_col1\" class=\"data row19 col1\" >ColumnTransformer, HogTransformer, MaxAbsScaler, GenericUnivariateSelect, LinearSVC</td>\n",
       "      <td id=\"T_65aea_row19_col2\" class=\"data row19 col2\" >0.630</td>\n",
       "    </tr>\n",
       "    <tr>\n",
       "      <td id=\"T_65aea_row20_col0\" class=\"data row20 col0\" >21</td>\n",
       "      <td id=\"T_65aea_row20_col1\" class=\"data row20 col1\" >ColumnTransformer, HogTransformer, MaxAbsScaler, GenericUnivariateSelect, LinearDiscriminantAnalysis</td>\n",
       "      <td id=\"T_65aea_row20_col2\" class=\"data row20 col2\" >0.630</td>\n",
       "    </tr>\n",
       "    <tr>\n",
       "      <td id=\"T_65aea_row21_col0\" class=\"data row21 col0\" >22</td>\n",
       "      <td id=\"T_65aea_row21_col1\" class=\"data row21 col1\" >ColumnTransformer, RGB2GrayTransformer, MaxAbsScaler, SelectKBest, LinearDiscriminantAnalysis</td>\n",
       "      <td id=\"T_65aea_row21_col2\" class=\"data row21 col2\" >0.630</td>\n",
       "    </tr>\n",
       "    <tr>\n",
       "      <td id=\"T_65aea_row22_col0\" class=\"data row22 col0\" >23</td>\n",
       "      <td id=\"T_65aea_row22_col1\" class=\"data row22 col1\" >ColumnTransformer, RGB2GrayTransformer, MaxAbsScaler, GenericUnivariateSelect, GradientBoostingClassifier</td>\n",
       "      <td id=\"T_65aea_row22_col2\" class=\"data row22 col2\" >0.620</td>\n",
       "    </tr>\n",
       "    <tr>\n",
       "      <td id=\"T_65aea_row23_col0\" class=\"data row23 col0\" >24</td>\n",
       "      <td id=\"T_65aea_row23_col1\" class=\"data row23 col1\" >ColumnTransformer, HogTransformer, MaxAbsScaler, GenericUnivariateSelect, DecisionTreeClassifier</td>\n",
       "      <td id=\"T_65aea_row23_col2\" class=\"data row23 col2\" >0.595</td>\n",
       "    </tr>\n",
       "    <tr>\n",
       "      <td id=\"T_65aea_row24_col0\" class=\"data row24 col0\" >25</td>\n",
       "      <td id=\"T_65aea_row24_col1\" class=\"data row24 col1\" >ColumnTransformer, HogTransformer, MaxAbsScaler, GenericUnivariateSelect, RandomForestClassifier</td>\n",
       "      <td id=\"T_65aea_row24_col2\" class=\"data row24 col2\" >0.595</td>\n",
       "    </tr>\n",
       "    <tr>\n",
       "      <td id=\"T_65aea_row25_col0\" class=\"data row25 col0\" >26</td>\n",
       "      <td id=\"T_65aea_row25_col1\" class=\"data row25 col1\" >ColumnTransformer, HogTransformer, RobustScaler, GenericUnivariateSelect, DecisionTreeClassifier</td>\n",
       "      <td id=\"T_65aea_row25_col2\" class=\"data row25 col2\" >0.595</td>\n",
       "    </tr>\n",
       "    <tr>\n",
       "      <td id=\"T_65aea_row26_col0\" class=\"data row26 col0\" >27</td>\n",
       "      <td id=\"T_65aea_row26_col1\" class=\"data row26 col1\" >ColumnTransformer, HogTransformer, MaxAbsScaler, GenericUnivariateSelect, ExtraTreesClassifier</td>\n",
       "      <td id=\"T_65aea_row26_col2\" class=\"data row26 col2\" >0.590</td>\n",
       "    </tr>\n",
       "    <tr>\n",
       "      <td id=\"T_65aea_row27_col0\" class=\"data row27 col0\" >28</td>\n",
       "      <td id=\"T_65aea_row27_col1\" class=\"data row27 col1\" >ColumnTransformer, HogTransformer, MaxAbsScaler, GenericUnivariateSelect, GradientBoostingClassifier</td>\n",
       "      <td id=\"T_65aea_row27_col2\" class=\"data row27 col2\" >0.590</td>\n",
       "    </tr>\n",
       "    <tr>\n",
       "      <td id=\"T_65aea_row28_col0\" class=\"data row28 col0\" >29</td>\n",
       "      <td id=\"T_65aea_row28_col1\" class=\"data row28 col1\" >ColumnTransformer, RGB2GrayTransformer, MaxAbsScaler, SelectKBest, DecisionTreeClassifier</td>\n",
       "      <td id=\"T_65aea_row28_col2\" class=\"data row28 col2\" >0.555</td>\n",
       "    </tr>\n",
       "    <tr>\n",
       "      <td id=\"T_65aea_row29_col0\" class=\"data row29 col0\" >30</td>\n",
       "      <td id=\"T_65aea_row29_col1\" class=\"data row29 col1\" >ColumnTransformer, RGB2GrayTransformer, MaxAbsScaler, GenericUnivariateSelect, DecisionTreeClassifier</td>\n",
       "      <td id=\"T_65aea_row29_col2\" class=\"data row29 col2\" >0.510</td>\n",
       "    </tr>\n",
       "    <tr>\n",
       "      <td id=\"T_65aea_row30_col0\" class=\"data row30 col0\" >31</td>\n",
       "      <td id=\"T_65aea_row30_col1\" class=\"data row30 col1\" >ColumnTransformer, RGB2GrayTransformer, MaxAbsScaler, GenericUnivariateSelect, RandomForestClassifier</td>\n",
       "      <td id=\"T_65aea_row30_col2\" class=\"data row30 col2\" >0.510</td>\n",
       "    </tr>\n",
       "    <tr>\n",
       "      <td id=\"T_65aea_row31_col0\" class=\"data row31 col0\" >32</td>\n",
       "      <td id=\"T_65aea_row31_col1\" class=\"data row31 col1\" >ColumnTransformer, RGB2GrayTransformer, RobustScaler, GenericUnivariateSelect, DecisionTreeClassifier</td>\n",
       "      <td id=\"T_65aea_row31_col2\" class=\"data row31 col2\" >0.510</td>\n",
       "    </tr>\n",
       "    <tr>\n",
       "      <td id=\"T_65aea_row32_col0\" class=\"data row32 col0\" >33</td>\n",
       "      <td id=\"T_65aea_row32_col1\" class=\"data row32 col1\" >ColumnTransformer, RGB2GrayTransformer, MaxAbsScaler, GenericUnivariateSelect, ExtraTreesClassifier</td>\n",
       "      <td id=\"T_65aea_row32_col2\" class=\"data row32 col2\" >0.490</td>\n",
       "    </tr>\n",
       "  </tbody>\n",
       "</table>\n"
      ],
      "text/plain": [
       "<pandas.io.formats.style.Styler at 0x149e857e2e60>"
      ]
     },
     "execution_count": 6,
     "metadata": {},
     "output_type": "execute_result"
    }
   ],
   "source": [
    "automl.plot_leaderboard()"
   ]
  },
  {
   "cell_type": "markdown",
   "metadata": {},
   "source": [
    "In order to explore the produced pipelines, we can use [PipelineProfiler](https://github.com/VIDA-NYU/PipelineVis). PipelineProfiler is a visualization that enables users to compare and explore the pipelines generated by the AlphaAutoML system.\n",
    "\n",
    "After the pipeline search process is completed, we can use PipelineProfiler with:"
   ]
  },
  {
   "cell_type": "code",
   "execution_count": null,
   "metadata": {},
   "outputs": [],
   "source": [
    "automl.plot_comparison_pipelines()"
   ]
  },
  {
   "cell_type": "markdown",
   "metadata": {},
   "source": [
    "### Testing Pipelines"
   ]
  },
  {
   "cell_type": "markdown",
   "metadata": {},
   "source": [
    "Pipeline predictions are accessed with:"
   ]
  },
  {
   "cell_type": "code",
   "execution_count": 7,
   "metadata": {},
   "outputs": [
    {
     "data": {
      "text/plain": [
       "array([1, 1, 1, 1, 0, 1, 1, 1, 0, 1, 1, 0, 1, 1, 1, 1, 1, 0, 0, 0, 1, 1,\n",
       "       0, 0, 0, 1, 0, 0, 1, 0, 1, 1, 0, 0, 0, 0, 1, 1, 1, 1, 0, 0, 0, 0,\n",
       "       1, 1, 1, 0, 1, 1, 1, 1, 1, 0, 0, 1, 1, 0, 1, 1, 0, 0, 0, 1, 0, 0,\n",
       "       1, 1, 1, 0, 1, 0, 0, 1, 0, 0, 1, 0, 1, 1, 0, 1, 0, 1, 1, 0, 1, 1,\n",
       "       0, 1, 0, 0, 1, 1, 1, 1, 0, 0, 1, 1, 0, 0, 0, 0, 1, 0, 1, 0, 1, 1,\n",
       "       0, 1, 0, 0, 1, 0, 0, 0, 0, 0, 0, 0, 0, 0, 1, 0, 1, 0, 1, 1, 0, 1,\n",
       "       1, 0, 0, 1, 0, 1, 1, 0, 0, 0, 0, 1, 1, 1, 1, 1, 0, 0, 0, 0, 1, 1,\n",
       "       1, 0, 0, 0, 0, 0, 0, 0, 0, 1, 1, 0, 0, 0, 1, 1, 0, 1, 0, 1, 0, 1,\n",
       "       0, 1, 0, 0, 1, 0, 1, 1, 0, 0, 1, 0, 1, 0, 0, 1, 0, 1, 0, 0, 1, 0,\n",
       "       0, 1])"
      ]
     },
     "execution_count": 7,
     "metadata": {},
     "output_type": "execute_result"
    }
   ],
   "source": [
    "y_pred = automl.predict(X_test)\n",
    "y_pred"
   ]
  },
  {
   "cell_type": "markdown",
   "metadata": {},
   "source": [
    "The pipeline can be evaluated against a held out dataset with the function call:"
   ]
  },
  {
   "cell_type": "code",
   "execution_count": 8,
   "metadata": {},
   "outputs": [
    {
     "name": "stdout",
     "output_type": "stream",
     "text": [
      "INFO:alpha_automl.automl_api:Metric: accuracy_score, Score: 0.98\n"
     ]
    },
    {
     "data": {
      "text/plain": [
       "{'metric': 'accuracy_score', 'score': 0.98}"
      ]
     },
     "execution_count": 8,
     "metadata": {},
     "output_type": "execute_result"
    }
   ],
   "source": [
    "automl.score(X_test, y_test)"
   ]
  },
  {
   "cell_type": "code",
   "execution_count": null,
   "metadata": {},
   "outputs": [],
   "source": []
  }
 ],
 "metadata": {
  "kernelspec": {
   "display_name": "Python 3 (ipykernel)",
   "language": "python",
   "name": "python3"
  },
  "language_info": {
   "codemirror_mode": {
    "name": "ipython",
    "version": 3
   },
   "file_extension": ".py",
   "mimetype": "text/x-python",
   "name": "python",
   "nbconvert_exporter": "python",
   "pygments_lexer": "ipython3",
   "version": "3.8.16"
  }
 },
 "nbformat": 4,
 "nbformat_minor": 4
}
