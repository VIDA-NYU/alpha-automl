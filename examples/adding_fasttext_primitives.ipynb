{
 "cells": [
  {
   "cell_type": "markdown",
   "metadata": {},
   "source": [
    "## Adding HuggingFace Primitives"
   ]
  },
  {
   "cell_type": "markdown",
   "metadata": {},
   "source": [
    "First, import the class `AutoMLClassifier`"
   ]
  },
  {
   "cell_type": "code",
   "execution_count": 1,
   "metadata": {},
   "outputs": [],
   "source": [
    "from alpha_automl import AutoMLClassifier\n",
    "import pandas as pd"
   ]
  },
  {
   "cell_type": "markdown",
   "metadata": {},
   "source": [
    "### Generating Pipelines for CSV Datasets"
   ]
  },
  {
   "cell_type": "markdown",
   "metadata": {},
   "source": [
    "In this example, we are generating pipelines for a CSV dataset. The sentiment dataset is used for this example."
   ]
  },
  {
   "cell_type": "code",
   "execution_count": 2,
   "metadata": {},
   "outputs": [],
   "source": [
    "output_path = 'tmp/'\n",
    "train_dataset = pd.read_csv('datasets/sentiment/train_data.csv')\n",
    "test_dataset = pd.read_csv('datasets/sentiment/test_data.csv')"
   ]
  },
  {
   "cell_type": "markdown",
   "metadata": {},
   "source": [
    "Removing the target column from the features for the train dataset"
   ]
  },
  {
   "cell_type": "code",
   "execution_count": 3,
   "metadata": {},
   "outputs": [
    {
     "data": {
      "text/html": [
       "<div>\n",
       "<style scoped>\n",
       "    .dataframe tbody tr th:only-of-type {\n",
       "        vertical-align: middle;\n",
       "    }\n",
       "\n",
       "    .dataframe tbody tr th {\n",
       "        vertical-align: top;\n",
       "    }\n",
       "\n",
       "    .dataframe thead th {\n",
       "        text-align: right;\n",
       "    }\n",
       "</style>\n",
       "<table border=\"1\" class=\"dataframe\">\n",
       "  <thead>\n",
       "    <tr style=\"text-align: right;\">\n",
       "      <th></th>\n",
       "      <th>text</th>\n",
       "      <th>Time of Tweet</th>\n",
       "      <th>Age of User</th>\n",
       "      <th>Country</th>\n",
       "    </tr>\n",
       "  </thead>\n",
       "  <tbody>\n",
       "    <tr>\n",
       "      <th>0</th>\n",
       "      <td>I`d have responded, if I were going</td>\n",
       "      <td>morning</td>\n",
       "      <td>0-20</td>\n",
       "      <td>Afghanistan</td>\n",
       "    </tr>\n",
       "    <tr>\n",
       "      <th>1</th>\n",
       "      <td>Sooo SAD I will miss you here in San Diego!!!</td>\n",
       "      <td>noon</td>\n",
       "      <td>21-30</td>\n",
       "      <td>Albania</td>\n",
       "    </tr>\n",
       "    <tr>\n",
       "      <th>2</th>\n",
       "      <td>my boss is bullying me...</td>\n",
       "      <td>night</td>\n",
       "      <td>31-45</td>\n",
       "      <td>Algeria</td>\n",
       "    </tr>\n",
       "    <tr>\n",
       "      <th>3</th>\n",
       "      <td>what interview! leave me alone</td>\n",
       "      <td>morning</td>\n",
       "      <td>46-60</td>\n",
       "      <td>Andorra</td>\n",
       "    </tr>\n",
       "    <tr>\n",
       "      <th>4</th>\n",
       "      <td>Sons of ****, why couldn`t they put them on t...</td>\n",
       "      <td>noon</td>\n",
       "      <td>60-70</td>\n",
       "      <td>Angola</td>\n",
       "    </tr>\n",
       "    <tr>\n",
       "      <th>...</th>\n",
       "      <td>...</td>\n",
       "      <td>...</td>\n",
       "      <td>...</td>\n",
       "      <td>...</td>\n",
       "    </tr>\n",
       "    <tr>\n",
       "      <th>27476</th>\n",
       "      <td>wish we could come see u on Denver  husband l...</td>\n",
       "      <td>night</td>\n",
       "      <td>31-45</td>\n",
       "      <td>Ghana</td>\n",
       "    </tr>\n",
       "    <tr>\n",
       "      <th>27477</th>\n",
       "      <td>I`ve wondered about rake to.  The client has ...</td>\n",
       "      <td>morning</td>\n",
       "      <td>46-60</td>\n",
       "      <td>Greece</td>\n",
       "    </tr>\n",
       "    <tr>\n",
       "      <th>27478</th>\n",
       "      <td>Yay good for both of you. Enjoy the break - y...</td>\n",
       "      <td>noon</td>\n",
       "      <td>60-70</td>\n",
       "      <td>Grenada</td>\n",
       "    </tr>\n",
       "    <tr>\n",
       "      <th>27479</th>\n",
       "      <td>But it was worth it  ****.</td>\n",
       "      <td>night</td>\n",
       "      <td>70-100</td>\n",
       "      <td>Guatemala</td>\n",
       "    </tr>\n",
       "    <tr>\n",
       "      <th>27480</th>\n",
       "      <td>All this flirting going on - The ATG smiles...</td>\n",
       "      <td>morning</td>\n",
       "      <td>0-20</td>\n",
       "      <td>Guinea</td>\n",
       "    </tr>\n",
       "  </tbody>\n",
       "</table>\n",
       "<p>27481 rows × 4 columns</p>\n",
       "</div>"
      ],
      "text/plain": [
       "                                                    text Time of Tweet  \\\n",
       "0                    I`d have responded, if I were going       morning   \n",
       "1          Sooo SAD I will miss you here in San Diego!!!          noon   \n",
       "2                              my boss is bullying me...         night   \n",
       "3                         what interview! leave me alone       morning   \n",
       "4       Sons of ****, why couldn`t they put them on t...          noon   \n",
       "...                                                  ...           ...   \n",
       "27476   wish we could come see u on Denver  husband l...         night   \n",
       "27477   I`ve wondered about rake to.  The client has ...       morning   \n",
       "27478   Yay good for both of you. Enjoy the break - y...          noon   \n",
       "27479                         But it was worth it  ****.         night   \n",
       "27480     All this flirting going on - The ATG smiles...       morning   \n",
       "\n",
       "      Age of User      Country  \n",
       "0            0-20  Afghanistan  \n",
       "1           21-30      Albania  \n",
       "2           31-45      Algeria  \n",
       "3           46-60      Andorra  \n",
       "4           60-70       Angola  \n",
       "...           ...          ...  \n",
       "27476       31-45        Ghana  \n",
       "27477       46-60       Greece  \n",
       "27478       60-70      Grenada  \n",
       "27479      70-100    Guatemala  \n",
       "27480        0-20       Guinea  \n",
       "\n",
       "[27481 rows x 4 columns]"
      ]
     },
     "execution_count": 3,
     "metadata": {},
     "output_type": "execute_result"
    }
   ],
   "source": [
    "target_column = 'sentiment'\n",
    "X_train = train_dataset.drop(columns=[target_column])\n",
    "X_train"
   ]
  },
  {
   "cell_type": "markdown",
   "metadata": {},
   "source": [
    "Selecting the target column for the train dataset"
   ]
  },
  {
   "cell_type": "code",
   "execution_count": 4,
   "metadata": {},
   "outputs": [
    {
     "data": {
      "text/html": [
       "<div>\n",
       "<style scoped>\n",
       "    .dataframe tbody tr th:only-of-type {\n",
       "        vertical-align: middle;\n",
       "    }\n",
       "\n",
       "    .dataframe tbody tr th {\n",
       "        vertical-align: top;\n",
       "    }\n",
       "\n",
       "    .dataframe thead th {\n",
       "        text-align: right;\n",
       "    }\n",
       "</style>\n",
       "<table border=\"1\" class=\"dataframe\">\n",
       "  <thead>\n",
       "    <tr style=\"text-align: right;\">\n",
       "      <th></th>\n",
       "      <th>sentiment</th>\n",
       "    </tr>\n",
       "  </thead>\n",
       "  <tbody>\n",
       "    <tr>\n",
       "      <th>0</th>\n",
       "      <td>neutral</td>\n",
       "    </tr>\n",
       "    <tr>\n",
       "      <th>1</th>\n",
       "      <td>negative</td>\n",
       "    </tr>\n",
       "    <tr>\n",
       "      <th>2</th>\n",
       "      <td>negative</td>\n",
       "    </tr>\n",
       "    <tr>\n",
       "      <th>3</th>\n",
       "      <td>negative</td>\n",
       "    </tr>\n",
       "    <tr>\n",
       "      <th>4</th>\n",
       "      <td>negative</td>\n",
       "    </tr>\n",
       "    <tr>\n",
       "      <th>...</th>\n",
       "      <td>...</td>\n",
       "    </tr>\n",
       "    <tr>\n",
       "      <th>27476</th>\n",
       "      <td>negative</td>\n",
       "    </tr>\n",
       "    <tr>\n",
       "      <th>27477</th>\n",
       "      <td>negative</td>\n",
       "    </tr>\n",
       "    <tr>\n",
       "      <th>27478</th>\n",
       "      <td>positive</td>\n",
       "    </tr>\n",
       "    <tr>\n",
       "      <th>27479</th>\n",
       "      <td>positive</td>\n",
       "    </tr>\n",
       "    <tr>\n",
       "      <th>27480</th>\n",
       "      <td>neutral</td>\n",
       "    </tr>\n",
       "  </tbody>\n",
       "</table>\n",
       "<p>27481 rows × 1 columns</p>\n",
       "</div>"
      ],
      "text/plain": [
       "      sentiment\n",
       "0       neutral\n",
       "1      negative\n",
       "2      negative\n",
       "3      negative\n",
       "4      negative\n",
       "...         ...\n",
       "27476  negative\n",
       "27477  negative\n",
       "27478  positive\n",
       "27479  positive\n",
       "27480   neutral\n",
       "\n",
       "[27481 rows x 1 columns]"
      ]
     },
     "execution_count": 4,
     "metadata": {},
     "output_type": "execute_result"
    }
   ],
   "source": [
    "y_train = train_dataset[[target_column]]\n",
    "y_train"
   ]
  },
  {
   "cell_type": "markdown",
   "metadata": {},
   "source": [
    "### Adding New Primitives into AlphaAutoML's Search Space"
   ]
  },
  {
   "cell_type": "code",
   "execution_count": 5,
   "metadata": {},
   "outputs": [],
   "source": [
    "automl = AutoMLClassifier(output_path, time_bound=10)"
   ]
  },
  {
   "cell_type": "code",
   "execution_count": 6,
   "metadata": {},
   "outputs": [
    {
     "name": "stdout",
     "output_type": "stream",
     "text": [
      "Downloading https://dl.fbaipublicfiles.com/fasttext/vectors-crawl/cc.en.300.bin.gz\n",
      " (99.84%) [=================================================> ]\r"
     ]
    }
   ],
   "source": [
    "# Download the fasttext module if not already downloaded\n",
    "import os\n",
    "import fasttext\n",
    "import fasttext.util\n",
    "\n",
    "\n",
    "fasttext.util.download_model('en', if_exists='ignore')  # English\n",
    "fasttext_model_path = os.getcwd() + '/cc.en.300.bin' # change this accordingly to the path where the model is downloaded\n",
    "\n"
   ]
  },
  {
   "cell_type": "code",
   "execution_count": 7,
   "metadata": {},
   "outputs": [],
   "source": [
    "'''\n",
    "Fasttext Module and adding this as a primitive to automl\n",
    "\n",
    "'''\n",
    "from alpha_automl.wrapper_primitives.fasttext import FastTextEmbedder \n",
    "fasttext_embedder = FastTextEmbedder(fasttext_model_path)\n",
    "automl.add_primitives([(fasttext_embedder, 'TEXT_ENCODER')])"
   ]
  },
  {
   "cell_type": "markdown",
   "metadata": {},
   "source": [
    "### Searching  Pipelines"
   ]
  },
  {
   "cell_type": "code",
   "execution_count": 8,
   "metadata": {
    "scrolled": true
   },
   "outputs": [
    {
     "name": "stdout",
     "output_type": "stream",
     "text": [
      "INFO:alpha_automl.automl_api:Found pipeline, time=0:00:04, scoring...\n"
     ]
    },
    {
     "name": "stderr",
     "output_type": "stream",
     "text": [
      "Warning : `load_model` does not return WordVectorModel or SupervisedModel any more, but a `FastText` object which is very similar.\n"
     ]
    },
    {
     "name": "stdout",
     "output_type": "stream",
     "text": [
      "INFO:alpha_automl.automl_api:Scored pipeline, score=0.4252656090816475\n",
      "INFO:alpha_automl.automl_api:Found pipeline, time=0:00:05, scoring...\n",
      "INFO:alpha_automl.automl_api:Scored pipeline, score=0.4252656090816475\n",
      "INFO:alpha_automl.automl_api:Found pipeline, time=0:00:06, scoring...\n",
      "INFO:alpha_automl.automl_api:Scored pipeline, score=0.31596565274341437\n"
     ]
    },
    {
     "name": "stderr",
     "output_type": "stream",
     "text": [
      "Warning : `load_model` does not return WordVectorModel or SupervisedModel any more, but a `FastText` object which is very similar.\n"
     ]
    },
    {
     "name": "stdout",
     "output_type": "stream",
     "text": [
      "INFO:alpha_automl.automl_api:Found pipeline, time=0:00:38, scoring...\n"
     ]
    },
    {
     "name": "stderr",
     "output_type": "stream",
     "text": [
      "Warning : `load_model` does not return WordVectorModel or SupervisedModel any more, but a `FastText` object which is very similar.\n",
      "Warning : `load_model` does not return WordVectorModel or SupervisedModel any more, but a `FastText` object which is very similar.\n",
      "Warning : `load_model` does not return WordVectorModel or SupervisedModel any more, but a `FastText` object which is very similar.\n",
      "Warning : `load_model` does not return WordVectorModel or SupervisedModel any more, but a `FastText` object which is very similar.\n"
     ]
    },
    {
     "name": "stdout",
     "output_type": "stream",
     "text": [
      "INFO:alpha_automl.automl_api:Scored pipeline, score=0.36646776306214524\n",
      "INFO:alpha_automl.automl_api:Found pipeline, time=0:01:26, scoring...\n",
      "INFO:alpha_automl.automl_api:Scored pipeline, score=0.4217726677339543\n",
      "INFO:alpha_automl.automl_api:Found pipeline, time=0:01:41, scoring...\n"
     ]
    },
    {
     "name": "stderr",
     "output_type": "stream",
     "text": [
      "Warning : `load_model` does not return WordVectorModel or SupervisedModel any more, but a `FastText` object which is very similar.\n",
      "Warning : `load_model` does not return WordVectorModel or SupervisedModel any more, but a `FastText` object which is very similar.\n",
      "Warning : `load_model` does not return WordVectorModel or SupervisedModel any more, but a `FastText` object which is very similar.\n",
      "Warning : `load_model` does not return WordVectorModel or SupervisedModel any more, but a `FastText` object which is very similar.\n",
      "Warning : `load_model` does not return WordVectorModel or SupervisedModel any more, but a `FastText` object which is very similar.\n"
     ]
    },
    {
     "name": "stdout",
     "output_type": "stream",
     "text": [
      "INFO:alpha_automl.automl_api:Scored pipeline, score=0.4045990394411294\n",
      "INFO:alpha_automl.automl_api:Found pipeline, time=0:02:51, scoring...\n",
      "INFO:alpha_automl.automl_api:Scored pipeline, score=0.6277106680250327\n",
      "INFO:alpha_automl.automl_api:Found pipeline, time=0:03:02, scoring...\n"
     ]
    },
    {
     "name": "stderr",
     "output_type": "stream",
     "text": [
      "Warning : `load_model` does not return WordVectorModel or SupervisedModel any more, but a `FastText` object which is very similar.\n",
      "Warning : `load_model` does not return WordVectorModel or SupervisedModel any more, but a `FastText` object which is very similar.\n",
      "Warning : `load_model` does not return WordVectorModel or SupervisedModel any more, but a `FastText` object which is very similar.\n",
      "Warning : `load_model` does not return WordVectorModel or SupervisedModel any more, but a `FastText` object which is very similar.\n"
     ]
    },
    {
     "name": "stdout",
     "output_type": "stream",
     "text": [
      "INFO:alpha_automl.automl_api:Scored pipeline, score=0.43559889390190654\n",
      "INFO:alpha_automl.automl_api:Found pipeline, time=0:04:14, scoring...\n",
      "INFO:alpha_automl.automl_api:Scored pipeline, score=0.31596565274341437\n",
      "INFO:alpha_automl.automl_api:Found pipeline, time=0:04:15, scoring...\n",
      "INFO:alpha_automl.automl_api:Scored pipeline, score=0.6186872362101586\n",
      "INFO:alpha_automl.automl_api:Found pipeline, time=0:04:18, scoring...\n"
     ]
    },
    {
     "name": "stderr",
     "output_type": "stream",
     "text": [
      "Warning : `load_model` does not return WordVectorModel or SupervisedModel any more, but a `FastText` object which is very similar.\n",
      "Warning : `load_model` does not return WordVectorModel or SupervisedModel any more, but a `FastText` object which is very similar.\n"
     ]
    },
    {
     "name": "stdout",
     "output_type": "stream",
     "text": [
      "DEBUG:matplotlib:matplotlib data path: /ext3/miniconda3/lib/python3.10/site-packages/matplotlib/mpl-data\n",
      "DEBUG:matplotlib:CONFIGDIR=/home/yfw215/.config/matplotlib\n",
      "DEBUG:matplotlib:interactive is False\n",
      "DEBUG:matplotlib:platform is linux\n"
     ]
    },
    {
     "name": "stderr",
     "output_type": "stream",
     "text": [
      "Warning : `load_model` does not return WordVectorModel or SupervisedModel any more, but a `FastText` object which is very similar.\n"
     ]
    },
    {
     "name": "stdout",
     "output_type": "stream",
     "text": [
      "INFO:alpha_automl.automl_api:Scored pipeline, score=0.4102750691311308\n",
      "INFO:alpha_automl.automl_api:Found pipeline, time=0:05:17, scoring...\n",
      "INFO:alpha_automl.automl_api:Scored pipeline, score=0.5280163003929559\n",
      "INFO:alpha_automl.automl_api:Found pipeline, time=0:05:17, scoring...\n",
      "INFO:alpha_automl.automl_api:Scored pipeline, score=0.4252656090816475\n",
      "INFO:alpha_automl.automl_api:Found pipeline, time=0:05:18, scoring...\n"
     ]
    },
    {
     "name": "stderr",
     "output_type": "stream",
     "text": [
      "Warning : `load_model` does not return WordVectorModel or SupervisedModel any more, but a `FastText` object which is very similar.\n",
      "Warning : `load_model` does not return WordVectorModel or SupervisedModel any more, but a `FastText` object which is very similar.\n",
      "Warning : `load_model` does not return WordVectorModel or SupervisedModel any more, but a `FastText` object which is very similar.\n",
      "Warning : `load_model` does not return WordVectorModel or SupervisedModel any more, but a `FastText` object which is very similar.\n"
     ]
    },
    {
     "name": "stdout",
     "output_type": "stream",
     "text": [
      "INFO:alpha_automl.automl_api:Scored pipeline, score=0.36675884150778637\n",
      "INFO:alpha_automl.automl_api:Found pipeline, time=0:06:15, scoring...\n",
      "INFO:alpha_automl.automl_api:Scored pipeline, score=0.4252656090816475\n",
      "INFO:alpha_automl.automl_api:Found pipeline, time=0:06:17, scoring...\n",
      "INFO:alpha_automl.automl_api:Scored pipeline, score=0.6787949352350459\n",
      "DEBUG:matplotlib:matplotlib data path: /ext3/miniconda3/lib/python3.10/site-packages/matplotlib/mpl-data\n",
      "DEBUG:matplotlib:CONFIGDIR=/home/yfw215/.config/matplotlib\n",
      "DEBUG:matplotlib:interactive is False\n",
      "DEBUG:matplotlib:platform is linux\n",
      "INFO:alpha_automl.automl_api:Found pipeline, time=0:06:19, scoring...\n",
      "INFO:alpha_automl.automl_api:Scored pipeline, score=0.4252656090816475\n",
      "INFO:alpha_automl.automl_api:Found pipeline, time=0:06:31, scoring...\n"
     ]
    },
    {
     "name": "stderr",
     "output_type": "stream",
     "text": [
      "Warning : `load_model` does not return WordVectorModel or SupervisedModel any more, but a `FastText` object which is very similar.\n",
      "Warning : `load_model` does not return WordVectorModel or SupervisedModel any more, but a `FastText` object which is very similar.\n",
      "Warning : `load_model` does not return WordVectorModel or SupervisedModel any more, but a `FastText` object which is very similar.\n",
      "Warning : `load_model` does not return WordVectorModel or SupervisedModel any more, but a `FastText` object which is very similar.\n"
     ]
    },
    {
     "name": "stdout",
     "output_type": "stream",
     "text": [
      "INFO:alpha_automl.automl_api:Scored pipeline, score=0.4111483044680541\n",
      "INFO:alpha_automl.automl_api:Found pipeline, time=0:07:20, scoring...\n",
      "INFO:alpha_automl.automl_api:Scored pipeline, score=0.6144665987483627\n",
      "INFO:alpha_automl.automl_api:Found pipeline, time=0:07:21, scoring...\n",
      "INFO:alpha_automl.automl_api:Scored pipeline, score=0.4252656090816475\n",
      "INFO:alpha_automl.automl_api:Found pipeline, time=0:07:23, scoring...\n"
     ]
    },
    {
     "name": "stderr",
     "output_type": "stream",
     "text": [
      "Warning : `load_model` does not return WordVectorModel or SupervisedModel any more, but a `FastText` object which is very similar.\n",
      "Warning : `load_model` does not return WordVectorModel or SupervisedModel any more, but a `FastText` object which is very similar.\n",
      "Warning : `load_model` does not return WordVectorModel or SupervisedModel any more, but a `FastText` object which is very similar.\n",
      "Warning : `load_model` does not return WordVectorModel or SupervisedModel any more, but a `FastText` object which is very similar.\n"
     ]
    },
    {
     "name": "stdout",
     "output_type": "stream",
     "text": [
      "INFO:alpha_automl.automl_api:Scored pipeline, score=0.4142046281472857\n",
      "INFO:alpha_automl.automl_api:Found pipeline, time=0:08:19, scoring...\n",
      "INFO:alpha_automl.automl_api:Scored pipeline, score=0.4252656090816475\n",
      "INFO:alpha_automl.automl_api:Found pipeline, time=0:08:19, scoring...\n",
      "INFO:alpha_automl.automl_api:Scored pipeline, score=0.4252656090816475\n",
      "INFO:alpha_automl.automl_api:Found pipeline, time=0:08:20, scoring...\n",
      "INFO:alpha_automl.automl_api:Scored pipeline, score=0.605006549265027\n",
      "INFO:alpha_automl.automl_api:Found pipeline, time=0:08:27, scoring...\n",
      "INFO:alpha_automl.automl_api:Scored pipeline, score=0.3169844273031582\n",
      "INFO:alpha_automl.automl_api:Found pipeline, time=0:08:27, scoring...\n",
      "INFO:alpha_automl.automl_api:Scored pipeline, score=0.6453209139863193\n",
      "INFO:alpha_automl.automl_api:Found pipeline, time=0:08:28, scoring...\n",
      "INFO:alpha_automl.automl_api:Scored pipeline, score=0.4252656090816475\n",
      "INFO:alpha_automl.automl_api:Found pipeline, time=0:08:28, scoring...\n",
      "INFO:alpha_automl.automl_api:Scored pipeline, score=0.4037258041042061\n",
      "INFO:alpha_automl.automl_api:Found pipeline, time=0:08:29, scoring...\n",
      "INFO:alpha_automl.automl_api:Scored pipeline, score=0.4252656090816475\n",
      "INFO:alpha_automl.automl_api:Found pipeline, time=0:08:58, scoring...\n"
     ]
    },
    {
     "name": "stderr",
     "output_type": "stream",
     "text": [
      "Warning : `load_model` does not return WordVectorModel or SupervisedModel any more, but a `FastText` object which is very similar.\n",
      "Warning : `load_model` does not return WordVectorModel or SupervisedModel any more, but a `FastText` object which is very similar.\n",
      "Warning : `load_model` does not return WordVectorModel or SupervisedModel any more, but a `FastText` object which is very similar.\n",
      "Warning : `load_model` does not return WordVectorModel or SupervisedModel any more, but a `FastText` object which is very similar.\n"
     ]
    },
    {
     "name": "stdout",
     "output_type": "stream",
     "text": [
      "INFO:alpha_automl.automl_api:Scored pipeline, score=0.5613447824188619\n",
      "INFO:alpha_automl.automl_api:Found pipeline, time=0:09:53, scoring...\n",
      "INFO:alpha_automl.automl_api:Scored pipeline, score=0.4222092854024159\n",
      "INFO:alpha_automl.automl_api:Found pipeline, time=0:09:53, scoring...\n",
      "INFO:alpha_automl.automl_api:Scored pipeline, score=0.6917479260660748\n",
      "INFO:alpha_automl.automl_api:Found pipeline, time=0:09:55, scoring...\n",
      "INFO:alpha_automl.automl_api:Scored pipeline, score=0.5268519866103915\n",
      "INFO:alpha_automl.automl_api:Found pipeline, time=0:09:56, scoring...\n",
      "INFO:alpha_automl.automl_api:Scored pipeline, score=0.42337359918498035\n",
      "INFO:alpha_automl.automl_api:Found 34 pipelines\n"
     ]
    }
   ],
   "source": [
    "automl.fit(X_train, y_train)"
   ]
  },
  {
   "cell_type": "markdown",
   "metadata": {},
   "source": [
    "After the pipeline search is complete, we can display the leaderboard:"
   ]
  },
  {
   "cell_type": "markdown",
   "metadata": {},
   "source": [
    "### Exploring Pipelines"
   ]
  },
  {
   "cell_type": "code",
   "execution_count": 9,
   "metadata": {
    "scrolled": true
   },
   "outputs": [
    {
     "name": "stdout",
     "output_type": "stream",
     "text": [
      "DEBUG:matplotlib:CACHEDIR=/home/yfw215/.cache/matplotlib\n",
      "DEBUG:matplotlib.font_manager:font search path [PosixPath('/ext3/miniconda3/lib/python3.10/site-packages/matplotlib/mpl-data/fonts/ttf'), PosixPath('/ext3/miniconda3/lib/python3.10/site-packages/matplotlib/mpl-data/fonts/afm'), PosixPath('/ext3/miniconda3/lib/python3.10/site-packages/matplotlib/mpl-data/fonts/pdfcorefonts')]\n",
      "WARNING:matplotlib.font_manager:Matplotlib is building the font cache; this may take a moment.\n",
      "INFO:matplotlib.font_manager:generated new fontManager\n"
     ]
    },
    {
     "data": {
      "text/html": [
       "<style type=\"text/css\">\n",
       "</style>\n",
       "<table id=\"T_7ee51\">\n",
       "  <thead>\n",
       "    <tr>\n",
       "      <th id=\"T_7ee51_level0_col0\" class=\"col_heading level0 col0\" >ranking</th>\n",
       "      <th id=\"T_7ee51_level0_col1\" class=\"col_heading level0 col1\" >pipeline</th>\n",
       "      <th id=\"T_7ee51_level0_col2\" class=\"col_heading level0 col2\" >accuracy_score</th>\n",
       "    </tr>\n",
       "  </thead>\n",
       "  <tbody>\n",
       "    <tr>\n",
       "      <td id=\"T_7ee51_row0_col0\" class=\"data row0 col0\" >1</td>\n",
       "      <td id=\"T_7ee51_row0_col1\" class=\"data row0 col1\" >SimpleImputer, ColumnTransformer, CountVectorizer, OneHotEncoder, MaxAbsScaler, SelectPercentile, LogisticRegression</td>\n",
       "      <td id=\"T_7ee51_row0_col2\" class=\"data row0 col2\" >0.692</td>\n",
       "    </tr>\n",
       "    <tr>\n",
       "      <td id=\"T_7ee51_row1_col0\" class=\"data row1 col0\" >2</td>\n",
       "      <td id=\"T_7ee51_row1_col1\" class=\"data row1 col1\" >SimpleImputer, ColumnTransformer, CountVectorizer, OneHotEncoder, MaxAbsScaler, LogisticRegression</td>\n",
       "      <td id=\"T_7ee51_row1_col2\" class=\"data row1 col2\" >0.679</td>\n",
       "    </tr>\n",
       "    <tr>\n",
       "      <td id=\"T_7ee51_row2_col0\" class=\"data row2 col0\" >3</td>\n",
       "      <td id=\"T_7ee51_row2_col1\" class=\"data row2 col1\" >SimpleImputer, ColumnTransformer, CountVectorizer, OneHotEncoder, MaxAbsScaler, SelectPercentile, PassiveAggressiveClassifier</td>\n",
       "      <td id=\"T_7ee51_row2_col2\" class=\"data row2 col2\" >0.645</td>\n",
       "    </tr>\n",
       "    <tr>\n",
       "      <td id=\"T_7ee51_row3_col0\" class=\"data row3 col0\" >4</td>\n",
       "      <td id=\"T_7ee51_row3_col1\" class=\"data row3 col1\" >SimpleImputer, ColumnTransformer, CountVectorizer, OneHotEncoder, MaxAbsScaler, DecisionTreeClassifier</td>\n",
       "      <td id=\"T_7ee51_row3_col2\" class=\"data row3 col2\" >0.628</td>\n",
       "    </tr>\n",
       "    <tr>\n",
       "      <td id=\"T_7ee51_row4_col0\" class=\"data row4 col0\" >5</td>\n",
       "      <td id=\"T_7ee51_row4_col1\" class=\"data row4 col1\" >SimpleImputer, ColumnTransformer, CountVectorizer, OneHotEncoder, MaxAbsScaler, SelectPercentile, DecisionTreeClassifier</td>\n",
       "      <td id=\"T_7ee51_row4_col2\" class=\"data row4 col2\" >0.619</td>\n",
       "    </tr>\n",
       "    <tr>\n",
       "      <td id=\"T_7ee51_row5_col0\" class=\"data row5 col0\" >6</td>\n",
       "      <td id=\"T_7ee51_row5_col1\" class=\"data row5 col1\" >SimpleImputer, ColumnTransformer, CountVectorizer, OneHotEncoder, MaxAbsScaler, PassiveAggressiveClassifier</td>\n",
       "      <td id=\"T_7ee51_row5_col2\" class=\"data row5 col2\" >0.614</td>\n",
       "    </tr>\n",
       "    <tr>\n",
       "      <td id=\"T_7ee51_row6_col0\" class=\"data row6 col0\" >7</td>\n",
       "      <td id=\"T_7ee51_row6_col1\" class=\"data row6 col1\" >SimpleImputer, ColumnTransformer, TfidfVectorizer, OneHotEncoder, MaxAbsScaler, DecisionTreeClassifier</td>\n",
       "      <td id=\"T_7ee51_row6_col2\" class=\"data row6 col2\" >0.605</td>\n",
       "    </tr>\n",
       "    <tr>\n",
       "      <td id=\"T_7ee51_row7_col0\" class=\"data row7 col0\" >8</td>\n",
       "      <td id=\"T_7ee51_row7_col1\" class=\"data row7 col1\" >SimpleImputer, ColumnTransformer, FastTextEmbedder, OneHotEncoder, MaxAbsScaler, PassiveAggressiveClassifier</td>\n",
       "      <td id=\"T_7ee51_row7_col2\" class=\"data row7 col2\" >0.561</td>\n",
       "    </tr>\n",
       "    <tr>\n",
       "      <td id=\"T_7ee51_row8_col0\" class=\"data row8 col0\" >9</td>\n",
       "      <td id=\"T_7ee51_row8_col1\" class=\"data row8 col1\" >SimpleImputer, ColumnTransformer, CountVectorizer, OneHotEncoder, MaxAbsScaler, SelectKBest, DecisionTreeClassifier</td>\n",
       "      <td id=\"T_7ee51_row8_col2\" class=\"data row8 col2\" >0.528</td>\n",
       "    </tr>\n",
       "    <tr>\n",
       "      <td id=\"T_7ee51_row9_col0\" class=\"data row9 col0\" >10</td>\n",
       "      <td id=\"T_7ee51_row9_col1\" class=\"data row9 col1\" >SimpleImputer, ColumnTransformer, CountVectorizer, OneHotEncoder, MaxAbsScaler, SelectKBest, LogisticRegression</td>\n",
       "      <td id=\"T_7ee51_row9_col2\" class=\"data row9 col2\" >0.527</td>\n",
       "    </tr>\n",
       "    <tr>\n",
       "      <td id=\"T_7ee51_row10_col0\" class=\"data row10 col0\" >11</td>\n",
       "      <td id=\"T_7ee51_row10_col1\" class=\"data row10 col1\" >SimpleImputer, ColumnTransformer, FastTextEmbedder, OneHotEncoder, MaxAbsScaler, DecisionTreeClassifier</td>\n",
       "      <td id=\"T_7ee51_row10_col2\" class=\"data row10 col2\" >0.436</td>\n",
       "    </tr>\n",
       "    <tr>\n",
       "      <td id=\"T_7ee51_row11_col0\" class=\"data row11 col0\" >12</td>\n",
       "      <td id=\"T_7ee51_row11_col1\" class=\"data row11 col1\" >SimpleImputer, ColumnTransformer, CountVectorizer, OneHotEncoder, MaxAbsScaler, GenericUnivariateSelect, DecisionTreeClassifier</td>\n",
       "      <td id=\"T_7ee51_row11_col2\" class=\"data row11 col2\" >0.425</td>\n",
       "    </tr>\n",
       "    <tr>\n",
       "      <td id=\"T_7ee51_row12_col0\" class=\"data row12 col0\" >13</td>\n",
       "      <td id=\"T_7ee51_row12_col1\" class=\"data row12 col1\" >SimpleImputer, ColumnTransformer, CountVectorizer, OneHotEncoder, MaxAbsScaler, GenericUnivariateSelect, LogisticRegression</td>\n",
       "      <td id=\"T_7ee51_row12_col2\" class=\"data row12 col2\" >0.425</td>\n",
       "    </tr>\n",
       "    <tr>\n",
       "      <td id=\"T_7ee51_row13_col0\" class=\"data row13 col0\" >14</td>\n",
       "      <td id=\"T_7ee51_row13_col1\" class=\"data row13 col1\" >SimpleImputer, ColumnTransformer, CountVectorizer, OneHotEncoder, MaxAbsScaler, GenericUnivariateSelect, BaggingClassifier</td>\n",
       "      <td id=\"T_7ee51_row13_col2\" class=\"data row13 col2\" >0.425</td>\n",
       "    </tr>\n",
       "    <tr>\n",
       "      <td id=\"T_7ee51_row14_col0\" class=\"data row14 col0\" >15</td>\n",
       "      <td id=\"T_7ee51_row14_col1\" class=\"data row14 col1\" >SimpleImputer, ColumnTransformer, CountVectorizer, OneHotEncoder, MaxAbsScaler, GenericUnivariateSelect, GradientBoostingClassifier</td>\n",
       "      <td id=\"T_7ee51_row14_col2\" class=\"data row14 col2\" >0.425</td>\n",
       "    </tr>\n",
       "    <tr>\n",
       "      <td id=\"T_7ee51_row15_col0\" class=\"data row15 col0\" >16</td>\n",
       "      <td id=\"T_7ee51_row15_col1\" class=\"data row15 col1\" >SimpleImputer, ColumnTransformer, CountVectorizer, OneHotEncoder, MaxAbsScaler, GenericUnivariateSelect, LGBMClassifier</td>\n",
       "      <td id=\"T_7ee51_row15_col2\" class=\"data row15 col2\" >0.425</td>\n",
       "    </tr>\n",
       "    <tr>\n",
       "      <td id=\"T_7ee51_row16_col0\" class=\"data row16 col0\" >17</td>\n",
       "      <td id=\"T_7ee51_row16_col1\" class=\"data row16 col1\" >SimpleImputer, ColumnTransformer, CountVectorizer, OneHotEncoder, MaxAbsScaler, GenericUnivariateSelect, XGBClassifier</td>\n",
       "      <td id=\"T_7ee51_row16_col2\" class=\"data row16 col2\" >0.425</td>\n",
       "    </tr>\n",
       "    <tr>\n",
       "      <td id=\"T_7ee51_row17_col0\" class=\"data row17 col0\" >18</td>\n",
       "      <td id=\"T_7ee51_row17_col1\" class=\"data row17 col1\" >SimpleImputer, ColumnTransformer, CountVectorizer, OneHotEncoder, MaxAbsScaler, GenericUnivariateSelect, ExtraTreesClassifier</td>\n",
       "      <td id=\"T_7ee51_row17_col2\" class=\"data row17 col2\" >0.425</td>\n",
       "    </tr>\n",
       "    <tr>\n",
       "      <td id=\"T_7ee51_row18_col0\" class=\"data row18 col0\" >19</td>\n",
       "      <td id=\"T_7ee51_row18_col1\" class=\"data row18 col1\" >SimpleImputer, ColumnTransformer, CountVectorizer, OneHotEncoder, MaxAbsScaler, GenericUnivariateSelect, BernoulliNB</td>\n",
       "      <td id=\"T_7ee51_row18_col2\" class=\"data row18 col2\" >0.425</td>\n",
       "    </tr>\n",
       "    <tr>\n",
       "      <td id=\"T_7ee51_row19_col0\" class=\"data row19 col0\" >20</td>\n",
       "      <td id=\"T_7ee51_row19_col1\" class=\"data row19 col1\" >SimpleImputer, ColumnTransformer, TfidfVectorizer, OneHotEncoder, MaxAbsScaler, GenericUnivariateSelect, LogisticRegression</td>\n",
       "      <td id=\"T_7ee51_row19_col2\" class=\"data row19 col2\" >0.425</td>\n",
       "    </tr>\n",
       "    <tr>\n",
       "      <td id=\"T_7ee51_row20_col0\" class=\"data row20 col0\" >21</td>\n",
       "      <td id=\"T_7ee51_row20_col1\" class=\"data row20 col1\" >SimpleImputer, ColumnTransformer, CountVectorizer, OneHotEncoder, MaxAbsScaler, GenericUnivariateSelect, KNeighborsClassifier</td>\n",
       "      <td id=\"T_7ee51_row20_col2\" class=\"data row20 col2\" >0.425</td>\n",
       "    </tr>\n",
       "    <tr>\n",
       "      <td id=\"T_7ee51_row21_col0\" class=\"data row21 col0\" >22</td>\n",
       "      <td id=\"T_7ee51_row21_col1\" class=\"data row21 col1\" >SimpleImputer, ColumnTransformer, TfidfVectorizer, OneHotEncoder, MaxAbsScaler, GenericUnivariateSelect, GradientBoostingClassifier</td>\n",
       "      <td id=\"T_7ee51_row21_col2\" class=\"data row21 col2\" >0.423</td>\n",
       "    </tr>\n",
       "    <tr>\n",
       "      <td id=\"T_7ee51_row22_col0\" class=\"data row22 col0\" >23</td>\n",
       "      <td id=\"T_7ee51_row22_col1\" class=\"data row22 col1\" >SimpleImputer, ColumnTransformer, TfidfVectorizer, OneHotEncoder, MaxAbsScaler, GenericUnivariateSelect, BaggingClassifier</td>\n",
       "      <td id=\"T_7ee51_row22_col2\" class=\"data row22 col2\" >0.422</td>\n",
       "    </tr>\n",
       "    <tr>\n",
       "      <td id=\"T_7ee51_row23_col0\" class=\"data row23 col0\" >24</td>\n",
       "      <td id=\"T_7ee51_row23_col1\" class=\"data row23 col1\" >SimpleImputer, ColumnTransformer, TfidfVectorizer, OneHotEncoder, MaxAbsScaler, GenericUnivariateSelect, DecisionTreeClassifier</td>\n",
       "      <td id=\"T_7ee51_row23_col2\" class=\"data row23 col2\" >0.422</td>\n",
       "    </tr>\n",
       "    <tr>\n",
       "      <td id=\"T_7ee51_row24_col0\" class=\"data row24 col0\" >25</td>\n",
       "      <td id=\"T_7ee51_row24_col1\" class=\"data row24 col1\" >SimpleImputer, ColumnTransformer, FastTextEmbedder, OneHotEncoder, MaxAbsScaler, GenericUnivariateSelect, GradientBoostingClassifier</td>\n",
       "      <td id=\"T_7ee51_row24_col2\" class=\"data row24 col2\" >0.414</td>\n",
       "    </tr>\n",
       "    <tr>\n",
       "      <td id=\"T_7ee51_row25_col0\" class=\"data row25 col0\" >26</td>\n",
       "      <td id=\"T_7ee51_row25_col1\" class=\"data row25 col1\" >SimpleImputer, ColumnTransformer, FastTextEmbedder, OneHotEncoder, MaxAbsScaler, GenericUnivariateSelect, LinearDiscriminantAnalysis</td>\n",
       "      <td id=\"T_7ee51_row25_col2\" class=\"data row25 col2\" >0.411</td>\n",
       "    </tr>\n",
       "    <tr>\n",
       "      <td id=\"T_7ee51_row26_col0\" class=\"data row26 col0\" >27</td>\n",
       "      <td id=\"T_7ee51_row26_col1\" class=\"data row26 col1\" >SimpleImputer, ColumnTransformer, FastTextEmbedder, OneHotEncoder, MaxAbsScaler, GenericUnivariateSelect, LogisticRegression</td>\n",
       "      <td id=\"T_7ee51_row26_col2\" class=\"data row26 col2\" >0.410</td>\n",
       "    </tr>\n",
       "    <tr>\n",
       "      <td id=\"T_7ee51_row27_col0\" class=\"data row27 col0\" >28</td>\n",
       "      <td id=\"T_7ee51_row27_col1\" class=\"data row27 col1\" >SimpleImputer, ColumnTransformer, FastTextEmbedder, OneHotEncoder, MaxAbsScaler, GenericUnivariateSelect, PassiveAggressiveClassifier</td>\n",
       "      <td id=\"T_7ee51_row27_col2\" class=\"data row27 col2\" >0.405</td>\n",
       "    </tr>\n",
       "    <tr>\n",
       "      <td id=\"T_7ee51_row28_col0\" class=\"data row28 col0\" >29</td>\n",
       "      <td id=\"T_7ee51_row28_col1\" class=\"data row28 col1\" >SimpleImputer, ColumnTransformer, CountVectorizer, OneHotEncoder, MaxAbsScaler, SelectKBest, PassiveAggressiveClassifier</td>\n",
       "      <td id=\"T_7ee51_row28_col2\" class=\"data row28 col2\" >0.404</td>\n",
       "    </tr>\n",
       "    <tr>\n",
       "      <td id=\"T_7ee51_row29_col0\" class=\"data row29 col0\" >30</td>\n",
       "      <td id=\"T_7ee51_row29_col1\" class=\"data row29 col1\" >SimpleImputer, ColumnTransformer, FastTextEmbedder, OneHotEncoder, MaxAbsScaler, GenericUnivariateSelect, BaggingClassifier</td>\n",
       "      <td id=\"T_7ee51_row29_col2\" class=\"data row29 col2\" >0.367</td>\n",
       "    </tr>\n",
       "    <tr>\n",
       "      <td id=\"T_7ee51_row30_col0\" class=\"data row30 col0\" >31</td>\n",
       "      <td id=\"T_7ee51_row30_col1\" class=\"data row30 col1\" >SimpleImputer, ColumnTransformer, FastTextEmbedder, OneHotEncoder, MaxAbsScaler, GenericUnivariateSelect, DecisionTreeClassifier</td>\n",
       "      <td id=\"T_7ee51_row30_col2\" class=\"data row30 col2\" >0.366</td>\n",
       "    </tr>\n",
       "    <tr>\n",
       "      <td id=\"T_7ee51_row31_col0\" class=\"data row31 col0\" >32</td>\n",
       "      <td id=\"T_7ee51_row31_col1\" class=\"data row31 col1\" >SimpleImputer, ColumnTransformer, CountVectorizer, OneHotEncoder, MaxAbsScaler, GenericUnivariateSelect, SGDClassifier</td>\n",
       "      <td id=\"T_7ee51_row31_col2\" class=\"data row31 col2\" >0.317</td>\n",
       "    </tr>\n",
       "    <tr>\n",
       "      <td id=\"T_7ee51_row32_col0\" class=\"data row32 col0\" >33</td>\n",
       "      <td id=\"T_7ee51_row32_col1\" class=\"data row32 col1\" >SimpleImputer, ColumnTransformer, CountVectorizer, OneHotEncoder, MaxAbsScaler, GenericUnivariateSelect, PassiveAggressiveClassifier</td>\n",
       "      <td id=\"T_7ee51_row32_col2\" class=\"data row32 col2\" >0.316</td>\n",
       "    </tr>\n",
       "    <tr>\n",
       "      <td id=\"T_7ee51_row33_col0\" class=\"data row33 col0\" >34</td>\n",
       "      <td id=\"T_7ee51_row33_col1\" class=\"data row33 col1\" >SimpleImputer, ColumnTransformer, TfidfVectorizer, OneHotEncoder, MaxAbsScaler, GenericUnivariateSelect, PassiveAggressiveClassifier</td>\n",
       "      <td id=\"T_7ee51_row33_col2\" class=\"data row33 col2\" >0.316</td>\n",
       "    </tr>\n",
       "  </tbody>\n",
       "</table>\n"
      ],
      "text/plain": [
       "<pandas.io.formats.style.Styler at 0x1552f1692320>"
      ]
     },
     "execution_count": 9,
     "metadata": {},
     "output_type": "execute_result"
    }
   ],
   "source": [
    "automl.plot_leaderboard()"
   ]
  },
  {
   "cell_type": "code",
   "execution_count": null,
   "metadata": {},
   "outputs": [],
   "source": [
    "automl.plot_comparison_pipelines()"
   ]
  }
 ],
 "metadata": {
  "kernelspec": {
   "display_name": "my_env",
   "language": "python",
   "name": "my_env"
  },
  "language_info": {
   "codemirror_mode": {
    "name": "ipython",
    "version": 3
   },
   "file_extension": ".py",
   "mimetype": "text/x-python",
   "name": "python",
   "nbconvert_exporter": "python",
   "pygments_lexer": "ipython3",
   "version": "3.10.9"
  }
 },
 "nbformat": 4,
 "nbformat_minor": 4
}
