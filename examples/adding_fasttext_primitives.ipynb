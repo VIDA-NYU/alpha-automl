{
 "cells": [
  {
   "cell_type": "markdown",
   "metadata": {},
   "source": [
    "## Adding Fasttext Primitives"
   ]
  },
  {
   "cell_type": "markdown",
   "metadata": {},
   "source": [
    "First, import the class `AutoMLClassifier`"
   ]
  },
  {
   "cell_type": "code",
   "execution_count": 1,
   "metadata": {},
   "outputs": [],
   "source": [
    "from alpha_automl import AutoMLClassifier\n",
    "import pandas as pd"
   ]
  },
  {
   "cell_type": "markdown",
   "metadata": {},
   "source": [
    "### Generating Pipelines for CSV Datasets"
   ]
  },
  {
   "cell_type": "markdown",
   "metadata": {},
   "source": [
    "In this example, we are generating pipelines for a CSV dataset. The sentiment dataset is used for this example."
   ]
  },
  {
   "cell_type": "code",
   "execution_count": 2,
   "metadata": {},
   "outputs": [],
   "source": [
    "output_path = 'tmp/'\n",
    "train_dataset = pd.read_csv('datasets/sentiment/train_data.csv')\n",
    "test_dataset = pd.read_csv('datasets/sentiment/test_data.csv')"
   ]
  },
  {
   "cell_type": "markdown",
   "metadata": {},
   "source": [
    "Removing the target column from the features for the train dataset"
   ]
  },
  {
   "cell_type": "code",
   "execution_count": 3,
   "metadata": {},
   "outputs": [
    {
     "data": {
      "text/html": [
       "<div>\n",
       "<style scoped>\n",
       "    .dataframe tbody tr th:only-of-type {\n",
       "        vertical-align: middle;\n",
       "    }\n",
       "\n",
       "    .dataframe tbody tr th {\n",
       "        vertical-align: top;\n",
       "    }\n",
       "\n",
       "    .dataframe thead th {\n",
       "        text-align: right;\n",
       "    }\n",
       "</style>\n",
       "<table border=\"1\" class=\"dataframe\">\n",
       "  <thead>\n",
       "    <tr style=\"text-align: right;\">\n",
       "      <th></th>\n",
       "      <th>text</th>\n",
       "      <th>Time of Tweet</th>\n",
       "      <th>Age of User</th>\n",
       "      <th>Country</th>\n",
       "    </tr>\n",
       "  </thead>\n",
       "  <tbody>\n",
       "    <tr>\n",
       "      <th>0</th>\n",
       "      <td>I`d have responded, if I were going</td>\n",
       "      <td>morning</td>\n",
       "      <td>0-20</td>\n",
       "      <td>Afghanistan</td>\n",
       "    </tr>\n",
       "    <tr>\n",
       "      <th>1</th>\n",
       "      <td>Sooo SAD I will miss you here in San Diego!!!</td>\n",
       "      <td>noon</td>\n",
       "      <td>21-30</td>\n",
       "      <td>Albania</td>\n",
       "    </tr>\n",
       "    <tr>\n",
       "      <th>2</th>\n",
       "      <td>my boss is bullying me...</td>\n",
       "      <td>night</td>\n",
       "      <td>31-45</td>\n",
       "      <td>Algeria</td>\n",
       "    </tr>\n",
       "    <tr>\n",
       "      <th>3</th>\n",
       "      <td>what interview! leave me alone</td>\n",
       "      <td>morning</td>\n",
       "      <td>46-60</td>\n",
       "      <td>Andorra</td>\n",
       "    </tr>\n",
       "    <tr>\n",
       "      <th>4</th>\n",
       "      <td>Sons of ****, why couldn`t they put them on t...</td>\n",
       "      <td>noon</td>\n",
       "      <td>60-70</td>\n",
       "      <td>Angola</td>\n",
       "    </tr>\n",
       "    <tr>\n",
       "      <th>...</th>\n",
       "      <td>...</td>\n",
       "      <td>...</td>\n",
       "      <td>...</td>\n",
       "      <td>...</td>\n",
       "    </tr>\n",
       "    <tr>\n",
       "      <th>27476</th>\n",
       "      <td>wish we could come see u on Denver  husband l...</td>\n",
       "      <td>night</td>\n",
       "      <td>31-45</td>\n",
       "      <td>Ghana</td>\n",
       "    </tr>\n",
       "    <tr>\n",
       "      <th>27477</th>\n",
       "      <td>I`ve wondered about rake to.  The client has ...</td>\n",
       "      <td>morning</td>\n",
       "      <td>46-60</td>\n",
       "      <td>Greece</td>\n",
       "    </tr>\n",
       "    <tr>\n",
       "      <th>27478</th>\n",
       "      <td>Yay good for both of you. Enjoy the break - y...</td>\n",
       "      <td>noon</td>\n",
       "      <td>60-70</td>\n",
       "      <td>Grenada</td>\n",
       "    </tr>\n",
       "    <tr>\n",
       "      <th>27479</th>\n",
       "      <td>But it was worth it  ****.</td>\n",
       "      <td>night</td>\n",
       "      <td>70-100</td>\n",
       "      <td>Guatemala</td>\n",
       "    </tr>\n",
       "    <tr>\n",
       "      <th>27480</th>\n",
       "      <td>All this flirting going on - The ATG smiles...</td>\n",
       "      <td>morning</td>\n",
       "      <td>0-20</td>\n",
       "      <td>Guinea</td>\n",
       "    </tr>\n",
       "  </tbody>\n",
       "</table>\n",
       "<p>27481 rows × 4 columns</p>\n",
       "</div>"
      ],
      "text/plain": [
       "                                                    text Time of Tweet  \\\n",
       "0                    I`d have responded, if I were going       morning   \n",
       "1          Sooo SAD I will miss you here in San Diego!!!          noon   \n",
       "2                              my boss is bullying me...         night   \n",
       "3                         what interview! leave me alone       morning   \n",
       "4       Sons of ****, why couldn`t they put them on t...          noon   \n",
       "...                                                  ...           ...   \n",
       "27476   wish we could come see u on Denver  husband l...         night   \n",
       "27477   I`ve wondered about rake to.  The client has ...       morning   \n",
       "27478   Yay good for both of you. Enjoy the break - y...          noon   \n",
       "27479                         But it was worth it  ****.         night   \n",
       "27480     All this flirting going on - The ATG smiles...       morning   \n",
       "\n",
       "      Age of User      Country  \n",
       "0            0-20  Afghanistan  \n",
       "1           21-30      Albania  \n",
       "2           31-45      Algeria  \n",
       "3           46-60      Andorra  \n",
       "4           60-70       Angola  \n",
       "...           ...          ...  \n",
       "27476       31-45        Ghana  \n",
       "27477       46-60       Greece  \n",
       "27478       60-70      Grenada  \n",
       "27479      70-100    Guatemala  \n",
       "27480        0-20       Guinea  \n",
       "\n",
       "[27481 rows x 4 columns]"
      ]
     },
     "execution_count": 3,
     "metadata": {},
     "output_type": "execute_result"
    }
   ],
   "source": [
    "target_column = 'sentiment'\n",
    "X_train = train_dataset.drop(columns=[target_column])\n",
    "X_train"
   ]
  },
  {
   "cell_type": "markdown",
   "metadata": {},
   "source": [
    "Selecting the target column for the train dataset"
   ]
  },
  {
   "cell_type": "code",
   "execution_count": 4,
   "metadata": {},
   "outputs": [
    {
     "data": {
      "text/html": [
       "<div>\n",
       "<style scoped>\n",
       "    .dataframe tbody tr th:only-of-type {\n",
       "        vertical-align: middle;\n",
       "    }\n",
       "\n",
       "    .dataframe tbody tr th {\n",
       "        vertical-align: top;\n",
       "    }\n",
       "\n",
       "    .dataframe thead th {\n",
       "        text-align: right;\n",
       "    }\n",
       "</style>\n",
       "<table border=\"1\" class=\"dataframe\">\n",
       "  <thead>\n",
       "    <tr style=\"text-align: right;\">\n",
       "      <th></th>\n",
       "      <th>sentiment</th>\n",
       "    </tr>\n",
       "  </thead>\n",
       "  <tbody>\n",
       "    <tr>\n",
       "      <th>0</th>\n",
       "      <td>neutral</td>\n",
       "    </tr>\n",
       "    <tr>\n",
       "      <th>1</th>\n",
       "      <td>negative</td>\n",
       "    </tr>\n",
       "    <tr>\n",
       "      <th>2</th>\n",
       "      <td>negative</td>\n",
       "    </tr>\n",
       "    <tr>\n",
       "      <th>3</th>\n",
       "      <td>negative</td>\n",
       "    </tr>\n",
       "    <tr>\n",
       "      <th>4</th>\n",
       "      <td>negative</td>\n",
       "    </tr>\n",
       "    <tr>\n",
       "      <th>...</th>\n",
       "      <td>...</td>\n",
       "    </tr>\n",
       "    <tr>\n",
       "      <th>27476</th>\n",
       "      <td>negative</td>\n",
       "    </tr>\n",
       "    <tr>\n",
       "      <th>27477</th>\n",
       "      <td>negative</td>\n",
       "    </tr>\n",
       "    <tr>\n",
       "      <th>27478</th>\n",
       "      <td>positive</td>\n",
       "    </tr>\n",
       "    <tr>\n",
       "      <th>27479</th>\n",
       "      <td>positive</td>\n",
       "    </tr>\n",
       "    <tr>\n",
       "      <th>27480</th>\n",
       "      <td>neutral</td>\n",
       "    </tr>\n",
       "  </tbody>\n",
       "</table>\n",
       "<p>27481 rows × 1 columns</p>\n",
       "</div>"
      ],
      "text/plain": [
       "      sentiment\n",
       "0       neutral\n",
       "1      negative\n",
       "2      negative\n",
       "3      negative\n",
       "4      negative\n",
       "...         ...\n",
       "27476  negative\n",
       "27477  negative\n",
       "27478  positive\n",
       "27479  positive\n",
       "27480   neutral\n",
       "\n",
       "[27481 rows x 1 columns]"
      ]
     },
     "execution_count": 4,
     "metadata": {},
     "output_type": "execute_result"
    }
   ],
   "source": [
    "y_train = train_dataset[[target_column]]\n",
    "y_train"
   ]
  },
  {
   "cell_type": "markdown",
   "metadata": {},
   "source": [
    "### Adding New Primitives into AlphaAutoML's Search Space"
   ]
  },
  {
   "cell_type": "code",
   "execution_count": 5,
   "metadata": {},
   "outputs": [],
   "source": [
    "automl = AutoMLClassifier(output_path, time_bound=10)"
   ]
  },
  {
   "cell_type": "code",
   "execution_count": 6,
   "metadata": {},
   "outputs": [],
   "source": [
    "# Download the fasttext module if not already downloaded\n",
    "import os\n",
    "import fasttext\n",
    "import fasttext.util\n",
    "\n",
    "\n",
    "fasttext.util.download_model('en', if_exists='ignore')  # English\n",
    "fasttext_model_path = os.getcwd() + '/cc.en.300.bin' # change this accordingly to the path where the model is downloaded\n",
    "\n"
   ]
  },
  {
   "cell_type": "code",
   "execution_count": 7,
   "metadata": {},
   "outputs": [],
   "source": [
    "'''\n",
    "Fasttext Module and adding this as a primitive to automl\n",
    "\n",
    "'''\n",
    "from alpha_automl.wrapper_primitives.fasttext import FastTextEmbedder \n",
    "fasttext_embedder = FastTextEmbedder(fasttext_model_path)\n",
    "automl.add_primitives([(fasttext_embedder, 'TEXT_ENCODER')])"
   ]
  },
  {
   "cell_type": "markdown",
   "metadata": {},
   "source": [
    "### Searching  Pipelines"
   ]
  },
  {
   "cell_type": "code",
   "execution_count": 8,
   "metadata": {
    "scrolled": true
   },
   "outputs": [
    {
     "name": "stdout",
     "output_type": "stream",
     "text": [
      "INFO:alpha_automl.automl_api:Found pipeline, time=0:00:03, scoring...\n"
     ]
    },
    {
     "name": "stderr",
     "output_type": "stream",
     "text": [
      "Warning : `load_model` does not return WordVectorModel or SupervisedModel any more, but a `FastText` object which is very similar.\n"
     ]
    },
    {
     "name": "stdout",
     "output_type": "stream",
     "text": [
      "INFO:alpha_automl.automl_api:Scored pipeline, score=0.4252656090816475\n",
      "INFO:alpha_automl.automl_api:Found pipeline, time=0:00:04, scoring...\n",
      "INFO:alpha_automl.automl_api:Scored pipeline, score=0.4252656090816475\n",
      "INFO:alpha_automl.automl_api:Found pipeline, time=0:00:05, scoring...\n",
      "INFO:alpha_automl.automl_api:Scored pipeline, score=0.31596565274341437\n"
     ]
    },
    {
     "name": "stderr",
     "output_type": "stream",
     "text": [
      "Warning : `load_model` does not return WordVectorModel or SupervisedModel any more, but a `FastText` object which is very similar.\n"
     ]
    },
    {
     "name": "stdout",
     "output_type": "stream",
     "text": [
      "INFO:alpha_automl.automl_api:Found pipeline, time=0:00:32, scoring...\n"
     ]
    },
    {
     "name": "stderr",
     "output_type": "stream",
     "text": [
      "Warning : `load_model` does not return WordVectorModel or SupervisedModel any more, but a `FastText` object which is very similar.\n",
      "Warning : `load_model` does not return WordVectorModel or SupervisedModel any more, but a `FastText` object which is very similar.\n",
      "Warning : `load_model` does not return WordVectorModel or SupervisedModel any more, but a `FastText` object which is very similar.\n",
      "Warning : `load_model` does not return WordVectorModel or SupervisedModel any more, but a `FastText` object which is very similar.\n"
     ]
    },
    {
     "name": "stdout",
     "output_type": "stream",
     "text": [
      "INFO:alpha_automl.automl_api:Scored pipeline, score=0.36646776306214524\n",
      "INFO:alpha_automl.automl_api:Found pipeline, time=0:01:16, scoring...\n",
      "INFO:alpha_automl.automl_api:Scored pipeline, score=0.4217726677339543\n",
      "INFO:alpha_automl.automl_api:Found pipeline, time=0:01:24, scoring...\n"
     ]
    },
    {
     "name": "stderr",
     "output_type": "stream",
     "text": [
      "Warning : `load_model` does not return WordVectorModel or SupervisedModel any more, but a `FastText` object which is very similar.\n",
      "Warning : `load_model` does not return WordVectorModel or SupervisedModel any more, but a `FastText` object which is very similar.\n",
      "Warning : `load_model` does not return WordVectorModel or SupervisedModel any more, but a `FastText` object which is very similar.\n",
      "Warning : `load_model` does not return WordVectorModel or SupervisedModel any more, but a `FastText` object which is very similar.\n"
     ]
    },
    {
     "name": "stdout",
     "output_type": "stream",
     "text": [
      "INFO:alpha_automl.automl_api:Scored pipeline, score=0.4045990394411294\n",
      "INFO:alpha_automl.automl_api:Found pipeline, time=0:02:06, scoring...\n",
      "INFO:alpha_automl.automl_api:Scored pipeline, score=0.6277106680250327\n",
      "INFO:alpha_automl.automl_api:Found pipeline, time=0:02:20, scoring...\n"
     ]
    },
    {
     "name": "stderr",
     "output_type": "stream",
     "text": [
      "Warning : `load_model` does not return WordVectorModel or SupervisedModel any more, but a `FastText` object which is very similar.\n",
      "Warning : `load_model` does not return WordVectorModel or SupervisedModel any more, but a `FastText` object which is very similar.\n",
      "Warning : `load_model` does not return WordVectorModel or SupervisedModel any more, but a `FastText` object which is very similar.\n",
      "Warning : `load_model` does not return WordVectorModel or SupervisedModel any more, but a `FastText` object which is very similar.\n",
      "Warning : `load_model` does not return WordVectorModel or SupervisedModel any more, but a `FastText` object which is very similar.\n"
     ]
    },
    {
     "name": "stdout",
     "output_type": "stream",
     "text": [
      "INFO:alpha_automl.automl_api:Scored pipeline, score=0.43559889390190654\n",
      "INFO:alpha_automl.automl_api:Found pipeline, time=0:03:24, scoring...\n",
      "INFO:alpha_automl.automl_api:Scored pipeline, score=0.31596565274341437\n",
      "INFO:alpha_automl.automl_api:Found pipeline, time=0:03:24, scoring...\n",
      "INFO:alpha_automl.automl_api:Scored pipeline, score=0.6186872362101586\n",
      "INFO:alpha_automl.automl_api:Found pipeline, time=0:03:27, scoring...\n"
     ]
    },
    {
     "name": "stderr",
     "output_type": "stream",
     "text": [
      "Warning : `load_model` does not return WordVectorModel or SupervisedModel any more, but a `FastText` object which is very similar.\n",
      "Warning : `load_model` does not return WordVectorModel or SupervisedModel any more, but a `FastText` object which is very similar.\n"
     ]
    },
    {
     "name": "stdout",
     "output_type": "stream",
     "text": [
      "DEBUG:matplotlib:matplotlib data path: /ext3/miniconda3/lib/python3.10/site-packages/matplotlib/mpl-data\n",
      "DEBUG:matplotlib:CONFIGDIR=/home/yfw215/.config/matplotlib\n",
      "DEBUG:matplotlib:interactive is False\n",
      "DEBUG:matplotlib:platform is linux\n"
     ]
    },
    {
     "name": "stderr",
     "output_type": "stream",
     "text": [
      "Warning : `load_model` does not return WordVectorModel or SupervisedModel any more, but a `FastText` object which is very similar.\n"
     ]
    },
    {
     "name": "stdout",
     "output_type": "stream",
     "text": [
      "INFO:alpha_automl.automl_api:Scored pipeline, score=0.4102750691311308\n",
      "INFO:alpha_automl.automl_api:Found pipeline, time=0:04:10, scoring...\n",
      "INFO:alpha_automl.automl_api:Scored pipeline, score=0.5280163003929559\n",
      "INFO:alpha_automl.automl_api:Found pipeline, time=0:04:10, scoring...\n",
      "INFO:alpha_automl.automl_api:Scored pipeline, score=0.4252656090816475\n",
      "INFO:alpha_automl.automl_api:Found pipeline, time=0:04:10, scoring...\n"
     ]
    },
    {
     "name": "stderr",
     "output_type": "stream",
     "text": [
      "Warning : `load_model` does not return WordVectorModel or SupervisedModel any more, but a `FastText` object which is very similar.\n",
      "Warning : `load_model` does not return WordVectorModel or SupervisedModel any more, but a `FastText` object which is very similar.\n",
      "Warning : `load_model` does not return WordVectorModel or SupervisedModel any more, but a `FastText` object which is very similar.\n",
      "Warning : `load_model` does not return WordVectorModel or SupervisedModel any more, but a `FastText` object which is very similar.\n"
     ]
    },
    {
     "name": "stdout",
     "output_type": "stream",
     "text": [
      "INFO:alpha_automl.automl_api:Scored pipeline, score=0.36675884150778637\n",
      "INFO:alpha_automl.automl_api:Found pipeline, time=0:04:56, scoring...\n",
      "INFO:alpha_automl.automl_api:Scored pipeline, score=0.4252656090816475\n",
      "INFO:alpha_automl.automl_api:Found pipeline, time=0:04:58, scoring...\n",
      "INFO:alpha_automl.automl_api:Scored pipeline, score=0.6787949352350459\n",
      "DEBUG:matplotlib:matplotlib data path: /ext3/miniconda3/lib/python3.10/site-packages/matplotlib/mpl-data\n",
      "DEBUG:matplotlib:CONFIGDIR=/home/yfw215/.config/matplotlib\n",
      "DEBUG:matplotlib:interactive is False\n",
      "DEBUG:matplotlib:platform is linux\n",
      "INFO:alpha_automl.automl_api:Found pipeline, time=0:05:00, scoring...\n",
      "INFO:alpha_automl.automl_api:Scored pipeline, score=0.4252656090816475\n",
      "INFO:alpha_automl.automl_api:Found pipeline, time=0:05:10, scoring...\n"
     ]
    },
    {
     "name": "stderr",
     "output_type": "stream",
     "text": [
      "Warning : `load_model` does not return WordVectorModel or SupervisedModel any more, but a `FastText` object which is very similar.\n",
      "Warning : `load_model` does not return WordVectorModel or SupervisedModel any more, but a `FastText` object which is very similar.\n",
      "Warning : `load_model` does not return WordVectorModel or SupervisedModel any more, but a `FastText` object which is very similar.\n",
      "Warning : `load_model` does not return WordVectorModel or SupervisedModel any more, but a `FastText` object which is very similar.\n"
     ]
    },
    {
     "name": "stdout",
     "output_type": "stream",
     "text": [
      "INFO:alpha_automl.automl_api:Scored pipeline, score=0.4111483044680541\n",
      "INFO:alpha_automl.automl_api:Found pipeline, time=0:05:58, scoring...\n",
      "INFO:alpha_automl.automl_api:Scored pipeline, score=0.6144665987483627\n",
      "INFO:alpha_automl.automl_api:Found pipeline, time=0:05:59, scoring...\n",
      "INFO:alpha_automl.automl_api:Scored pipeline, score=0.4252656090816475\n",
      "INFO:alpha_automl.automl_api:Found pipeline, time=0:06:03, scoring...\n"
     ]
    },
    {
     "name": "stderr",
     "output_type": "stream",
     "text": [
      "Warning : `load_model` does not return WordVectorModel or SupervisedModel any more, but a `FastText` object which is very similar.\n",
      "Warning : `load_model` does not return WordVectorModel or SupervisedModel any more, but a `FastText` object which is very similar.\n",
      "Warning : `load_model` does not return WordVectorModel or SupervisedModel any more, but a `FastText` object which is very similar.\n",
      "Warning : `load_model` does not return WordVectorModel or SupervisedModel any more, but a `FastText` object which is very similar.\n"
     ]
    },
    {
     "name": "stdout",
     "output_type": "stream",
     "text": [
      "INFO:alpha_automl.automl_api:Scored pipeline, score=0.4142046281472857\n",
      "INFO:alpha_automl.automl_api:Found pipeline, time=0:07:02, scoring...\n"
     ]
    },
    {
     "name": "stderr",
     "output_type": "stream",
     "text": [
      "Warning : `load_model` does not return WordVectorModel or SupervisedModel any more, but a `FastText` object which is very similar.\n"
     ]
    },
    {
     "name": "stdout",
     "output_type": "stream",
     "text": [
      "INFO:alpha_automl.automl_api:Scored pipeline, score=0.4252656090816475\n",
      "INFO:alpha_automl.automl_api:Found pipeline, time=0:07:03, scoring...\n",
      "INFO:alpha_automl.automl_api:Scored pipeline, score=0.4252656090816475\n",
      "INFO:alpha_automl.automl_api:Found pipeline, time=0:07:04, scoring...\n",
      "INFO:alpha_automl.automl_api:Scored pipeline, score=0.605006549265027\n",
      "INFO:alpha_automl.automl_api:Found pipeline, time=0:07:18, scoring...\n",
      "INFO:alpha_automl.automl_api:Scored pipeline, score=0.3169844273031582\n",
      "INFO:alpha_automl.automl_api:Found pipeline, time=0:07:19, scoring...\n",
      "INFO:alpha_automl.automl_api:Scored pipeline, score=0.6453209139863193\n",
      "INFO:alpha_automl.automl_api:Found pipeline, time=0:07:20, scoring...\n",
      "INFO:alpha_automl.automl_api:Scored pipeline, score=0.4252656090816475\n",
      "INFO:alpha_automl.automl_api:Found pipeline, time=0:07:21, scoring...\n",
      "INFO:alpha_automl.automl_api:Scored pipeline, score=0.4037258041042061\n",
      "INFO:alpha_automl.automl_api:Found pipeline, time=0:07:21, scoring...\n",
      "INFO:alpha_automl.automl_api:Scored pipeline, score=0.4252656090816475\n",
      "INFO:alpha_automl.automl_api:Found pipeline, time=0:07:23, scoring...\n"
     ]
    },
    {
     "name": "stderr",
     "output_type": "stream",
     "text": [
      "Warning : `load_model` does not return WordVectorModel or SupervisedModel any more, but a `FastText` object which is very similar.\n",
      "Warning : `load_model` does not return WordVectorModel or SupervisedModel any more, but a `FastText` object which is very similar.\n",
      "Warning : `load_model` does not return WordVectorModel or SupervisedModel any more, but a `FastText` object which is very similar.\n",
      "Warning : `load_model` does not return WordVectorModel or SupervisedModel any more, but a `FastText` object which is very similar.\n"
     ]
    },
    {
     "name": "stdout",
     "output_type": "stream",
     "text": [
      "INFO:alpha_automl.automl_api:Scored pipeline, score=0.5613447824188619\n",
      "INFO:alpha_automl.automl_api:Found pipeline, time=0:08:13, scoring...\n",
      "INFO:alpha_automl.automl_api:Scored pipeline, score=0.4222092854024159\n",
      "INFO:alpha_automl.automl_api:Found pipeline, time=0:08:13, scoring...\n",
      "INFO:alpha_automl.automl_api:Scored pipeline, score=0.6917479260660748\n",
      "INFO:alpha_automl.automl_api:Found pipeline, time=0:08:14, scoring...\n",
      "INFO:alpha_automl.automl_api:Scored pipeline, score=0.5268519866103915\n",
      "INFO:alpha_automl.automl_api:Found pipeline, time=0:08:15, scoring...\n",
      "INFO:alpha_automl.automl_api:Scored pipeline, score=0.42337359918498035\n",
      "INFO:alpha_automl.automl_api:Found pipeline, time=0:08:17, scoring...\n",
      "INFO:alpha_automl.automl_api:Scored pipeline, score=0.39790423519138407\n",
      "INFO:alpha_automl.automl_api:Found pipeline, time=0:08:18, scoring...\n"
     ]
    },
    {
     "name": "stderr",
     "output_type": "stream",
     "text": [
      "Warning : `load_model` does not return WordVectorModel or SupervisedModel any more, but a `FastText` object which is very similar.\n"
     ]
    },
    {
     "name": "stdout",
     "output_type": "stream",
     "text": [
      "INFO:alpha_automl.automl_api:Scored pipeline, score=0.6409547373017028\n",
      "INFO:alpha_automl.automl_api:Found pipeline, time=0:08:38, scoring...\n"
     ]
    },
    {
     "name": "stderr",
     "output_type": "stream",
     "text": [
      "Warning : `load_model` does not return WordVectorModel or SupervisedModel any more, but a `FastText` object which is very similar.\n"
     ]
    },
    {
     "name": "stdout",
     "output_type": "stream",
     "text": [
      "INFO:alpha_automl.automl_api:Scored pipeline, score=0.4252656090816475\n",
      "INFO:alpha_automl.automl_api:Found pipeline, time=0:08:53, scoring...\n",
      "INFO:alpha_automl.automl_api:Scored pipeline, score=0.4252656090816475\n",
      "INFO:alpha_automl.automl_api:Found pipeline, time=0:08:54, scoring...\n",
      "INFO:alpha_automl.automl_api:Scored pipeline, score=0.4252656090816475\n",
      "INFO:alpha_automl.automl_api:Found pipeline, time=0:08:55, scoring...\n"
     ]
    },
    {
     "name": "stderr",
     "output_type": "stream",
     "text": [
      "Warning : `load_model` does not return WordVectorModel or SupervisedModel any more, but a `FastText` object which is very similar.\n",
      "Warning : `load_model` does not return WordVectorModel or SupervisedModel any more, but a `FastText` object which is very similar.\n",
      "Warning : `load_model` does not return WordVectorModel or SupervisedModel any more, but a `FastText` object which is very similar.\n"
     ]
    },
    {
     "name": "stdout",
     "output_type": "stream",
     "text": [
      "INFO:alpha_automl.automl_api:Scored pipeline, score=0.6718090525396594\n",
      "INFO:alpha_automl.automl_api:Found 40 pipelines\n"
     ]
    }
   ],
   "source": [
    "automl.fit(X_train, y_train)"
   ]
  },
  {
   "cell_type": "markdown",
   "metadata": {},
   "source": [
    "After the pipeline search is complete, we can display the leaderboard:"
   ]
  },
  {
   "cell_type": "markdown",
   "metadata": {},
   "source": [
    "### Exploring Pipelines"
   ]
  },
  {
   "cell_type": "code",
   "execution_count": 9,
   "metadata": {
    "scrolled": true
   },
   "outputs": [
    {
     "name": "stdout",
     "output_type": "stream",
     "text": [
      "DEBUG:matplotlib:CACHEDIR=/home/yfw215/.cache/matplotlib\n",
      "DEBUG:matplotlib.font_manager:Using fontManager instance from /home/yfw215/.cache/matplotlib/fontlist-v330.json\n"
     ]
    },
    {
     "data": {
      "text/html": [
       "<style type=\"text/css\">\n",
       "</style>\n",
       "<table id=\"T_a78bd\">\n",
       "  <thead>\n",
       "    <tr>\n",
       "      <th id=\"T_a78bd_level0_col0\" class=\"col_heading level0 col0\" >ranking</th>\n",
       "      <th id=\"T_a78bd_level0_col1\" class=\"col_heading level0 col1\" >pipeline</th>\n",
       "      <th id=\"T_a78bd_level0_col2\" class=\"col_heading level0 col2\" >accuracy_score</th>\n",
       "    </tr>\n",
       "  </thead>\n",
       "  <tbody>\n",
       "    <tr>\n",
       "      <td id=\"T_a78bd_row0_col0\" class=\"data row0 col0\" >1</td>\n",
       "      <td id=\"T_a78bd_row0_col1\" class=\"data row0 col1\" >SimpleImputer, ColumnTransformer, CountVectorizer, OneHotEncoder, MaxAbsScaler, SelectPercentile, LogisticRegression</td>\n",
       "      <td id=\"T_a78bd_row0_col2\" class=\"data row0 col2\" >0.692</td>\n",
       "    </tr>\n",
       "    <tr>\n",
       "      <td id=\"T_a78bd_row1_col0\" class=\"data row1 col0\" >2</td>\n",
       "      <td id=\"T_a78bd_row1_col1\" class=\"data row1 col1\" >SimpleImputer, ColumnTransformer, CountVectorizer, OneHotEncoder, MaxAbsScaler, LogisticRegression</td>\n",
       "      <td id=\"T_a78bd_row1_col2\" class=\"data row1 col2\" >0.679</td>\n",
       "    </tr>\n",
       "    <tr>\n",
       "      <td id=\"T_a78bd_row2_col0\" class=\"data row2 col0\" >3</td>\n",
       "      <td id=\"T_a78bd_row2_col1\" class=\"data row2 col1\" >SimpleImputer, ColumnTransformer, CountVectorizer, OneHotEncoder, MaxAbsScaler, BaggingClassifier</td>\n",
       "      <td id=\"T_a78bd_row2_col2\" class=\"data row2 col2\" >0.672</td>\n",
       "    </tr>\n",
       "    <tr>\n",
       "      <td id=\"T_a78bd_row3_col0\" class=\"data row3 col0\" >4</td>\n",
       "      <td id=\"T_a78bd_row3_col1\" class=\"data row3 col1\" >SimpleImputer, ColumnTransformer, CountVectorizer, OneHotEncoder, MaxAbsScaler, SelectPercentile, PassiveAggressiveClassifier</td>\n",
       "      <td id=\"T_a78bd_row3_col2\" class=\"data row3 col2\" >0.645</td>\n",
       "    </tr>\n",
       "    <tr>\n",
       "      <td id=\"T_a78bd_row4_col0\" class=\"data row4 col0\" >5</td>\n",
       "      <td id=\"T_a78bd_row4_col1\" class=\"data row4 col1\" >SimpleImputer, ColumnTransformer, CountVectorizer, OneHotEncoder, MaxAbsScaler, GradientBoostingClassifier</td>\n",
       "      <td id=\"T_a78bd_row4_col2\" class=\"data row4 col2\" >0.641</td>\n",
       "    </tr>\n",
       "    <tr>\n",
       "      <td id=\"T_a78bd_row5_col0\" class=\"data row5 col0\" >6</td>\n",
       "      <td id=\"T_a78bd_row5_col1\" class=\"data row5 col1\" >SimpleImputer, ColumnTransformer, CountVectorizer, OneHotEncoder, MaxAbsScaler, DecisionTreeClassifier</td>\n",
       "      <td id=\"T_a78bd_row5_col2\" class=\"data row5 col2\" >0.628</td>\n",
       "    </tr>\n",
       "    <tr>\n",
       "      <td id=\"T_a78bd_row6_col0\" class=\"data row6 col0\" >7</td>\n",
       "      <td id=\"T_a78bd_row6_col1\" class=\"data row6 col1\" >SimpleImputer, ColumnTransformer, CountVectorizer, OneHotEncoder, MaxAbsScaler, SelectPercentile, DecisionTreeClassifier</td>\n",
       "      <td id=\"T_a78bd_row6_col2\" class=\"data row6 col2\" >0.619</td>\n",
       "    </tr>\n",
       "    <tr>\n",
       "      <td id=\"T_a78bd_row7_col0\" class=\"data row7 col0\" >8</td>\n",
       "      <td id=\"T_a78bd_row7_col1\" class=\"data row7 col1\" >SimpleImputer, ColumnTransformer, CountVectorizer, OneHotEncoder, MaxAbsScaler, PassiveAggressiveClassifier</td>\n",
       "      <td id=\"T_a78bd_row7_col2\" class=\"data row7 col2\" >0.614</td>\n",
       "    </tr>\n",
       "    <tr>\n",
       "      <td id=\"T_a78bd_row8_col0\" class=\"data row8 col0\" >9</td>\n",
       "      <td id=\"T_a78bd_row8_col1\" class=\"data row8 col1\" >SimpleImputer, ColumnTransformer, TfidfVectorizer, OneHotEncoder, MaxAbsScaler, DecisionTreeClassifier</td>\n",
       "      <td id=\"T_a78bd_row8_col2\" class=\"data row8 col2\" >0.605</td>\n",
       "    </tr>\n",
       "    <tr>\n",
       "      <td id=\"T_a78bd_row9_col0\" class=\"data row9 col0\" >10</td>\n",
       "      <td id=\"T_a78bd_row9_col1\" class=\"data row9 col1\" >SimpleImputer, ColumnTransformer, FastTextEmbedder, OneHotEncoder, MaxAbsScaler, PassiveAggressiveClassifier</td>\n",
       "      <td id=\"T_a78bd_row9_col2\" class=\"data row9 col2\" >0.561</td>\n",
       "    </tr>\n",
       "    <tr>\n",
       "      <td id=\"T_a78bd_row10_col0\" class=\"data row10 col0\" >11</td>\n",
       "      <td id=\"T_a78bd_row10_col1\" class=\"data row10 col1\" >SimpleImputer, ColumnTransformer, CountVectorizer, OneHotEncoder, MaxAbsScaler, SelectKBest, DecisionTreeClassifier</td>\n",
       "      <td id=\"T_a78bd_row10_col2\" class=\"data row10 col2\" >0.528</td>\n",
       "    </tr>\n",
       "    <tr>\n",
       "      <td id=\"T_a78bd_row11_col0\" class=\"data row11 col0\" >12</td>\n",
       "      <td id=\"T_a78bd_row11_col1\" class=\"data row11 col1\" >SimpleImputer, ColumnTransformer, CountVectorizer, OneHotEncoder, MaxAbsScaler, SelectKBest, LogisticRegression</td>\n",
       "      <td id=\"T_a78bd_row11_col2\" class=\"data row11 col2\" >0.527</td>\n",
       "    </tr>\n",
       "    <tr>\n",
       "      <td id=\"T_a78bd_row12_col0\" class=\"data row12 col0\" >13</td>\n",
       "      <td id=\"T_a78bd_row12_col1\" class=\"data row12 col1\" >SimpleImputer, ColumnTransformer, FastTextEmbedder, OneHotEncoder, MaxAbsScaler, DecisionTreeClassifier</td>\n",
       "      <td id=\"T_a78bd_row12_col2\" class=\"data row12 col2\" >0.436</td>\n",
       "    </tr>\n",
       "    <tr>\n",
       "      <td id=\"T_a78bd_row13_col0\" class=\"data row13 col0\" >14</td>\n",
       "      <td id=\"T_a78bd_row13_col1\" class=\"data row13 col1\" >SimpleImputer, ColumnTransformer, CountVectorizer, OneHotEncoder, MaxAbsScaler, GenericUnivariateSelect, DecisionTreeClassifier</td>\n",
       "      <td id=\"T_a78bd_row13_col2\" class=\"data row13 col2\" >0.425</td>\n",
       "    </tr>\n",
       "    <tr>\n",
       "      <td id=\"T_a78bd_row14_col0\" class=\"data row14 col0\" >15</td>\n",
       "      <td id=\"T_a78bd_row14_col1\" class=\"data row14 col1\" >SimpleImputer, ColumnTransformer, CountVectorizer, OneHotEncoder, MaxAbsScaler, GenericUnivariateSelect, LogisticRegression</td>\n",
       "      <td id=\"T_a78bd_row14_col2\" class=\"data row14 col2\" >0.425</td>\n",
       "    </tr>\n",
       "    <tr>\n",
       "      <td id=\"T_a78bd_row15_col0\" class=\"data row15 col0\" >16</td>\n",
       "      <td id=\"T_a78bd_row15_col1\" class=\"data row15 col1\" >SimpleImputer, ColumnTransformer, CountVectorizer, OneHotEncoder, MaxAbsScaler, GenericUnivariateSelect, BaggingClassifier</td>\n",
       "      <td id=\"T_a78bd_row15_col2\" class=\"data row15 col2\" >0.425</td>\n",
       "    </tr>\n",
       "    <tr>\n",
       "      <td id=\"T_a78bd_row16_col0\" class=\"data row16 col0\" >17</td>\n",
       "      <td id=\"T_a78bd_row16_col1\" class=\"data row16 col1\" >SimpleImputer, ColumnTransformer, CountVectorizer, OneHotEncoder, MaxAbsScaler, GenericUnivariateSelect, GradientBoostingClassifier</td>\n",
       "      <td id=\"T_a78bd_row16_col2\" class=\"data row16 col2\" >0.425</td>\n",
       "    </tr>\n",
       "    <tr>\n",
       "      <td id=\"T_a78bd_row17_col0\" class=\"data row17 col0\" >18</td>\n",
       "      <td id=\"T_a78bd_row17_col1\" class=\"data row17 col1\" >SimpleImputer, ColumnTransformer, CountVectorizer, OneHotEncoder, MaxAbsScaler, GenericUnivariateSelect, LGBMClassifier</td>\n",
       "      <td id=\"T_a78bd_row17_col2\" class=\"data row17 col2\" >0.425</td>\n",
       "    </tr>\n",
       "    <tr>\n",
       "      <td id=\"T_a78bd_row18_col0\" class=\"data row18 col0\" >19</td>\n",
       "      <td id=\"T_a78bd_row18_col1\" class=\"data row18 col1\" >SimpleImputer, ColumnTransformer, CountVectorizer, OneHotEncoder, MaxAbsScaler, GenericUnivariateSelect, XGBClassifier</td>\n",
       "      <td id=\"T_a78bd_row18_col2\" class=\"data row18 col2\" >0.425</td>\n",
       "    </tr>\n",
       "    <tr>\n",
       "      <td id=\"T_a78bd_row19_col0\" class=\"data row19 col0\" >20</td>\n",
       "      <td id=\"T_a78bd_row19_col1\" class=\"data row19 col1\" >SimpleImputer, ColumnTransformer, CountVectorizer, OneHotEncoder, MaxAbsScaler, GenericUnivariateSelect, ExtraTreesClassifier</td>\n",
       "      <td id=\"T_a78bd_row19_col2\" class=\"data row19 col2\" >0.425</td>\n",
       "    </tr>\n",
       "    <tr>\n",
       "      <td id=\"T_a78bd_row20_col0\" class=\"data row20 col0\" >21</td>\n",
       "      <td id=\"T_a78bd_row20_col1\" class=\"data row20 col1\" >SimpleImputer, ColumnTransformer, CountVectorizer, OneHotEncoder, MaxAbsScaler, GenericUnivariateSelect, BernoulliNB</td>\n",
       "      <td id=\"T_a78bd_row20_col2\" class=\"data row20 col2\" >0.425</td>\n",
       "    </tr>\n",
       "    <tr>\n",
       "      <td id=\"T_a78bd_row21_col0\" class=\"data row21 col0\" >22</td>\n",
       "      <td id=\"T_a78bd_row21_col1\" class=\"data row21 col1\" >SimpleImputer, ColumnTransformer, TfidfVectorizer, OneHotEncoder, MaxAbsScaler, GenericUnivariateSelect, LogisticRegression</td>\n",
       "      <td id=\"T_a78bd_row21_col2\" class=\"data row21 col2\" >0.425</td>\n",
       "    </tr>\n",
       "    <tr>\n",
       "      <td id=\"T_a78bd_row22_col0\" class=\"data row22 col0\" >23</td>\n",
       "      <td id=\"T_a78bd_row22_col1\" class=\"data row22 col1\" >SimpleImputer, ColumnTransformer, CountVectorizer, OneHotEncoder, MaxAbsScaler, GenericUnivariateSelect, KNeighborsClassifier</td>\n",
       "      <td id=\"T_a78bd_row22_col2\" class=\"data row22 col2\" >0.425</td>\n",
       "    </tr>\n",
       "    <tr>\n",
       "      <td id=\"T_a78bd_row23_col0\" class=\"data row23 col0\" >24</td>\n",
       "      <td id=\"T_a78bd_row23_col1\" class=\"data row23 col1\" >SimpleImputer, ColumnTransformer, CountVectorizer, OneHotEncoder, MaxAbsScaler, GenericUnivariateSelect, SVC</td>\n",
       "      <td id=\"T_a78bd_row23_col2\" class=\"data row23 col2\" >0.425</td>\n",
       "    </tr>\n",
       "    <tr>\n",
       "      <td id=\"T_a78bd_row24_col0\" class=\"data row24 col0\" >25</td>\n",
       "      <td id=\"T_a78bd_row24_col1\" class=\"data row24 col1\" >SimpleImputer, ColumnTransformer, CountVectorizer, OneHotEncoder, MaxAbsScaler, GenericUnivariateSelect, RandomForestClassifier</td>\n",
       "      <td id=\"T_a78bd_row24_col2\" class=\"data row24 col2\" >0.425</td>\n",
       "    </tr>\n",
       "    <tr>\n",
       "      <td id=\"T_a78bd_row25_col0\" class=\"data row25 col0\" >26</td>\n",
       "      <td id=\"T_a78bd_row25_col1\" class=\"data row25 col1\" >SimpleImputer, ColumnTransformer, CountVectorizer, OneHotEncoder, MaxAbsScaler, GenericUnivariateSelect, LinearSVC</td>\n",
       "      <td id=\"T_a78bd_row25_col2\" class=\"data row25 col2\" >0.425</td>\n",
       "    </tr>\n",
       "    <tr>\n",
       "      <td id=\"T_a78bd_row26_col0\" class=\"data row26 col0\" >27</td>\n",
       "      <td id=\"T_a78bd_row26_col1\" class=\"data row26 col1\" >SimpleImputer, ColumnTransformer, TfidfVectorizer, OneHotEncoder, MaxAbsScaler, GenericUnivariateSelect, GradientBoostingClassifier</td>\n",
       "      <td id=\"T_a78bd_row26_col2\" class=\"data row26 col2\" >0.423</td>\n",
       "    </tr>\n",
       "    <tr>\n",
       "      <td id=\"T_a78bd_row27_col0\" class=\"data row27 col0\" >28</td>\n",
       "      <td id=\"T_a78bd_row27_col1\" class=\"data row27 col1\" >SimpleImputer, ColumnTransformer, TfidfVectorizer, OneHotEncoder, MaxAbsScaler, GenericUnivariateSelect, BaggingClassifier</td>\n",
       "      <td id=\"T_a78bd_row27_col2\" class=\"data row27 col2\" >0.422</td>\n",
       "    </tr>\n",
       "    <tr>\n",
       "      <td id=\"T_a78bd_row28_col0\" class=\"data row28 col0\" >29</td>\n",
       "      <td id=\"T_a78bd_row28_col1\" class=\"data row28 col1\" >SimpleImputer, ColumnTransformer, TfidfVectorizer, OneHotEncoder, MaxAbsScaler, GenericUnivariateSelect, DecisionTreeClassifier</td>\n",
       "      <td id=\"T_a78bd_row28_col2\" class=\"data row28 col2\" >0.422</td>\n",
       "    </tr>\n",
       "    <tr>\n",
       "      <td id=\"T_a78bd_row29_col0\" class=\"data row29 col0\" >30</td>\n",
       "      <td id=\"T_a78bd_row29_col1\" class=\"data row29 col1\" >SimpleImputer, ColumnTransformer, FastTextEmbedder, OneHotEncoder, MaxAbsScaler, GenericUnivariateSelect, GradientBoostingClassifier</td>\n",
       "      <td id=\"T_a78bd_row29_col2\" class=\"data row29 col2\" >0.414</td>\n",
       "    </tr>\n",
       "    <tr>\n",
       "      <td id=\"T_a78bd_row30_col0\" class=\"data row30 col0\" >31</td>\n",
       "      <td id=\"T_a78bd_row30_col1\" class=\"data row30 col1\" >SimpleImputer, ColumnTransformer, FastTextEmbedder, OneHotEncoder, MaxAbsScaler, GenericUnivariateSelect, LinearDiscriminantAnalysis</td>\n",
       "      <td id=\"T_a78bd_row30_col2\" class=\"data row30 col2\" >0.411</td>\n",
       "    </tr>\n",
       "    <tr>\n",
       "      <td id=\"T_a78bd_row31_col0\" class=\"data row31 col0\" >32</td>\n",
       "      <td id=\"T_a78bd_row31_col1\" class=\"data row31 col1\" >SimpleImputer, ColumnTransformer, FastTextEmbedder, OneHotEncoder, MaxAbsScaler, GenericUnivariateSelect, LogisticRegression</td>\n",
       "      <td id=\"T_a78bd_row31_col2\" class=\"data row31 col2\" >0.410</td>\n",
       "    </tr>\n",
       "    <tr>\n",
       "      <td id=\"T_a78bd_row32_col0\" class=\"data row32 col0\" >33</td>\n",
       "      <td id=\"T_a78bd_row32_col1\" class=\"data row32 col1\" >SimpleImputer, ColumnTransformer, FastTextEmbedder, OneHotEncoder, MaxAbsScaler, GenericUnivariateSelect, PassiveAggressiveClassifier</td>\n",
       "      <td id=\"T_a78bd_row32_col2\" class=\"data row32 col2\" >0.405</td>\n",
       "    </tr>\n",
       "    <tr>\n",
       "      <td id=\"T_a78bd_row33_col0\" class=\"data row33 col0\" >34</td>\n",
       "      <td id=\"T_a78bd_row33_col1\" class=\"data row33 col1\" >SimpleImputer, ColumnTransformer, CountVectorizer, OneHotEncoder, MaxAbsScaler, SelectKBest, PassiveAggressiveClassifier</td>\n",
       "      <td id=\"T_a78bd_row33_col2\" class=\"data row33 col2\" >0.404</td>\n",
       "    </tr>\n",
       "    <tr>\n",
       "      <td id=\"T_a78bd_row34_col0\" class=\"data row34 col0\" >35</td>\n",
       "      <td id=\"T_a78bd_row34_col1\" class=\"data row34 col1\" >SimpleImputer, ColumnTransformer, CountVectorizer, OneHotEncoder, MaxAbsScaler, GenericUnivariateSelect, MultinomialNB</td>\n",
       "      <td id=\"T_a78bd_row34_col2\" class=\"data row34 col2\" >0.398</td>\n",
       "    </tr>\n",
       "    <tr>\n",
       "      <td id=\"T_a78bd_row35_col0\" class=\"data row35 col0\" >36</td>\n",
       "      <td id=\"T_a78bd_row35_col1\" class=\"data row35 col1\" >SimpleImputer, ColumnTransformer, FastTextEmbedder, OneHotEncoder, MaxAbsScaler, GenericUnivariateSelect, BaggingClassifier</td>\n",
       "      <td id=\"T_a78bd_row35_col2\" class=\"data row35 col2\" >0.367</td>\n",
       "    </tr>\n",
       "    <tr>\n",
       "      <td id=\"T_a78bd_row36_col0\" class=\"data row36 col0\" >37</td>\n",
       "      <td id=\"T_a78bd_row36_col1\" class=\"data row36 col1\" >SimpleImputer, ColumnTransformer, FastTextEmbedder, OneHotEncoder, MaxAbsScaler, GenericUnivariateSelect, DecisionTreeClassifier</td>\n",
       "      <td id=\"T_a78bd_row36_col2\" class=\"data row36 col2\" >0.366</td>\n",
       "    </tr>\n",
       "    <tr>\n",
       "      <td id=\"T_a78bd_row37_col0\" class=\"data row37 col0\" >38</td>\n",
       "      <td id=\"T_a78bd_row37_col1\" class=\"data row37 col1\" >SimpleImputer, ColumnTransformer, CountVectorizer, OneHotEncoder, MaxAbsScaler, GenericUnivariateSelect, SGDClassifier</td>\n",
       "      <td id=\"T_a78bd_row37_col2\" class=\"data row37 col2\" >0.317</td>\n",
       "    </tr>\n",
       "    <tr>\n",
       "      <td id=\"T_a78bd_row38_col0\" class=\"data row38 col0\" >39</td>\n",
       "      <td id=\"T_a78bd_row38_col1\" class=\"data row38 col1\" >SimpleImputer, ColumnTransformer, CountVectorizer, OneHotEncoder, MaxAbsScaler, GenericUnivariateSelect, PassiveAggressiveClassifier</td>\n",
       "      <td id=\"T_a78bd_row38_col2\" class=\"data row38 col2\" >0.316</td>\n",
       "    </tr>\n",
       "    <tr>\n",
       "      <td id=\"T_a78bd_row39_col0\" class=\"data row39 col0\" >40</td>\n",
       "      <td id=\"T_a78bd_row39_col1\" class=\"data row39 col1\" >SimpleImputer, ColumnTransformer, TfidfVectorizer, OneHotEncoder, MaxAbsScaler, GenericUnivariateSelect, PassiveAggressiveClassifier</td>\n",
       "      <td id=\"T_a78bd_row39_col2\" class=\"data row39 col2\" >0.316</td>\n",
       "    </tr>\n",
       "  </tbody>\n",
       "</table>\n"
      ],
      "text/plain": [
       "<pandas.io.formats.style.Styler at 0x14a1a2882b60>"
      ]
     },
     "execution_count": 9,
     "metadata": {},
     "output_type": "execute_result"
    }
   ],
   "source": [
    "automl.plot_leaderboard()"
   ]
  },
  {
   "cell_type": "code",
   "execution_count": null,
   "metadata": {},
   "outputs": [],
   "source": [
    "automl.plot_comparison_pipelines()"
   ]
  },
  {
   "cell_type": "markdown",
   "metadata": {},
   "source": [
    "### Testing Pipelines"
   ]
  },
  {
   "cell_type": "markdown",
   "metadata": {},
   "source": [
    "Removing the target column from the features for the test dataset"
   ]
  },
  {
   "cell_type": "code",
   "execution_count": 10,
   "metadata": {},
   "outputs": [
    {
     "data": {
      "text/html": [
       "<div>\n",
       "<style scoped>\n",
       "    .dataframe tbody tr th:only-of-type {\n",
       "        vertical-align: middle;\n",
       "    }\n",
       "\n",
       "    .dataframe tbody tr th {\n",
       "        vertical-align: top;\n",
       "    }\n",
       "\n",
       "    .dataframe thead th {\n",
       "        text-align: right;\n",
       "    }\n",
       "</style>\n",
       "<table border=\"1\" class=\"dataframe\">\n",
       "  <thead>\n",
       "    <tr style=\"text-align: right;\">\n",
       "      <th></th>\n",
       "      <th>text</th>\n",
       "      <th>Time of Tweet</th>\n",
       "      <th>Age of User</th>\n",
       "      <th>Country</th>\n",
       "    </tr>\n",
       "  </thead>\n",
       "  <tbody>\n",
       "    <tr>\n",
       "      <th>0</th>\n",
       "      <td>Last session of the day  http://twitpic.com/67ezh</td>\n",
       "      <td>morning</td>\n",
       "      <td>0-20</td>\n",
       "      <td>Afghanistan</td>\n",
       "    </tr>\n",
       "    <tr>\n",
       "      <th>1</th>\n",
       "      <td>Shanghai is also really exciting (precisely -...</td>\n",
       "      <td>noon</td>\n",
       "      <td>21-30</td>\n",
       "      <td>Albania</td>\n",
       "    </tr>\n",
       "    <tr>\n",
       "      <th>2</th>\n",
       "      <td>Recession hit Veronique Branquinho, she has to...</td>\n",
       "      <td>night</td>\n",
       "      <td>31-45</td>\n",
       "      <td>Algeria</td>\n",
       "    </tr>\n",
       "    <tr>\n",
       "      <th>3</th>\n",
       "      <td>happy bday!</td>\n",
       "      <td>morning</td>\n",
       "      <td>46-60</td>\n",
       "      <td>Andorra</td>\n",
       "    </tr>\n",
       "    <tr>\n",
       "      <th>4</th>\n",
       "      <td>http://twitpic.com/4w75p - I like it!!</td>\n",
       "      <td>noon</td>\n",
       "      <td>60-70</td>\n",
       "      <td>Angola</td>\n",
       "    </tr>\n",
       "    <tr>\n",
       "      <th>...</th>\n",
       "      <td>...</td>\n",
       "      <td>...</td>\n",
       "      <td>...</td>\n",
       "      <td>...</td>\n",
       "    </tr>\n",
       "    <tr>\n",
       "      <th>3529</th>\n",
       "      <td>its at 3 am, im very tired but i can`t sleep  ...</td>\n",
       "      <td>noon</td>\n",
       "      <td>21-30</td>\n",
       "      <td>Nicaragua</td>\n",
       "    </tr>\n",
       "    <tr>\n",
       "      <th>3530</th>\n",
       "      <td>All alone in this old house again.  Thanks for...</td>\n",
       "      <td>night</td>\n",
       "      <td>31-45</td>\n",
       "      <td>Niger</td>\n",
       "    </tr>\n",
       "    <tr>\n",
       "      <th>3531</th>\n",
       "      <td>I know what you mean. My little dog is sinkin...</td>\n",
       "      <td>morning</td>\n",
       "      <td>46-60</td>\n",
       "      <td>Nigeria</td>\n",
       "    </tr>\n",
       "    <tr>\n",
       "      <th>3532</th>\n",
       "      <td>_sutra what is your next youtube video gonna b...</td>\n",
       "      <td>noon</td>\n",
       "      <td>60-70</td>\n",
       "      <td>North Korea</td>\n",
       "    </tr>\n",
       "    <tr>\n",
       "      <th>3533</th>\n",
       "      <td>http://twitpic.com/4woj2 - omgssh  ang cute n...</td>\n",
       "      <td>night</td>\n",
       "      <td>70-100</td>\n",
       "      <td>North Macedonia</td>\n",
       "    </tr>\n",
       "  </tbody>\n",
       "</table>\n",
       "<p>3534 rows × 4 columns</p>\n",
       "</div>"
      ],
      "text/plain": [
       "                                                   text Time of Tweet  \\\n",
       "0     Last session of the day  http://twitpic.com/67ezh       morning   \n",
       "1      Shanghai is also really exciting (precisely -...          noon   \n",
       "2     Recession hit Veronique Branquinho, she has to...         night   \n",
       "3                                           happy bday!       morning   \n",
       "4                http://twitpic.com/4w75p - I like it!!          noon   \n",
       "...                                                 ...           ...   \n",
       "3529  its at 3 am, im very tired but i can`t sleep  ...          noon   \n",
       "3530  All alone in this old house again.  Thanks for...         night   \n",
       "3531   I know what you mean. My little dog is sinkin...       morning   \n",
       "3532  _sutra what is your next youtube video gonna b...          noon   \n",
       "3533   http://twitpic.com/4woj2 - omgssh  ang cute n...         night   \n",
       "\n",
       "     Age of User          Country  \n",
       "0           0-20      Afghanistan  \n",
       "1          21-30          Albania  \n",
       "2          31-45          Algeria  \n",
       "3          46-60          Andorra  \n",
       "4          60-70           Angola  \n",
       "...          ...              ...  \n",
       "3529       21-30        Nicaragua  \n",
       "3530       31-45            Niger  \n",
       "3531       46-60          Nigeria  \n",
       "3532       60-70      North Korea  \n",
       "3533      70-100  North Macedonia  \n",
       "\n",
       "[3534 rows x 4 columns]"
      ]
     },
     "execution_count": 10,
     "metadata": {},
     "output_type": "execute_result"
    }
   ],
   "source": [
    "X_test = test_dataset.drop(columns=[target_column])\n",
    "X_test"
   ]
  },
  {
   "cell_type": "markdown",
   "metadata": {},
   "source": [
    "Selecting the target column for the test dataset"
   ]
  },
  {
   "cell_type": "code",
   "execution_count": 11,
   "metadata": {},
   "outputs": [
    {
     "data": {
      "text/html": [
       "<div>\n",
       "<style scoped>\n",
       "    .dataframe tbody tr th:only-of-type {\n",
       "        vertical-align: middle;\n",
       "    }\n",
       "\n",
       "    .dataframe tbody tr th {\n",
       "        vertical-align: top;\n",
       "    }\n",
       "\n",
       "    .dataframe thead th {\n",
       "        text-align: right;\n",
       "    }\n",
       "</style>\n",
       "<table border=\"1\" class=\"dataframe\">\n",
       "  <thead>\n",
       "    <tr style=\"text-align: right;\">\n",
       "      <th></th>\n",
       "      <th>sentiment</th>\n",
       "    </tr>\n",
       "  </thead>\n",
       "  <tbody>\n",
       "    <tr>\n",
       "      <th>0</th>\n",
       "      <td>neutral</td>\n",
       "    </tr>\n",
       "    <tr>\n",
       "      <th>1</th>\n",
       "      <td>positive</td>\n",
       "    </tr>\n",
       "    <tr>\n",
       "      <th>2</th>\n",
       "      <td>negative</td>\n",
       "    </tr>\n",
       "    <tr>\n",
       "      <th>3</th>\n",
       "      <td>positive</td>\n",
       "    </tr>\n",
       "    <tr>\n",
       "      <th>4</th>\n",
       "      <td>positive</td>\n",
       "    </tr>\n",
       "    <tr>\n",
       "      <th>...</th>\n",
       "      <td>...</td>\n",
       "    </tr>\n",
       "    <tr>\n",
       "      <th>3529</th>\n",
       "      <td>negative</td>\n",
       "    </tr>\n",
       "    <tr>\n",
       "      <th>3530</th>\n",
       "      <td>positive</td>\n",
       "    </tr>\n",
       "    <tr>\n",
       "      <th>3531</th>\n",
       "      <td>negative</td>\n",
       "    </tr>\n",
       "    <tr>\n",
       "      <th>3532</th>\n",
       "      <td>positive</td>\n",
       "    </tr>\n",
       "    <tr>\n",
       "      <th>3533</th>\n",
       "      <td>positive</td>\n",
       "    </tr>\n",
       "  </tbody>\n",
       "</table>\n",
       "<p>3534 rows × 1 columns</p>\n",
       "</div>"
      ],
      "text/plain": [
       "     sentiment\n",
       "0      neutral\n",
       "1     positive\n",
       "2     negative\n",
       "3     positive\n",
       "4     positive\n",
       "...        ...\n",
       "3529  negative\n",
       "3530  positive\n",
       "3531  negative\n",
       "3532  positive\n",
       "3533  positive\n",
       "\n",
       "[3534 rows x 1 columns]"
      ]
     },
     "execution_count": 11,
     "metadata": {},
     "output_type": "execute_result"
    }
   ],
   "source": [
    "y_test = test_dataset[[target_column]]\n",
    "y_test"
   ]
  },
  {
   "cell_type": "markdown",
   "metadata": {},
   "source": [
    "Pipeline predictions are accessed with:"
   ]
  },
  {
   "cell_type": "code",
   "execution_count": 12,
   "metadata": {
    "scrolled": true
   },
   "outputs": [
    {
     "data": {
      "text/plain": [
       "array(['neutral', 'positive', 'negative', ..., 'neutral', 'positive',\n",
       "       'positive'], dtype=object)"
      ]
     },
     "execution_count": 12,
     "metadata": {},
     "output_type": "execute_result"
    }
   ],
   "source": [
    "y_pred = automl.predict(X_test)\n",
    "y_pred"
   ]
  },
  {
   "cell_type": "markdown",
   "metadata": {},
   "source": [
    "The pipeline can be evaluated against a held out dataset with the function call:"
   ]
  },
  {
   "cell_type": "code",
   "execution_count": 13,
   "metadata": {},
   "outputs": [
    {
     "name": "stdout",
     "output_type": "stream",
     "text": [
      "INFO:alpha_automl.automl_api:Metric: accuracy_score, Score: 0.7026032823995473\n"
     ]
    },
    {
     "data": {
      "text/plain": [
       "{'metric': 'accuracy_score', 'score': 0.7026032823995473}"
      ]
     },
     "execution_count": 13,
     "metadata": {},
     "output_type": "execute_result"
    }
   ],
   "source": [
    "automl.score(X_test, y_test)"
   ]
  },
  {
   "cell_type": "code",
   "execution_count": null,
   "metadata": {},
   "outputs": [],
   "source": []
  }
 ],
 "metadata": {
  "kernelspec": {
   "display_name": "my_env",
   "language": "python",
   "name": "my_env"
  },
  "language_info": {
   "codemirror_mode": {
    "name": "ipython",
    "version": 3
   },
   "file_extension": ".py",
   "mimetype": "text/x-python",
   "name": "python",
   "nbconvert_exporter": "python",
   "pygments_lexer": "ipython3",
   "version": "3.10.9"
  }
 },
 "nbformat": 4,
 "nbformat_minor": 4
}
